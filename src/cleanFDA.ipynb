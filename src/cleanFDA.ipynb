{
 "cells": [
  {
   "cell_type": "code",
   "execution_count": 1,
   "metadata": {},
   "outputs": [],
   "source": [
    "import pandas as pd\n",
    "import re"
   ]
  },
  {
   "cell_type": "markdown",
   "metadata": {},
   "source": [
    "### CLEANING FDA DATA SET\n",
    "\n",
    "Lower case method tolower\n",
    "\n",
    "Punctuation\n",
    "    (do this first)  - Remove parenthesized content\n",
    "    \n",
    "Keep – already in Ian’s notebook\n",
    "    Hyphens/Dashes \n",
    "    Ampersands\n",
    "    Underscore\n",
    "    Remove everything else (use Neil's code)\n",
    "    \n",
    "Remove legal entity labels – Daniel has a list link – regex patterns\n",
    "\n",
    "Count unique string tokens\n",
    "Inspect top 10-30 string tokens\n",
    "Determine what number top common string tokens to remov"
   ]
  },
  {
   "cell_type": "code",
   "execution_count": 2,
   "metadata": {},
   "outputs": [],
   "source": [
    "fda = pd.read_excel('../data/original/fda_companies.xlsx',\n",
    "              sheet_name='FDA Company List')"
   ]
  },
  {
   "cell_type": "code",
   "execution_count": 3,
   "metadata": {},
   "outputs": [
    {
     "name": "stdout",
     "output_type": "stream",
     "text": [
      "!\"#'()*+,./:;<=>?@[\\]^`{|}~\n"
     ]
    }
   ],
   "source": [
    "#This block first generates the list of punctuations and then removes our exceptions from that list.\n",
    "import string    \n",
    "\n",
    "removeset=string.punctuation\n",
    "\n",
    "removeset=removeset.replace(\"-\",\"\") #Don't remove dashes\n",
    "\n",
    "removeset=removeset.replace(\"&\",\"\") #Don't remove ampersand\n",
    "\n",
    "removeset=removeset.replace(\"_\",\"\") #Don't remove underscore\n",
    "\n",
    "removeset=removeset.replace(\"%\",\"\") #Don't remove percent\n",
    "\n",
    "removeset=removeset.replace(\"$\",\"\") #Don't remove dollar\n",
    "\n",
    "print(removeset)"
   ]
  },
  {
   "cell_type": "code",
   "execution_count": 4,
   "metadata": {},
   "outputs": [],
   "source": [
    "#set everything to lower case\n",
    "fda['Company Clean'] = fda.apply(lambda col: col.str.lower())"
   ]
  },
  {
   "cell_type": "code",
   "execution_count": 18,
   "metadata": {},
   "outputs": [],
   "source": [
    "#Removes parenthesis\n",
    "fda['Company Clean'] = fda['Company Clean'].str.replace(r\"\\(.*\\)\",\"\")"
   ]
  },
  {
   "cell_type": "code",
   "execution_count": 20,
   "metadata": {},
   "outputs": [],
   "source": [
    "# remove all single characters (This step is done first, because later there are single chars we want to retain.)\n",
    "def removeSingle(string):\n",
    "    return  re.sub(r'\\s+[a-zA-Z]\\s+', ' ', string)"
   ]
  },
  {
   "cell_type": "code",
   "execution_count": 21,
   "metadata": {},
   "outputs": [],
   "source": [
    "fda['Company Clean'] = fda['Company Clean'].apply(lambda row: removeSingle(row))"
   ]
  },
  {
   "cell_type": "code",
   "execution_count": 22,
   "metadata": {},
   "outputs": [],
   "source": [
    "# remove all numbers\n",
    "def removeNum(string):\n",
    "    return re.sub(r'[0-9]','', string)"
   ]
  },
  {
   "cell_type": "code",
   "execution_count": 23,
   "metadata": {},
   "outputs": [],
   "source": [
    "fda['Company Clean'] = fda['Company Clean'].apply(lambda row: removeNum(row))"
   ]
  },
  {
   "cell_type": "code",
   "execution_count": 25,
   "metadata": {},
   "outputs": [],
   "source": [
    "# Remove single characters from the start\n",
    "def removecharb(string):\n",
    "    return re.sub(r'\\^[a-zA-Z]\\s+', ' ', string)"
   ]
  },
  {
   "cell_type": "code",
   "execution_count": 26,
   "metadata": {},
   "outputs": [],
   "source": [
    "fda['Company Clean'] = fda['Company Clean'].apply(lambda row: removecharb(row))"
   ]
  },
  {
   "cell_type": "code",
   "execution_count": 27,
   "metadata": {},
   "outputs": [],
   "source": [
    "# Substituting multiple spaces with single space\n",
    "def removeSpaces(string):\n",
    "    return re.sub(r'\\s+', ' ', string, flags=re.I)"
   ]
  },
  {
   "cell_type": "code",
   "execution_count": 28,
   "metadata": {},
   "outputs": [],
   "source": [
    "fda['Company Clean'] = fda['Company Clean'].apply(lambda row: removeSpaces(row))"
   ]
  },
  {
   "cell_type": "code",
   "execution_count": 34,
   "metadata": {},
   "outputs": [],
   "source": [
    "# Removing prefixed 'b'\n",
    "def removeB(string):\n",
    "    return re.sub(r'^b\\s+', '', string)"
   ]
  },
  {
   "cell_type": "code",
   "execution_count": 35,
   "metadata": {},
   "outputs": [],
   "source": [
    "fda['Company Clean'] = fda['Company Clean'].apply(lambda row: removeB(row))"
   ]
  },
  {
   "cell_type": "code",
   "execution_count": 143,
   "metadata": {},
   "outputs": [],
   "source": [
    "#Make dashes into combined words\n",
    "def combineDash(string):\n",
    "    return re.sub(r'\\s-\\s+', '-', string)"
   ]
  },
  {
   "cell_type": "code",
   "execution_count": 144,
   "metadata": {},
   "outputs": [],
   "source": [
    "fda['Company Clean'] = fda['Company Clean'].apply(lambda row: combineDash(row))"
   ]
  },
  {
   "cell_type": "code",
   "execution_count": 38,
   "metadata": {},
   "outputs": [],
   "source": [
    "#Make ampersand into combined words\n",
    "def combineAmpersand(string):\n",
    "    return  re.sub(r'\\s&\\s+', '&', string)"
   ]
  },
  {
   "cell_type": "code",
   "execution_count": 39,
   "metadata": {},
   "outputs": [],
   "source": [
    "fda['Company Clean'] = fda['Company Clean'].apply(lambda row: combineAmpersand(row))"
   ]
  },
  {
   "cell_type": "code",
   "execution_count": 40,
   "metadata": {},
   "outputs": [],
   "source": [
    "#Make underscore into combined words\n",
    "def combineUnderscore(string):\n",
    "    return re.sub(r'\\s_\\s+', '_', string)"
   ]
  },
  {
   "cell_type": "code",
   "execution_count": 41,
   "metadata": {},
   "outputs": [],
   "source": [
    "fda['Company Clean'] = fda['Company Clean'].apply(lambda row: combineUnderscore(row))"
   ]
  },
  {
   "cell_type": "code",
   "execution_count": 27,
   "metadata": {},
   "outputs": [],
   "source": [
    "#Removes the special characters defined in remove set\n",
    "def removeSpecial(string):\n",
    "    for i in removeset:\n",
    "        return re.sub(re.escape(i),\"\",string)"
   ]
  },
  {
   "cell_type": "code",
   "execution_count": 28,
   "metadata": {},
   "outputs": [],
   "source": [
    "fda['Company Clean'] = fda['Company Clean'].apply(lambda row: removeSpecial(row))"
   ]
  },
  {
   "cell_type": "code",
   "execution_count": 29,
   "metadata": {},
   "outputs": [
    {
     "data": {
      "text/html": [
       "<div>\n",
       "<style scoped>\n",
       "    .dataframe tbody tr th:only-of-type {\n",
       "        vertical-align: middle;\n",
       "    }\n",
       "\n",
       "    .dataframe tbody tr th {\n",
       "        vertical-align: top;\n",
       "    }\n",
       "\n",
       "    .dataframe thead th {\n",
       "        text-align: right;\n",
       "    }\n",
       "</style>\n",
       "<table border=\"1\" class=\"dataframe\">\n",
       "  <thead>\n",
       "    <tr style=\"text-align: right;\">\n",
       "      <th></th>\n",
       "      <th>FDA Companies</th>\n",
       "      <th>Company Clean</th>\n",
       "    </tr>\n",
       "  </thead>\n",
       "  <tbody>\n",
       "    <tr>\n",
       "      <th>0</th>\n",
       "      <td>3D IMAGING DRUG</td>\n",
       "      <td>d imaging drug</td>\n",
       "    </tr>\n",
       "    <tr>\n",
       "      <th>1</th>\n",
       "      <td>3M</td>\n",
       "      <td>m</td>\n",
       "    </tr>\n",
       "    <tr>\n",
       "      <th>2</th>\n",
       "      <td>3M DRUG DELIVERY</td>\n",
       "      <td>m drug delivery</td>\n",
       "    </tr>\n",
       "    <tr>\n",
       "      <th>3</th>\n",
       "      <td>AAIPHARMA LLC</td>\n",
       "      <td>aaipharma llc</td>\n",
       "    </tr>\n",
       "    <tr>\n",
       "      <th>4</th>\n",
       "      <td>ABBOTT LABS</td>\n",
       "      <td>abbott labs</td>\n",
       "    </tr>\n",
       "    <tr>\n",
       "      <th>...</th>\n",
       "      <td>...</td>\n",
       "      <td>...</td>\n",
       "    </tr>\n",
       "    <tr>\n",
       "      <th>95</th>\n",
       "      <td>ANDA REPOSITORY</td>\n",
       "      <td>anda repository</td>\n",
       "    </tr>\n",
       "    <tr>\n",
       "      <th>96</th>\n",
       "      <td>ANDRX LABS LLC</td>\n",
       "      <td>andrx labs llc</td>\n",
       "    </tr>\n",
       "    <tr>\n",
       "      <th>97</th>\n",
       "      <td>ANGELINI PHARMA</td>\n",
       "      <td>angelini pharma</td>\n",
       "    </tr>\n",
       "    <tr>\n",
       "      <th>98</th>\n",
       "      <td>ANI PHARMS</td>\n",
       "      <td>ani pharms</td>\n",
       "    </tr>\n",
       "    <tr>\n",
       "      <th>99</th>\n",
       "      <td>ANI PHARMS INC</td>\n",
       "      <td>ani pharms inc</td>\n",
       "    </tr>\n",
       "  </tbody>\n",
       "</table>\n",
       "<p>100 rows × 2 columns</p>\n",
       "</div>"
      ],
      "text/plain": [
       "      FDA Companies     Company Clean\n",
       "0    3D IMAGING DRUG   d imaging drug\n",
       "1                 3M                m\n",
       "2   3M DRUG DELIVERY  m drug delivery\n",
       "3      AAIPHARMA LLC    aaipharma llc\n",
       "4        ABBOTT LABS      abbott labs\n",
       "..               ...              ...\n",
       "95   ANDA REPOSITORY  anda repository\n",
       "96    ANDRX LABS LLC   andrx labs llc\n",
       "97   ANGELINI PHARMA  angelini pharma\n",
       "98        ANI PHARMS       ani pharms\n",
       "99    ANI PHARMS INC   ani pharms inc\n",
       "\n",
       "[100 rows x 2 columns]"
      ]
     },
     "execution_count": 29,
     "metadata": {},
     "output_type": "execute_result"
    }
   ],
   "source": [
    "fda[0:100]"
   ]
  },
  {
   "cell_type": "code",
   "execution_count": 123,
   "metadata": {},
   "outputs": [],
   "source": [
    "from collections import Counter"
   ]
  },
  {
   "cell_type": "code",
   "execution_count": 33,
   "metadata": {},
   "outputs": [],
   "source": [
    "#Count the most frequent words in the FDA dataset \n",
    "word_freq = Counter()\n",
    "\n",
    "for words in fda['Company Clean']:\n",
    "    word_freq.update(str(words).split(\" \"))"
   ]
  },
  {
   "cell_type": "code",
   "execution_count": 42,
   "metadata": {},
   "outputs": [
    {
     "data": {
      "text/plain": [
       "[('pharms', 190),\n",
       " ('inc', 162),\n",
       " ('llc', 82),\n",
       " ('pharma', 81),\n",
       " ('labs', 62),\n",
       " ('ltd', 58),\n",
       " ('pharm', 51),\n",
       " ('co', 30),\n",
       " ('usa', 22),\n",
       " ('us', 20)]"
      ]
     },
     "execution_count": 42,
     "metadata": {},
     "output_type": "execute_result"
    }
   ],
   "source": [
    "word_freq.most_common(10)"
   ]
  },
  {
   "cell_type": "code",
   "execution_count": 127,
   "metadata": {},
   "outputs": [],
   "source": [
    "common_words = ['pharms', 'inc', 'llc', 'pharma', 'labs', 'ltd', 'pharm', 'co', 'usa', 'us', 'intl', 'corp']"
   ]
  },
  {
   "cell_type": "code",
   "execution_count": 128,
   "metadata": {},
   "outputs": [],
   "source": [
    "fda['Company Clean'] = fda['Company Clean'].apply(lambda x: ' '.join([word for word in x.split() if word not in (common_words)]))"
   ]
  },
  {
   "cell_type": "code",
   "execution_count": 129,
   "metadata": {},
   "outputs": [],
   "source": [
    "#Count the new word freq\n",
    "nword_freq = Counter()\n",
    "\n",
    "for words in fda['Company Clean']:\n",
    "    nword_freq.update(str(words).split(\" \"))"
   ]
  },
  {
   "cell_type": "code",
   "execution_count": 162,
   "metadata": {},
   "outputs": [],
   "source": [
    "#190 is hyphenated\n",
    "#326, 327 #the w is missing, but not the g in gan , \n",
    "#407 has inc. letting me know the punctuation didn't work\n",
    "#675 has perigo and d instead of perigo r and d, why is r missing but not the d?\n",
    "#763 is hyphenated\n",
    "#869 has a comma\n",
    "#896 is hyphenated\n",
    "#899 has a random letter, i at the end\n",
    "#946 has ampersand\n",
    "#960 has single letter, x gen\n",
    "#961 has hyphen and single letter, x-gen\n"
   ]
  }
 ],
 "metadata": {
  "kernelspec": {
   "display_name": "Python 3.7",
   "language": "python",
   "name": "python37"
  },
  "language_info": {
   "codemirror_mode": {
    "name": "ipython",
    "version": 3
   },
   "file_extension": ".py",
   "mimetype": "text/x-python",
   "name": "python",
   "nbconvert_exporter": "python",
   "pygments_lexer": "ipython3",
   "version": "3.7.4"
  }
 },
 "nbformat": 4,
 "nbformat_minor": 4
}
