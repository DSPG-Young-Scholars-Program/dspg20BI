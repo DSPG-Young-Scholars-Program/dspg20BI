{
 "cells": [
  {
   "cell_type": "markdown",
   "metadata": {},
   "source": [
    "### Frequencies \n",
    "\n",
    "This juypyter notebook contains code for calculating:\n",
    "* Yearly Frequency of unique companies mentioned in DNA articles\n",
    "* Top 20 total companies mentioned in DNA\n",
    "* Top 20 publishers mentioned in  DNA "
   ]
  },
  {
   "cell_type": "code",
   "execution_count": 5,
   "metadata": {},
   "outputs": [],
   "source": [
    "import gzip\n",
    "import json\n",
    "import numpy as np\n",
    "import pandas as pd\n",
    "import matplotlib as mpl\n",
    "import matplotlib.pyplot as plt\n",
    "import seaborn as sns\n",
    "import collections\n",
    "import nltk\n",
    "import matplotlib.colors\n",
    "from collections import Counter\n",
    "from itertools import chain\n",
    "from datetime import datetime as dt\n",
    "from nltk import FreqDist\n",
    "#nltk.download('punkt')\n",
    "import xlrd"
   ]
  },
  {
   "cell_type": "code",
   "execution_count": 6,
   "metadata": {
    "collapsed": true,
    "jupyter": {
     "outputs_hidden": true
    }
   },
   "outputs": [
    {
     "ename": "FileNotFoundError",
     "evalue": "[Errno 2] No such file or directory: '../data/original/DNA_DATA_FULL.gz'",
     "output_type": "error",
     "traceback": [
      "\u001b[0;31m---------------------------------------------------------------------------\u001b[0m",
      "\u001b[0;31mFileNotFoundError\u001b[0m                         Traceback (most recent call last)",
      "\u001b[0;32m<ipython-input-6-ec585a4ab6b0>\u001b[0m in \u001b[0;36m<module>\u001b[0;34m\u001b[0m\n\u001b[1;32m      1\u001b[0m \u001b[0;31m# Reading in the DNA data\u001b[0m\u001b[0;34m\u001b[0m\u001b[0;34m\u001b[0m\u001b[0;34m\u001b[0m\u001b[0m\n\u001b[0;32m----> 2\u001b[0;31m \u001b[0mdna\u001b[0m \u001b[0;34m=\u001b[0m \u001b[0mpd\u001b[0m\u001b[0;34m.\u001b[0m\u001b[0mread_json\u001b[0m\u001b[0;34m(\u001b[0m\u001b[0;34m'../data/original/DNA_DATA_FULL.gz'\u001b[0m\u001b[0;34m,\u001b[0m \u001b[0mcompression\u001b[0m\u001b[0;34m=\u001b[0m\u001b[0;34m'gzip'\u001b[0m\u001b[0;34m)\u001b[0m\u001b[0;34m\u001b[0m\u001b[0;34m\u001b[0m\u001b[0m\n\u001b[0m",
      "\u001b[0;32m~/.local/lib/python3.7/site-packages/pandas/util/_decorators.py\u001b[0m in \u001b[0;36mwrapper\u001b[0;34m(*args, **kwargs)\u001b[0m\n\u001b[1;32m    212\u001b[0m                 \u001b[0;32melse\u001b[0m\u001b[0;34m:\u001b[0m\u001b[0;34m\u001b[0m\u001b[0;34m\u001b[0m\u001b[0m\n\u001b[1;32m    213\u001b[0m                     \u001b[0mkwargs\u001b[0m\u001b[0;34m[\u001b[0m\u001b[0mnew_arg_name\u001b[0m\u001b[0;34m]\u001b[0m \u001b[0;34m=\u001b[0m \u001b[0mnew_arg_value\u001b[0m\u001b[0;34m\u001b[0m\u001b[0;34m\u001b[0m\u001b[0m\n\u001b[0;32m--> 214\u001b[0;31m             \u001b[0;32mreturn\u001b[0m \u001b[0mfunc\u001b[0m\u001b[0;34m(\u001b[0m\u001b[0;34m*\u001b[0m\u001b[0margs\u001b[0m\u001b[0;34m,\u001b[0m \u001b[0;34m**\u001b[0m\u001b[0mkwargs\u001b[0m\u001b[0;34m)\u001b[0m\u001b[0;34m\u001b[0m\u001b[0;34m\u001b[0m\u001b[0m\n\u001b[0m\u001b[1;32m    215\u001b[0m \u001b[0;34m\u001b[0m\u001b[0m\n\u001b[1;32m    216\u001b[0m         \u001b[0;32mreturn\u001b[0m \u001b[0mcast\u001b[0m\u001b[0;34m(\u001b[0m\u001b[0mF\u001b[0m\u001b[0;34m,\u001b[0m \u001b[0mwrapper\u001b[0m\u001b[0;34m)\u001b[0m\u001b[0;34m\u001b[0m\u001b[0;34m\u001b[0m\u001b[0m\n",
      "\u001b[0;32m~/.local/lib/python3.7/site-packages/pandas/io/json/_json.py\u001b[0m in \u001b[0;36mread_json\u001b[0;34m(path_or_buf, orient, typ, dtype, convert_axes, convert_dates, keep_default_dates, numpy, precise_float, date_unit, encoding, lines, chunksize, compression)\u001b[0m\n\u001b[1;32m    600\u001b[0m         \u001b[0mlines\u001b[0m\u001b[0;34m=\u001b[0m\u001b[0mlines\u001b[0m\u001b[0;34m,\u001b[0m\u001b[0;34m\u001b[0m\u001b[0;34m\u001b[0m\u001b[0m\n\u001b[1;32m    601\u001b[0m         \u001b[0mchunksize\u001b[0m\u001b[0;34m=\u001b[0m\u001b[0mchunksize\u001b[0m\u001b[0;34m,\u001b[0m\u001b[0;34m\u001b[0m\u001b[0;34m\u001b[0m\u001b[0m\n\u001b[0;32m--> 602\u001b[0;31m         \u001b[0mcompression\u001b[0m\u001b[0;34m=\u001b[0m\u001b[0mcompression\u001b[0m\u001b[0;34m,\u001b[0m\u001b[0;34m\u001b[0m\u001b[0;34m\u001b[0m\u001b[0m\n\u001b[0m\u001b[1;32m    603\u001b[0m     )\n\u001b[1;32m    604\u001b[0m \u001b[0;34m\u001b[0m\u001b[0m\n",
      "\u001b[0;32m~/.local/lib/python3.7/site-packages/pandas/io/json/_json.py\u001b[0m in \u001b[0;36m__init__\u001b[0;34m(self, filepath_or_buffer, orient, typ, dtype, convert_axes, convert_dates, keep_default_dates, numpy, precise_float, date_unit, encoding, lines, chunksize, compression)\u001b[0m\n\u001b[1;32m    662\u001b[0m                 \u001b[0;32mraise\u001b[0m \u001b[0mValueError\u001b[0m\u001b[0;34m(\u001b[0m\u001b[0;34m\"chunksize can only be passed if lines=True\"\u001b[0m\u001b[0;34m)\u001b[0m\u001b[0;34m\u001b[0m\u001b[0;34m\u001b[0m\u001b[0m\n\u001b[1;32m    663\u001b[0m \u001b[0;34m\u001b[0m\u001b[0m\n\u001b[0;32m--> 664\u001b[0;31m         \u001b[0mdata\u001b[0m \u001b[0;34m=\u001b[0m \u001b[0mself\u001b[0m\u001b[0;34m.\u001b[0m\u001b[0m_get_data_from_filepath\u001b[0m\u001b[0;34m(\u001b[0m\u001b[0mfilepath_or_buffer\u001b[0m\u001b[0;34m)\u001b[0m\u001b[0;34m\u001b[0m\u001b[0;34m\u001b[0m\u001b[0m\n\u001b[0m\u001b[1;32m    665\u001b[0m         \u001b[0mself\u001b[0m\u001b[0;34m.\u001b[0m\u001b[0mdata\u001b[0m \u001b[0;34m=\u001b[0m \u001b[0mself\u001b[0m\u001b[0;34m.\u001b[0m\u001b[0m_preprocess_data\u001b[0m\u001b[0;34m(\u001b[0m\u001b[0mdata\u001b[0m\u001b[0;34m)\u001b[0m\u001b[0;34m\u001b[0m\u001b[0;34m\u001b[0m\u001b[0m\n\u001b[1;32m    666\u001b[0m \u001b[0;34m\u001b[0m\u001b[0m\n",
      "\u001b[0;32m~/.local/lib/python3.7/site-packages/pandas/io/json/_json.py\u001b[0m in \u001b[0;36m_get_data_from_filepath\u001b[0;34m(self, filepath_or_buffer)\u001b[0m\n\u001b[1;32m    705\u001b[0m                 \u001b[0;34m\"r\"\u001b[0m\u001b[0;34m,\u001b[0m\u001b[0;34m\u001b[0m\u001b[0;34m\u001b[0m\u001b[0m\n\u001b[1;32m    706\u001b[0m                 \u001b[0mencoding\u001b[0m\u001b[0;34m=\u001b[0m\u001b[0mself\u001b[0m\u001b[0;34m.\u001b[0m\u001b[0mencoding\u001b[0m\u001b[0;34m,\u001b[0m\u001b[0;34m\u001b[0m\u001b[0;34m\u001b[0m\u001b[0m\n\u001b[0;32m--> 707\u001b[0;31m                 \u001b[0mcompression\u001b[0m\u001b[0;34m=\u001b[0m\u001b[0mself\u001b[0m\u001b[0;34m.\u001b[0m\u001b[0mcompression\u001b[0m\u001b[0;34m,\u001b[0m\u001b[0;34m\u001b[0m\u001b[0;34m\u001b[0m\u001b[0m\n\u001b[0m\u001b[1;32m    708\u001b[0m             )\n\u001b[1;32m    709\u001b[0m             \u001b[0mself\u001b[0m\u001b[0;34m.\u001b[0m\u001b[0mshould_close\u001b[0m \u001b[0;34m=\u001b[0m \u001b[0;32mTrue\u001b[0m\u001b[0;34m\u001b[0m\u001b[0;34m\u001b[0m\u001b[0m\n",
      "\u001b[0;32m~/.local/lib/python3.7/site-packages/pandas/io/common.py\u001b[0m in \u001b[0;36mget_handle\u001b[0;34m(path_or_buf, mode, encoding, compression, memory_map, is_text)\u001b[0m\n\u001b[1;32m    382\u001b[0m         \u001b[0;32mif\u001b[0m \u001b[0mcompression\u001b[0m \u001b[0;34m==\u001b[0m \u001b[0;34m\"gzip\"\u001b[0m\u001b[0;34m:\u001b[0m\u001b[0;34m\u001b[0m\u001b[0;34m\u001b[0m\u001b[0m\n\u001b[1;32m    383\u001b[0m             \u001b[0;32mif\u001b[0m \u001b[0mis_path\u001b[0m\u001b[0;34m:\u001b[0m\u001b[0;34m\u001b[0m\u001b[0;34m\u001b[0m\u001b[0m\n\u001b[0;32m--> 384\u001b[0;31m                 \u001b[0mf\u001b[0m \u001b[0;34m=\u001b[0m \u001b[0mgzip\u001b[0m\u001b[0;34m.\u001b[0m\u001b[0mopen\u001b[0m\u001b[0;34m(\u001b[0m\u001b[0mpath_or_buf\u001b[0m\u001b[0;34m,\u001b[0m \u001b[0mmode\u001b[0m\u001b[0;34m)\u001b[0m\u001b[0;34m\u001b[0m\u001b[0;34m\u001b[0m\u001b[0m\n\u001b[0m\u001b[1;32m    385\u001b[0m             \u001b[0;32melse\u001b[0m\u001b[0;34m:\u001b[0m\u001b[0;34m\u001b[0m\u001b[0;34m\u001b[0m\u001b[0m\n\u001b[1;32m    386\u001b[0m                 \u001b[0mf\u001b[0m \u001b[0;34m=\u001b[0m \u001b[0mgzip\u001b[0m\u001b[0;34m.\u001b[0m\u001b[0mGzipFile\u001b[0m\u001b[0;34m(\u001b[0m\u001b[0mfileobj\u001b[0m\u001b[0;34m=\u001b[0m\u001b[0mpath_or_buf\u001b[0m\u001b[0;34m)\u001b[0m\u001b[0;34m\u001b[0m\u001b[0;34m\u001b[0m\u001b[0m\n",
      "\u001b[0;32m/apps/software/standard/compiler/gcc/7.1.0/jupyter_conda/2019.10-py3.7/lib/python3.7/gzip.py\u001b[0m in \u001b[0;36mopen\u001b[0;34m(filename, mode, compresslevel, encoding, errors, newline)\u001b[0m\n\u001b[1;32m     51\u001b[0m     \u001b[0mgz_mode\u001b[0m \u001b[0;34m=\u001b[0m \u001b[0mmode\u001b[0m\u001b[0;34m.\u001b[0m\u001b[0mreplace\u001b[0m\u001b[0;34m(\u001b[0m\u001b[0;34m\"t\"\u001b[0m\u001b[0;34m,\u001b[0m \u001b[0;34m\"\"\u001b[0m\u001b[0;34m)\u001b[0m\u001b[0;34m\u001b[0m\u001b[0;34m\u001b[0m\u001b[0m\n\u001b[1;32m     52\u001b[0m     \u001b[0;32mif\u001b[0m \u001b[0misinstance\u001b[0m\u001b[0;34m(\u001b[0m\u001b[0mfilename\u001b[0m\u001b[0;34m,\u001b[0m \u001b[0;34m(\u001b[0m\u001b[0mstr\u001b[0m\u001b[0;34m,\u001b[0m \u001b[0mbytes\u001b[0m\u001b[0;34m,\u001b[0m \u001b[0mos\u001b[0m\u001b[0;34m.\u001b[0m\u001b[0mPathLike\u001b[0m\u001b[0;34m)\u001b[0m\u001b[0;34m)\u001b[0m\u001b[0;34m:\u001b[0m\u001b[0;34m\u001b[0m\u001b[0;34m\u001b[0m\u001b[0m\n\u001b[0;32m---> 53\u001b[0;31m         \u001b[0mbinary_file\u001b[0m \u001b[0;34m=\u001b[0m \u001b[0mGzipFile\u001b[0m\u001b[0;34m(\u001b[0m\u001b[0mfilename\u001b[0m\u001b[0;34m,\u001b[0m \u001b[0mgz_mode\u001b[0m\u001b[0;34m,\u001b[0m \u001b[0mcompresslevel\u001b[0m\u001b[0;34m)\u001b[0m\u001b[0;34m\u001b[0m\u001b[0;34m\u001b[0m\u001b[0m\n\u001b[0m\u001b[1;32m     54\u001b[0m     \u001b[0;32melif\u001b[0m \u001b[0mhasattr\u001b[0m\u001b[0;34m(\u001b[0m\u001b[0mfilename\u001b[0m\u001b[0;34m,\u001b[0m \u001b[0;34m\"read\"\u001b[0m\u001b[0;34m)\u001b[0m \u001b[0;32mor\u001b[0m \u001b[0mhasattr\u001b[0m\u001b[0;34m(\u001b[0m\u001b[0mfilename\u001b[0m\u001b[0;34m,\u001b[0m \u001b[0;34m\"write\"\u001b[0m\u001b[0;34m)\u001b[0m\u001b[0;34m:\u001b[0m\u001b[0;34m\u001b[0m\u001b[0;34m\u001b[0m\u001b[0m\n\u001b[1;32m     55\u001b[0m         \u001b[0mbinary_file\u001b[0m \u001b[0;34m=\u001b[0m \u001b[0mGzipFile\u001b[0m\u001b[0;34m(\u001b[0m\u001b[0;32mNone\u001b[0m\u001b[0;34m,\u001b[0m \u001b[0mgz_mode\u001b[0m\u001b[0;34m,\u001b[0m \u001b[0mcompresslevel\u001b[0m\u001b[0;34m,\u001b[0m \u001b[0mfilename\u001b[0m\u001b[0;34m)\u001b[0m\u001b[0;34m\u001b[0m\u001b[0;34m\u001b[0m\u001b[0m\n",
      "\u001b[0;32m/apps/software/standard/compiler/gcc/7.1.0/jupyter_conda/2019.10-py3.7/lib/python3.7/gzip.py\u001b[0m in \u001b[0;36m__init__\u001b[0;34m(self, filename, mode, compresslevel, fileobj, mtime)\u001b[0m\n\u001b[1;32m    161\u001b[0m             \u001b[0mmode\u001b[0m \u001b[0;34m+=\u001b[0m \u001b[0;34m'b'\u001b[0m\u001b[0;34m\u001b[0m\u001b[0;34m\u001b[0m\u001b[0m\n\u001b[1;32m    162\u001b[0m         \u001b[0;32mif\u001b[0m \u001b[0mfileobj\u001b[0m \u001b[0;32mis\u001b[0m \u001b[0;32mNone\u001b[0m\u001b[0;34m:\u001b[0m\u001b[0;34m\u001b[0m\u001b[0;34m\u001b[0m\u001b[0m\n\u001b[0;32m--> 163\u001b[0;31m             \u001b[0mfileobj\u001b[0m \u001b[0;34m=\u001b[0m \u001b[0mself\u001b[0m\u001b[0;34m.\u001b[0m\u001b[0mmyfileobj\u001b[0m \u001b[0;34m=\u001b[0m \u001b[0mbuiltins\u001b[0m\u001b[0;34m.\u001b[0m\u001b[0mopen\u001b[0m\u001b[0;34m(\u001b[0m\u001b[0mfilename\u001b[0m\u001b[0;34m,\u001b[0m \u001b[0mmode\u001b[0m \u001b[0;32mor\u001b[0m \u001b[0;34m'rb'\u001b[0m\u001b[0;34m)\u001b[0m\u001b[0;34m\u001b[0m\u001b[0;34m\u001b[0m\u001b[0m\n\u001b[0m\u001b[1;32m    164\u001b[0m         \u001b[0;32mif\u001b[0m \u001b[0mfilename\u001b[0m \u001b[0;32mis\u001b[0m \u001b[0;32mNone\u001b[0m\u001b[0;34m:\u001b[0m\u001b[0;34m\u001b[0m\u001b[0;34m\u001b[0m\u001b[0m\n\u001b[1;32m    165\u001b[0m             \u001b[0mfilename\u001b[0m \u001b[0;34m=\u001b[0m \u001b[0mgetattr\u001b[0m\u001b[0;34m(\u001b[0m\u001b[0mfileobj\u001b[0m\u001b[0;34m,\u001b[0m \u001b[0;34m'name'\u001b[0m\u001b[0;34m,\u001b[0m \u001b[0;34m''\u001b[0m\u001b[0;34m)\u001b[0m\u001b[0;34m\u001b[0m\u001b[0;34m\u001b[0m\u001b[0m\n",
      "\u001b[0;31mFileNotFoundError\u001b[0m: [Errno 2] No such file or directory: '../data/original/DNA_DATA_FULL.gz'"
     ]
    }
   ],
   "source": [
    "# Reading in the DNA data\n",
    "dna = pd.read_json('../data/original/DNA_DATA_FULL.gz', compression='gzip')\n",
    "dictionary = pd.read_csv(\"../data/original/companies.csv\") "
   ]
  },
  {
   "cell_type": "markdown",
   "metadata": {},
   "source": [
    "#### Converting datetime string to date "
   ]
  },
  {
   "cell_type": "code",
   "execution_count": 4,
   "metadata": {},
   "outputs": [],
   "source": [
    "date = [dt.fromtimestamp(x/1000).strftime('%Y-%m-%d %H:%M:%S') for dates in dna['publication_date']]\n",
    "pd.to_datetime(date)\n",
    "dna['year'] = pd.DatetimeIndex(date).year"
   ]
  },
  {
   "cell_type": "code",
   "execution_count": 5,
   "metadata": {},
   "outputs": [
    {
     "data": {
      "text/plain": [
       "(1942855, 36)"
      ]
     },
     "execution_count": 5,
     "metadata": {},
     "output_type": "execute_result"
    }
   ],
   "source": [
    "dna.shape"
   ]
  },
  {
   "cell_type": "code",
   "execution_count": null,
   "metadata": {},
   "outputs": [],
   "source": [
    "# Create subsets by year\n",
    "#dna2013 = dna[dna['Year'] == '2013']\n",
    "#making a loop for each year\n",
    "#for i in range (2013, 2018):\n",
    "#    dna_year= dna[dna['Year'] == str(i)]\n",
    " #   dna_year.to_csv(\"../data/working/DNA_\" + str(i))"
   ]
  },
  {
   "cell_type": "markdown",
   "metadata": {},
   "source": [
    "### Heading on what is going on here"
   ]
  },
  {
   "cell_type": "code",
   "execution_count": 5,
   "metadata": {},
   "outputs": [],
   "source": [
    "# Reading in the subsets\n",
    "dna_13 = pd.read_csv(\"../data/working/DNA_2013.csv\")\n",
    "dna_14 = pd.read_csv(\"../data/working/DNA_2014.csv\")\n",
    "dna_15 = pd.read_csv(\"../data/working/DNA_2015.csv\")\n",
    "dna_16 = pd.read_csv(\"../data/working/DNA_2016.csv\")\n",
    "dna_17 = pd.read_csv(\"../data/working/DNA_2017.csv\")\n",
    "dna_18 = pd.read_csv(\"../data/working/DNA_2018.csv\")"
   ]
  },
  {
   "cell_type": "code",
   "execution_count": 67,
   "metadata": {},
   "outputs": [
    {
     "data": {
      "text/html": [
       "<div>\n",
       "<style scoped>\n",
       "    .dataframe tbody tr th:only-of-type {\n",
       "        vertical-align: middle;\n",
       "    }\n",
       "\n",
       "    .dataframe tbody tr th {\n",
       "        vertical-align: top;\n",
       "    }\n",
       "\n",
       "    .dataframe thead th {\n",
       "        text-align: right;\n",
       "    }\n",
       "</style>\n",
       "<table border=\"1\" class=\"dataframe\">\n",
       "  <thead>\n",
       "    <tr style=\"text-align: right;\">\n",
       "      <th></th>\n",
       "      <th>company_codes</th>\n",
       "      <th>non_duplicates</th>\n",
       "    </tr>\n",
       "  </thead>\n",
       "  <tbody>\n",
       "    <tr>\n",
       "      <th>0</th>\n",
       "      <td>,toamsi,toamsi,tosmsc,tosmsc,tshba,tshba,tshba,</td>\n",
       "      <td>tosmsc,toamsi,tshba</td>\n",
       "    </tr>\n",
       "    <tr>\n",
       "      <th>1</th>\n",
       "      <td>,irevs,irevs,irevs,</td>\n",
       "      <td>irevs</td>\n",
       "    </tr>\n",
       "    <tr>\n",
       "      <th>2</th>\n",
       "      <td>,euruno,</td>\n",
       "      <td>euruno</td>\n",
       "    </tr>\n",
       "    <tr>\n",
       "      <th>3</th>\n",
       "      <td>,retrac,nyse,nyse,retrac,retrac,seexc,</td>\n",
       "      <td>seexc,retrac,nyse</td>\n",
       "    </tr>\n",
       "    <tr>\n",
       "      <th>4</th>\n",
       "      <td>,brstmy,brstmy,brstmy,</td>\n",
       "      <td>brstmy</td>\n",
       "    </tr>\n",
       "    <tr>\n",
       "      <th>...</th>\n",
       "      <td>...</td>\n",
       "      <td>...</td>\n",
       "    </tr>\n",
       "    <tr>\n",
       "      <th>1942850</th>\n",
       "      <td>,egalcu,egalcu,egalcu,seexc,</td>\n",
       "      <td>seexc,egalcu</td>\n",
       "    </tr>\n",
       "    <tr>\n",
       "      <th>1942851</th>\n",
       "      <td>,endoph,schplo,endoph,endoph,jnsspi,jnsspi,jon...</td>\n",
       "      <td>schplo,seexc,jnsspi,jonjon,endoph</td>\n",
       "    </tr>\n",
       "    <tr>\n",
       "      <th>1942852</th>\n",
       "      <td>,amchso,</td>\n",
       "      <td>amchso</td>\n",
       "    </tr>\n",
       "    <tr>\n",
       "      <th>1942853</th>\n",
       "      <td>,grnlft,kalamc,stry,stry,stry,</td>\n",
       "      <td>stry,kalamc,grnlft</td>\n",
       "    </tr>\n",
       "    <tr>\n",
       "      <th>1942854</th>\n",
       "      <td>,zogeni,ardgm,cowhrp,zogeni,zogeni,endoph,</td>\n",
       "      <td>ardgm,cowhrp,zogeni,endoph</td>\n",
       "    </tr>\n",
       "  </tbody>\n",
       "</table>\n",
       "<p>1942855 rows × 2 columns</p>\n",
       "</div>"
      ],
      "text/plain": [
       "                                             company_codes  \\\n",
       "0          ,toamsi,toamsi,tosmsc,tosmsc,tshba,tshba,tshba,   \n",
       "1                                      ,irevs,irevs,irevs,   \n",
       "2                                                 ,euruno,   \n",
       "3                   ,retrac,nyse,nyse,retrac,retrac,seexc,   \n",
       "4                                   ,brstmy,brstmy,brstmy,   \n",
       "...                                                    ...   \n",
       "1942850                       ,egalcu,egalcu,egalcu,seexc,   \n",
       "1942851  ,endoph,schplo,endoph,endoph,jnsspi,jnsspi,jon...   \n",
       "1942852                                           ,amchso,   \n",
       "1942853                     ,grnlft,kalamc,stry,stry,stry,   \n",
       "1942854         ,zogeni,ardgm,cowhrp,zogeni,zogeni,endoph,   \n",
       "\n",
       "                            non_duplicates  \n",
       "0                      tosmsc,toamsi,tshba  \n",
       "1                                    irevs  \n",
       "2                                   euruno  \n",
       "3                        seexc,retrac,nyse  \n",
       "4                                   brstmy  \n",
       "...                                    ...  \n",
       "1942850                       seexc,egalcu  \n",
       "1942851  schplo,seexc,jnsspi,jonjon,endoph  \n",
       "1942852                             amchso  \n",
       "1942853                 stry,kalamc,grnlft  \n",
       "1942854         ardgm,cowhrp,zogeni,endoph  \n",
       "\n",
       "[1942855 rows x 2 columns]"
      ]
     },
     "execution_count": 67,
     "metadata": {},
     "output_type": "execute_result"
    }
   ],
   "source": [
    "dna['non_duplicates'] = [set(code) for code in dna['company_codes'].str.split(\",\")] #creates an empty set, goes through each row in company_codes and splits the string in each row by the comma adds each company code and adds company code to set \n",
    "dna['non_duplicates'] = [list(code) for code in dna['non_duplicates']] #makes the \n",
    "dna['non_duplicates'] = [','.join(code) for code in dna['non_duplicates']]\n",
    "dna['non_duplicates'] = dna['non_duplicates'].str[1:]\n",
    "dna[['company_codes', 'non_duplicates']]"
   ]
  },
  {
   "cell_type": "code",
   "execution_count": 68,
   "metadata": {},
   "outputs": [
    {
     "data": {
      "text/html": [
       "<div>\n",
       "<style scoped>\n",
       "    .dataframe tbody tr th:only-of-type {\n",
       "        vertical-align: middle;\n",
       "    }\n",
       "\n",
       "    .dataframe tbody tr th {\n",
       "        vertical-align: top;\n",
       "    }\n",
       "\n",
       "    .dataframe thead th {\n",
       "        text-align: right;\n",
       "    }\n",
       "</style>\n",
       "<table border=\"1\" class=\"dataframe\">\n",
       "  <thead>\n",
       "    <tr style=\"text-align: right;\">\n",
       "      <th></th>\n",
       "      <th>copyright</th>\n",
       "      <th>subject_codes</th>\n",
       "      <th>art</th>\n",
       "      <th>modification_datetime</th>\n",
       "      <th>body</th>\n",
       "      <th>company_codes_occur</th>\n",
       "      <th>company_codes_about</th>\n",
       "      <th>company_codes_lineage</th>\n",
       "      <th>snippet</th>\n",
       "      <th>publication_date</th>\n",
       "      <th>...</th>\n",
       "      <th>title</th>\n",
       "      <th>publication_datetime</th>\n",
       "      <th>publisher_name</th>\n",
       "      <th>action</th>\n",
       "      <th>document_type</th>\n",
       "      <th>section</th>\n",
       "      <th>dateline</th>\n",
       "      <th>year</th>\n",
       "      <th>non-duplicates</th>\n",
       "      <th>non_duplicates</th>\n",
       "    </tr>\n",
       "  </thead>\n",
       "  <tbody>\n",
       "    <tr>\n",
       "      <th>0</th>\n",
       "      <td>(c) Copyright 2014 Obesity, Fitness &amp; Wellness...</td>\n",
       "      <td>,grdly,gscho,nnam,ccat,gcat,gedu,ghea,gtrea,nc...</td>\n",
       "      <td></td>\n",
       "      <td>1391132355000</td>\n",
       "      <td>\"When we decided to purchase new ultrasound eq...</td>\n",
       "      <td>,tshba,tosmsc,toamsi,</td>\n",
       "      <td>,tshba,</td>\n",
       "      <td></td>\n",
       "      <td>2014 FEB 8 (NewsRx) -- By a News Reporter-Staf...</td>\n",
       "      <td>1391817600000</td>\n",
       "      <td>...</td>\n",
       "      <td>Toshiba America Medical Systems, Inc. Arizona ...</td>\n",
       "      <td>1391817600000</td>\n",
       "      <td>NewsRx.com</td>\n",
       "      <td>add</td>\n",
       "      <td>article</td>\n",
       "      <td>NaN</td>\n",
       "      <td>NaN</td>\n",
       "      <td>2014</td>\n",
       "      <td>tosmsc,toamsi,tshba</td>\n",
       "      <td>tosmsc,toamsi,tshba</td>\n",
       "    </tr>\n",
       "    <tr>\n",
       "      <th>1</th>\n",
       "      <td>© 2014 The Advisory Board Company. All rights ...</td>\n",
       "      <td>,nabst,cempbn,c42,ccat,cwrkpa,ncat,nfact,nfcpin,</td>\n",
       "      <td></td>\n",
       "      <td>1390496727000</td>\n",
       "      <td>A similar ban already applies to self-insured ...</td>\n",
       "      <td>,irevs,</td>\n",
       "      <td>,irevs,</td>\n",
       "      <td></td>\n",
       "      <td>The Internal Revenue Service last week signale...</td>\n",
       "      <td>1390262400000</td>\n",
       "      <td>...</td>\n",
       "      <td>IRS Delaying ACA's Equal-Coverage Provision fo...</td>\n",
       "      <td>1390262400000</td>\n",
       "      <td>The Advisory Board Company/American Health Line</td>\n",
       "      <td>add</td>\n",
       "      <td>article</td>\n",
       "      <td>NaN</td>\n",
       "      <td>NaN</td>\n",
       "      <td>2014</td>\n",
       "      <td>irevs</td>\n",
       "      <td>irevs</td>\n",
       "    </tr>\n",
       "    <tr>\n",
       "      <th>2</th>\n",
       "      <td>© Copyright 2014 Clinical Trials Week via News...</td>\n",
       "      <td>,c23,ctrial,gcancr,gcrese,gsci,c22,ccat,gcat,g...</td>\n",
       "      <td></td>\n",
       "      <td>1390525806000</td>\n",
       "      <td>Dr. Curiel is the leader for TumAdoR Project 6...</td>\n",
       "      <td></td>\n",
       "      <td></td>\n",
       "      <td></td>\n",
       "      <td>2014 JAN 27 (NewsRx) -- By a News Reporter-Sta...</td>\n",
       "      <td>1390780800000</td>\n",
       "      <td>...</td>\n",
       "      <td>Clinical Trials and Studies; Broad-spectrum ca...</td>\n",
       "      <td>1390780800000</td>\n",
       "      <td>NewsRx.com</td>\n",
       "      <td>add</td>\n",
       "      <td>article</td>\n",
       "      <td>NaN</td>\n",
       "      <td>NaN</td>\n",
       "      <td>2014</td>\n",
       "      <td>euruno</td>\n",
       "      <td>euruno</td>\n",
       "    </tr>\n",
       "    <tr>\n",
       "      <th>3</th>\n",
       "      <td>© Copyright 2018 Journal of Engineering via Ve...</td>\n",
       "      <td>,c151,c15,ccat,ncat,nfact,nfcpin,</td>\n",
       "      <td></td>\n",
       "      <td>1523916466000</td>\n",
       "      <td>Cost of manufactured product increased $4.7 mi...</td>\n",
       "      <td>,retrac,nyse,</td>\n",
       "      <td>,retrac,</td>\n",
       "      <td></td>\n",
       "      <td>2018 APR 16 (VerticalNews) -- By a News Report...</td>\n",
       "      <td>1523836800000</td>\n",
       "      <td>...</td>\n",
       "      <td>Retractable Technologies Inc. Retractable Tech...</td>\n",
       "      <td>1523836800000</td>\n",
       "      <td>NewsRX, LLC</td>\n",
       "      <td>add</td>\n",
       "      <td>article</td>\n",
       "      <td></td>\n",
       "      <td>NaN</td>\n",
       "      <td>2018</td>\n",
       "      <td>seexc,retrac,nyse</td>\n",
       "      <td>seexc,retrac,nyse</td>\n",
       "    </tr>\n",
       "    <tr>\n",
       "      <th>4</th>\n",
       "      <td>© Copyright 2017 Pharma Business Week via News...</td>\n",
       "      <td>,ctmark,cgymtr,ccat,cinprp,</td>\n",
       "      <td></td>\n",
       "      <td>1499725044000</td>\n",
       "      <td>The international trademark goods and services...</td>\n",
       "      <td>,brstmy,</td>\n",
       "      <td>,brstmy,</td>\n",
       "      <td></td>\n",
       "      <td>2017 JUL 10 (NewsRx) -- By a News Reporter-Sta...</td>\n",
       "      <td>1499644800000</td>\n",
       "      <td>...</td>\n",
       "      <td>Pharmaceutical Companies; An Application for t...</td>\n",
       "      <td>1499644800000</td>\n",
       "      <td>NewsRX, LLC</td>\n",
       "      <td>add</td>\n",
       "      <td>article</td>\n",
       "      <td></td>\n",
       "      <td>NaN</td>\n",
       "      <td>2017</td>\n",
       "      <td>brstmy</td>\n",
       "      <td>brstmy</td>\n",
       "    </tr>\n",
       "    <tr>\n",
       "      <th>...</th>\n",
       "      <td>...</td>\n",
       "      <td>...</td>\n",
       "      <td>...</td>\n",
       "      <td>...</td>\n",
       "      <td>...</td>\n",
       "      <td>...</td>\n",
       "      <td>...</td>\n",
       "      <td>...</td>\n",
       "      <td>...</td>\n",
       "      <td>...</td>\n",
       "      <td>...</td>\n",
       "      <td>...</td>\n",
       "      <td>...</td>\n",
       "      <td>...</td>\n",
       "      <td>...</td>\n",
       "      <td>...</td>\n",
       "      <td>...</td>\n",
       "      <td>...</td>\n",
       "      <td>...</td>\n",
       "      <td>...</td>\n",
       "      <td>...</td>\n",
       "    </tr>\n",
       "    <tr>\n",
       "      <th>995</th>\n",
       "      <td>© Copyright 2015 Obesity, Fitness &amp; Wellness W...</td>\n",
       "      <td></td>\n",
       "      <td></td>\n",
       "      <td>1440799781000</td>\n",
       "      <td>Our news editors obtained a quote from the res...</td>\n",
       "      <td>,nthun,</td>\n",
       "      <td>,nthun,</td>\n",
       "      <td></td>\n",
       "      <td>2015 SEP 5 (NewsRx) -- By a News Reporter-Staf...</td>\n",
       "      <td>1440720000000</td>\n",
       "      <td>...</td>\n",
       "      <td>Cardiovascular Research; Study Results from No...</td>\n",
       "      <td>1440720000000</td>\n",
       "      <td>NewsRX, LLC</td>\n",
       "      <td>add</td>\n",
       "      <td>article</td>\n",
       "      <td>NaN</td>\n",
       "      <td>NaN</td>\n",
       "      <td>2015</td>\n",
       "      <td>nthun,biomce</td>\n",
       "      <td>nthun,biomce</td>\n",
       "    </tr>\n",
       "    <tr>\n",
       "      <th>996</th>\n",
       "      <td>(c) 2016. Theflyonthewall.com.  All Rights Res...</td>\n",
       "      <td>,c151,ctrial,nrmf,c15,c23,ccat,ncat,nfact,nfce...</td>\n",
       "      <td></td>\n",
       "      <td>1470946360000</td>\n",
       "      <td>We believe we are developing edasalonexent in...</td>\n",
       "      <td>,ctbiph,</td>\n",
       "      <td>,ctbiph,</td>\n",
       "      <td></td>\n",
       "      <td>16:12 EDT Catabasis Pharmaceuticals reports Q2...</td>\n",
       "      <td>1470873600000</td>\n",
       "      <td>...</td>\n",
       "      <td>16:12 EDT Catabasis Pharmaceuticals reports Q2...</td>\n",
       "      <td>1470873600000</td>\n",
       "      <td>Theflyonthewall.com</td>\n",
       "      <td>add</td>\n",
       "      <td>article</td>\n",
       "      <td></td>\n",
       "      <td>NaN</td>\n",
       "      <td>2016</td>\n",
       "      <td>ctbiph</td>\n",
       "      <td>ctbiph</td>\n",
       "    </tr>\n",
       "    <tr>\n",
       "      <th>997</th>\n",
       "      <td>(c) 2015. Theflyonthewall.com.  All Rights Res...</td>\n",
       "      <td>,c15,ccat,ncat,nfact,nfcpin,</td>\n",
       "      <td></td>\n",
       "      <td>1446673637000</td>\n",
       "      <td>NaN</td>\n",
       "      <td>,xenp,</td>\n",
       "      <td>,xenp,</td>\n",
       "      <td></td>\n",
       "      <td>Charge recorded as part of restructuring to fo...</td>\n",
       "      <td>1446595200000</td>\n",
       "      <td>...</td>\n",
       "      <td>XenoPort says recorded $3M restructuring charg...</td>\n",
       "      <td>1446595200000</td>\n",
       "      <td>Theflyonthewall.com</td>\n",
       "      <td>add</td>\n",
       "      <td>article</td>\n",
       "      <td>NaN</td>\n",
       "      <td>NaN</td>\n",
       "      <td>2015</td>\n",
       "      <td>xenp</td>\n",
       "      <td>xenp</td>\n",
       "    </tr>\n",
       "    <tr>\n",
       "      <th>998</th>\n",
       "      <td>Copyright 2016. News Bites Pty Ltd.</td>\n",
       "      <td>,cdirdl,c18,c41,cactio,ccat,ncat,nfact,nfcpex,...</td>\n",
       "      <td></td>\n",
       "      <td>1470810456000</td>\n",
       "      <td>HTTP link to original article\\n\\nhttps://www.s...</td>\n",
       "      <td>,trizet,sybse,nasdaq,mtpaia,flems,cohrnt,</td>\n",
       "      <td>,cohrnt,</td>\n",
       "      <td></td>\n",
       "      <td>NEWS BITES - PEOPLE IN BUSINESS\\n\\nDirector, C...</td>\n",
       "      <td>1470787200000</td>\n",
       "      <td>...</td>\n",
       "      <td>Coherent director L. William Krause sells 09 A...</td>\n",
       "      <td>1470787200000</td>\n",
       "      <td>News Bites Pty Ltd (Europe)</td>\n",
       "      <td>add</td>\n",
       "      <td>article</td>\n",
       "      <td></td>\n",
       "      <td>NaN</td>\n",
       "      <td>2016</td>\n",
       "      <td>sybse,cohrnt,nasdaq,trizet,mtpaia,flems</td>\n",
       "      <td>sybse,cohrnt,nasdaq,trizet,mtpaia,flems</td>\n",
       "    </tr>\n",
       "    <tr>\n",
       "      <th>999</th>\n",
       "      <td>© Copyright 2016 Computer Weekly News via via ...</td>\n",
       "      <td>,c133,ccat,cgymtr,cinprp,</td>\n",
       "      <td></td>\n",
       "      <td>1466719611000</td>\n",
       "      <td>The following quote was obtained by the news e...</td>\n",
       "      <td>,stry,sleiga,hmyhhz,</td>\n",
       "      <td>,stry,</td>\n",
       "      <td></td>\n",
       "      <td>2016 JUN 29 (VerticalNews) -- By a News Report...</td>\n",
       "      <td>1466640000000</td>\n",
       "      <td>...</td>\n",
       "      <td>Stryker Leibinger GmbH &amp; Co. KG; \"Computer-Imp...</td>\n",
       "      <td>1466640000000</td>\n",
       "      <td>NewsRX, LLC</td>\n",
       "      <td>add</td>\n",
       "      <td>article</td>\n",
       "      <td>NaN</td>\n",
       "      <td>NaN</td>\n",
       "      <td>2016</td>\n",
       "      <td>stry,hmyhhz,sleiga</td>\n",
       "      <td>stry,hmyhhz,sleiga</td>\n",
       "    </tr>\n",
       "  </tbody>\n",
       "</table>\n",
       "<p>1000 rows × 38 columns</p>\n",
       "</div>"
      ],
      "text/plain": [
       "                                             copyright  \\\n",
       "0    (c) Copyright 2014 Obesity, Fitness & Wellness...   \n",
       "1    © 2014 The Advisory Board Company. All rights ...   \n",
       "2    © Copyright 2014 Clinical Trials Week via News...   \n",
       "3    © Copyright 2018 Journal of Engineering via Ve...   \n",
       "4    © Copyright 2017 Pharma Business Week via News...   \n",
       "..                                                 ...   \n",
       "995  © Copyright 2015 Obesity, Fitness & Wellness W...   \n",
       "996  (c) 2016. Theflyonthewall.com.  All Rights Res...   \n",
       "997  (c) 2015. Theflyonthewall.com.  All Rights Res...   \n",
       "998               Copyright 2016. News Bites Pty Ltd.    \n",
       "999  © Copyright 2016 Computer Weekly News via via ...   \n",
       "\n",
       "                                         subject_codes art  \\\n",
       "0    ,grdly,gscho,nnam,ccat,gcat,gedu,ghea,gtrea,nc...       \n",
       "1     ,nabst,cempbn,c42,ccat,cwrkpa,ncat,nfact,nfcpin,       \n",
       "2    ,c23,ctrial,gcancr,gcrese,gsci,c22,ccat,gcat,g...       \n",
       "3                    ,c151,c15,ccat,ncat,nfact,nfcpin,       \n",
       "4                          ,ctmark,cgymtr,ccat,cinprp,       \n",
       "..                                                 ...  ..   \n",
       "995                                                          \n",
       "996  ,c151,ctrial,nrmf,c15,c23,ccat,ncat,nfact,nfce...       \n",
       "997                       ,c15,ccat,ncat,nfact,nfcpin,       \n",
       "998  ,cdirdl,c18,c41,cactio,ccat,ncat,nfact,nfcpex,...       \n",
       "999                          ,c133,ccat,cgymtr,cinprp,       \n",
       "\n",
       "     modification_datetime                                               body  \\\n",
       "0            1391132355000  \"When we decided to purchase new ultrasound eq...   \n",
       "1            1390496727000  A similar ban already applies to self-insured ...   \n",
       "2            1390525806000  Dr. Curiel is the leader for TumAdoR Project 6...   \n",
       "3            1523916466000  Cost of manufactured product increased $4.7 mi...   \n",
       "4            1499725044000  The international trademark goods and services...   \n",
       "..                     ...                                                ...   \n",
       "995          1440799781000  Our news editors obtained a quote from the res...   \n",
       "996          1470946360000   We believe we are developing edasalonexent in...   \n",
       "997          1446673637000                                                NaN   \n",
       "998          1470810456000  HTTP link to original article\\n\\nhttps://www.s...   \n",
       "999          1466719611000  The following quote was obtained by the news e...   \n",
       "\n",
       "                           company_codes_occur company_codes_about  \\\n",
       "0                        ,tshba,tosmsc,toamsi,             ,tshba,   \n",
       "1                                      ,irevs,             ,irevs,   \n",
       "2                                                                    \n",
       "3                                ,retrac,nyse,            ,retrac,   \n",
       "4                                     ,brstmy,            ,brstmy,   \n",
       "..                                         ...                 ...   \n",
       "995                                    ,nthun,             ,nthun,   \n",
       "996                                   ,ctbiph,            ,ctbiph,   \n",
       "997                                     ,xenp,              ,xenp,   \n",
       "998  ,trizet,sybse,nasdaq,mtpaia,flems,cohrnt,            ,cohrnt,   \n",
       "999                       ,stry,sleiga,hmyhhz,              ,stry,   \n",
       "\n",
       "    company_codes_lineage                                            snippet  \\\n",
       "0                          2014 FEB 8 (NewsRx) -- By a News Reporter-Staf...   \n",
       "1                          The Internal Revenue Service last week signale...   \n",
       "2                          2014 JAN 27 (NewsRx) -- By a News Reporter-Sta...   \n",
       "3                          2018 APR 16 (VerticalNews) -- By a News Report...   \n",
       "4                          2017 JUL 10 (NewsRx) -- By a News Reporter-Sta...   \n",
       "..                    ...                                                ...   \n",
       "995                        2015 SEP 5 (NewsRx) -- By a News Reporter-Staf...   \n",
       "996                        16:12 EDT Catabasis Pharmaceuticals reports Q2...   \n",
       "997                        Charge recorded as part of restructuring to fo...   \n",
       "998                        NEWS BITES - PEOPLE IN BUSINESS\\n\\nDirector, C...   \n",
       "999                        2016 JUN 29 (VerticalNews) -- By a News Report...   \n",
       "\n",
       "     publication_date  ...                                              title  \\\n",
       "0       1391817600000  ...  Toshiba America Medical Systems, Inc. Arizona ...   \n",
       "1       1390262400000  ...  IRS Delaying ACA's Equal-Coverage Provision fo...   \n",
       "2       1390780800000  ...  Clinical Trials and Studies; Broad-spectrum ca...   \n",
       "3       1523836800000  ...  Retractable Technologies Inc. Retractable Tech...   \n",
       "4       1499644800000  ...  Pharmaceutical Companies; An Application for t...   \n",
       "..                ...  ...                                                ...   \n",
       "995     1440720000000  ...  Cardiovascular Research; Study Results from No...   \n",
       "996     1470873600000  ...  16:12 EDT Catabasis Pharmaceuticals reports Q2...   \n",
       "997     1446595200000  ...  XenoPort says recorded $3M restructuring charg...   \n",
       "998     1470787200000  ...  Coherent director L. William Krause sells 09 A...   \n",
       "999     1466640000000  ...  Stryker Leibinger GmbH & Co. KG; \"Computer-Imp...   \n",
       "\n",
       "    publication_datetime                                   publisher_name  \\\n",
       "0          1391817600000                                       NewsRx.com   \n",
       "1          1390262400000  The Advisory Board Company/American Health Line   \n",
       "2          1390780800000                                       NewsRx.com   \n",
       "3          1523836800000                                      NewsRX, LLC   \n",
       "4          1499644800000                                      NewsRX, LLC   \n",
       "..                   ...                                              ...   \n",
       "995        1440720000000                                      NewsRX, LLC   \n",
       "996        1470873600000                              Theflyonthewall.com   \n",
       "997        1446595200000                              Theflyonthewall.com   \n",
       "998        1470787200000                      News Bites Pty Ltd (Europe)   \n",
       "999        1466640000000                                      NewsRX, LLC   \n",
       "\n",
       "    action  document_type  section dateline  year  \\\n",
       "0      add        article      NaN      NaN  2014   \n",
       "1      add        article      NaN      NaN  2014   \n",
       "2      add        article      NaN      NaN  2014   \n",
       "3      add        article               NaN  2018   \n",
       "4      add        article               NaN  2017   \n",
       "..     ...            ...      ...      ...   ...   \n",
       "995    add        article      NaN      NaN  2015   \n",
       "996    add        article               NaN  2016   \n",
       "997    add        article      NaN      NaN  2015   \n",
       "998    add        article               NaN  2016   \n",
       "999    add        article      NaN      NaN  2016   \n",
       "\n",
       "                              non-duplicates  \\\n",
       "0                        tosmsc,toamsi,tshba   \n",
       "1                                      irevs   \n",
       "2                                     euruno   \n",
       "3                          seexc,retrac,nyse   \n",
       "4                                     brstmy   \n",
       "..                                       ...   \n",
       "995                             nthun,biomce   \n",
       "996                                   ctbiph   \n",
       "997                                     xenp   \n",
       "998  sybse,cohrnt,nasdaq,trizet,mtpaia,flems   \n",
       "999                       stry,hmyhhz,sleiga   \n",
       "\n",
       "                              non_duplicates  \n",
       "0                        tosmsc,toamsi,tshba  \n",
       "1                                      irevs  \n",
       "2                                     euruno  \n",
       "3                          seexc,retrac,nyse  \n",
       "4                                     brstmy  \n",
       "..                                       ...  \n",
       "995                             nthun,biomce  \n",
       "996                                   ctbiph  \n",
       "997                                     xenp  \n",
       "998  sybse,cohrnt,nasdaq,trizet,mtpaia,flems  \n",
       "999                       stry,hmyhhz,sleiga  \n",
       "\n",
       "[1000 rows x 38 columns]"
      ]
     },
     "execution_count": 68,
     "metadata": {},
     "output_type": "execute_result"
    }
   ],
   "source": [
    "dna_subset=dna_subset[:1000]\n",
    "dna_subset"
   ]
  },
  {
   "cell_type": "code",
   "execution_count": null,
   "metadata": {},
   "outputs": [],
   "source": [
    "dna_13['non-duplicates'] = [set(code) for code in dna_13['company_codes'].str.split(\",\")]\n",
    "dna_13['non-duplicates'] = [list(code) for code in dna_13['non-duplicates']]\n",
    "dna_13['non-duplicates'] = [','.join(code) for code in dna_13['non-duplicates']]\n",
    "dna_13['non-duplicates'] = dna_13['non-duplicates'].str[1:]\n",
    "dna_13[['company_codes', 'non-duplicates']]"
   ]
  },
  {
   "cell_type": "code",
   "execution_count": 22,
   "metadata": {},
   "outputs": [
    {
     "data": {
      "text/plain": [
       "year  non-duplicates             \n",
       "2012                                 122\n",
       "      jonjon,usfda                     5\n",
       "      jonjon,pblczn,usfda              4\n",
       "      hrvun                            3\n",
       "      lilye                            3\n",
       "                                    ... \n",
       "2018  zzlare,staban,dibjof,nrdkxn      1\n",
       "      zzlare,staban,mrelfz,dibjof      1\n",
       "      zzpoin,frbo,medinc               1\n",
       "      zzsong                           1\n",
       "      zzxbnp,glxo                      1\n",
       "Name: non-duplicates, Length: 640623, dtype: int64"
      ]
     },
     "execution_count": 22,
     "metadata": {},
     "output_type": "execute_result"
    }
   ],
   "source": [
    "company_codes_per_year = dna.groupby(['year'])['non-duplicates'].value_counts()\n",
    "company_codes_per_year"
   ]
  },
  {
   "cell_type": "code",
   "execution_count": 1,
   "metadata": {},
   "outputs": [],
   "source": [
    "# Top 20 companies (or group of comapnies) in total and by year\n",
    "#NOT the right one\n",
    "#dna['non-duplicates'].value_counts()[:20].plot(kind='barh')\n",
    "#plt.xlabel('Frequency', fontsize=16)\n",
    "#plt.ylabel('Company codes', fontsize=16)\n",
    "#plt.title('Top 20 companies in the DNA data',fontsize=20)\n",
    "#plt.show()"
   ]
  },
  {
   "cell_type": "markdown",
   "metadata": {},
   "source": [
    "### Creating Top 20 Companies Histogram"
   ]
  },
  {
   "cell_type": "code",
   "execution_count": 43,
   "metadata": {
    "collapsed": true,
    "jupyter": {
     "outputs_hidden": true
    }
   },
   "outputs": [
    {
     "data": {
      "text/html": [
       "<div>\n",
       "<style scoped>\n",
       "    .dataframe tbody tr th:only-of-type {\n",
       "        vertical-align: middle;\n",
       "    }\n",
       "\n",
       "    .dataframe tbody tr th {\n",
       "        vertical-align: top;\n",
       "    }\n",
       "\n",
       "    .dataframe thead th {\n",
       "        text-align: right;\n",
       "    }\n",
       "</style>\n",
       "<table border=\"1\" class=\"dataframe\">\n",
       "  <thead>\n",
       "    <tr style=\"text-align: right;\">\n",
       "      <th></th>\n",
       "      <th>code</th>\n",
       "      <th>frequency</th>\n",
       "    </tr>\n",
       "  </thead>\n",
       "  <tbody>\n",
       "    <tr>\n",
       "      <th>1</th>\n",
       "      <td>seexc</td>\n",
       "      <td>300</td>\n",
       "    </tr>\n",
       "    <tr>\n",
       "      <th>2</th>\n",
       "      <td>usfda</td>\n",
       "      <td>265</td>\n",
       "    </tr>\n",
       "    <tr>\n",
       "      <th>3</th>\n",
       "      <td>pfiz</td>\n",
       "      <td>99</td>\n",
       "    </tr>\n",
       "    <tr>\n",
       "      <th>4</th>\n",
       "      <td>nasdaq</td>\n",
       "      <td>93</td>\n",
       "    </tr>\n",
       "    <tr>\n",
       "      <th>5</th>\n",
       "      <td>sndoz</td>\n",
       "      <td>54</td>\n",
       "    </tr>\n",
       "    <tr>\n",
       "      <th>6</th>\n",
       "      <td>zenec</td>\n",
       "      <td>52</td>\n",
       "    </tr>\n",
       "    <tr>\n",
       "      <th>7</th>\n",
       "      <td>wtsnph</td>\n",
       "      <td>48</td>\n",
       "    </tr>\n",
       "    <tr>\n",
       "      <th>8</th>\n",
       "      <td>brstmy</td>\n",
       "      <td>47</td>\n",
       "    </tr>\n",
       "    <tr>\n",
       "      <th>9</th>\n",
       "      <td>lilye</td>\n",
       "      <td>41</td>\n",
       "    </tr>\n",
       "    <tr>\n",
       "      <th>10</th>\n",
       "      <td>sansyn</td>\n",
       "      <td>39</td>\n",
       "    </tr>\n",
       "    <tr>\n",
       "      <th>11</th>\n",
       "      <td>jonjon</td>\n",
       "      <td>31</td>\n",
       "    </tr>\n",
       "    <tr>\n",
       "      <th>12</th>\n",
       "      <td>abvbba</td>\n",
       "      <td>31</td>\n",
       "    </tr>\n",
       "    <tr>\n",
       "      <th>13</th>\n",
       "      <td>fffaim</td>\n",
       "      <td>31</td>\n",
       "    </tr>\n",
       "    <tr>\n",
       "      <th>14</th>\n",
       "      <td>schplo</td>\n",
       "      <td>31</td>\n",
       "    </tr>\n",
       "    <tr>\n",
       "      <th>15</th>\n",
       "      <td>medinc</td>\n",
       "      <td>30</td>\n",
       "    </tr>\n",
       "    <tr>\n",
       "      <th>16</th>\n",
       "      <td>glxo</td>\n",
       "      <td>30</td>\n",
       "    </tr>\n",
       "    <tr>\n",
       "      <th>17</th>\n",
       "      <td>stry</td>\n",
       "      <td>30</td>\n",
       "    </tr>\n",
       "    <tr>\n",
       "      <th>18</th>\n",
       "      <td>teviy</td>\n",
       "      <td>29</td>\n",
       "    </tr>\n",
       "    <tr>\n",
       "      <th>19</th>\n",
       "      <td>usnih</td>\n",
       "      <td>28</td>\n",
       "    </tr>\n",
       "  </tbody>\n",
       "</table>\n",
       "</div>"
      ],
      "text/plain": [
       "      code  frequency\n",
       "1    seexc        300\n",
       "2    usfda        265\n",
       "3     pfiz         99\n",
       "4   nasdaq         93\n",
       "5    sndoz         54\n",
       "6    zenec         52\n",
       "7   wtsnph         48\n",
       "8   brstmy         47\n",
       "9    lilye         41\n",
       "10  sansyn         39\n",
       "11  jonjon         31\n",
       "12  abvbba         31\n",
       "13  fffaim         31\n",
       "14  schplo         31\n",
       "15  medinc         30\n",
       "16    glxo         30\n",
       "17    stry         30\n",
       "18   teviy         29\n",
       "19   usnih         28"
      ]
     },
     "execution_count": 43,
     "metadata": {},
     "output_type": "execute_result"
    }
   ],
   "source": [
    "# Top 20 individual companies in the dataset\n",
    "code = dna_subset['company_codes'].str.lower().str.cat(sep=' ') #\n",
    "words = nltk.tokenize.word_tokenize(code) #what are you doing here? why is it necessary\n",
    "word_dist = nltk.FreqDist(words) #what are you doing here?\n",
    "#print (word_dist)\n",
    "rslt = pd.DataFrame(word_dist.most_common(20),\n",
    "                    columns=['code', 'frequency'])\n",
    "rslt = rslt[rslt.code !=','] #what does this code do?\n",
    "rslt"
   ]
  },
  {
   "cell_type": "code",
   "execution_count": 28,
   "metadata": {},
   "outputs": [
    {
     "data": {
      "image/png": "[encoded data removed]",
      "text/plain": [
       "<Figure size 432x288 with 1 Axes>"
      ]
     },
     "metadata": {
      "needs_background": "light"
     },
     "output_type": "display_data"
    }
   ],
   "source": [
    "#pos = np.arange(len(rslt.code))\n",
    "plt.barh(rslt.code,rslt.frequency,color='blue',edgecolor='black')\n",
    "plt.yticks(rslt.code)\n",
    "plt.xlabel('Frequency', fontsize=16)\n",
    "plt.ylabel('Company codes', fontsize=16)\n",
    "plt.title('Top 20 companies in the DNA data',fontsize=20)\n",
    "plt.show()"
   ]
  },
  {
   "cell_type": "markdown",
   "metadata": {},
   "source": [
    "### Top 20 Publishers in total and by year"
   ]
  },
  {
   "cell_type": "code",
   "execution_count": 9,
   "metadata": {},
   "outputs": [
    {
     "data": {
      "image/png": "[encoded data removed]",
      "text/plain": [
       "<Figure size 432x288 with 1 Axes>"
      ]
     },
     "metadata": {
      "needs_background": "light"
     },
     "output_type": "display_data"
    }
   ],
   "source": [
    "# Top 20 publishers in total and by year\n",
    "dna_subset['publisher_name'].value_counts()[:20].plot(kind='barh')\n",
    "plt.xlabel('Frequency', fontsize=16)\n",
    "plt.ylabel('Publishers', fontsize=16)\n",
    "plt.title('Top 20 publishers in the DNA data',fontsize=20)\n",
    "plt.show()"
   ]
  },
  {
   "cell_type": "code",
   "execution_count": 57,
   "metadata": {},
   "outputs": [
    {
     "data": {
      "text/plain": [
       "NewsRX, LLC                                                                          347341\n",
       "Dow Jones & Company, Inc.                                                            309754\n",
       "NewsRx.com                                                                           228707\n",
       "Athena Information Solutions Pvt. Ltd.                                               118669\n",
       "Theflyonthewall.com                                                                   81326\n",
       "                                                                ...                        \n",
       "The Maui Time Weekly, Inc.                                                                1\n",
       "Wenatchee Business Journal, Inc.                                                          1\n",
       "Societe Orientale de Publicite                                                            1\n",
       "nunique                                                                                1426\n",
       "unique values                             [NewsRX, LLC, Dow Jones & Company, Inc., NewsR...\n",
       "Length: 1428, dtype: object"
      ]
     },
     "execution_count": 57,
     "metadata": {},
     "output_type": "execute_result"
    }
   ],
   "source": [
    "## Number of publishers per year\n",
    "#pub=dna_subset['publisher_name'].unique()\n",
    "#print(len(pub))\n",
    "#num_publisher = dna['publisher_name'].nunique(dropna= True)\n",
    "#num_publisher\n",
    "p = pd.value_counts(dna.publisher_name)\n",
    "publisher = pd.Series({'nunique': len(p), 'unique values': p.index.tolist()})\n",
    "p.append(publisher)"
   ]
  },
  {
   "cell_type": "code",
   "execution_count": 5,
   "metadata": {},
   "outputs": [
    {
     "data": {
      "text/plain": [
       "publisher_name\n",
       "NewsRX, LLC                                  347341\n",
       "Dow Jones & Company, Inc.                    309754\n",
       "NewsRx.com                                   228707\n",
       "Athena Information Solutions Pvt. Ltd.       118669\n",
       "Theflyonthewall.com                           81326\n",
       "                                              ...  \n",
       "Asianet Satellite Communications Pvt Ltd.         1\n",
       "Valor Economico S.A.                              1\n",
       "Sourcing Partners                                 1\n",
       "LLC Georgia Media Incorporated                    1\n",
       "Le Monde Interactif                               1\n",
       "Name: an, Length: 1426, dtype: int64"
      ]
     },
     "execution_count": 5,
     "metadata": {},
     "output_type": "execute_result"
    }
   ],
   "source": [
    "# For each publisher, how many articles overall and per year? (table)\n",
    "#count=dna_subset.groupby('publisher_name')['an'].nunique(dropna= True)\n",
    "#count\n",
    "article_by_publisher = dna.groupby(['publisher_name'])['an'].count().sort_values(ascending=False)\n",
    "article_by_publisher"
   ]
  },
  {
   "cell_type": "markdown",
   "metadata": {},
   "source": [
    "Number of articles per year"
   ]
  },
  {
   "cell_type": "code",
   "execution_count": 19,
   "metadata": {},
   "outputs": [
    {
     "data": {
      "text/plain": [
       "Text(0.5, 1.0, 'Number of articles per year')"
      ]
     },
     "execution_count": 19,
     "metadata": {},
     "output_type": "execute_result"
    },
    {
     "data": {
      "image/png": "[encoded data removed]",
      "text/plain": [
       "<Figure size 432x288 with 1 Axes>"
      ]
     },
     "metadata": {
      "needs_background": "light"
     },
     "output_type": "display_data"
    }
   ],
   "source": [
    "#dna_subset['an'].groupby(dna.year).agg('count').plot.barh()\n",
    "#Not working: dna_subset.groupby('year').an.agg('count').unstack(0).plot.barh()\n",
    "dna_subset.groupby('year').an.agg('count').plot.bar()\n",
    "plt.xlabel('Number of articles')\n",
    "plt.ylabel('Year')\n",
    "plt.title('Number of articles per year')"
   ]
  },
  {
   "cell_type": "code",
   "execution_count": 63,
   "metadata": {},
   "outputs": [
    {
     "data": {
      "text/plain": [
       "year  publisher_name                          \n",
       "2013  A.H. Belo Management Services, Inc.          1\n",
       "      American City Business Journals              3\n",
       "      Athena Information Solutions Pvt. Ltd.       2\n",
       "      Business Wire                                2\n",
       "      Business Wire, Inc.                          2\n",
       "                                                  ..\n",
       "2018  Tribune Content Agency                       2\n",
       "      Tribune Media [Tribune Broadcasting Co.]     1\n",
       "      Vermont Community Media                      1\n",
       "      Washington Business Information, Inc.        1\n",
       "      iCrowdNewswire, LLC                         16\n",
       "Name: an, Length: 229, dtype: int64"
      ]
     },
     "execution_count": 63,
     "metadata": {},
     "output_type": "execute_result"
    }
   ],
   "source": [
    "article_per_year_per_publisher = dna_subset.groupby(['year','publisher_name']).an.agg('count')\n",
    "article_per_year_per_publisher"
   ]
  },
  {
   "cell_type": "markdown",
   "metadata": {},
   "source": [
    "### Top 15 Companies mentioned"
   ]
  },
  {
   "cell_type": "code",
   "execution_count": 3,
   "metadata": {},
   "outputs": [
    {
     "ename": "NameError",
     "evalue": "name 'dna' is not defined",
     "output_type": "error",
     "traceback": [
      "\u001b[0;31m---------------------------------------------------------------------------\u001b[0m",
      "\u001b[0;31mNameError\u001b[0m                                 Traceback (most recent call last)",
      "\u001b[0;32m<ipython-input-3-7de8d0b58cae>\u001b[0m in \u001b[0;36m<module>\u001b[0;34m\u001b[0m\n\u001b[0;32m----> 1\u001b[0;31m \u001b[0mdna_unique_comp\u001b[0m \u001b[0;34m=\u001b[0m \u001b[0mdna\u001b[0m\u001b[0;34m[\u001b[0m\u001b[0;34m[\u001b[0m\u001b[0;34m'company_codes'\u001b[0m\u001b[0;34m,\u001b[0m \u001b[0;34m'non duplicates'\u001b[0m\u001b[0;34m]\u001b[0m\u001b[0;34m]\u001b[0m\u001b[0;34m\u001b[0m\u001b[0;34m\u001b[0m\u001b[0m\n\u001b[0m",
      "\u001b[0;31mNameError\u001b[0m: name 'dna' is not defined"
     ]
    }
   ],
   "source": [
    "dna_unique_comp = dna[['company_codes', 'non duplicates']]"
   ]
  },
  {
   "cell_type": "code",
   "execution_count": null,
   "metadata": {},
   "outputs": [],
   "source": [
    "company_codes = []\n",
    "for codes in dna_unique_comp['company_codes'].str.split(\",\"):\n",
    "    for code in codes:\n",
    "        company_codes.append(code2)"
   ]
  },
  {
   "cell_type": "code",
   "execution_count": null,
   "metadata": {},
   "outputs": [],
   "source": [
    "company_freq = pd.DataFrame()\n",
    "company_code = np.array([])\n",
    "company_count = np.array([])"
   ]
  },
  {
   "cell_type": "code",
   "execution_count": null,
   "metadata": {},
   "outputs": [],
   "source": [
    "for company, count in Counter(my_list).items():\n",
    "    company_code = np.append(company_code, company)\n",
    "    company_count = np.append(company_count, count)\n"
   ]
  },
  {
   "cell_type": "code",
   "execution_count": null,
   "metadata": {},
   "outputs": [],
   "source": [
    "company_freq['Code'] = company_code\n",
    "company_freq['Count'] = company_count"
   ]
  },
  {
   "cell_type": "code",
   "execution_count": null,
   "metadata": {},
   "outputs": [],
   "source": [
    "company_freq = company_freq.sort_values(\"Count\", ascending = False).iloc[1:]"
   ]
  },
  {
   "cell_type": "code",
   "execution_count": null,
   "metadata": {},
   "outputs": [],
   "source": [
    "company_freq.set_index(\"Code\", inplace = True)"
   ]
  },
  {
   "cell_type": "code",
   "execution_count": 2,
   "metadata": {
    "collapsed": true,
    "jupyter": {
     "outputs_hidden": true
    }
   },
   "outputs": [
    {
     "ename": "NameError",
     "evalue": "name 'company_freq' is not defined",
     "output_type": "error",
     "traceback": [
      "\u001b[0;31m---------------------------------------------------------------------------\u001b[0m",
      "\u001b[0;31mNameError\u001b[0m                                 Traceback (most recent call last)",
      "\u001b[0;32m<ipython-input-2-5fe08bf46b9e>\u001b[0m in \u001b[0;36m<module>\u001b[0;34m\u001b[0m\n\u001b[1;32m      1\u001b[0m \u001b[0mget_ipython\u001b[0m\u001b[0;34m(\u001b[0m\u001b[0;34m)\u001b[0m\u001b[0;34m.\u001b[0m\u001b[0mrun_line_magic\u001b[0m\u001b[0;34m(\u001b[0m\u001b[0;34m'matplotlib'\u001b[0m\u001b[0;34m,\u001b[0m \u001b[0;34m'inline'\u001b[0m\u001b[0;34m)\u001b[0m\u001b[0;34m\u001b[0m\u001b[0;34m\u001b[0m\u001b[0m\n\u001b[0;32m----> 2\u001b[0;31m \u001b[0mcompany_freq\u001b[0m\u001b[0;34m.\u001b[0m\u001b[0mCount\u001b[0m\u001b[0;34m.\u001b[0m\u001b[0mhead\u001b[0m\u001b[0;34m(\u001b[0m\u001b[0;36m15\u001b[0m\u001b[0;34m)\u001b[0m\u001b[0;34m.\u001b[0m\u001b[0mplot\u001b[0m\u001b[0;34m(\u001b[0m\u001b[0mkind\u001b[0m \u001b[0;34m=\u001b[0m \u001b[0;34m'bar'\u001b[0m\u001b[0;34m)\u001b[0m\u001b[0;34m\u001b[0m\u001b[0;34m\u001b[0m\u001b[0m\n\u001b[0m\u001b[1;32m      3\u001b[0m \u001b[0mplt\u001b[0m\u001b[0;34m.\u001b[0m\u001b[0mylabel\u001b[0m\u001b[0;34m(\u001b[0m\u001b[0;34m\"Frequency\"\u001b[0m\u001b[0;34m)\u001b[0m\u001b[0;34m\u001b[0m\u001b[0;34m\u001b[0m\u001b[0m\n\u001b[1;32m      4\u001b[0m \u001b[0mplt\u001b[0m\u001b[0;34m.\u001b[0m\u001b[0mtitle\u001b[0m\u001b[0;34m(\u001b[0m\u001b[0;34m\"Top 15 Most Mentioned Companines\"\u001b[0m\u001b[0;34m)\u001b[0m\u001b[0;34m\u001b[0m\u001b[0;34m\u001b[0m\u001b[0m\n",
      "\u001b[0;31mNameError\u001b[0m: name 'company_freq' is not defined"
     ]
    }
   ],
   "source": [
    "%matplotlib inline\n",
    "company_freq.Count.head(15).plot(kind = 'bar')\n",
    "plt.ylabel(\"Frequency\")\n",
    "plt.title(\"Top 15 Most Mentioned Companines\")"
   ]
  },
  {
   "cell_type": "code",
   "execution_count": null,
   "metadata": {},
   "outputs": [],
   "source": [
    "#Made a csv of all companies with their frequency counts\n",
    "company_freq.to_csv(\"../data/working/companyfrequency.csv\")"
   ]
  },
  {
   "cell_type": "code",
   "execution_count": null,
   "metadata": {},
   "outputs": [],
   "source": [
    "company_freq.reset_index(inplace = True)\n",
    "# Made a csv of all companies with their frequency counts and \n",
    "# corresponding company names(invalid companies will have NaN)\n"
   ]
  },
  {
   "cell_type": "code",
   "execution_count": null,
   "metadata": {},
   "outputs": [],
   "source": [
    "name = np.array([])\n",
    "valid_companies = pd.read_csv(\"../data/working/validcompaniesdictionary.csv\", index_col = [0])"
   ]
  },
  {
   "cell_type": "code",
   "execution_count": null,
   "metadata": {},
   "outputs": [],
   "source": [
    "company_freq['Code'] = company_freq['Code'].str.upper()"
   ]
  },
  {
   "cell_type": "code",
   "execution_count": null,
   "metadata": {},
   "outputs": [],
   "source": [
    "#Merging the valid company codes df with the company_freq df. This will match each company with their name, unless invalid\n",
    "merged_dna_comp = pd.merge(valid_companies, company_freq, left_on = \"Code\", right_on = \"Code\", how = \"outer\")"
   ]
  },
  {
   "cell_type": "code",
   "execution_count": null,
   "metadata": {},
   "outputs": [],
   "source": [
    "merged_dna_comp.to_csv(\"../data/working/companyfrequencyandname.csv\")"
   ]
  }
 ],
 "metadata": {
  "kernelspec": {
   "display_name": "Python 3",
   "language": "python",
   "name": "python3"
  },
  "language_info": {
   "codemirror_mode": {
    "name": "ipython",
    "version": 3
   },
   "file_extension": ".py",
   "mimetype": "text/x-python",
   "name": "python",
   "nbconvert_exporter": "python",
   "pygments_lexer": "ipython3",
   "version": "3.7.4"
  }
 },
 "nbformat": 4,
 "nbformat_minor": 4
}
