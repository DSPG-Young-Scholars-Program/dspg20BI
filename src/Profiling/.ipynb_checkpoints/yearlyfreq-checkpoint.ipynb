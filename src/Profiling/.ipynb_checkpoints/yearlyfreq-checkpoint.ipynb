{
 "cells": [
  {
   "cell_type": "markdown",
   "metadata": {},
   "source": [
    "### Frequencies \n",
    "\n",
    "This juypyter notebook contains code for calculating:\n",
    "* Yearly Frequency of unique companies mentioned in DNA articles\n",
    "* Top 20 total companies mentioned in DNA\n",
    "* Top 20 publishers mentioned in  DNA "
   ]
  },
  {
   "cell_type": "code",
   "execution_count": 1,
   "metadata": {},
   "outputs": [],
   "source": [
    "import gzip\n",
    "import json\n",
    "import numpy as np\n",
    "import pandas as pd\n",
    "import matplotlib as mpl\n",
    "import matplotlib.pyplot as plt\n",
    "import seaborn as sns\n",
    "import collections\n",
    "import nltk\n",
    "import matplotlib.colors\n",
    "from collections import Counter\n",
    "from itertools import chain\n",
    "from datetime import datetime as dt\n",
    "from nltk import FreqDist\n",
    "#nltk.download('punkt')\n",
    "import xlrd"
   ]
  },
  {
   "cell_type": "markdown",
   "metadata": {},
   "source": [
    "#### Reading in the DNA data"
   ]
  },
  {
   "cell_type": "code",
   "execution_count": 48,
   "metadata": {},
   "outputs": [],
   "source": [
    "dna = pd.read_json('../data/original/DNA_DATA_FULL.gz', compression='gzip')\n",
    "#dictionary = pd.read_csv(\"../data/original/companies.csv\") "
   ]
  },
  {
   "cell_type": "markdown",
   "metadata": {},
   "source": [
    "#### Converting datetime string to date "
   ]
  },
  {
   "cell_type": "code",
   "execution_count": 49,
   "metadata": {},
   "outputs": [],
   "source": [
    "date = [dt.fromtimestamp(dates/1000).strftime('%Y-%m-%d %H:%M:%S') for dates in dna['publication_date']]\n",
    "pd.to_datetime(date)\n",
    "dna['year'] = pd.DatetimeIndex(date).year"
   ]
  },
  {
   "cell_type": "code",
   "execution_count": 5,
   "metadata": {},
   "outputs": [
    {
     "data": {
      "text/plain": [
       "(1942855, 36)"
      ]
     },
     "execution_count": 5,
     "metadata": {},
     "output_type": "execute_result"
    }
   ],
   "source": [
    "dna.shape"
   ]
  },
  {
   "cell_type": "markdown",
   "metadata": {},
   "source": [
    "#### Reading in the subsets of the DNA data for each year"
   ]
  },
  {
   "cell_type": "code",
   "execution_count": 5,
   "metadata": {},
   "outputs": [],
   "source": [
    "dna_13 = pd.read_csv(\"../data/working/DNA_2013.csv\")\n",
    "dna_14 = pd.read_csv(\"../data/working/DNA_2014.csv\")\n",
    "dna_15 = pd.read_csv(\"../data/working/DNA_2015.csv\")\n",
    "dna_16 = pd.read_csv(\"../data/working/DNA_2016.csv\")\n",
    "dna_17 = pd.read_csv(\"../data/working/DNA_2017.csv\")\n",
    "dna_18 = pd.read_csv(\"../data/working/DNA_2018.csv\")"
   ]
  },
  {
   "cell_type": "markdown",
   "metadata": {},
   "source": [
    "##### Getting rid of multiple mentions of same company in an article"
   ]
  },
  {
   "cell_type": "code",
   "execution_count": 50,
   "metadata": {},
   "outputs": [
    {
     "data": {
      "text/html": [
       "<div>\n",
       "<style scoped>\n",
       "    .dataframe tbody tr th:only-of-type {\n",
       "        vertical-align: middle;\n",
       "    }\n",
       "\n",
       "    .dataframe tbody tr th {\n",
       "        vertical-align: top;\n",
       "    }\n",
       "\n",
       "    .dataframe thead th {\n",
       "        text-align: right;\n",
       "    }\n",
       "</style>\n",
       "<table border=\"1\" class=\"dataframe\">\n",
       "  <thead>\n",
       "    <tr style=\"text-align: right;\">\n",
       "      <th></th>\n",
       "      <th>company_codes</th>\n",
       "      <th>non_duplicates</th>\n",
       "    </tr>\n",
       "  </thead>\n",
       "  <tbody>\n",
       "    <tr>\n",
       "      <th>0</th>\n",
       "      <td>,toamsi,toamsi,tosmsc,tosmsc,tshba,tshba,tshba,</td>\n",
       "      <td>toamsi,tosmsc,tshba</td>\n",
       "    </tr>\n",
       "    <tr>\n",
       "      <th>1</th>\n",
       "      <td>,irevs,irevs,irevs,</td>\n",
       "      <td>irevs</td>\n",
       "    </tr>\n",
       "    <tr>\n",
       "      <th>2</th>\n",
       "      <td>,euruno,</td>\n",
       "      <td>euruno</td>\n",
       "    </tr>\n",
       "    <tr>\n",
       "      <th>3</th>\n",
       "      <td>,retrac,nyse,nyse,retrac,retrac,seexc,</td>\n",
       "      <td>nyse,seexc,retrac</td>\n",
       "    </tr>\n",
       "    <tr>\n",
       "      <th>4</th>\n",
       "      <td>,brstmy,brstmy,brstmy,</td>\n",
       "      <td>brstmy</td>\n",
       "    </tr>\n",
       "    <tr>\n",
       "      <th>...</th>\n",
       "      <td>...</td>\n",
       "      <td>...</td>\n",
       "    </tr>\n",
       "    <tr>\n",
       "      <th>1942850</th>\n",
       "      <td>,egalcu,egalcu,egalcu,seexc,</td>\n",
       "      <td>seexc,egalcu</td>\n",
       "    </tr>\n",
       "    <tr>\n",
       "      <th>1942851</th>\n",
       "      <td>,endoph,schplo,endoph,endoph,jnsspi,jnsspi,jon...</td>\n",
       "      <td>jnsspi,jonjon,endoph,seexc,schplo</td>\n",
       "    </tr>\n",
       "    <tr>\n",
       "      <th>1942852</th>\n",
       "      <td>,amchso,</td>\n",
       "      <td>amchso</td>\n",
       "    </tr>\n",
       "    <tr>\n",
       "      <th>1942853</th>\n",
       "      <td>,grnlft,kalamc,stry,stry,stry,</td>\n",
       "      <td>kalamc,stry,grnlft</td>\n",
       "    </tr>\n",
       "    <tr>\n",
       "      <th>1942854</th>\n",
       "      <td>,zogeni,ardgm,cowhrp,zogeni,zogeni,endoph,</td>\n",
       "      <td>zogeni,ardgm,endoph,cowhrp</td>\n",
       "    </tr>\n",
       "  </tbody>\n",
       "</table>\n",
       "<p>1942855 rows × 2 columns</p>\n",
       "</div>"
      ],
      "text/plain": [
       "                                             company_codes  \\\n",
       "0          ,toamsi,toamsi,tosmsc,tosmsc,tshba,tshba,tshba,   \n",
       "1                                      ,irevs,irevs,irevs,   \n",
       "2                                                 ,euruno,   \n",
       "3                   ,retrac,nyse,nyse,retrac,retrac,seexc,   \n",
       "4                                   ,brstmy,brstmy,brstmy,   \n",
       "...                                                    ...   \n",
       "1942850                       ,egalcu,egalcu,egalcu,seexc,   \n",
       "1942851  ,endoph,schplo,endoph,endoph,jnsspi,jnsspi,jon...   \n",
       "1942852                                           ,amchso,   \n",
       "1942853                     ,grnlft,kalamc,stry,stry,stry,   \n",
       "1942854         ,zogeni,ardgm,cowhrp,zogeni,zogeni,endoph,   \n",
       "\n",
       "                            non_duplicates  \n",
       "0                      toamsi,tosmsc,tshba  \n",
       "1                                    irevs  \n",
       "2                                   euruno  \n",
       "3                        nyse,seexc,retrac  \n",
       "4                                   brstmy  \n",
       "...                                    ...  \n",
       "1942850                       seexc,egalcu  \n",
       "1942851  jnsspi,jonjon,endoph,seexc,schplo  \n",
       "1942852                             amchso  \n",
       "1942853                 kalamc,stry,grnlft  \n",
       "1942854         zogeni,ardgm,endoph,cowhrp  \n",
       "\n",
       "[1942855 rows x 2 columns]"
      ]
     },
     "execution_count": 50,
     "metadata": {},
     "output_type": "execute_result"
    }
   ],
   "source": [
    "dna['non_duplicates'] = [set(code) for code in dna['company_codes'].str.split(\",\")] #creates an empty set, goes through each row in company_codes and splits the string in each row by the comma adds each company code and adds company code to set \n",
    "dna['non_duplicates'] = [list(code) for code in dna['non_duplicates']] #creates a list object for the entries in the set for each row\n",
    "dna['non_duplicates'] = [','.join(code) for code in dna['non_duplicates']] #joins the objects in the list with commas\n",
    "dna['non_duplicates'] = dna['non_duplicates'].str[1:] #removes the first comma in the company_codes in each row\n",
    "dna[['company_codes', 'non_duplicates']]"
   ]
  },
  {
   "cell_type": "markdown",
   "metadata": {},
   "source": [
    "#### How many companies are mentioned in DNA data each year"
   ]
  },
  {
   "cell_type": "code",
   "execution_count": 71,
   "metadata": {},
   "outputs": [
    {
     "data": {
      "text/html": [
       "<div>\n",
       "<style scoped>\n",
       "    .dataframe tbody tr th:only-of-type {\n",
       "        vertical-align: middle;\n",
       "    }\n",
       "\n",
       "    .dataframe tbody tr th {\n",
       "        vertical-align: top;\n",
       "    }\n",
       "\n",
       "    .dataframe thead th {\n",
       "        text-align: right;\n",
       "    }\n",
       "</style>\n",
       "<table border=\"1\" class=\"dataframe\">\n",
       "  <thead>\n",
       "    <tr style=\"text-align: right;\">\n",
       "      <th></th>\n",
       "      <th>year</th>\n",
       "      <th>number_of_companies</th>\n",
       "    </tr>\n",
       "  </thead>\n",
       "  <tbody>\n",
       "    <tr>\n",
       "      <th>0</th>\n",
       "      <td>2012</td>\n",
       "      <td>409</td>\n",
       "    </tr>\n",
       "    <tr>\n",
       "      <th>1</th>\n",
       "      <td>2013</td>\n",
       "      <td>364991</td>\n",
       "    </tr>\n",
       "    <tr>\n",
       "      <th>2</th>\n",
       "      <td>2014</td>\n",
       "      <td>364853</td>\n",
       "    </tr>\n",
       "    <tr>\n",
       "      <th>3</th>\n",
       "      <td>2015</td>\n",
       "      <td>329372</td>\n",
       "    </tr>\n",
       "    <tr>\n",
       "      <th>4</th>\n",
       "      <td>2016</td>\n",
       "      <td>289597</td>\n",
       "    </tr>\n",
       "    <tr>\n",
       "      <th>5</th>\n",
       "      <td>2017</td>\n",
       "      <td>295703</td>\n",
       "    </tr>\n",
       "    <tr>\n",
       "      <th>6</th>\n",
       "      <td>2018</td>\n",
       "      <td>297930</td>\n",
       "    </tr>\n",
       "  </tbody>\n",
       "</table>\n",
       "</div>"
      ],
      "text/plain": [
       "   year  number_of_companies\n",
       "0  2012                  409\n",
       "1  2013               364991\n",
       "2  2014               364853\n",
       "3  2015               329372\n",
       "4  2016               289597\n",
       "5  2017               295703\n",
       "6  2018               297930"
      ]
     },
     "execution_count": 71,
     "metadata": {},
     "output_type": "execute_result"
    }
   ],
   "source": [
    "company_per_year = dna.groupby(['year'], as_index=False)['non_duplicates'].count()\n",
    "company_per_year.rename(columns = {'non_duplicates':\"number_of_companies\"}, inplace=True)\n",
    "company_per_year"
   ]
  },
  {
   "cell_type": "markdown",
   "metadata": {},
   "source": [
    "### Creating Top 20 Individual Companies Histogram"
   ]
  },
  {
   "cell_type": "code",
   "execution_count": 20,
   "metadata": {},
   "outputs": [
    {
     "data": {
      "text/html": [
       "<div>\n",
       "<style scoped>\n",
       "    .dataframe tbody tr th:only-of-type {\n",
       "        vertical-align: middle;\n",
       "    }\n",
       "\n",
       "    .dataframe tbody tr th {\n",
       "        vertical-align: top;\n",
       "    }\n",
       "\n",
       "    .dataframe thead th {\n",
       "        text-align: right;\n",
       "    }\n",
       "</style>\n",
       "<table border=\"1\" class=\"dataframe\">\n",
       "  <thead>\n",
       "    <tr style=\"text-align: right;\">\n",
       "      <th></th>\n",
       "      <th>Company_code</th>\n",
       "      <th>Frequency</th>\n",
       "    </tr>\n",
       "  </thead>\n",
       "  <tbody>\n",
       "    <tr>\n",
       "      <th>1</th>\n",
       "      <td>seexc</td>\n",
       "      <td>581929</td>\n",
       "    </tr>\n",
       "    <tr>\n",
       "      <th>2</th>\n",
       "      <td>usfda</td>\n",
       "      <td>532663</td>\n",
       "    </tr>\n",
       "    <tr>\n",
       "      <th>3</th>\n",
       "      <td>pfiz</td>\n",
       "      <td>147905</td>\n",
       "    </tr>\n",
       "    <tr>\n",
       "      <th>4</th>\n",
       "      <td>nasdaq</td>\n",
       "      <td>146605</td>\n",
       "    </tr>\n",
       "    <tr>\n",
       "      <th>5</th>\n",
       "      <td>jonjon</td>\n",
       "      <td>94539</td>\n",
       "    </tr>\n",
       "    <tr>\n",
       "      <th>6</th>\n",
       "      <td>sndoz</td>\n",
       "      <td>81878</td>\n",
       "    </tr>\n",
       "    <tr>\n",
       "      <th>7</th>\n",
       "      <td>brstmy</td>\n",
       "      <td>81658</td>\n",
       "    </tr>\n",
       "    <tr>\n",
       "      <th>8</th>\n",
       "      <td>lilye</td>\n",
       "      <td>78026</td>\n",
       "    </tr>\n",
       "    <tr>\n",
       "      <th>9</th>\n",
       "      <td>glxo</td>\n",
       "      <td>75065</td>\n",
       "    </tr>\n",
       "    <tr>\n",
       "      <th>10</th>\n",
       "      <td>medinc</td>\n",
       "      <td>74637</td>\n",
       "    </tr>\n",
       "    <tr>\n",
       "      <th>11</th>\n",
       "      <td>fffaim</td>\n",
       "      <td>74403</td>\n",
       "    </tr>\n",
       "    <tr>\n",
       "      <th>12</th>\n",
       "      <td>amge</td>\n",
       "      <td>70247</td>\n",
       "    </tr>\n",
       "    <tr>\n",
       "      <th>13</th>\n",
       "      <td>zenec</td>\n",
       "      <td>67918</td>\n",
       "    </tr>\n",
       "    <tr>\n",
       "      <th>14</th>\n",
       "      <td>schplo</td>\n",
       "      <td>66555</td>\n",
       "    </tr>\n",
       "    <tr>\n",
       "      <th>15</th>\n",
       "      <td>twnit</td>\n",
       "      <td>64282</td>\n",
       "    </tr>\n",
       "    <tr>\n",
       "      <th>16</th>\n",
       "      <td>sansyn</td>\n",
       "      <td>58918</td>\n",
       "    </tr>\n",
       "    <tr>\n",
       "      <th>17</th>\n",
       "      <td>wtsnph</td>\n",
       "      <td>57664</td>\n",
       "    </tr>\n",
       "    <tr>\n",
       "      <th>18</th>\n",
       "      <td>trimel</td>\n",
       "      <td>51965</td>\n",
       "    </tr>\n",
       "    <tr>\n",
       "      <th>19</th>\n",
       "      <td>uscdcp</td>\n",
       "      <td>49456</td>\n",
       "    </tr>\n",
       "  </tbody>\n",
       "</table>\n",
       "</div>"
      ],
      "text/plain": [
       "   Company_code  Frequency\n",
       "1         seexc     581929\n",
       "2         usfda     532663\n",
       "3          pfiz     147905\n",
       "4        nasdaq     146605\n",
       "5        jonjon      94539\n",
       "6         sndoz      81878\n",
       "7        brstmy      81658\n",
       "8         lilye      78026\n",
       "9          glxo      75065\n",
       "10       medinc      74637\n",
       "11       fffaim      74403\n",
       "12         amge      70247\n",
       "13        zenec      67918\n",
       "14       schplo      66555\n",
       "15        twnit      64282\n",
       "16       sansyn      58918\n",
       "17       wtsnph      57664\n",
       "18       trimel      51965\n",
       "19       uscdcp      49456"
      ]
     },
     "execution_count": 20,
     "metadata": {},
     "output_type": "execute_result"
    }
   ],
   "source": [
    "code = dna['company_codes'].str.lower().str.cat(sep=' ') #removes the commas and convert the string into lower case\n",
    "words = nltk.tokenize.word_tokenize(code) #creates token from each part of the string, so that we can get the count of each individual companies and not multiple companies together\n",
    "word_dist = nltk.FreqDist(words) #gives a frequency distribution of each token generated\n",
    "#print (word_dist)\n",
    "rslt = pd.DataFrame(word_dist.most_common(20),\n",
    "                    columns=['Company_code', 'Frequency']) #gives a dataframe that contains individual company code and how many times they appear in the dataset\n",
    "rslt = rslt[rslt.Company_code !=','] #remove the comma from the code list\n",
    "rslt"
   ]
  },
  {
   "cell_type": "code",
   "execution_count": 22,
   "metadata": {},
   "outputs": [
    {
     "data": {
      "image/png": "[encoded data removed]",
      "text/plain": [
       "<Figure size 432x288 with 1 Axes>"
      ]
     },
     "metadata": {
      "needs_background": "light"
     },
     "output_type": "display_data"
    }
   ],
   "source": [
    "#pos = np.arange(len(rslt.code))\n",
    "plt.barh(rslt.Company_code,rslt.Frequency,color='blue',edgecolor='black')\n",
    "plt.yticks(rslt.Company_code)\n",
    "plt.xlabel('Frequency', fontsize=16)\n",
    "plt.ylabel('Company codes', fontsize=16)\n",
    "plt.title('Top 20 companies in the DNA data',fontsize=20)\n",
    "plt.show()"
   ]
  },
  {
   "cell_type": "markdown",
   "metadata": {},
   "source": [
    "### Top 20 Publishers in DNA data"
   ]
  },
  {
   "cell_type": "code",
   "execution_count": 35,
   "metadata": {},
   "outputs": [
    {
     "data": {
      "image/png": "[encoded data removed]",
      "text/plain": [
       "<Figure size 432x288 with 1 Axes>"
      ]
     },
     "metadata": {
      "needs_background": "light"
     },
     "output_type": "display_data"
    }
   ],
   "source": [
    "dna['publisher_name'].value_counts()[:20].plot(kind='barh')\n",
    "plt.xlabel('Frequency', fontsize=16)\n",
    "plt.ylabel('Publishers', fontsize=16)\n",
    "plt.title('Top 20 publishers in the DNA data',fontsize=20)\n",
    "plt.show()"
   ]
  },
  {
   "cell_type": "markdown",
   "metadata": {},
   "source": [
    "##### Number of unique publishers in the dataset and their frequencies"
   ]
  },
  {
   "cell_type": "code",
   "execution_count": 37,
   "metadata": {},
   "outputs": [
    {
     "data": {
      "text/plain": [
       "NewsRX, LLC                                                                          347341\n",
       "Dow Jones & Company, Inc.                                                            309754\n",
       "NewsRx.com                                                                           228707\n",
       "Athena Information Solutions Pvt. Ltd.                                               118669\n",
       "Theflyonthewall.com                                                                   81326\n",
       "                                                                ...                        \n",
       "Estates Gazette Ltd                                                                       1\n",
       "Agencia de Informaçao de Moçambique                                                       1\n",
       "Colombia Reports                                                                          1\n",
       "nunique                                                                                1426\n",
       "unique values                             [NewsRX, LLC, Dow Jones & Company, Inc., NewsR...\n",
       "Length: 1428, dtype: object"
      ]
     },
     "execution_count": 37,
     "metadata": {},
     "output_type": "execute_result"
    }
   ],
   "source": [
    "p = pd.value_counts(dna.publisher_name)\n",
    "publisher = pd.Series({'nunique': len(p), 'unique values': p.index.tolist()})\n",
    "p.append(publisher)"
   ]
  },
  {
   "cell_type": "markdown",
   "metadata": {},
   "source": [
    "#### Number of articles published by each publisher"
   ]
  },
  {
   "cell_type": "code",
   "execution_count": 5,
   "metadata": {},
   "outputs": [
    {
     "data": {
      "text/plain": [
       "publisher_name\n",
       "NewsRX, LLC                                  347341\n",
       "Dow Jones & Company, Inc.                    309754\n",
       "NewsRx.com                                   228707\n",
       "Athena Information Solutions Pvt. Ltd.       118669\n",
       "Theflyonthewall.com                           81326\n",
       "                                              ...  \n",
       "Asianet Satellite Communications Pvt Ltd.         1\n",
       "Valor Economico S.A.                              1\n",
       "Sourcing Partners                                 1\n",
       "LLC Georgia Media Incorporated                    1\n",
       "Le Monde Interactif                               1\n",
       "Name: an, Length: 1426, dtype: int64"
      ]
     },
     "execution_count": 5,
     "metadata": {},
     "output_type": "execute_result"
    }
   ],
   "source": [
    "article_by_publisher = dna.groupby(['publisher_name'])['an'].count().sort_values(ascending=False)\n",
    "article_by_publisher"
   ]
  },
  {
   "cell_type": "markdown",
   "metadata": {},
   "source": [
    "##### Number of articles per year per publisher"
   ]
  },
  {
   "cell_type": "code",
   "execution_count": 59,
   "metadata": {},
   "outputs": [
    {
     "data": {
      "text/html": [
       "<div>\n",
       "<style scoped>\n",
       "    .dataframe tbody tr th:only-of-type {\n",
       "        vertical-align: middle;\n",
       "    }\n",
       "\n",
       "    .dataframe tbody tr th {\n",
       "        vertical-align: top;\n",
       "    }\n",
       "\n",
       "    .dataframe thead th {\n",
       "        text-align: right;\n",
       "    }\n",
       "</style>\n",
       "<table border=\"1\" class=\"dataframe\">\n",
       "  <thead>\n",
       "    <tr style=\"text-align: right;\">\n",
       "      <th></th>\n",
       "      <th>year</th>\n",
       "      <th>publisher_name</th>\n",
       "      <th>an</th>\n",
       "    </tr>\n",
       "  </thead>\n",
       "  <tbody>\n",
       "    <tr>\n",
       "      <th>0</th>\n",
       "      <td>2012</td>\n",
       "      <td></td>\n",
       "      <td>1</td>\n",
       "    </tr>\n",
       "    <tr>\n",
       "      <th>1</th>\n",
       "      <td>2012</td>\n",
       "      <td>Advance Publications, Inc.</td>\n",
       "      <td>1</td>\n",
       "    </tr>\n",
       "    <tr>\n",
       "      <th>2</th>\n",
       "      <td>2012</td>\n",
       "      <td>Advanstar Communications Inc.</td>\n",
       "      <td>22</td>\n",
       "    </tr>\n",
       "    <tr>\n",
       "      <th>3</th>\n",
       "      <td>2012</td>\n",
       "      <td>Advantage Business Media LLC</td>\n",
       "      <td>38</td>\n",
       "    </tr>\n",
       "    <tr>\n",
       "      <th>4</th>\n",
       "      <td>2012</td>\n",
       "      <td>Allured Publishing Corp.</td>\n",
       "      <td>111</td>\n",
       "    </tr>\n",
       "    <tr>\n",
       "      <th>...</th>\n",
       "      <td>...</td>\n",
       "      <td>...</td>\n",
       "      <td>...</td>\n",
       "    </tr>\n",
       "    <tr>\n",
       "      <th>4925</th>\n",
       "      <td>2018</td>\n",
       "      <td>e-Procurement Technologies Ltd.</td>\n",
       "      <td>3</td>\n",
       "    </tr>\n",
       "    <tr>\n",
       "      <th>4926</th>\n",
       "      <td>2018</td>\n",
       "      <td>iCrowdNewswire, LLC</td>\n",
       "      <td>17189</td>\n",
       "    </tr>\n",
       "    <tr>\n",
       "      <th>4927</th>\n",
       "      <td>2018</td>\n",
       "      <td>iNews Cayman</td>\n",
       "      <td>6</td>\n",
       "    </tr>\n",
       "    <tr>\n",
       "      <th>4928</th>\n",
       "      <td>2018</td>\n",
       "      <td>nCa Publications</td>\n",
       "      <td>48</td>\n",
       "    </tr>\n",
       "    <tr>\n",
       "      <th>4929</th>\n",
       "      <td>2018</td>\n",
       "      <td>news aktuell GmbH</td>\n",
       "      <td>52</td>\n",
       "    </tr>\n",
       "  </tbody>\n",
       "</table>\n",
       "<p>4930 rows × 3 columns</p>\n",
       "</div>"
      ],
      "text/plain": [
       "      year                   publisher_name     an\n",
       "0     2012                                       1\n",
       "1     2012       Advance Publications, Inc.      1\n",
       "2     2012    Advanstar Communications Inc.     22\n",
       "3     2012     Advantage Business Media LLC     38\n",
       "4     2012         Allured Publishing Corp.    111\n",
       "...    ...                              ...    ...\n",
       "4925  2018  e-Procurement Technologies Ltd.      3\n",
       "4926  2018              iCrowdNewswire, LLC  17189\n",
       "4927  2018                     iNews Cayman      6\n",
       "4928  2018                 nCa Publications     48\n",
       "4929  2018                news aktuell GmbH     52\n",
       "\n",
       "[4930 rows x 3 columns]"
      ]
     },
     "execution_count": 59,
     "metadata": {},
     "output_type": "execute_result"
    }
   ],
   "source": [
    "article_per_year_per_publisher = dna.groupby(['year','publisher_name'], as_index=False).an.agg('count')\n",
    "article_per_year_per_publisher"
   ]
  },
  {
   "cell_type": "code",
   "execution_count": 82,
   "metadata": {},
   "outputs": [
    {
     "data": {
      "text/plain": [
       "<pandas.core.groupby.generic.DataFrameGroupBy object at 0x7f5f46ce0410>"
      ]
     },
     "execution_count": 82,
     "metadata": {},
     "output_type": "execute_result"
    }
   ],
   "source": [
    "company_per_year_per_publisher = dna.groupby(['year','publisher_name'], as_index=False)['non_duplicates']\n",
    "company_per_year_per_publisher"
   ]
  },
  {
   "cell_type": "markdown",
   "metadata": {},
   "source": [
    "#### Number of articles per year"
   ]
  },
  {
   "cell_type": "code",
   "execution_count": 40,
   "metadata": {},
   "outputs": [
    {
     "data": {
      "text/plain": [
       "Text(0.5, 1.0, 'Number of articles per year')"
      ]
     },
     "execution_count": 40,
     "metadata": {},
     "output_type": "execute_result"
    },
    {
     "data": {
      "image/png": "[encoded data removed]",
      "text/plain": [
       "<Figure size 432x288 with 1 Axes>"
      ]
     },
     "metadata": {
      "needs_background": "light"
     },
     "output_type": "display_data"
    }
   ],
   "source": [
    "dna.groupby('year').an.agg('count').plot.bar()\n",
    "plt.xlabel('Number of articles')\n",
    "plt.ylabel('Year')\n",
    "plt.title('Number of articles per year')"
   ]
  },
  {
   "cell_type": "markdown",
   "metadata": {},
   "source": [
    "### Top 15 Companies mentioned"
   ]
  },
  {
   "cell_type": "code",
   "execution_count": 42,
   "metadata": {},
   "outputs": [],
   "source": [
    "dna_unique_comp = dna[['company_codes', 'non_duplicates']]"
   ]
  },
  {
   "cell_type": "code",
   "execution_count": 44,
   "metadata": {},
   "outputs": [],
   "source": [
    "company_codes = []\n",
    "for codes in dna_unique_comp['company_codes'].str.split(\",\"):\n",
    "    for code in codes:\n",
    "        company_codes.append(code)"
   ]
  },
  {
   "cell_type": "code",
   "execution_count": 45,
   "metadata": {},
   "outputs": [],
   "source": [
    "company_freq = pd.DataFrame()\n",
    "company_code = np.array([])\n",
    "company_count = np.array([])"
   ]
  },
  {
   "cell_type": "code",
   "execution_count": 46,
   "metadata": {},
   "outputs": [
    {
     "ename": "NameError",
     "evalue": "name 'my_list' is not defined",
     "output_type": "error",
     "traceback": [
      "\u001b[0;31m---------------------------------------------------------------------------\u001b[0m",
      "\u001b[0;31mNameError\u001b[0m                                 Traceback (most recent call last)",
      "\u001b[0;32m<ipython-input-46-00873ba97c1f>\u001b[0m in \u001b[0;36m<module>\u001b[0;34m\u001b[0m\n\u001b[0;32m----> 1\u001b[0;31m \u001b[0;32mfor\u001b[0m \u001b[0mcompany\u001b[0m\u001b[0;34m,\u001b[0m \u001b[0mcount\u001b[0m \u001b[0;32min\u001b[0m \u001b[0mCounter\u001b[0m\u001b[0;34m(\u001b[0m\u001b[0mmy_list\u001b[0m\u001b[0;34m)\u001b[0m\u001b[0;34m.\u001b[0m\u001b[0mitems\u001b[0m\u001b[0;34m(\u001b[0m\u001b[0;34m)\u001b[0m\u001b[0;34m:\u001b[0m\u001b[0;34m\u001b[0m\u001b[0;34m\u001b[0m\u001b[0m\n\u001b[0m\u001b[1;32m      2\u001b[0m     \u001b[0mcompany_code\u001b[0m \u001b[0;34m=\u001b[0m \u001b[0mnp\u001b[0m\u001b[0;34m.\u001b[0m\u001b[0mappend\u001b[0m\u001b[0;34m(\u001b[0m\u001b[0mcompany_code\u001b[0m\u001b[0;34m,\u001b[0m \u001b[0mcompany\u001b[0m\u001b[0;34m)\u001b[0m\u001b[0;34m\u001b[0m\u001b[0;34m\u001b[0m\u001b[0m\n\u001b[1;32m      3\u001b[0m     \u001b[0mcompany_count\u001b[0m \u001b[0;34m=\u001b[0m \u001b[0mnp\u001b[0m\u001b[0;34m.\u001b[0m\u001b[0mappend\u001b[0m\u001b[0;34m(\u001b[0m\u001b[0mcompany_count\u001b[0m\u001b[0;34m,\u001b[0m \u001b[0mcount\u001b[0m\u001b[0;34m)\u001b[0m\u001b[0;34m\u001b[0m\u001b[0;34m\u001b[0m\u001b[0m\n",
      "\u001b[0;31mNameError\u001b[0m: name 'my_list' is not defined"
     ]
    }
   ],
   "source": [
    "for company, count in Counter(my_list).items():\n",
    "    company_code = np.append(company_code, company)\n",
    "    company_count = np.append(company_count, count)\n"
   ]
  },
  {
   "cell_type": "code",
   "execution_count": null,
   "metadata": {},
   "outputs": [],
   "source": [
    "company_freq['Code'] = company_code\n",
    "company_freq['Count'] = company_count"
   ]
  },
  {
   "cell_type": "code",
   "execution_count": null,
   "metadata": {},
   "outputs": [],
   "source": [
    "company_freq = company_freq.sort_values(\"Count\", ascending = False).iloc[1:]"
   ]
  },
  {
   "cell_type": "code",
   "execution_count": null,
   "metadata": {},
   "outputs": [],
   "source": [
    "company_freq.set_index(\"Code\", inplace = True)"
   ]
  },
  {
   "cell_type": "code",
   "execution_count": 2,
   "metadata": {
    "collapsed": true,
    "jupyter": {
     "outputs_hidden": true
    }
   },
   "outputs": [
    {
     "ename": "NameError",
     "evalue": "name 'company_freq' is not defined",
     "output_type": "error",
     "traceback": [
      "\u001b[0;31m---------------------------------------------------------------------------\u001b[0m",
      "\u001b[0;31mNameError\u001b[0m                                 Traceback (most recent call last)",
      "\u001b[0;32m<ipython-input-2-5fe08bf46b9e>\u001b[0m in \u001b[0;36m<module>\u001b[0;34m\u001b[0m\n\u001b[1;32m      1\u001b[0m \u001b[0mget_ipython\u001b[0m\u001b[0;34m(\u001b[0m\u001b[0;34m)\u001b[0m\u001b[0;34m.\u001b[0m\u001b[0mrun_line_magic\u001b[0m\u001b[0;34m(\u001b[0m\u001b[0;34m'matplotlib'\u001b[0m\u001b[0;34m,\u001b[0m \u001b[0;34m'inline'\u001b[0m\u001b[0;34m)\u001b[0m\u001b[0;34m\u001b[0m\u001b[0;34m\u001b[0m\u001b[0m\n\u001b[0;32m----> 2\u001b[0;31m \u001b[0mcompany_freq\u001b[0m\u001b[0;34m.\u001b[0m\u001b[0mCount\u001b[0m\u001b[0;34m.\u001b[0m\u001b[0mhead\u001b[0m\u001b[0;34m(\u001b[0m\u001b[0;36m15\u001b[0m\u001b[0;34m)\u001b[0m\u001b[0;34m.\u001b[0m\u001b[0mplot\u001b[0m\u001b[0;34m(\u001b[0m\u001b[0mkind\u001b[0m \u001b[0;34m=\u001b[0m \u001b[0;34m'bar'\u001b[0m\u001b[0;34m)\u001b[0m\u001b[0;34m\u001b[0m\u001b[0;34m\u001b[0m\u001b[0m\n\u001b[0m\u001b[1;32m      3\u001b[0m \u001b[0mplt\u001b[0m\u001b[0;34m.\u001b[0m\u001b[0mylabel\u001b[0m\u001b[0;34m(\u001b[0m\u001b[0;34m\"Frequency\"\u001b[0m\u001b[0;34m)\u001b[0m\u001b[0;34m\u001b[0m\u001b[0;34m\u001b[0m\u001b[0m\n\u001b[1;32m      4\u001b[0m \u001b[0mplt\u001b[0m\u001b[0;34m.\u001b[0m\u001b[0mtitle\u001b[0m\u001b[0;34m(\u001b[0m\u001b[0;34m\"Top 15 Most Mentioned Companines\"\u001b[0m\u001b[0;34m)\u001b[0m\u001b[0;34m\u001b[0m\u001b[0;34m\u001b[0m\u001b[0m\n",
      "\u001b[0;31mNameError\u001b[0m: name 'company_freq' is not defined"
     ]
    }
   ],
   "source": [
    "%matplotlib inline\n",
    "company_freq.Count.head(15).plot(kind = 'bar')\n",
    "plt.ylabel(\"Frequency\")\n",
    "plt.title(\"Top 15 Most Mentioned Companines\")"
   ]
  },
  {
   "cell_type": "code",
   "execution_count": null,
   "metadata": {},
   "outputs": [],
   "source": [
    "#Made a csv of all companies with their frequency counts\n",
    "company_freq.to_csv(\"../data/working/companyfrequency.csv\")"
   ]
  },
  {
   "cell_type": "code",
   "execution_count": null,
   "metadata": {},
   "outputs": [],
   "source": [
    "company_freq.reset_index(inplace = True)\n",
    "# Made a csv of all companies with their frequency counts and \n",
    "# corresponding company names(invalid companies will have NaN)\n"
   ]
  },
  {
   "cell_type": "code",
   "execution_count": null,
   "metadata": {},
   "outputs": [],
   "source": [
    "name = np.array([])\n",
    "valid_companies = pd.read_csv(\"../data/working/validcompaniesdictionary.csv\", index_col = [0])"
   ]
  },
  {
   "cell_type": "code",
   "execution_count": null,
   "metadata": {},
   "outputs": [],
   "source": [
    "company_freq['Code'] = company_freq['Code'].str.upper()"
   ]
  },
  {
   "cell_type": "code",
   "execution_count": null,
   "metadata": {},
   "outputs": [],
   "source": [
    "#Merging the valid company codes df with the company_freq df. This will match each company with their name, unless invalid\n",
    "merged_dna_comp = pd.merge(valid_companies, company_freq, left_on = \"Code\", right_on = \"Code\", how = \"outer\")"
   ]
  },
  {
   "cell_type": "code",
   "execution_count": null,
   "metadata": {},
   "outputs": [],
   "source": [
    "merged_dna_comp.to_csv(\"../data/working/companyfrequencyandname.csv\")"
   ]
  }
 ],
 "metadata": {
  "kernelspec": {
   "display_name": "Python 3",
   "language": "python",
   "name": "python3"
  },
  "language_info": {
   "codemirror_mode": {
    "name": "ipython",
    "version": 3
   },
   "file_extension": ".py",
   "mimetype": "text/x-python",
   "name": "python",
   "nbconvert_exporter": "python",
   "pygments_lexer": "ipython3",
   "version": "3.7.4"
  }
 },
 "nbformat": 4,
 "nbformat_minor": 4
}
