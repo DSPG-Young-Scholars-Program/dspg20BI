{
 "cells": [
  {
   "cell_type": "code",
   "execution_count": 2,
   "metadata": {},
   "outputs": [],
   "source": [
    "#import dependencies\n",
    "import pandas as pd\n",
    "import json\n",
    "import gzip \n",
    "from collections import Counter\n",
    "from datetime import datetime as dt"
   ]
  },
  {
   "cell_type": "code",
   "execution_count": 57,
   "metadata": {},
   "outputs": [
    {
     "name": "stdout",
     "output_type": "stream",
     "text": [
      "['I walk the dog! I have fun.', 'Shrek 3 is a great movie. \\n I love the scenes with Donkey in them', 'You have to try a little tenderness <3.']\n"
     ]
    }
   ],
   "source": [
    "text_sample = [\"I walk the dog! I have fun.\", \"Shrek 3 is a great movie. \\n I love the scenes with Donkey in them\", \"You have to try a little tenderness <3.\"]\n",
    "print(text_sample)"
   ]
  },
  {
   "cell_type": "code",
   "execution_count": 138,
   "metadata": {},
   "outputs": [
    {
     "name": "stdout",
     "output_type": "stream",
     "text": [
      "7\n",
      "14\n",
      "8\n"
     ]
    }
   ],
   "source": [
    "for words in text_sample: \n",
    "    print((int(len(words.split()))))\n"
   ]
  },
  {
   "cell_type": "code",
   "execution_count": 5,
   "metadata": {},
   "outputs": [],
   "source": [
    "#reading in the data\n",
    "df = pd.read_json('../data/original/DNA_DATA_FULL.gz', compression='gzip')"
   ]
  },
  {
   "cell_type": "code",
   "execution_count": 154,
   "metadata": {},
   "outputs": [
    {
     "name": "stdout",
     "output_type": "stream",
     "text": [
      "0          \"When we decided to purchase new ultrasound eq...\n",
      "1          A similar ban already applies to self-insured ...\n",
      "2          Dr. Curiel is the leader for TumAdoR Project 6...\n",
      "3          Cost of manufactured product increased $4.7 mi...\n",
      "4          The international trademark goods and services...\n",
      "                                 ...                        \n",
      "1942850    Item 7.01 - Regulation FD Disclosure\\n\\nOn May...\n",
      "1942851    The so-called civil investigative demands seek...\n",
      "1942852    Our news journalists obtained a quote from the...\n",
      "1942853    Here is a record of Ronda E. Stryker's transac...\n",
      "1942854    The deal will enable Zogenix to focus on the l...\n",
      "Name: body, Length: 1942855, dtype: object\n"
     ]
    }
   ],
   "source": [
    "#dropping all the columns except for body\n",
    "text = df['body'].fillna(\"Nothing\")\n",
    "print(text)"
   ]
  },
  {
   "cell_type": "code",
   "execution_count": 127,
   "metadata": {},
   "outputs": [
    {
     "name": "stdout",
     "output_type": "stream",
     "text": [
      "0    \"When we decided to purchase new ultrasound eq...\n",
      "1    A similar ban already applies to self-insured ...\n",
      "2    Dr. Curiel is the leader for TumAdoR Project 6...\n",
      "3    Cost of manufactured product increased $4.7 mi...\n",
      "4    The international trademark goods and services...\n",
      "Name: body, dtype: object\n"
     ]
    }
   ],
   "source": [
    "text_subset = text.head(5)\n",
    "print(text_subset)"
   ]
  },
  {
   "cell_type": "code",
   "execution_count": 128,
   "metadata": {},
   "outputs": [],
   "source": [
    "word_count = []\n",
    "\n",
    "for words in text_subset:\n",
    "   word_count.append(int(len(words.split()))) \n",
    "#print(word_count)\n",
    "\n",
    "#did not work because it is not a data frame but a series\n",
    "#text_subset.insert(1, 'Word Count', word_count)\n",
    "\n",
    "#attempting with pandas series\n",
    "# adding list data \n",
    "# creating new column \n",
    "#text_subset['Word count']= df['body'].add(word_count) \n",
    "\n",
    "#also did not work trying original method \n",
    "\n",
    "#text_subset[\"Word Count\"]  = word_count\n",
    "\n",
    "#using assign method\n",
    "#text_subset.assign(words = word_count)\n",
    "#print(text_subset)\n",
    "\n",
    "#print(type(word_count))"
   ]
  },
  {
   "cell_type": "code",
   "execution_count": 129,
   "metadata": {},
   "outputs": [],
   "source": [
    "text_body = []\n",
    "\n",
    "for body in text_subset:\n",
    "    text_body.append(body)"
   ]
  },
  {
   "cell_type": "code",
   "execution_count": 136,
   "metadata": {},
   "outputs": [
    {
     "name": "stdout",
     "output_type": "stream",
     "text": [
      "[1, 1, 1, 1, 0]\n"
     ]
    }
   ],
   "source": [
    "#Word Count – should probably not be over 10,000 words, \n",
    "#we may want consider less than 100 words invalid as well (NA- agree?)\n",
    "validity = []\n",
    "\n",
    "#creates a loop where any text with less than 100 words or more than 10,000 words is considered an invalid \n",
    "#data point. The reason for these numbers are that anything less than 100 words does not fit our definition of\n",
    "#an article and anything longer than 10,000 words is too long for us to check?\n",
    "for number in word_count:\n",
    "    if number < 100:\n",
    "        validity.append(0)\n",
    "        \n",
    "    elif number > 10000:\n",
    "        validity.append(0)\n",
    "        \n",
    "    else:\n",
    "        validity.append(1)\n",
    "print(validity)"
   ]
  },
  {
   "cell_type": "code",
   "execution_count": 170,
   "metadata": {},
   "outputs": [
    {
     "name": "stdout",
     "output_type": "stream",
     "text": [
      "80.0% of the data are valid.\n"
     ]
    }
   ],
   "source": [
    "#Validity percentage\n",
    "total_valid = sum(validity)\n",
    "\n",
    "print('{}% of the data are valid.'.format(total_valid/len(validity)*100)  )"
   ]
  },
  {
   "cell_type": "code",
   "execution_count": 137,
   "metadata": {},
   "outputs": [
    {
     "name": "stdout",
     "output_type": "stream",
     "text": [
      "                                                body  word_count  validity\n",
      "0  \"When we decided to purchase new ultrasound eq...         541         1\n",
      "1  A similar ban already applies to self-insured ...         220         1\n",
      "2  Dr. Curiel is the leader for TumAdoR Project 6...         251         1\n",
      "3  Cost of manufactured product increased $4.7 mi...         406         1\n",
      "4  The international trademark goods and services...          87         0\n"
     ]
    }
   ],
   "source": [
    "#creates a data frame with all the \n",
    "sample_df = pd.DataFrame()\n",
    "sample_df['body'] = text_body\n",
    "sample_df['word_count'] = word_count\n",
    "sample_df['validity'] = validity\n",
    "\n",
    "print(sample_df)"
   ]
  },
  {
   "cell_type": "code",
   "execution_count": 155,
   "metadata": {},
   "outputs": [],
   "source": [
    "word_count_all = []\n",
    "\n",
    "for words in text:\n",
    "   word_count_all.append(int(len(words.split())))"
   ]
  },
  {
   "cell_type": "code",
   "execution_count": 156,
   "metadata": {},
   "outputs": [],
   "source": [
    "text_body_all = []\n",
    "\n",
    "for body in text:\n",
    "    text_body_all.append(body)"
   ]
  },
  {
   "cell_type": "code",
   "execution_count": 157,
   "metadata": {},
   "outputs": [],
   "source": [
    "validity_all = []\n",
    "\n",
    "#creates a loop where any text with less than 100 words or more than 10,000 words is considered an invalid \n",
    "#data point. The reason for these numbers are that anything less than 100 words does not fit our definition of\n",
    "#an article and anything longer than 10,000 words is too long for us to check?\n",
    "for number in word_count_all:\n",
    "    if number < 100:\n",
    "        validity_all.append(0)\n",
    "        \n",
    "    elif number > 10000:\n",
    "        validity_all.append(0)\n",
    "        \n",
    "    else:\n",
    "        validity_all.append(1)"
   ]
  },
  {
   "cell_type": "code",
   "execution_count": 171,
   "metadata": {},
   "outputs": [
    {
     "name": "stdout",
     "output_type": "stream",
     "text": [
      "78%, or 1520983 of the data in body are valid\n"
     ]
    }
   ],
   "source": [
    "#Validity percentage\n",
    "all_total_valid = sum(validity_all)\n",
    "\n",
    "print('{}%, or'.format(round(all_total_valid/len(validity_all)*100)), all_total_valid, 'of the data in body are valid')"
   ]
  },
  {
   "cell_type": "code",
   "execution_count": 1,
   "metadata": {},
   "outputs": [
    {
     "ename": "NameError",
     "evalue": "name 'pd' is not defined",
     "output_type": "error",
     "traceback": [
      "\u001b[0;31m---------------------------------------------------------------------------\u001b[0m",
      "\u001b[0;31mNameError\u001b[0m                                 Traceback (most recent call last)",
      "\u001b[0;32m<ipython-input-1-aa597b2735aa>\u001b[0m in \u001b[0;36m<module>\u001b[0;34m\u001b[0m\n\u001b[1;32m      1\u001b[0m \u001b[0;31m#creates a data frame with all the valid body points along with the body info\u001b[0m\u001b[0;34m\u001b[0m\u001b[0;34m\u001b[0m\u001b[0;34m\u001b[0m\u001b[0m\n\u001b[0;32m----> 2\u001b[0;31m \u001b[0mvalid_df\u001b[0m \u001b[0;34m=\u001b[0m \u001b[0mpd\u001b[0m\u001b[0;34m.\u001b[0m\u001b[0mDataFrame\u001b[0m\u001b[0;34m(\u001b[0m\u001b[0;34m)\u001b[0m\u001b[0;34m\u001b[0m\u001b[0;34m\u001b[0m\u001b[0m\n\u001b[0m\u001b[1;32m      3\u001b[0m \u001b[0mvalid_df\u001b[0m\u001b[0;34m[\u001b[0m\u001b[0;34m'body'\u001b[0m\u001b[0;34m]\u001b[0m \u001b[0;34m=\u001b[0m \u001b[0mtext_body_all\u001b[0m\u001b[0;34m\u001b[0m\u001b[0;34m\u001b[0m\u001b[0m\n\u001b[1;32m      4\u001b[0m \u001b[0mvalid_df\u001b[0m\u001b[0;34m[\u001b[0m\u001b[0;34m'word_count'\u001b[0m\u001b[0;34m]\u001b[0m \u001b[0;34m=\u001b[0m \u001b[0mword_count_all\u001b[0m\u001b[0;34m\u001b[0m\u001b[0;34m\u001b[0m\u001b[0m\n\u001b[1;32m      5\u001b[0m \u001b[0mvalid_df\u001b[0m\u001b[0;34m[\u001b[0m\u001b[0;34m'validity'\u001b[0m\u001b[0;34m]\u001b[0m \u001b[0;34m=\u001b[0m \u001b[0mvalidity_all\u001b[0m\u001b[0;34m\u001b[0m\u001b[0;34m\u001b[0m\u001b[0m\n",
      "\u001b[0;31mNameError\u001b[0m: name 'pd' is not defined"
     ]
    }
   ],
   "source": [
    "#creates a data frame with all the valid body points along with the body info\n",
    "valid_df = pd.DataFrame()\n",
    "valid_df['body'] = text_body_all\n",
    "valid_df['word_count'] = word_count_all\n",
    "valid_df['validity'] = validity_all\n",
    "\n",
    "valid_df.head(25)"
   ]
  },
  {
   "cell_type": "markdown",
   "metadata": {},
   "source": []
  },
  {
   "cell_type": "code",
   "execution_count": 4,
   "metadata": {},
   "outputs": [
    {
     "ename": "NameError",
     "evalue": "name 'df' is not defined",
     "output_type": "error",
     "traceback": [
      "\u001b[0;31m---------------------------------------------------------------------------\u001b[0m",
      "\u001b[0;31mNameError\u001b[0m                                 Traceback (most recent call last)",
      "\u001b[0;32m<ipython-input-4-e929ac8d1db6>\u001b[0m in \u001b[0;36m<module>\u001b[0;34m\u001b[0m\n\u001b[0;32m----> 1\u001b[0;31m \u001b[0mdates\u001b[0m \u001b[0;34m=\u001b[0m \u001b[0mdf\u001b[0m\u001b[0;34m[\u001b[0m\u001b[0;34m'publication_datetime'\u001b[0m\u001b[0;34m]\u001b[0m\u001b[0;34m\u001b[0m\u001b[0;34m\u001b[0m\u001b[0m\n\u001b[0m\u001b[1;32m      2\u001b[0m \u001b[0mdates_sub\u001b[0m \u001b[0;34m=\u001b[0m \u001b[0mdates\u001b[0m\u001b[0;34m.\u001b[0m\u001b[0mhead\u001b[0m\u001b[0;34m(\u001b[0m\u001b[0;36m10\u001b[0m\u001b[0;34m)\u001b[0m\u001b[0;34m\u001b[0m\u001b[0;34m\u001b[0m\u001b[0m\n",
      "\u001b[0;31mNameError\u001b[0m: name 'df' is not defined"
     ]
    }
   ],
   "source": [
    "dates = df['publication_datetime']\n",
    "dates_sub = dates.head(10)"
   ]
  },
  {
   "cell_type": "code",
   "execution_count": 3,
   "metadata": {},
   "outputs": [
    {
     "ename": "NameError",
     "evalue": "name 'dates_sub' is not defined",
     "output_type": "error",
     "traceback": [
      "\u001b[0;31m---------------------------------------------------------------------------\u001b[0m",
      "\u001b[0;31mNameError\u001b[0m                                 Traceback (most recent call last)",
      "\u001b[0;32m<ipython-input-3-eec72aae00e8>\u001b[0m in \u001b[0;36m<module>\u001b[0;34m\u001b[0m\n\u001b[1;32m      4\u001b[0m \u001b[0;34m\u001b[0m\u001b[0m\n\u001b[1;32m      5\u001b[0m \u001b[0;32mfrom\u001b[0m \u001b[0mdatetime\u001b[0m \u001b[0;32mimport\u001b[0m \u001b[0mdatetime\u001b[0m \u001b[0;32mas\u001b[0m \u001b[0mdt\u001b[0m\u001b[0;34m\u001b[0m\u001b[0;34m\u001b[0m\u001b[0m\n\u001b[0;32m----> 6\u001b[0;31m \u001b[0;32mfor\u001b[0m \u001b[0mdate\u001b[0m \u001b[0;32min\u001b[0m \u001b[0mdates_sub\u001b[0m\u001b[0;34m:\u001b[0m\u001b[0;34m\u001b[0m\u001b[0;34m\u001b[0m\u001b[0m\n\u001b[0m\u001b[1;32m      7\u001b[0m      \u001b[0mdates_iso\u001b[0m\u001b[0;34m.\u001b[0m\u001b[0mappend\u001b[0m\u001b[0;34m(\u001b[0m\u001b[0mdt\u001b[0m\u001b[0;34m.\u001b[0m\u001b[0mfromtimestamp\u001b[0m\u001b[0;34m(\u001b[0m\u001b[0mdate\u001b[0m\u001b[0;34m/\u001b[0m\u001b[0;36m1000.0\u001b[0m\u001b[0;34m)\u001b[0m\u001b[0;34m.\u001b[0m\u001b[0mstrftime\u001b[0m\u001b[0;34m(\u001b[0m\u001b[0;34m'%Y-%m-%d'\u001b[0m\u001b[0;34m)\u001b[0m\u001b[0;34m)\u001b[0m\u001b[0;34m\u001b[0m\u001b[0;34m\u001b[0m\u001b[0m\n\u001b[1;32m      8\u001b[0m     \u001b[0;31m#dates_is.append(timestamp.strftime('%Y-%m-%d %H:%M:%S'))\u001b[0m\u001b[0;34m\u001b[0m\u001b[0;34m\u001b[0m\u001b[0;34m\u001b[0m\u001b[0m\n",
      "\u001b[0;31mNameError\u001b[0m: name 'dates_sub' is not defined"
     ]
    }
   ],
   "source": [
    "dates_iso = []\n",
    "#for date in dates:\n",
    "#    dates_iso.append(date.today())\n",
    "    \n",
    "from datetime import datetime as dt\n",
    "for date in dates_sub:\n",
    "     dates_iso.append(dt.fromtimestamp(date/1000.0).strftime('%Y-%m-%d'))\n",
    "    #dates_is.append(timestamp.strftime('%Y-%m-%d %H:%M:%S'))\n",
    "    \n",
    "#print())\n",
    "\n",
    "#print(timestamp)\n",
    "#print(dt.strptime(timestamp, '%Y-%m-%d'))\n",
    "print(dates_iso)\n"
   ]
  },
  {
   "cell_type": "code",
   "execution_count": 107,
   "metadata": {},
   "outputs": [
    {
     "ename": "TypeError",
     "evalue": "'bool' object does not support item assignment",
     "output_type": "error",
     "traceback": [
      "\u001b[0;31m---------------------------------------------------------------------------\u001b[0m",
      "\u001b[0;31mTypeError\u001b[0m                                 Traceback (most recent call last)",
      "\u001b[0;32m<ipython-input-107-54fa44863b01>\u001b[0m in \u001b[0;36m<module>\u001b[0;34m\u001b[0m\n\u001b[1;32m     14\u001b[0m \u001b[0;32mfor\u001b[0m \u001b[0mbool_val\u001b[0m \u001b[0;32min\u001b[0m \u001b[0mvalidity_date\u001b[0m\u001b[0;34m:\u001b[0m\u001b[0;34m\u001b[0m\u001b[0;34m\u001b[0m\u001b[0m\n\u001b[1;32m     15\u001b[0m     \u001b[0;32mif\u001b[0m \u001b[0mbool_val\u001b[0m \u001b[0;34m==\u001b[0m \u001b[0;32mTrue\u001b[0m\u001b[0;34m:\u001b[0m\u001b[0;34m\u001b[0m\u001b[0;34m\u001b[0m\u001b[0m\n\u001b[0;32m---> 16\u001b[0;31m         \u001b[0mbool_val\u001b[0m\u001b[0;34m[\u001b[0m\u001b[0;36m4\u001b[0m\u001b[0;34m]\u001b[0m \u001b[0;34m=\u001b[0m \u001b[0mint\u001b[0m\u001b[0;34m(\u001b[0m\u001b[0mbool_val\u001b[0m\u001b[0;34m)\u001b[0m\u001b[0;34m\u001b[0m\u001b[0;34m\u001b[0m\u001b[0m\n\u001b[0m\u001b[1;32m     17\u001b[0m \u001b[0mprint\u001b[0m\u001b[0;34m(\u001b[0m\u001b[0mvalidity_date\u001b[0m\u001b[0;34m)\u001b[0m\u001b[0;34m\u001b[0m\u001b[0;34m\u001b[0m\u001b[0m\n\u001b[1;32m     18\u001b[0m \u001b[0;34m\u001b[0m\u001b[0m\n",
      "\u001b[0;31mTypeError\u001b[0m: 'bool' object does not support item assignment"
     ]
    }
   ],
   "source": [
    "#valid_date_df.iloc[valid_date_df[(valid_date_df['Date'] > '2015-01-01') & (valid_date_df['Date'] < '2020-02-01')]]\n",
    "#\n",
    "\n",
    "validity_date = list(int((valid_date_df['Date'] > '2015,1,1') & (valid_date_df['Date'] < '2018,1,1')))\n",
    "\n",
    "#alidity_date = []\n",
    "\n",
    "# (valid_date_df['Date'] > '2015,1,1') & (valid_date_df['Date'] < '2018,1,1') == 'False':\n",
    "    #lidity_date.append(int)\n",
    "    \n",
    "    \n"
   ]
  },
  {
   "cell_type": "code",
   "execution_count": 109,
   "metadata": {},
   "outputs": [
    {
     "data": {
      "text/html": [
       "<div>\n",
       "<style scoped>\n",
       "    .dataframe tbody tr th:only-of-type {\n",
       "        vertical-align: middle;\n",
       "    }\n",
       "\n",
       "    .dataframe tbody tr th {\n",
       "        vertical-align: top;\n",
       "    }\n",
       "\n",
       "    .dataframe thead th {\n",
       "        text-align: right;\n",
       "    }\n",
       "</style>\n",
       "<table border=\"1\" class=\"dataframe\">\n",
       "  <thead>\n",
       "    <tr style=\"text-align: right;\">\n",
       "      <th></th>\n",
       "      <th>Date</th>\n",
       "      <th>Validity</th>\n",
       "    </tr>\n",
       "  </thead>\n",
       "  <tbody>\n",
       "    <tr>\n",
       "      <th>0</th>\n",
       "      <td>2014-01-30</td>\n",
       "      <td>False</td>\n",
       "    </tr>\n",
       "    <tr>\n",
       "      <th>1</th>\n",
       "      <td>2014-01-23</td>\n",
       "      <td>False</td>\n",
       "    </tr>\n",
       "    <tr>\n",
       "      <th>2</th>\n",
       "      <td>2014-01-23</td>\n",
       "      <td>False</td>\n",
       "    </tr>\n",
       "    <tr>\n",
       "      <th>3</th>\n",
       "      <td>2018-04-16</td>\n",
       "      <td>False</td>\n",
       "    </tr>\n",
       "    <tr>\n",
       "      <th>4</th>\n",
       "      <td>2017-07-10</td>\n",
       "      <td>True</td>\n",
       "    </tr>\n",
       "    <tr>\n",
       "      <th>5</th>\n",
       "      <td>2018-04-16</td>\n",
       "      <td>False</td>\n",
       "    </tr>\n",
       "    <tr>\n",
       "      <th>6</th>\n",
       "      <td>2018-04-02</td>\n",
       "      <td>False</td>\n",
       "    </tr>\n",
       "    <tr>\n",
       "      <th>7</th>\n",
       "      <td>2016-12-20</td>\n",
       "      <td>True</td>\n",
       "    </tr>\n",
       "    <tr>\n",
       "      <th>8</th>\n",
       "      <td>2018-04-03</td>\n",
       "      <td>False</td>\n",
       "    </tr>\n",
       "    <tr>\n",
       "      <th>9</th>\n",
       "      <td>2018-04-23</td>\n",
       "      <td>False</td>\n",
       "    </tr>\n",
       "  </tbody>\n",
       "</table>\n",
       "</div>"
      ],
      "text/plain": [
       "         Date  Validity\n",
       "0  2014-01-30     False\n",
       "1  2014-01-23     False\n",
       "2  2014-01-23     False\n",
       "3  2018-04-16     False\n",
       "4  2017-07-10      True\n",
       "5  2018-04-16     False\n",
       "6  2018-04-02     False\n",
       "7  2016-12-20      True\n",
       "8  2018-04-03     False\n",
       "9  2018-04-23     False"
      ]
     },
     "execution_count": 109,
     "metadata": {},
     "output_type": "execute_result"
    }
   ],
   "source": [
    "valid_date_df = pd.DataFrame()\n",
    "valid_date_df['Date'] = dates_iso\n",
    "valid_date_df['Validity'] = validity_date\n",
    "\n",
    "\n",
    "valid_date_df"
   ]
  },
  {
   "cell_type": "code",
   "execution_count": 119,
   "metadata": {},
   "outputs": [
    {
     "name": "stdout",
     "output_type": "stream",
     "text": [
      "20%, or 2 of the data in modification datetime are valid\n"
     ]
    }
   ],
   "source": [
    "print('{}%, or'.format(round(sum(valid_date_df['Validity'] == True) / len(valid_date_df['Validity']) * 100)), '{} of the data in modification datetime are valid'.format(sum(valid_date_df['Validity'] == True)))"
   ]
  },
  {
   "cell_type": "code",
   "execution_count": 151,
   "metadata": {},
   "outputs": [],
   "source": [
    "dates_all_iso = []\n",
    "\n",
    "for date in dates:\n",
    "     dates_all_iso.append(dt.fromtimestamp(date/1000.0).strftime('%Y'))\n"
   ]
  },
  {
   "cell_type": "code",
   "execution_count": 152,
   "metadata": {},
   "outputs": [],
   "source": [
    "valid_date_all_df = pd.DataFrame()\n",
    "valid_date_all_df['Date'] = dates_all_iso\n"
   ]
  },
  {
   "cell_type": "code",
   "execution_count": 153,
   "metadata": {},
   "outputs": [],
   "source": [
    "#years should be 2010 and onwards. We realllly expect to see 2013-2018 though\n",
    "validity_date_all = list((valid_date_all_df['Date'] > '2009'))\n",
    "\n",
    "valid_date_all_df['Validity'] = validity_date_all\n"
   ]
  },
  {
   "cell_type": "code",
   "execution_count": 154,
   "metadata": {},
   "outputs": [
    {
     "name": "stdout",
     "output_type": "stream",
     "text": [
      "100%, or 1942855 of the data in modification datetime are valid\n"
     ]
    }
   ],
   "source": [
    "valid_date_all_df.tail(25)\n",
    "print('{}%, or'.format(round(sum(valid_date_all_df['Validity'] == True) / len(valid_date_all_df['Validity']) * 100)), '{} of the data in modification datetime are valid'.format(sum(valid_date_all_df['Validity'] == True)))\n"
   ]
  },
  {
   "cell_type": "code",
   "execution_count": 160,
   "metadata": {},
   "outputs": [
    {
     "data": {
      "text/plain": [
       "str"
      ]
     },
     "execution_count": 160,
     "metadata": {},
     "output_type": "execute_result"
    }
   ],
   "source": [
    "#valid_date_all_df.dtypes\n",
    "type(valid_date_all_df['Date'][0])"
   ]
  },
  {
   "cell_type": "code",
   "execution_count": 155,
   "metadata": {},
   "outputs": [
    {
     "data": {
      "text/plain": [
       "<matplotlib.axes._subplots.AxesSubplot at 0x7f9304df2f10>"
      ]
     },
     "execution_count": 155,
     "metadata": {},
     "output_type": "execute_result"
    },
    {
     "data": {
      "image/png": "[encoded data removed]",
      "text/plain": [
       "<Figure size 432x288 with 1 Axes>"
      ]
     },
     "metadata": {
      "needs_background": "light"
     },
     "output_type": "display_data"
    }
   ],
   "source": [
    "#Bar plot of the number of articles in DNA per year\n",
    "#Trying to answer the question: does it meet our expecation?: We realllly expect to see 2013-2018 though\n",
    "#count each occurence of year value in df and plot\n",
    "valid_date_all_df['Date'].value_counts().sort_index().plot(kind = 'bar')\n",
    "\n"
   ]
  },
  {
   "cell_type": "code",
   "execution_count": 156,
   "metadata": {},
   "outputs": [],
   "source": [
    "df['Year'] = valid_date_all_df['Date']"
   ]
  },
  {
   "cell_type": "code",
   "execution_count": 157,
   "metadata": {
    "collapsed": true,
    "jupyter": {
     "outputs_hidden": true
    }
   },
   "outputs": [
    {
     "data": {
      "text/html": [
       "<div>\n",
       "<style scoped>\n",
       "    .dataframe tbody tr th:only-of-type {\n",
       "        vertical-align: middle;\n",
       "    }\n",
       "\n",
       "    .dataframe tbody tr th {\n",
       "        vertical-align: top;\n",
       "    }\n",
       "\n",
       "    .dataframe thead th {\n",
       "        text-align: right;\n",
       "    }\n",
       "</style>\n",
       "<table border=\"1\" class=\"dataframe\">\n",
       "  <thead>\n",
       "    <tr style=\"text-align: right;\">\n",
       "      <th></th>\n",
       "      <th>copyright</th>\n",
       "      <th>subject_codes</th>\n",
       "      <th>art</th>\n",
       "      <th>modification_datetime</th>\n",
       "      <th>body</th>\n",
       "      <th>company_codes_occur</th>\n",
       "      <th>company_codes_about</th>\n",
       "      <th>company_codes_lineage</th>\n",
       "      <th>snippet</th>\n",
       "      <th>publication_date</th>\n",
       "      <th>...</th>\n",
       "      <th>company_codes</th>\n",
       "      <th>industry_codes</th>\n",
       "      <th>title</th>\n",
       "      <th>publication_datetime</th>\n",
       "      <th>publisher_name</th>\n",
       "      <th>action</th>\n",
       "      <th>document_type</th>\n",
       "      <th>section</th>\n",
       "      <th>dateline</th>\n",
       "      <th>Year</th>\n",
       "    </tr>\n",
       "  </thead>\n",
       "  <tbody>\n",
       "    <tr>\n",
       "      <th>0</th>\n",
       "      <td>(c) Copyright 2014 Obesity, Fitness &amp; Wellness...</td>\n",
       "      <td>,grdly,gscho,nnam,ccat,gcat,gedu,ghea,gtrea,nc...</td>\n",
       "      <td></td>\n",
       "      <td>1391132355000</td>\n",
       "      <td>\"When we decided to purchase new ultrasound eq...</td>\n",
       "      <td>,tshba,tosmsc,toamsi,</td>\n",
       "      <td>,tshba,</td>\n",
       "      <td></td>\n",
       "      <td>2014 FEB 8 (NewsRx) -- By a News Reporter-Staf...</td>\n",
       "      <td>1391817600000</td>\n",
       "      <td>...</td>\n",
       "      <td>,toamsi,toamsi,tosmsc,tosmsc,tshba,tshba,tshba,</td>\n",
       "      <td>,iphmed,i372,i951,i3302,i3454,ielec,itech,</td>\n",
       "      <td>Toshiba America Medical Systems, Inc. Arizona ...</td>\n",
       "      <td>1391817600000</td>\n",
       "      <td>NewsRx.com</td>\n",
       "      <td>add</td>\n",
       "      <td>article</td>\n",
       "      <td>NaN</td>\n",
       "      <td>NaN</td>\n",
       "      <td>2014</td>\n",
       "    </tr>\n",
       "    <tr>\n",
       "      <th>1</th>\n",
       "      <td>© 2014 The Advisory Board Company. All rights ...</td>\n",
       "      <td>,nabst,cempbn,c42,ccat,cwrkpa,ncat,nfact,nfcpin,</td>\n",
       "      <td></td>\n",
       "      <td>1390496727000</td>\n",
       "      <td>A similar ban already applies to self-insured ...</td>\n",
       "      <td>,irevs,</td>\n",
       "      <td>,irevs,</td>\n",
       "      <td></td>\n",
       "      <td>The Internal Revenue Service last week signale...</td>\n",
       "      <td>1390262400000</td>\n",
       "      <td>...</td>\n",
       "      <td>,irevs,irevs,irevs,</td>\n",
       "      <td>,i257,i951,</td>\n",
       "      <td>IRS Delaying ACA's Equal-Coverage Provision fo...</td>\n",
       "      <td>1390262400000</td>\n",
       "      <td>The Advisory Board Company/American Health Line</td>\n",
       "      <td>add</td>\n",
       "      <td>article</td>\n",
       "      <td>NaN</td>\n",
       "      <td>NaN</td>\n",
       "      <td>2014</td>\n",
       "    </tr>\n",
       "    <tr>\n",
       "      <th>2</th>\n",
       "      <td>© Copyright 2014 Clinical Trials Week via News...</td>\n",
       "      <td>,c23,ctrial,gcancr,gcrese,gsci,c22,ccat,gcat,g...</td>\n",
       "      <td></td>\n",
       "      <td>1390525806000</td>\n",
       "      <td>Dr. Curiel is the leader for TumAdoR Project 6...</td>\n",
       "      <td></td>\n",
       "      <td></td>\n",
       "      <td></td>\n",
       "      <td>2014 JAN 27 (NewsRx) -- By a News Reporter-Sta...</td>\n",
       "      <td>1390780800000</td>\n",
       "      <td>...</td>\n",
       "      <td>,euruno,</td>\n",
       "      <td>,i257,i2573,i951,idrugty,</td>\n",
       "      <td>Clinical Trials and Studies; Broad-spectrum ca...</td>\n",
       "      <td>1390780800000</td>\n",
       "      <td>NewsRx.com</td>\n",
       "      <td>add</td>\n",
       "      <td>article</td>\n",
       "      <td>NaN</td>\n",
       "      <td>NaN</td>\n",
       "      <td>2014</td>\n",
       "    </tr>\n",
       "    <tr>\n",
       "      <th>3</th>\n",
       "      <td>© Copyright 2018 Journal of Engineering via Ve...</td>\n",
       "      <td>,c151,c15,ccat,ncat,nfact,nfcpin,</td>\n",
       "      <td></td>\n",
       "      <td>1523916466000</td>\n",
       "      <td>Cost of manufactured product increased $4.7 mi...</td>\n",
       "      <td>,retrac,nyse,</td>\n",
       "      <td>,retrac,</td>\n",
       "      <td></td>\n",
       "      <td>2018 APR 16 (VerticalNews) -- By a News Report...</td>\n",
       "      <td>1523836800000</td>\n",
       "      <td>...</td>\n",
       "      <td>,retrac,nyse,nyse,retrac,retrac,seexc,</td>\n",
       "      <td>,i372,i951,</td>\n",
       "      <td>Retractable Technologies Inc. Retractable Tech...</td>\n",
       "      <td>1523836800000</td>\n",
       "      <td>NewsRX, LLC</td>\n",
       "      <td>add</td>\n",
       "      <td>article</td>\n",
       "      <td></td>\n",
       "      <td>NaN</td>\n",
       "      <td>2018</td>\n",
       "    </tr>\n",
       "    <tr>\n",
       "      <th>4</th>\n",
       "      <td>© Copyright 2017 Pharma Business Week via News...</td>\n",
       "      <td>,ctmark,cgymtr,ccat,cinprp,</td>\n",
       "      <td></td>\n",
       "      <td>1499725044000</td>\n",
       "      <td>The international trademark goods and services...</td>\n",
       "      <td>,brstmy,</td>\n",
       "      <td>,brstmy,</td>\n",
       "      <td></td>\n",
       "      <td>2017 JUL 10 (NewsRx) -- By a News Reporter-Sta...</td>\n",
       "      <td>1499644800000</td>\n",
       "      <td>...</td>\n",
       "      <td>,brstmy,brstmy,brstmy,</td>\n",
       "      <td>,i257,ibioph,i2569,i951,</td>\n",
       "      <td>Pharmaceutical Companies; An Application for t...</td>\n",
       "      <td>1499644800000</td>\n",
       "      <td>NewsRX, LLC</td>\n",
       "      <td>add</td>\n",
       "      <td>article</td>\n",
       "      <td></td>\n",
       "      <td>NaN</td>\n",
       "      <td>2017</td>\n",
       "    </tr>\n",
       "    <tr>\n",
       "      <th>5</th>\n",
       "      <td>© Copyright iCrowdNewswire LLC 2018. All right...</td>\n",
       "      <td>,gnutr,gcat,gfod,ghea,glife,</td>\n",
       "      <td></td>\n",
       "      <td>1523890880000</td>\n",
       "      <td>If you are involved in the Diethylzinc industr...</td>\n",
       "      <td>,crak,aknv,</td>\n",
       "      <td></td>\n",
       "      <td></td>\n",
       "      <td>A new research study from HTF MI with title Gl...</td>\n",
       "      <td>1523836800000</td>\n",
       "      <td>...</td>\n",
       "      <td>,aknv,aknv,crak,crak,</td>\n",
       "      <td>,i257,i951,</td>\n",
       "      <td>Diethylzinc Market by Manufacturers, Type and ...</td>\n",
       "      <td>1523836800000</td>\n",
       "      <td>iCrowdNewswire, LLC</td>\n",
       "      <td>add</td>\n",
       "      <td>article</td>\n",
       "      <td></td>\n",
       "      <td>NaN</td>\n",
       "      <td>2018</td>\n",
       "    </tr>\n",
       "    <tr>\n",
       "      <th>6</th>\n",
       "      <td>Copyright 2018 Thomson Reuters. All Rights Res...</td>\n",
       "      <td>,ccat,</td>\n",
       "      <td></td>\n",
       "      <td>1522662219000</td>\n",
       "      <td>* UPON APPROVAL, PRODUCT WILL BE COMMERCIALISE...</td>\n",
       "      <td>,hhpciz,drred,</td>\n",
       "      <td>,drred,</td>\n",
       "      <td></td>\n",
       "      <td>April 2 (Reuters) - Dr.Reddy's Laboratories Lt...</td>\n",
       "      <td>1522662203000</td>\n",
       "      <td>...</td>\n",
       "      <td>,drred,drred,drred,hhpciz,hhpciz,</td>\n",
       "      <td>,i257,i951,igeneri,</td>\n",
       "      <td>BRIEF-Dr.Reddy's Labs' U.S. Unit Announces AND...</td>\n",
       "      <td>1522662203000</td>\n",
       "      <td>Thomson Reuters (Markets) LLC</td>\n",
       "      <td>add</td>\n",
       "      <td>article</td>\n",
       "      <td></td>\n",
       "      <td>NaN</td>\n",
       "      <td>2018</td>\n",
       "    </tr>\n",
       "    <tr>\n",
       "      <th>7</th>\n",
       "      <td>Copyright © 2016. Contify.com</td>\n",
       "      <td>,gmed,gcat,ghea,</td>\n",
       "      <td></td>\n",
       "      <td>1482227123000</td>\n",
       "      <td>Source: XTL Biopharmaceuticals</td>\n",
       "      <td>,xtlbio,</td>\n",
       "      <td>,xtlbio,</td>\n",
       "      <td></td>\n",
       "      <td>Dec. 19 -- XTL Biopharmaceuticals Ltd. (NASDAQ...</td>\n",
       "      <td>1482105600000</td>\n",
       "      <td>...</td>\n",
       "      <td>,xtlbio,xtlbio,xtlbio,</td>\n",
       "      <td>,ibioph,i2569,i257,i951,</td>\n",
       "      <td>XTL Biopharmaceuticals to Present at Biotech S...</td>\n",
       "      <td>1482105600000</td>\n",
       "      <td>Athena Information Solutions Pvt. Ltd.</td>\n",
       "      <td>add</td>\n",
       "      <td>article</td>\n",
       "      <td></td>\n",
       "      <td>NaN</td>\n",
       "      <td>2016</td>\n",
       "    </tr>\n",
       "    <tr>\n",
       "      <th>8</th>\n",
       "      <td>© 2018, The NASDAQ OMX Group, Inc. All Rights ...</td>\n",
       "      <td>,cacqu,npress,c133,c181,c18,cactio,ccat,cgymtr...</td>\n",
       "      <td></td>\n",
       "      <td>1522731675000</td>\n",
       "      <td>Fagron strengthens strategic position in USA t...</td>\n",
       "      <td>,arseus,</td>\n",
       "      <td>,arseus,</td>\n",
       "      <td></td>\n",
       "      <td>Nazareth (Belgium)/Rotterdam (The Netherlands)...</td>\n",
       "      <td>1522735233000</td>\n",
       "      <td>...</td>\n",
       "      <td>,arseus,arseus,usfda,arseus,</td>\n",
       "      <td>,i257,i951,</td>\n",
       "      <td>Fagron strengthens strategic position in USA t...</td>\n",
       "      <td>1522735233000</td>\n",
       "      <td>NASDAQ OMX Corporate Solutions International L...</td>\n",
       "      <td>add</td>\n",
       "      <td>article</td>\n",
       "      <td></td>\n",
       "      <td>London, April, 03, 2018</td>\n",
       "      <td>2018</td>\n",
       "    </tr>\n",
       "    <tr>\n",
       "      <th>9</th>\n",
       "      <td>(c) 2018  Business Wire. All Rights Reserved.</td>\n",
       "      <td>,gdepr,gment,gtrea,npress,gcat,ghea,gmed,ncat,</td>\n",
       "      <td></td>\n",
       "      <td>1524481242000</td>\n",
       "      <td>Sage Therapeutics (NASDAQ: SAGE), a clinical-s...</td>\n",
       "      <td>,usfda,sgthrp,</td>\n",
       "      <td>,usfda,sgthrp,</td>\n",
       "      <td></td>\n",
       "      <td>Brexanolone IV submission is the Company's fir...</td>\n",
       "      <td>1524481200297</td>\n",
       "      <td>...</td>\n",
       "      <td>,sgthrp,usfda,eumagy,seexc,sgthrp,sgthrp,usfda...</td>\n",
       "      <td>,i257,iphddd,i951,</td>\n",
       "      <td>Sage Therapeutics Submits New Drug Application...</td>\n",
       "      <td>1524481200297</td>\n",
       "      <td>Business Wire, Inc.</td>\n",
       "      <td>add</td>\n",
       "      <td>article</td>\n",
       "      <td></td>\n",
       "      <td>NaN</td>\n",
       "      <td>2018</td>\n",
       "    </tr>\n",
       "  </tbody>\n",
       "</table>\n",
       "<p>10 rows × 36 columns</p>\n",
       "</div>"
      ],
      "text/plain": [
       "                                           copyright  \\\n",
       "0  (c) Copyright 2014 Obesity, Fitness & Wellness...   \n",
       "1  © 2014 The Advisory Board Company. All rights ...   \n",
       "2  © Copyright 2014 Clinical Trials Week via News...   \n",
       "3  © Copyright 2018 Journal of Engineering via Ve...   \n",
       "4  © Copyright 2017 Pharma Business Week via News...   \n",
       "5  © Copyright iCrowdNewswire LLC 2018. All right...   \n",
       "6  Copyright 2018 Thomson Reuters. All Rights Res...   \n",
       "7                     Copyright © 2016. Contify.com    \n",
       "8  © 2018, The NASDAQ OMX Group, Inc. All Rights ...   \n",
       "9     (c) 2018  Business Wire. All Rights Reserved.    \n",
       "\n",
       "                                       subject_codes art  \\\n",
       "0  ,grdly,gscho,nnam,ccat,gcat,gedu,ghea,gtrea,nc...       \n",
       "1   ,nabst,cempbn,c42,ccat,cwrkpa,ncat,nfact,nfcpin,       \n",
       "2  ,c23,ctrial,gcancr,gcrese,gsci,c22,ccat,gcat,g...       \n",
       "3                  ,c151,c15,ccat,ncat,nfact,nfcpin,       \n",
       "4                        ,ctmark,cgymtr,ccat,cinprp,       \n",
       "5                       ,gnutr,gcat,gfod,ghea,glife,       \n",
       "6                                             ,ccat,       \n",
       "7                                   ,gmed,gcat,ghea,       \n",
       "8  ,cacqu,npress,c133,c181,c18,cactio,ccat,cgymtr...       \n",
       "9     ,gdepr,gment,gtrea,npress,gcat,ghea,gmed,ncat,       \n",
       "\n",
       "   modification_datetime                                               body  \\\n",
       "0          1391132355000  \"When we decided to purchase new ultrasound eq...   \n",
       "1          1390496727000  A similar ban already applies to self-insured ...   \n",
       "2          1390525806000  Dr. Curiel is the leader for TumAdoR Project 6...   \n",
       "3          1523916466000  Cost of manufactured product increased $4.7 mi...   \n",
       "4          1499725044000  The international trademark goods and services...   \n",
       "5          1523890880000  If you are involved in the Diethylzinc industr...   \n",
       "6          1522662219000  * UPON APPROVAL, PRODUCT WILL BE COMMERCIALISE...   \n",
       "7          1482227123000                     Source: XTL Biopharmaceuticals   \n",
       "8          1522731675000  Fagron strengthens strategic position in USA t...   \n",
       "9          1524481242000  Sage Therapeutics (NASDAQ: SAGE), a clinical-s...   \n",
       "\n",
       "     company_codes_occur company_codes_about company_codes_lineage  \\\n",
       "0  ,tshba,tosmsc,toamsi,             ,tshba,                         \n",
       "1                ,irevs,             ,irevs,                         \n",
       "2                                                                    \n",
       "3          ,retrac,nyse,            ,retrac,                         \n",
       "4               ,brstmy,            ,brstmy,                         \n",
       "5            ,crak,aknv,                                             \n",
       "6         ,hhpciz,drred,             ,drred,                         \n",
       "7               ,xtlbio,            ,xtlbio,                         \n",
       "8               ,arseus,            ,arseus,                         \n",
       "9         ,usfda,sgthrp,      ,usfda,sgthrp,                         \n",
       "\n",
       "                                             snippet  publication_date  ...  \\\n",
       "0  2014 FEB 8 (NewsRx) -- By a News Reporter-Staf...     1391817600000  ...   \n",
       "1  The Internal Revenue Service last week signale...     1390262400000  ...   \n",
       "2  2014 JAN 27 (NewsRx) -- By a News Reporter-Sta...     1390780800000  ...   \n",
       "3  2018 APR 16 (VerticalNews) -- By a News Report...     1523836800000  ...   \n",
       "4  2017 JUL 10 (NewsRx) -- By a News Reporter-Sta...     1499644800000  ...   \n",
       "5  A new research study from HTF MI with title Gl...     1523836800000  ...   \n",
       "6  April 2 (Reuters) - Dr.Reddy's Laboratories Lt...     1522662203000  ...   \n",
       "7  Dec. 19 -- XTL Biopharmaceuticals Ltd. (NASDAQ...     1482105600000  ...   \n",
       "8  Nazareth (Belgium)/Rotterdam (The Netherlands)...     1522735233000  ...   \n",
       "9  Brexanolone IV submission is the Company's fir...     1524481200297  ...   \n",
       "\n",
       "                                       company_codes  \\\n",
       "0    ,toamsi,toamsi,tosmsc,tosmsc,tshba,tshba,tshba,   \n",
       "1                                ,irevs,irevs,irevs,   \n",
       "2                                           ,euruno,   \n",
       "3             ,retrac,nyse,nyse,retrac,retrac,seexc,   \n",
       "4                             ,brstmy,brstmy,brstmy,   \n",
       "5                              ,aknv,aknv,crak,crak,   \n",
       "6                  ,drred,drred,drred,hhpciz,hhpciz,   \n",
       "7                             ,xtlbio,xtlbio,xtlbio,   \n",
       "8                       ,arseus,arseus,usfda,arseus,   \n",
       "9  ,sgthrp,usfda,eumagy,seexc,sgthrp,sgthrp,usfda...   \n",
       "\n",
       "                               industry_codes  \\\n",
       "0  ,iphmed,i372,i951,i3302,i3454,ielec,itech,   \n",
       "1                                 ,i257,i951,   \n",
       "2                   ,i257,i2573,i951,idrugty,   \n",
       "3                                 ,i372,i951,   \n",
       "4                    ,i257,ibioph,i2569,i951,   \n",
       "5                                 ,i257,i951,   \n",
       "6                         ,i257,i951,igeneri,   \n",
       "7                    ,ibioph,i2569,i257,i951,   \n",
       "8                                 ,i257,i951,   \n",
       "9                          ,i257,iphddd,i951,   \n",
       "\n",
       "                                               title publication_datetime  \\\n",
       "0  Toshiba America Medical Systems, Inc. Arizona ...        1391817600000   \n",
       "1  IRS Delaying ACA's Equal-Coverage Provision fo...        1390262400000   \n",
       "2  Clinical Trials and Studies; Broad-spectrum ca...        1390780800000   \n",
       "3  Retractable Technologies Inc. Retractable Tech...        1523836800000   \n",
       "4  Pharmaceutical Companies; An Application for t...        1499644800000   \n",
       "5  Diethylzinc Market by Manufacturers, Type and ...        1523836800000   \n",
       "6  BRIEF-Dr.Reddy's Labs' U.S. Unit Announces AND...        1522662203000   \n",
       "7  XTL Biopharmaceuticals to Present at Biotech S...        1482105600000   \n",
       "8  Fagron strengthens strategic position in USA t...        1522735233000   \n",
       "9  Sage Therapeutics Submits New Drug Application...        1524481200297   \n",
       "\n",
       "                                      publisher_name  action document_type  \\\n",
       "0                                         NewsRx.com     add       article   \n",
       "1    The Advisory Board Company/American Health Line     add       article   \n",
       "2                                         NewsRx.com     add       article   \n",
       "3                                        NewsRX, LLC     add       article   \n",
       "4                                        NewsRX, LLC     add       article   \n",
       "5                                iCrowdNewswire, LLC     add       article   \n",
       "6                      Thomson Reuters (Markets) LLC     add       article   \n",
       "7             Athena Information Solutions Pvt. Ltd.     add       article   \n",
       "8  NASDAQ OMX Corporate Solutions International L...     add       article   \n",
       "9                                Business Wire, Inc.     add       article   \n",
       "\n",
       "  section                  dateline  Year  \n",
       "0     NaN                       NaN  2014  \n",
       "1     NaN                       NaN  2014  \n",
       "2     NaN                       NaN  2014  \n",
       "3                               NaN  2018  \n",
       "4                               NaN  2017  \n",
       "5                               NaN  2018  \n",
       "6                               NaN  2018  \n",
       "7                               NaN  2016  \n",
       "8          London, April, 03, 2018   2018  \n",
       "9                               NaN  2018  \n",
       "\n",
       "[10 rows x 36 columns]"
      ]
     },
     "execution_count": 157,
     "metadata": {},
     "output_type": "execute_result"
    }
   ],
   "source": [
    "df.head(10)"
   ]
  },
  {
   "cell_type": "code",
   "execution_count": 162,
   "metadata": {},
   "outputs": [],
   "source": [
    "#csv subsets for 2013-2018 year\n",
    "#df2013 = df[df['Year'] == '2013']\n",
    "\n",
    "for i in range(2013, 2019):\n",
    "    df_year = df[df['Year'] == str(i)]\n",
    "    df_year.to_csv(\"../data/working/DNA_\" + str(i) + \".csv\")\n",
    "    \n"
   ]
  }
 ],
 "metadata": {
  "kernelspec": {
   "display_name": "Python 3",
   "language": "python",
   "name": "python3"
  },
  "language_info": {
   "codemirror_mode": {
    "name": "ipython",
    "version": 3
   },
   "file_extension": ".py",
   "mimetype": "text/x-python",
   "name": "python",
   "nbconvert_exporter": "python",
   "pygments_lexer": "ipython3",
   "version": "3.7.4"
  }
 },
 "nbformat": 4,
 "nbformat_minor": 4
}
