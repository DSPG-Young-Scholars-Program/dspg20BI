{
 "cells": [
  {
   "cell_type": "code",
   "execution_count": 4,
   "metadata": {},
   "outputs": [],
   "source": [
    "import pandas as pd\n",
    "import re\n",
    "from collections import Counter"
   ]
  },
  {
   "cell_type": "markdown",
   "metadata": {},
   "source": [
    "### CLEANING FDA DATA SET\n",
    "\n",
    "Lower case method tolower\n",
    "\n",
    "Punctuation\n",
    "    (do this first)  - Remove parenthesized content\n",
    "    \n",
    "Keep – already in Ian’s notebook\n",
    "    Hyphens/Dashes \n",
    "    Ampersands\n",
    "    Underscore\n",
    "    Remove everything else (use Neil's code)\n",
    "    \n",
    "Remove legal entity labels – Daniel has a list link – regex patterns\n",
    "\n",
    "Count unique string tokens\n",
    "Inspect top 10-30 string tokens\n",
    "Determine what number top common string tokens to remov"
   ]
  },
  {
   "cell_type": "code",
   "execution_count": 86,
   "metadata": {},
   "outputs": [],
   "source": [
    "fda = pd.read_excel('../data/original/fda_companies.xlsx',\n",
    "              sheet_name='FDA Company List')"
   ]
  },
  {
   "cell_type": "code",
   "execution_count": 87,
   "metadata": {},
   "outputs": [
    {
     "name": "stdout",
     "output_type": "stream",
     "text": [
      "!\"#'()*+,./:;<=>?@[\\]^`{|}~\n"
     ]
    }
   ],
   "source": [
    "#This block first generates the list of punctuations and then removes our exceptions from that list.\n",
    "import string    \n",
    "\n",
    "removeset=string.punctuation\n",
    "\n",
    "removeset=removeset.replace(\"-\",\"\") #Don't remove dashes\n",
    "\n",
    "removeset=removeset.replace(\"&\",\"\") #Don't remove ampersand\n",
    "\n",
    "removeset=removeset.replace(\"_\",\"\") #Don't remove underscore\n",
    "\n",
    "removeset=removeset.replace(\"%\",\"\") #Don't remove percent\n",
    "\n",
    "removeset=removeset.replace(\"$\",\"\") #Don't remove dollar\n",
    "\n",
    "print(removeset)"
   ]
  },
  {
   "cell_type": "code",
   "execution_count": 88,
   "metadata": {},
   "outputs": [
    {
     "data": {
      "text/plain": [
       "Index(['FDA Companies '], dtype='object')"
      ]
     },
     "execution_count": 88,
     "metadata": {},
     "output_type": "execute_result"
    }
   ],
   "source": [
    "fda.columns"
   ]
  },
  {
   "cell_type": "code",
   "execution_count": 89,
   "metadata": {},
   "outputs": [],
   "source": [
    "#function that gets rid of unwanted punctuation\n",
    "#This does get rid of ' within a string (ex. l'oreal becomes l oreal) so maybe recheck?\n",
    "def removeUnwantedPunc(string):\n",
    "    return re.sub('[!\"#\\'()*+,./:;<=>?@[\\]^`{|}~]', '', string)"
   ]
  },
  {
   "cell_type": "code",
   "execution_count": 90,
   "metadata": {},
   "outputs": [],
   "source": [
    "#Removes the special characters defined in remove set\n",
    "fda['Company Clean'] = fda['FDA Companies '].apply(removeUnwantedPunc)"
   ]
  },
  {
   "cell_type": "code",
   "execution_count": 91,
   "metadata": {},
   "outputs": [],
   "source": [
    "#set everything to lower case\n",
    "fda['Company Clean'] = fda.apply(lambda col: col.str.lower())"
   ]
  },
  {
   "cell_type": "code",
   "execution_count": 92,
   "metadata": {},
   "outputs": [],
   "source": [
    "#Removes parenthesis\n",
    "fda['Company Clean'] = fda['Company Clean'].str.replace(r\"\\(.*\\)\",\"\")"
   ]
  },
  {
   "cell_type": "code",
   "execution_count": 93,
   "metadata": {},
   "outputs": [],
   "source": [
    "# remove all single characters (This step is done first, because later there are single chars we want to retain.)\n",
    "def removeSingle(string):\n",
    "    return  re.sub(r'\\s+[a-zA-Z]\\s+', ' ', string)"
   ]
  },
  {
   "cell_type": "code",
   "execution_count": 94,
   "metadata": {},
   "outputs": [],
   "source": [
    "fda['Company Clean'] = fda['Company Clean'].apply(lambda row: removeSingle(row))"
   ]
  },
  {
   "cell_type": "code",
   "execution_count": 95,
   "metadata": {},
   "outputs": [],
   "source": [
    "# remove all numbers\n",
    "def removeNum(string):\n",
    "    return re.sub(r'[0-9]','', string)"
   ]
  },
  {
   "cell_type": "code",
   "execution_count": 96,
   "metadata": {},
   "outputs": [],
   "source": [
    "fda['Company Clean'] = fda['Company Clean'].apply(lambda row: removeNum(row))"
   ]
  },
  {
   "cell_type": "code",
   "execution_count": 97,
   "metadata": {},
   "outputs": [],
   "source": [
    "# Remove single characters from the start\n",
    "def removecharb(string):\n",
    "    return re.sub(r'\\^[a-zA-Z]\\s+', ' ', string)"
   ]
  },
  {
   "cell_type": "code",
   "execution_count": 98,
   "metadata": {},
   "outputs": [],
   "source": [
    "fda['Company Clean'] = fda['Company Clean'].apply(lambda row: removecharb(row))"
   ]
  },
  {
   "cell_type": "code",
   "execution_count": 99,
   "metadata": {},
   "outputs": [],
   "source": [
    "# Substituting multiple spaces with single space\n",
    "def removeSpaces(string):\n",
    "    return re.sub(r'\\s+', ' ', string, flags=re.I)"
   ]
  },
  {
   "cell_type": "code",
   "execution_count": 100,
   "metadata": {},
   "outputs": [],
   "source": [
    "fda['Company Clean'] = fda['Company Clean'].apply(lambda row: removeSpaces(row))"
   ]
  },
  {
   "cell_type": "code",
   "execution_count": 101,
   "metadata": {},
   "outputs": [],
   "source": [
    "# Removing prefixed 'b'\n",
    "def removeB(string):\n",
    "    return re.sub(r'^b\\s+', '', string)"
   ]
  },
  {
   "cell_type": "code",
   "execution_count": 102,
   "metadata": {},
   "outputs": [],
   "source": [
    "fda['Company Clean'] = fda['Company Clean'].apply(lambda row: removeB(row))"
   ]
  },
  {
   "cell_type": "code",
   "execution_count": 103,
   "metadata": {},
   "outputs": [],
   "source": [
    "#Make dashes into combined words\n",
    "def combineDash(string):\n",
    "    return re.sub(r'\\s-\\s+', '-', string)"
   ]
  },
  {
   "cell_type": "code",
   "execution_count": 104,
   "metadata": {},
   "outputs": [],
   "source": [
    "fda['Company Clean'] = fda['Company Clean'].apply(lambda row: combineDash(row))"
   ]
  },
  {
   "cell_type": "code",
   "execution_count": 105,
   "metadata": {},
   "outputs": [],
   "source": [
    "#Make ampersand into combined words\n",
    "def combineAmpersand(string):\n",
    "    return  re.sub(r'\\s&\\s+', '&', string)"
   ]
  },
  {
   "cell_type": "code",
   "execution_count": 106,
   "metadata": {},
   "outputs": [],
   "source": [
    "fda['Company Clean'] = fda['Company Clean'].apply(lambda row: combineAmpersand(row))"
   ]
  },
  {
   "cell_type": "code",
   "execution_count": 107,
   "metadata": {},
   "outputs": [],
   "source": [
    "#Make underscore into combined words\n",
    "def combineUnderscore(string):\n",
    "    return re.sub(r'\\s_\\s+', '_', string)"
   ]
  },
  {
   "cell_type": "code",
   "execution_count": 108,
   "metadata": {},
   "outputs": [],
   "source": [
    "fda['Company Clean'] = fda['Company Clean'].apply(lambda row: combineUnderscore(row))"
   ]
  },
  {
   "cell_type": "code",
   "execution_count": 28,
   "metadata": {},
   "outputs": [
    {
     "data": {
      "text/html": [
       "<div>\n",
       "<style scoped>\n",
       "    .dataframe tbody tr th:only-of-type {\n",
       "        vertical-align: middle;\n",
       "    }\n",
       "\n",
       "    .dataframe tbody tr th {\n",
       "        vertical-align: top;\n",
       "    }\n",
       "\n",
       "    .dataframe thead th {\n",
       "        text-align: right;\n",
       "    }\n",
       "</style>\n",
       "<table border=\"1\" class=\"dataframe\">\n",
       "  <thead>\n",
       "    <tr style=\"text-align: right;\">\n",
       "      <th></th>\n",
       "      <th>FDA Companies</th>\n",
       "      <th>Company Clean</th>\n",
       "    </tr>\n",
       "  </thead>\n",
       "  <tbody>\n",
       "    <tr>\n",
       "      <th>0</th>\n",
       "      <td>3D IMAGING DRUG</td>\n",
       "      <td>d imaging drug</td>\n",
       "    </tr>\n",
       "    <tr>\n",
       "      <th>1</th>\n",
       "      <td>3M</td>\n",
       "      <td>m</td>\n",
       "    </tr>\n",
       "    <tr>\n",
       "      <th>2</th>\n",
       "      <td>3M DRUG DELIVERY</td>\n",
       "      <td>m drug delivery</td>\n",
       "    </tr>\n",
       "    <tr>\n",
       "      <th>3</th>\n",
       "      <td>AAIPHARMA LLC</td>\n",
       "      <td>aaipharma llc</td>\n",
       "    </tr>\n",
       "    <tr>\n",
       "      <th>4</th>\n",
       "      <td>ABBOTT LABS</td>\n",
       "      <td>abbott labs</td>\n",
       "    </tr>\n",
       "    <tr>\n",
       "      <th>...</th>\n",
       "      <td>...</td>\n",
       "      <td>...</td>\n",
       "    </tr>\n",
       "    <tr>\n",
       "      <th>95</th>\n",
       "      <td>ANDA REPOSITORY</td>\n",
       "      <td>anda repository</td>\n",
       "    </tr>\n",
       "    <tr>\n",
       "      <th>96</th>\n",
       "      <td>ANDRX LABS LLC</td>\n",
       "      <td>andrx labs llc</td>\n",
       "    </tr>\n",
       "    <tr>\n",
       "      <th>97</th>\n",
       "      <td>ANGELINI PHARMA</td>\n",
       "      <td>angelini pharma</td>\n",
       "    </tr>\n",
       "    <tr>\n",
       "      <th>98</th>\n",
       "      <td>ANI PHARMS</td>\n",
       "      <td>ani pharms</td>\n",
       "    </tr>\n",
       "    <tr>\n",
       "      <th>99</th>\n",
       "      <td>ANI PHARMS INC</td>\n",
       "      <td>ani pharms inc</td>\n",
       "    </tr>\n",
       "  </tbody>\n",
       "</table>\n",
       "<p>100 rows × 2 columns</p>\n",
       "</div>"
      ],
      "text/plain": [
       "      FDA Companies     Company Clean\n",
       "0    3D IMAGING DRUG   d imaging drug\n",
       "1                 3M                m\n",
       "2   3M DRUG DELIVERY  m drug delivery\n",
       "3      AAIPHARMA LLC    aaipharma llc\n",
       "4        ABBOTT LABS      abbott labs\n",
       "..               ...              ...\n",
       "95   ANDA REPOSITORY  anda repository\n",
       "96    ANDRX LABS LLC   andrx labs llc\n",
       "97   ANGELINI PHARMA  angelini pharma\n",
       "98        ANI PHARMS       ani pharms\n",
       "99    ANI PHARMS INC   ani pharms inc\n",
       "\n",
       "[100 rows x 2 columns]"
      ]
     },
     "execution_count": 28,
     "metadata": {},
     "output_type": "execute_result"
    }
   ],
   "source": [
    "fda[100:3]"
   ]
  },
  {
   "cell_type": "code",
   "execution_count": 35,
   "metadata": {},
   "outputs": [],
   "source": [
    "#190 is hyphenated\n",
    "#326, 327 #the w is missing, but not the g in gan , \n",
    "#407 has inc. letting me know the punctuation didn't work\n",
    "#675 has perigo and d instead of perigo r and d, why is r missing but not the d?\n",
    "#763 is hyphenated\n",
    "#869 has a comma\n",
    "#896 is hyphenated\n",
    "#899 has a random letter, i at the end\n",
    "#946 has ampersand\n",
    "#960 has single letter, x gen\n",
    "#961 has hyphen and single letter, x-gen\n"
   ]
  },
  {
   "cell_type": "code",
   "execution_count": 109,
   "metadata": {},
   "outputs": [],
   "source": [
    "legalEntities = pd.read_csv(\"https://raw.githubusercontent.com/DSPG-Young-Scholars-Program/dspg20oss/danBranch/ossPy/keyFiles/curatedLegalEntitesRaw.csv\", quotechar = \"'\",header = None)"
   ]
  },
  {
   "cell_type": "code",
   "execution_count": 110,
   "metadata": {},
   "outputs": [],
   "source": [
    "legalEntities= legalEntities.apply(lambda col: col.str.lower())"
   ]
  },
  {
   "cell_type": "code",
   "execution_count": 111,
   "metadata": {},
   "outputs": [],
   "source": [
    "def eraseFromColumn(inputColumn,eraseList):\n",
    "   \"\"\"iteratively delete regex query matches from input list\n",
    "    \n",
    "    Keyword arguments:\n",
    "    inputColumn -- a column from a pandas dataframe, this will be the set of\n",
    "    target words/entries that deletions will be made from\n",
    "    eraseList -- a column containing strings (regex expressions) which will be\n",
    "    deleted from the inputColumn, in an iterative fashion\n",
    "    \"\"\"\n",
    "    \n",
    "   import pandas as pd\n",
    "   import re\n",
    "   \n",
    "   eraseList['changeNum']=0\n",
    "   eraseList['changeIndexes']=''\n",
    "   \n",
    "   #necessary, due to escape nonsense\n",
    "   inputColumn=inputColumn.replace(regex=True, to_replace='\\\\\\\\',value='/')\n",
    "     \n",
    "   for index, row in eraseList.iterrows():\n",
    "       \n",
    "       curReplaceVal=row[0]\n",
    "       currentRegexExpression=re.compile(curReplaceVal)\n",
    "       CurrentBoolVec=inputColumn.str.contains(currentRegexExpression,na=False)\n",
    "       eraseList['changeIndexes'].iloc[index]=[i for i, x in enumerate(CurrentBoolVec) if x]\n",
    "       eraseList['changeNum'].iloc[index]=len(eraseList['changeIndexes'].iloc[index])\n",
    "       inputColumn.replace(regex=True, to_replace=currentRegexExpression,value='', inplace=True)\n",
    "\n",
    "   return inputColumn"
   ]
  },
  {
   "cell_type": "code",
   "execution_count": 112,
   "metadata": {},
   "outputs": [
    {
     "name": "stderr",
     "output_type": "stream",
     "text": [
      "/home/ig5eq/.local/lib/python3.7/site-packages/pandas/core/indexing.py:671: SettingWithCopyWarning: \n",
      "A value is trying to be set on a copy of a slice from a DataFrame\n",
      "\n",
      "See the caveats in the documentation: https://pandas.pydata.org/pandas-docs/stable/user_guide/indexing.html#returning-a-view-versus-a-copy\n",
      "  self._setitem_with_indexer(indexer, value)\n"
     ]
    }
   ],
   "source": [
    "#remove any legal enttities from the company name \n",
    "fda['Company Clean'] = eraseFromColumn(fda['Company Clean'], legalEntities)"
   ]
  },
  {
   "cell_type": "code",
   "execution_count": 113,
   "metadata": {},
   "outputs": [],
   "source": [
    "#Count the most frequent words in the FDA dataset \n",
    "word_freq = Counter()\n",
    "\n",
    "for words in fda['Company Clean']:\n",
    "    word_freq.update(str(words).split(\" \"))"
   ]
  },
  {
   "cell_type": "code",
   "execution_count": 114,
   "metadata": {},
   "outputs": [
    {
     "data": {
      "text/plain": [
       "[('pharms', 190),\n",
       " ('pharma', 81),\n",
       " ('labs', 62),\n",
       " ('pharm', 51),\n",
       " ('usa', 21),\n",
       " ('us', 20),\n",
       " ('hlthcare', 16),\n",
       " ('and', 15),\n",
       " ('teva', 13),\n",
       " ('intl', 13)]"
      ]
     },
     "execution_count": 114,
     "metadata": {},
     "output_type": "execute_result"
    }
   ],
   "source": [
    "word_freq.most_common(10)"
   ]
  },
  {
   "cell_type": "code",
   "execution_count": 128,
   "metadata": {},
   "outputs": [],
   "source": [
    "common_words = ['pharms', 'pharma', 'labs', 'pharm','usa', 'us', 'hlthcare', 'and', 'the', 'of', 'pharmaceuticals',\n",
    "                'medical', 'products', 'laboratories', 'anda', 'supply', 'health', 'pharmaceutical','international',\n",
    "                'care','nda', 'coltd','home','healthcare', 'intl', 'group', 'holdings', 'capital', 'technologies',\n",
    "                'bank', 'university','energy', 'partners','association', 'services', 'national', 'systems',\n",
    "                'american','']"
   ]
  },
  {
   "cell_type": "code",
   "execution_count": 129,
   "metadata": {},
   "outputs": [],
   "source": [
    "fda['Company Clean'] = fda['Company Clean'].apply(lambda x: ' '.join([word for word in x.split() if word not in (common_words)]))"
   ]
  },
  {
   "cell_type": "code",
   "execution_count": 123,
   "metadata": {},
   "outputs": [
    {
     "data": {
      "text/html": [
       "<div>\n",
       "<style scoped>\n",
       "    .dataframe tbody tr th:only-of-type {\n",
       "        vertical-align: middle;\n",
       "    }\n",
       "\n",
       "    .dataframe tbody tr th {\n",
       "        vertical-align: top;\n",
       "    }\n",
       "\n",
       "    .dataframe thead th {\n",
       "        text-align: right;\n",
       "    }\n",
       "</style>\n",
       "<table border=\"1\" class=\"dataframe\">\n",
       "  <thead>\n",
       "    <tr style=\"text-align: right;\">\n",
       "      <th></th>\n",
       "      <th>FDA Companies</th>\n",
       "      <th>Company Clean</th>\n",
       "    </tr>\n",
       "  </thead>\n",
       "  <tbody>\n",
       "    <tr>\n",
       "      <th>400</th>\n",
       "      <td>HOSPIRA INC</td>\n",
       "      <td>hospira</td>\n",
       "    </tr>\n",
       "    <tr>\n",
       "      <th>401</th>\n",
       "      <td>HOT SHOTS NM LLC</td>\n",
       "      <td>hot shots nm</td>\n",
       "    </tr>\n",
       "    <tr>\n",
       "      <th>402</th>\n",
       "      <td>HOUSTON CYCLOTRON</td>\n",
       "      <td>houston cyclotron</td>\n",
       "    </tr>\n",
       "    <tr>\n",
       "      <th>403</th>\n",
       "      <td>HQ SPCLT PHARMA</td>\n",
       "      <td>hq spclt</td>\n",
       "    </tr>\n",
       "    <tr>\n",
       "      <th>404</th>\n",
       "      <td>HQ SPECIALITY PHARMA</td>\n",
       "      <td>hq speciality</td>\n",
       "    </tr>\n",
       "    <tr>\n",
       "      <th>405</th>\n",
       "      <td>HQ SPECLT PHARMA</td>\n",
       "      <td>hq speclt</td>\n",
       "    </tr>\n",
       "    <tr>\n",
       "      <th>406</th>\n",
       "      <td>HRA PHARMA</td>\n",
       "      <td>hra</td>\n",
       "    </tr>\n",
       "    <tr>\n",
       "      <th>407</th>\n",
       "      <td>HUMAN GENOME SCIENCES INC.</td>\n",
       "      <td>human genome sciences.</td>\n",
       "    </tr>\n",
       "    <tr>\n",
       "      <th>408</th>\n",
       "      <td>IBA MOLECULAR N AM</td>\n",
       "      <td>iba molecular</td>\n",
       "    </tr>\n",
       "    <tr>\n",
       "      <th>409</th>\n",
       "      <td>ICU MEDICAL INC</td>\n",
       "      <td>icu</td>\n",
       "    </tr>\n",
       "    <tr>\n",
       "      <th>410</th>\n",
       "      <td>IDT AUSTRALIA LTD</td>\n",
       "      <td>idt australia</td>\n",
       "    </tr>\n",
       "    <tr>\n",
       "      <th>411</th>\n",
       "      <td>IMCLONE</td>\n",
       "      <td>imclone</td>\n",
       "    </tr>\n",
       "    <tr>\n",
       "      <th>412</th>\n",
       "      <td>IMMUNEX</td>\n",
       "      <td>immunex</td>\n",
       "    </tr>\n",
       "    <tr>\n",
       "      <th>413</th>\n",
       "      <td>IMPAX LABS</td>\n",
       "      <td>impax</td>\n",
       "    </tr>\n",
       "    <tr>\n",
       "      <th>414</th>\n",
       "      <td>IMPAX LABS INC</td>\n",
       "      <td>impax</td>\n",
       "    </tr>\n",
       "    <tr>\n",
       "      <th>415</th>\n",
       "      <td>IMPAX PHARMS</td>\n",
       "      <td>impax</td>\n",
       "    </tr>\n",
       "    <tr>\n",
       "      <th>416</th>\n",
       "      <td>INCYTE CORP</td>\n",
       "      <td>incyte</td>\n",
       "    </tr>\n",
       "    <tr>\n",
       "      <th>417</th>\n",
       "      <td>INDCHEMIE HEALTH</td>\n",
       "      <td>indchemie</td>\n",
       "    </tr>\n",
       "    <tr>\n",
       "      <th>418</th>\n",
       "      <td>INDIVIOR INC</td>\n",
       "      <td>indivior</td>\n",
       "    </tr>\n",
       "    <tr>\n",
       "      <th>419</th>\n",
       "      <td>INDOCO REMEDIES</td>\n",
       "      <td>indoco remedies</td>\n",
       "    </tr>\n",
       "    <tr>\n",
       "      <th>420</th>\n",
       "      <td>INGENUS PHARMS NJ</td>\n",
       "      <td>ingenus nj</td>\n",
       "    </tr>\n",
       "    <tr>\n",
       "      <th>421</th>\n",
       "      <td>INNOGENIX</td>\n",
       "      <td>innogenix</td>\n",
       "    </tr>\n",
       "    <tr>\n",
       "      <th>422</th>\n",
       "      <td>INSIGHT PHARMS</td>\n",
       "      <td>insight</td>\n",
       "    </tr>\n",
       "    <tr>\n",
       "      <th>423</th>\n",
       "      <td>INST BIOCHEM</td>\n",
       "      <td>inst biochem</td>\n",
       "    </tr>\n",
       "    <tr>\n",
       "      <th>424</th>\n",
       "      <td>INSTITUT BIOCHIMIQUE</td>\n",
       "      <td>institut biochimique</td>\n",
       "    </tr>\n",
       "    <tr>\n",
       "      <th>425</th>\n",
       "      <td>INSYS DEV CO INC</td>\n",
       "      <td>insys dev</td>\n",
       "    </tr>\n",
       "    <tr>\n",
       "      <th>426</th>\n",
       "      <td>INTELLIPHARMACEUTICS</td>\n",
       "      <td>intellipharmaceutics</td>\n",
       "    </tr>\n",
       "    <tr>\n",
       "      <th>427</th>\n",
       "      <td>INTERPHARMA PRAHA AS</td>\n",
       "      <td>interpharma praha</td>\n",
       "    </tr>\n",
       "    <tr>\n",
       "      <th>428</th>\n",
       "      <td>INTL MEDICATION</td>\n",
       "      <td>medication</td>\n",
       "    </tr>\n",
       "    <tr>\n",
       "      <th>429</th>\n",
       "      <td>INVAGEN PHARMS</td>\n",
       "      <td>invagen</td>\n",
       "    </tr>\n",
       "    <tr>\n",
       "      <th>430</th>\n",
       "      <td>INVENTIA HLTHCARE</td>\n",
       "      <td>inventia</td>\n",
       "    </tr>\n",
       "    <tr>\n",
       "      <th>431</th>\n",
       "      <td>IPCA LABS LTD</td>\n",
       "      <td>ipca</td>\n",
       "    </tr>\n",
       "    <tr>\n",
       "      <th>432</th>\n",
       "      <td>IPR</td>\n",
       "      <td>ipr</td>\n",
       "    </tr>\n",
       "    <tr>\n",
       "      <th>433</th>\n",
       "      <td>IPSEN BIOPHARM LTD</td>\n",
       "      <td>ipsen biopharm</td>\n",
       "    </tr>\n",
       "    <tr>\n",
       "      <th>434</th>\n",
       "      <td>IPSEN INC</td>\n",
       "      <td>ipsen</td>\n",
       "    </tr>\n",
       "    <tr>\n",
       "      <th>435</th>\n",
       "      <td>IPSEN PHARMA</td>\n",
       "      <td>ipsen</td>\n",
       "    </tr>\n",
       "    <tr>\n",
       "      <th>436</th>\n",
       "      <td>IROKO PHARMS</td>\n",
       "      <td>iroko</td>\n",
       "    </tr>\n",
       "    <tr>\n",
       "      <th>437</th>\n",
       "      <td>IROKO PHARMS LLC</td>\n",
       "      <td>iroko</td>\n",
       "    </tr>\n",
       "    <tr>\n",
       "      <th>438</th>\n",
       "      <td>IRONWOOD PHARMS INC</td>\n",
       "      <td>ironwood</td>\n",
       "    </tr>\n",
       "    <tr>\n",
       "      <th>439</th>\n",
       "      <td>ISTITUTO BIO ITA SPA</td>\n",
       "      <td>istituto bio ita</td>\n",
       "    </tr>\n",
       "    <tr>\n",
       "      <th>440</th>\n",
       "      <td>IVAX PHARMS INC</td>\n",
       "      <td>ivax</td>\n",
       "    </tr>\n",
       "    <tr>\n",
       "      <th>441</th>\n",
       "      <td>IVAX SUB TEVA PHARMS</td>\n",
       "      <td>ivax sub teva</td>\n",
       "    </tr>\n",
       "    <tr>\n",
       "      <th>442</th>\n",
       "      <td>J AND J CONSUMER INC</td>\n",
       "      <td>j consumer</td>\n",
       "    </tr>\n",
       "    <tr>\n",
       "      <th>443</th>\n",
       "      <td>JANSSEN BIOTECH</td>\n",
       "      <td>janssen biotech</td>\n",
       "    </tr>\n",
       "    <tr>\n",
       "      <th>444</th>\n",
       "      <td>JANSSEN PHARMS</td>\n",
       "      <td>janssen</td>\n",
       "    </tr>\n",
       "    <tr>\n",
       "      <th>445</th>\n",
       "      <td>JANSSEN PRODS</td>\n",
       "      <td>janssen prods</td>\n",
       "    </tr>\n",
       "    <tr>\n",
       "      <th>446</th>\n",
       "      <td>JANSSEN R AND D</td>\n",
       "      <td>janssen d</td>\n",
       "    </tr>\n",
       "    <tr>\n",
       "      <th>447</th>\n",
       "      <td>JANSSEN RES AND DEV</td>\n",
       "      <td>janssen res dev</td>\n",
       "    </tr>\n",
       "    <tr>\n",
       "      <th>448</th>\n",
       "      <td>JANSSEN THERAP</td>\n",
       "      <td>janssen therap</td>\n",
       "    </tr>\n",
       "    <tr>\n",
       "      <th>449</th>\n",
       "      <td>JAVELIN PHARMS INC</td>\n",
       "      <td>javelin</td>\n",
       "    </tr>\n",
       "  </tbody>\n",
       "</table>\n",
       "</div>"
      ],
      "text/plain": [
       "                 FDA Companies            Company Clean\n",
       "400                 HOSPIRA INC                 hospira\n",
       "401            HOT SHOTS NM LLC            hot shots nm\n",
       "402           HOUSTON CYCLOTRON       houston cyclotron\n",
       "403             HQ SPCLT PHARMA                hq spclt\n",
       "404        HQ SPECIALITY PHARMA           hq speciality\n",
       "405            HQ SPECLT PHARMA               hq speclt\n",
       "406                  HRA PHARMA                     hra\n",
       "407  HUMAN GENOME SCIENCES INC.  human genome sciences.\n",
       "408          IBA MOLECULAR N AM           iba molecular\n",
       "409             ICU MEDICAL INC                     icu\n",
       "410           IDT AUSTRALIA LTD           idt australia\n",
       "411                     IMCLONE                 imclone\n",
       "412                     IMMUNEX                 immunex\n",
       "413                  IMPAX LABS                   impax\n",
       "414              IMPAX LABS INC                   impax\n",
       "415                IMPAX PHARMS                   impax\n",
       "416                 INCYTE CORP                  incyte\n",
       "417            INDCHEMIE HEALTH               indchemie\n",
       "418                INDIVIOR INC                indivior\n",
       "419             INDOCO REMEDIES         indoco remedies\n",
       "420           INGENUS PHARMS NJ              ingenus nj\n",
       "421                   INNOGENIX               innogenix\n",
       "422              INSIGHT PHARMS                 insight\n",
       "423                INST BIOCHEM            inst biochem\n",
       "424        INSTITUT BIOCHIMIQUE    institut biochimique\n",
       "425            INSYS DEV CO INC               insys dev\n",
       "426        INTELLIPHARMACEUTICS    intellipharmaceutics\n",
       "427        INTERPHARMA PRAHA AS       interpharma praha\n",
       "428             INTL MEDICATION              medication\n",
       "429              INVAGEN PHARMS                 invagen\n",
       "430           INVENTIA HLTHCARE                inventia\n",
       "431               IPCA LABS LTD                    ipca\n",
       "432                         IPR                     ipr\n",
       "433          IPSEN BIOPHARM LTD          ipsen biopharm\n",
       "434                   IPSEN INC                   ipsen\n",
       "435                IPSEN PHARMA                   ipsen\n",
       "436                IROKO PHARMS                   iroko\n",
       "437            IROKO PHARMS LLC                   iroko\n",
       "438         IRONWOOD PHARMS INC                ironwood\n",
       "439        ISTITUTO BIO ITA SPA        istituto bio ita\n",
       "440             IVAX PHARMS INC                    ivax\n",
       "441        IVAX SUB TEVA PHARMS           ivax sub teva\n",
       "442        J AND J CONSUMER INC              j consumer\n",
       "443             JANSSEN BIOTECH         janssen biotech\n",
       "444              JANSSEN PHARMS                 janssen\n",
       "445               JANSSEN PRODS           janssen prods\n",
       "446             JANSSEN R AND D               janssen d\n",
       "447         JANSSEN RES AND DEV         janssen res dev\n",
       "448              JANSSEN THERAP          janssen therap\n",
       "449          JAVELIN PHARMS INC                 javelin"
      ]
     },
     "execution_count": 123,
     "metadata": {},
     "output_type": "execute_result"
    }
   ],
   "source": [
    "fda[400:450]\n",
    "#272"
   ]
  },
  {
   "cell_type": "code",
   "execution_count": 130,
   "metadata": {},
   "outputs": [],
   "source": [
    "fda_clean = fda"
   ]
  },
  {
   "cell_type": "code",
   "execution_count": 131,
   "metadata": {},
   "outputs": [],
   "source": [
    "fda_clean.to_csv(\"../data/working/fda_clean.csv\")"
   ]
  }
 ],
 "metadata": {
  "kernelspec": {
   "display_name": "Python 3.7",
   "language": "python",
   "name": "python37"
  },
  "language_info": {
   "codemirror_mode": {
    "name": "ipython",
    "version": 3
   },
   "file_extension": ".py",
   "mimetype": "text/x-python",
   "name": "python",
   "nbconvert_exporter": "python",
   "pygments_lexer": "ipython3",
   "version": "3.7.4"
  }
 },
 "nbformat": 4,
 "nbformat_minor": 4
}
