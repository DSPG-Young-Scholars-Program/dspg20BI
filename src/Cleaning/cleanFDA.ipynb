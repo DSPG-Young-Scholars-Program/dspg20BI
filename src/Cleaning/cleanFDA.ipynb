{
 "cells": [
  {
   "cell_type": "markdown",
   "metadata": {},
   "source": [
    "### CLEANING FDA DATA SET\n",
    "\n",
    "This Jupyter Notebook contains the code used to clean the FDA dataset. The following cleaning methods (each its own function defined in this notebook) were applied to the dateset:\n",
    "\n",
    "Lower case method tolower\n",
    "\n",
    "Punctuation\n",
    "  Remove parenthesize + parenthesized content\n",
    "    \n",
    "   Keep \n",
    "     Hyphens/Dashes,\n",
    "     Ampersands,\n",
    "     Underscore,\n",
    "     Remove everything else (use Neil's code)\n",
    "    \n",
    "Remove legal entity labels – Daniel has a list link – regex patterns\n",
    "\n",
    "Count unique string tokens\n",
    "\n",
    "Inspect top 10-30 string token\n",
    "s\n",
    "Determine what number top common string tokens to remove"
   ]
  },
  {
   "cell_type": "code",
   "execution_count": 4,
   "metadata": {},
   "outputs": [],
   "source": [
    "import pandas as pd\n",
    "import re\n",
    "from collections import Counter"
   ]
  },
  {
   "cell_type": "code",
   "execution_count": 86,
   "metadata": {},
   "outputs": [],
   "source": [
    "fda = pd.read_excel('../data/original/fda_companies.xlsx',\n",
    "              sheet_name='FDA Company List')"
   ]
  },
  {
   "cell_type": "code",
   "execution_count": 87,
   "metadata": {},
   "outputs": [
    {
     "name": "stdout",
     "output_type": "stream",
     "text": [
      "!\"#'()*+,./:;<=>?@[\\]^`{|}~\n"
     ]
    }
   ],
   "source": [
    "#This block first generates the list of punctuations and then removes our exceptions from that list.\n",
    "import string    \n",
    "\n",
    "removeset=string.punctuation\n",
    "\n",
    "removeset=removeset.replace(\"-\",\"\") #Don't remove dashes\n",
    "\n",
    "removeset=removeset.replace(\"&\",\"\") #Don't remove ampersand\n",
    "\n",
    "removeset=removeset.replace(\"_\",\"\") #Don't remove underscore\n",
    "\n",
    "removeset=removeset.replace(\"%\",\"\") #Don't remove percent\n",
    "\n",
    "removeset=removeset.replace(\"$\",\"\") #Don't remove dollar\n",
    "\n",
    "print(removeset)"
   ]
  },
  {
   "cell_type": "code",
   "execution_count": 88,
   "metadata": {},
   "outputs": [
    {
     "data": {
      "text/plain": [
       "Index(['FDA Companies '], dtype='object')"
      ]
     },
     "execution_count": 88,
     "metadata": {},
     "output_type": "execute_result"
    }
   ],
   "source": [
    "fda.columns"
   ]
  },
  {
   "cell_type": "code",
   "execution_count": 89,
   "metadata": {},
   "outputs": [],
   "source": [
    "#function that gets rid of unwanted punctuation\n",
    "#This does get rid of ' within a string (ex. l'oreal becomes l oreal) so maybe recheck?\n",
    "def removeUnwantedPunc(string):\n",
    "    return re.sub('[!\"#\\'()*+,./:;<=>?@[\\]^`{|}~]', '', string)"
   ]
  },
  {
   "cell_type": "code",
   "execution_count": 90,
   "metadata": {},
   "outputs": [],
   "source": [
    "#Removes the special characters defined in remove set\n",
    "fda['Company Clean'] = fda['FDA Companies '].apply(removeUnwantedPunc)"
   ]
  },
  {
   "cell_type": "code",
   "execution_count": 91,
   "metadata": {},
   "outputs": [],
   "source": [
    "#set everything to lower case\n",
    "fda['Company Clean'] = fda.apply(lambda col: col.str.lower())"
   ]
  },
  {
   "cell_type": "code",
   "execution_count": 92,
   "metadata": {},
   "outputs": [],
   "source": [
    "#Removes parenthesis\n",
    "fda['Company Clean'] = fda['Company Clean'].str.replace(r\"\\(.*\\)\",\"\")"
   ]
  },
  {
   "cell_type": "code",
   "execution_count": 93,
   "metadata": {},
   "outputs": [],
   "source": [
    "# remove all single characters (This step is done first, because later there are single chars we want to retain.)\n",
    "def removeSingle(string):\n",
    "    return  re.sub(r'\\s+[a-zA-Z]\\s+', ' ', string)"
   ]
  },
  {
   "cell_type": "code",
   "execution_count": 94,
   "metadata": {},
   "outputs": [],
   "source": [
    "fda['Company Clean'] = fda['Company Clean'].apply(lambda row: removeSingle(row))"
   ]
  },
  {
   "cell_type": "code",
   "execution_count": 95,
   "metadata": {},
   "outputs": [],
   "source": [
    "# remove all numbers\n",
    "def removeNum(string):\n",
    "    return re.sub(r'[0-9]','', string)"
   ]
  },
  {
   "cell_type": "code",
   "execution_count": 96,
   "metadata": {},
   "outputs": [],
   "source": [
    "fda['Company Clean'] = fda['Company Clean'].apply(lambda row: removeNum(row))"
   ]
  },
  {
   "cell_type": "code",
   "execution_count": 97,
   "metadata": {},
   "outputs": [],
   "source": [
    "# Remove single characters from the start\n",
    "def removecharb(string):\n",
    "    return re.sub(r'\\^[a-zA-Z]\\s+', ' ', string)"
   ]
  },
  {
   "cell_type": "code",
   "execution_count": 98,
   "metadata": {},
   "outputs": [],
   "source": [
    "fda['Company Clean'] = fda['Company Clean'].apply(lambda row: removecharb(row))"
   ]
  },
  {
   "cell_type": "code",
   "execution_count": 99,
   "metadata": {},
   "outputs": [],
   "source": [
    "# Substituting multiple spaces with single space\n",
    "def removeSpaces(string):\n",
    "    return re.sub(r'\\s+', ' ', string, flags=re.I)"
   ]
  },
  {
   "cell_type": "code",
   "execution_count": 100,
   "metadata": {},
   "outputs": [],
   "source": [
    "fda['Company Clean'] = fda['Company Clean'].apply(lambda row: removeSpaces(row))"
   ]
  },
  {
   "cell_type": "code",
   "execution_count": 101,
   "metadata": {},
   "outputs": [],
   "source": [
    "# Removing prefixed 'b'\n",
    "def removeB(string):\n",
    "    return re.sub(r'^b\\s+', '', string)"
   ]
  },
  {
   "cell_type": "code",
   "execution_count": 102,
   "metadata": {},
   "outputs": [],
   "source": [
    "fda['Company Clean'] = fda['Company Clean'].apply(lambda row: removeB(row))"
   ]
  },
  {
   "cell_type": "code",
   "execution_count": 103,
   "metadata": {},
   "outputs": [],
   "source": [
    "#Make dashes into combined words\n",
    "def combineDash(string):\n",
    "    return re.sub(r'\\s-\\s+', '-', string)"
   ]
  },
  {
   "cell_type": "code",
   "execution_count": 104,
   "metadata": {},
   "outputs": [],
   "source": [
    "fda['Company Clean'] = fda['Company Clean'].apply(lambda row: combineDash(row))"
   ]
  },
  {
   "cell_type": "code",
   "execution_count": 105,
   "metadata": {},
   "outputs": [],
   "source": [
    "#Make ampersand into combined words\n",
    "def combineAmpersand(string):\n",
    "    return  re.sub(r'\\s&\\s+', '&', string)"
   ]
  },
  {
   "cell_type": "code",
   "execution_count": 106,
   "metadata": {},
   "outputs": [],
   "source": [
    "fda['Company Clean'] = fda['Company Clean'].apply(lambda row: combineAmpersand(row))"
   ]
  },
  {
   "cell_type": "code",
   "execution_count": 107,
   "metadata": {},
   "outputs": [],
   "source": [
    "#Make underscore into combined words\n",
    "def combineUnderscore(string):\n",
    "    return re.sub(r'\\s_\\s+', '_', string)"
   ]
  },
  {
   "cell_type": "code",
   "execution_count": 108,
   "metadata": {},
   "outputs": [],
   "source": [
    "fda['Company Clean'] = fda['Company Clean'].apply(lambda row: combineUnderscore(row))"
   ]
  },
  {
   "cell_type": "code",
   "execution_count": 28,
   "metadata": {},
   "outputs": [
    {
     "data": {
      "text/html": [
       "<div>\n",
       "<style scoped>\n",
       "    .dataframe tbody tr th:only-of-type {\n",
       "        vertical-align: middle;\n",
       "    }\n",
       "\n",
       "    .dataframe tbody tr th {\n",
       "        vertical-align: top;\n",
       "    }\n",
       "\n",
       "    .dataframe thead th {\n",
       "        text-align: right;\n",
       "    }\n",
       "</style>\n",
       "<table border=\"1\" class=\"dataframe\">\n",
       "  <thead>\n",
       "    <tr style=\"text-align: right;\">\n",
       "      <th></th>\n",
       "      <th>FDA Companies</th>\n",
       "      <th>Company Clean</th>\n",
       "    </tr>\n",
       "  </thead>\n",
       "  <tbody>\n",
       "    <tr>\n",
       "      <th>0</th>\n",
       "      <td>3D IMAGING DRUG</td>\n",
       "      <td>d imaging drug</td>\n",
       "    </tr>\n",
       "    <tr>\n",
       "      <th>1</th>\n",
       "      <td>3M</td>\n",
       "      <td>m</td>\n",
       "    </tr>\n",
       "    <tr>\n",
       "      <th>2</th>\n",
       "      <td>3M DRUG DELIVERY</td>\n",
       "      <td>m drug delivery</td>\n",
       "    </tr>\n",
       "    <tr>\n",
       "      <th>3</th>\n",
       "      <td>AAIPHARMA LLC</td>\n",
       "      <td>aaipharma llc</td>\n",
       "    </tr>\n",
       "    <tr>\n",
       "      <th>4</th>\n",
       "      <td>ABBOTT LABS</td>\n",
       "      <td>abbott labs</td>\n",
       "    </tr>\n",
       "    <tr>\n",
       "      <th>...</th>\n",
       "      <td>...</td>\n",
       "      <td>...</td>\n",
       "    </tr>\n",
       "    <tr>\n",
       "      <th>95</th>\n",
       "      <td>ANDA REPOSITORY</td>\n",
       "      <td>anda repository</td>\n",
       "    </tr>\n",
       "    <tr>\n",
       "      <th>96</th>\n",
       "      <td>ANDRX LABS LLC</td>\n",
       "      <td>andrx labs llc</td>\n",
       "    </tr>\n",
       "    <tr>\n",
       "      <th>97</th>\n",
       "      <td>ANGELINI PHARMA</td>\n",
       "      <td>angelini pharma</td>\n",
       "    </tr>\n",
       "    <tr>\n",
       "      <th>98</th>\n",
       "      <td>ANI PHARMS</td>\n",
       "      <td>ani pharms</td>\n",
       "    </tr>\n",
       "    <tr>\n",
       "      <th>99</th>\n",
       "      <td>ANI PHARMS INC</td>\n",
       "      <td>ani pharms inc</td>\n",
       "    </tr>\n",
       "  </tbody>\n",
       "</table>\n",
       "<p>100 rows × 2 columns</p>\n",
       "</div>"
      ],
      "text/plain": [
       "      FDA Companies     Company Clean\n",
       "0    3D IMAGING DRUG   d imaging drug\n",
       "1                 3M                m\n",
       "2   3M DRUG DELIVERY  m drug delivery\n",
       "3      AAIPHARMA LLC    aaipharma llc\n",
       "4        ABBOTT LABS      abbott labs\n",
       "..               ...              ...\n",
       "95   ANDA REPOSITORY  anda repository\n",
       "96    ANDRX LABS LLC   andrx labs llc\n",
       "97   ANGELINI PHARMA  angelini pharma\n",
       "98        ANI PHARMS       ani pharms\n",
       "99    ANI PHARMS INC   ani pharms inc\n",
       "\n",
       "[100 rows x 2 columns]"
      ]
     },
     "execution_count": 28,
     "metadata": {},
     "output_type": "execute_result"
    }
   ],
   "source": [
    "fda[100:3]"
   ]
  },
  {
   "cell_type": "code",
   "execution_count": 35,
   "metadata": {},
   "outputs": [],
   "source": [
    "#190 is hyphenated\n",
    "#326, 327 #the w is missing, but not the g in gan , \n",
    "#407 has inc. letting me know the punctuation didn't work\n",
    "#675 has perigo and d instead of perigo r and d, why is r missing but not the d?\n",
    "#763 is hyphenated\n",
    "#869 has a comma\n",
    "#896 is hyphenated\n",
    "#899 has a random letter, i at the end\n",
    "#946 has ampersand\n",
    "#960 has single letter, x gen\n",
    "#961 has hyphen and single letter, x-gen\n"
   ]
  },
  {
   "cell_type": "code",
   "execution_count": 109,
   "metadata": {},
   "outputs": [],
   "source": [
    "legalEntities = pd.read_csv(\"https://raw.githubusercontent.com/DSPG-Young-Scholars-Program/dspg20oss/danBranch/ossPy/keyFiles/curatedLegalEntitesRaw.csv\", quotechar = \"'\",header = None)"
   ]
  },
  {
   "cell_type": "code",
   "execution_count": 110,
   "metadata": {},
   "outputs": [],
   "source": [
    "legalEntities= legalEntities.apply(lambda col: col.str.lower())"
   ]
  },
  {
   "cell_type": "code",
   "execution_count": 111,
   "metadata": {},
   "outputs": [],
   "source": [
    "def eraseFromColumn(inputColumn,eraseList):\n",
    "   \"\"\"iteratively delete regex query matches from input list\n",
    "    \n",
    "    Keyword arguments:\n",
    "    inputColumn -- a column from a pandas dataframe, this will be the set of\n",
    "    target words/entries that deletions will be made from\n",
    "    eraseList -- a column containing strings (regex expressions) which will be\n",
    "    deleted from the inputColumn, in an iterative fashion\n",
    "    \"\"\"\n",
    "    \n",
    "   import pandas as pd\n",
    "   import re\n",
    "   \n",
    "   eraseList['changeNum']=0\n",
    "   eraseList['changeIndexes']=''\n",
    "   \n",
    "   #necessary, due to escape nonsense\n",
    "   inputColumn=inputColumn.replace(regex=True, to_replace='\\\\\\\\',value='/')\n",
    "     \n",
    "   for index, row in eraseList.iterrows():\n",
    "       \n",
    "       curReplaceVal=row[0]\n",
    "       currentRegexExpression=re.compile(curReplaceVal)\n",
    "       CurrentBoolVec=inputColumn.str.contains(currentRegexExpression,na=False)\n",
    "       eraseList['changeIndexes'].iloc[index]=[i for i, x in enumerate(CurrentBoolVec) if x]\n",
    "       eraseList['changeNum'].iloc[index]=len(eraseList['changeIndexes'].iloc[index])\n",
    "       inputColumn.replace(regex=True, to_replace=currentRegexExpression,value='', inplace=True)\n",
    "\n",
    "   return inputColumn"
   ]
  },
  {
   "cell_type": "code",
   "execution_count": 112,
   "metadata": {},
   "outputs": [
    {
     "name": "stderr",
     "output_type": "stream",
     "text": [
      "/home/ig5eq/.local/lib/python3.7/site-packages/pandas/core/indexing.py:671: SettingWithCopyWarning: \n",
      "A value is trying to be set on a copy of a slice from a DataFrame\n",
      "\n",
      "See the caveats in the documentation: https://pandas.pydata.org/pandas-docs/stable/user_guide/indexing.html#returning-a-view-versus-a-copy\n",
      "  self._setitem_with_indexer(indexer, value)\n"
     ]
    }
   ],
   "source": [
    "#remove any legal enttities from the company name \n",
    "fda['Company Clean'] = eraseFromColumn(fda['Company Clean'], legalEntities)"
   ]
  },
  {
   "cell_type": "code",
   "execution_count": 1,
   "metadata": {},
   "outputs": [
    {
     "ename": "NameError",
     "evalue": "name 'Counter' is not defined",
     "output_type": "error",
     "traceback": [
      "\u001b[0;31m---------------------------------------------------------------------------\u001b[0m",
      "\u001b[0;31mNameError\u001b[0m                                 Traceback (most recent call last)",
      "\u001b[0;32m<ipython-input-1-8eb5f7292058>\u001b[0m in \u001b[0;36m<module>\u001b[0;34m\u001b[0m\n\u001b[1;32m      1\u001b[0m \u001b[0;31m#Count the most frequent words in the FDA dataset\u001b[0m\u001b[0;34m\u001b[0m\u001b[0;34m\u001b[0m\u001b[0;34m\u001b[0m\u001b[0m\n\u001b[0;32m----> 2\u001b[0;31m \u001b[0mword_freq\u001b[0m \u001b[0;34m=\u001b[0m \u001b[0mCounter\u001b[0m\u001b[0;34m(\u001b[0m\u001b[0;34m)\u001b[0m\u001b[0;34m\u001b[0m\u001b[0;34m\u001b[0m\u001b[0m\n\u001b[0m\u001b[1;32m      3\u001b[0m \u001b[0;34m\u001b[0m\u001b[0m\n\u001b[1;32m      4\u001b[0m \u001b[0;32mfor\u001b[0m \u001b[0mwords\u001b[0m \u001b[0;32min\u001b[0m \u001b[0mfda\u001b[0m\u001b[0;34m[\u001b[0m\u001b[0;34m'Company Clean'\u001b[0m\u001b[0;34m]\u001b[0m\u001b[0;34m:\u001b[0m \u001b[0;31m#for word in the column Company Clean\u001b[0m\u001b[0;34m\u001b[0m\u001b[0;34m\u001b[0m\u001b[0m\n\u001b[1;32m      5\u001b[0m     \u001b[0mword_freq\u001b[0m\u001b[0;34m.\u001b[0m\u001b[0mupdate\u001b[0m\u001b[0;34m(\u001b[0m\u001b[0mstr\u001b[0m\u001b[0;34m(\u001b[0m\u001b[0mwords\u001b[0m\u001b[0;34m)\u001b[0m\u001b[0;34m.\u001b[0m\u001b[0msplit\u001b[0m\u001b[0;34m(\u001b[0m\u001b[0;34m\" \"\u001b[0m\u001b[0;34m)\u001b[0m\u001b[0;34m)\u001b[0m \u001b[0;31m#count each word in the input and add count of word appperance to counter\u001b[0m\u001b[0;34m\u001b[0m\u001b[0;34m\u001b[0m\u001b[0m\n",
      "\u001b[0;31mNameError\u001b[0m: name 'Counter' is not defined"
     ]
    }
   ],
   "source": [
    "#Count the most frequent words in the FDA dataset \n",
    "word_freq = Counter()\n",
    "\n",
    "for words in fda['Company Clean']: #for word in the column Company Clean\n",
    "    word_freq.update(str(words).split(\" \")) #count each word in the input and add count of word appperance to counter"
   ]
  },
  {
   "cell_type": "code",
   "execution_count": 114,
   "metadata": {},
   "outputs": [
    {
     "data": {
      "text/plain": [
       "[('pharms', 190),\n",
       " ('pharma', 81),\n",
       " ('labs', 62),\n",
       " ('pharm', 51),\n",
       " ('usa', 21),\n",
       " ('us', 20),\n",
       " ('hlthcare', 16),\n",
       " ('and', 15),\n",
       " ('teva', 13),\n",
       " ('intl', 13)]"
      ]
     },
     "execution_count": 114,
     "metadata": {},
     "output_type": "execute_result"
    }
   ],
   "source": [
    "word_freq.most_common(10)"
   ]
  },
  {
   "cell_type": "code",
   "execution_count": 128,
   "metadata": {},
   "outputs": [],
   "source": [
    "#a list of common words found in the FDA,DNA and NDC data set\n",
    "common_words = ['pharms', 'pharma', 'labs', 'pharm','usa', 'us', 'hlthcare', 'and', 'the', 'of', 'pharmaceuticals',\n",
    "                'medical', 'products', 'laboratories', 'anda', 'supply', 'health', 'pharmaceutical','international',\n",
    "                'care','nda', 'coltd','home','healthcare', 'intl', 'group', 'holdings', 'capital', 'technologies',\n",
    "                'bank', 'university','energy', 'partners','association', 'services', 'national', 'systems',\n",
    "                'american','']\n",
    "\n"
   ]
  },
  {
   "cell_type": "code",
   "execution_count": 129,
   "metadata": {},
   "outputs": [],
   "source": [
    "#Function that removes the common words from the company name. specifically for each entry it seperate the words and adds them back together if the words is not found in the list common_words\n",
    "fda['Company Clean'] = fda['Company Clean'].apply(lambda row: ' '.join([word for word in row.split() if word not in (common_words)]))"
   ]
  },
  {
   "cell_type": "code",
   "execution_count": 131,
   "metadata": {},
   "outputs": [],
   "source": [
    "#save the new fda clean df to working under the name fda_clean.csv\n",
    "fda.to_csv(\"../data/working/fda_clean.csv\")"
   ]
  }
 ],
 "metadata": {
  "kernelspec": {
   "display_name": "Python 3.7",
   "language": "python",
   "name": "python37"
  },
  "language_info": {
   "codemirror_mode": {
    "name": "ipython",
    "version": 3
   },
   "file_extension": ".py",
   "mimetype": "text/x-python",
   "name": "python",
   "nbconvert_exporter": "python",
   "pygments_lexer": "ipython3",
   "version": "3.7.4"
  }
 },
 "nbformat": 4,
 "nbformat_minor": 4
}
