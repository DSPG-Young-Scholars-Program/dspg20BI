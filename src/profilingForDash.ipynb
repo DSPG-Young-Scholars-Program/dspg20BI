{
 "cells": [
  {
   "cell_type": "code",
   "execution_count": 6,
   "metadata": {},
   "outputs": [],
   "source": [
    "import numpy as np\n",
    "import pandas as pd\n",
    "import json\n",
    "import gzip\n",
    "from collections import Counter \n",
    "from datetime import datetime as dt\n",
    "import matplotlib.pyplot as plt\n",
    "%matplotlib inline"
   ]
  },
  {
   "cell_type": "code",
   "execution_count": 2,
   "metadata": {},
   "outputs": [],
   "source": [
    "dna = pd.read_json('../data/original/DNA_DATA_FULL.gz', compression='gzip') "
   ]
  },
  {
   "cell_type": "code",
   "execution_count": 3,
   "metadata": {},
   "outputs": [],
   "source": [
    "companies = dna[['company_codes', 'company_codes_occur', 'company_codes_about', 'company_codes_lineage', 'company_codes_relevance']]"
   ]
  },
  {
   "cell_type": "code",
   "execution_count": 4,
   "metadata": {},
   "outputs": [],
   "source": [
    "#Uploading the data dictionary into a dataframe\n",
    "code_dict = pd.read_csv(\"../data/original/companies.csv\")"
   ]
  },
  {
   "cell_type": "code",
   "execution_count": 18,
   "metadata": {},
   "outputs": [],
   "source": [
    "validity_col = dna[['company_codes', 'company_codes_occur', 'company_codes_about', 'company_codes_lineage', 'company_codes_relevance', 'body', 'publication_datetime']]\n",
    "profile = pd.DataFrame({\"Validity\": np.zeros(7)}).set_index(validity_col.columns)"
   ]
  },
  {
   "cell_type": "code",
   "execution_count": 19,
   "metadata": {},
   "outputs": [
    {
     "data": {
      "text/html": [
       "<div>\n",
       "<style scoped>\n",
       "    .dataframe tbody tr th:only-of-type {\n",
       "        vertical-align: middle;\n",
       "    }\n",
       "\n",
       "    .dataframe tbody tr th {\n",
       "        vertical-align: top;\n",
       "    }\n",
       "\n",
       "    .dataframe thead th {\n",
       "        text-align: right;\n",
       "    }\n",
       "</style>\n",
       "<table border=\"1\" class=\"dataframe\">\n",
       "  <thead>\n",
       "    <tr style=\"text-align: right;\">\n",
       "      <th></th>\n",
       "      <th>Validity</th>\n",
       "    </tr>\n",
       "  </thead>\n",
       "  <tbody>\n",
       "    <tr>\n",
       "      <th>company_codes</th>\n",
       "      <td>0.0</td>\n",
       "    </tr>\n",
       "    <tr>\n",
       "      <th>company_codes_occur</th>\n",
       "      <td>0.0</td>\n",
       "    </tr>\n",
       "    <tr>\n",
       "      <th>company_codes_about</th>\n",
       "      <td>0.0</td>\n",
       "    </tr>\n",
       "    <tr>\n",
       "      <th>company_codes_lineage</th>\n",
       "      <td>0.0</td>\n",
       "    </tr>\n",
       "    <tr>\n",
       "      <th>company_codes_relevance</th>\n",
       "      <td>0.0</td>\n",
       "    </tr>\n",
       "    <tr>\n",
       "      <th>body</th>\n",
       "      <td>0.0</td>\n",
       "    </tr>\n",
       "    <tr>\n",
       "      <th>publication_datetime</th>\n",
       "      <td>0.0</td>\n",
       "    </tr>\n",
       "  </tbody>\n",
       "</table>\n",
       "</div>"
      ],
      "text/plain": [
       "                         Validity\n",
       "company_codes                 0.0\n",
       "company_codes_occur           0.0\n",
       "company_codes_about           0.0\n",
       "company_codes_lineage         0.0\n",
       "company_codes_relevance       0.0\n",
       "body                          0.0\n",
       "publication_datetime          0.0"
      ]
     },
     "execution_count": 19,
     "metadata": {},
     "output_type": "execute_result"
    }
   ],
   "source": [
    "profile"
   ]
  },
  {
   "cell_type": "code",
   "execution_count": 27,
   "metadata": {},
   "outputs": [],
   "source": [
    "#Here is the validity function I will be using\n",
    "#returns the sum of True and divides by the length of the unique list\n",
    "def checkValidity(ls, col = code_dict.code.tolist()):\n",
    "    return sum([code in col for code in ls]) / len(ls) * 100"
   ]
  },
  {
   "cell_type": "code",
   "execution_count": 21,
   "metadata": {},
   "outputs": [
    {
     "name": "stdout",
     "output_type": "stream",
     "text": [
      "['NAVVIG', 'ZENVC', 'BOAOOU', 'SPIEBT', 'GSSIAH', 'UHAFWL', 'PUCOCR', 'SHUNII', 'OTHERP', 'MREINT']\n",
      "There are 73688 unique company codes\n"
     ]
    }
   ],
   "source": [
    "#Getting the unique company codes\n",
    "unique_company_codes = set()\n",
    "for value in companies['company_codes']:\n",
    "    unique_company_codes.update(value.split(\",\"))\n",
    "\n",
    "#Convert set back to list\n",
    "unique_company_codes = list(unique_company_codes)\n",
    "unique_company_codes = unique_company_codes[1:] #The first element was '', so I didn't include it in the final list\n",
    "unique_company_codes = [word.upper() for word in unique_company_codes]\n",
    "print(unique_company_codes[0:10])\n",
    "print(\"There are {} unique company codes\".format(len(unique_company_codes)))"
   ]
  },
  {
   "cell_type": "code",
   "execution_count": 22,
   "metadata": {},
   "outputs": [
    {
     "name": "stdout",
     "output_type": "stream",
     "text": [
      "['NAVVIG', 'BOAOOU', 'SPIEBT', 'GSSIAH', 'UHAFWL', 'PUCOCR', 'SHUNII', 'OTHERP', 'BODELC', 'COSCRP']\n",
      "There are 62381 unique companies in unique_companies_occur\n"
     ]
    }
   ],
   "source": [
    "#Unique companies from company_codes_occur\n",
    "unique_companies_occur = set()\n",
    "\n",
    "for value in companies['company_codes_occur']:\n",
    "    unique_companies_occur.update(value.split(\",\"))\n",
    "\n",
    "unique_companies_occur = list(unique_companies_occur)\n",
    "unique_companies_occur = unique_companies_occur[1:]\n",
    "unique_companies_occur = [word.upper() for word in unique_companies_occur]\n",
    "print(unique_companies_occur[0:10])\n",
    "print(\"There are {} unique companies in unique_companies_occur\".format(len(unique_companies_occur))) "
   ]
  },
  {
   "cell_type": "code",
   "execution_count": 23,
   "metadata": {},
   "outputs": [
    {
     "name": "stdout",
     "output_type": "stream",
     "text": [
      "['BOAOOU', 'SPIEBT', 'TELNMB', 'LONPNR', 'FERNZ', 'BYBNK', 'ISOAJH', 'REVCOR', 'AECOL', 'RELYPI']\n",
      "There are 30780 unique companies in unique_companies_about\n"
     ]
    }
   ],
   "source": [
    "#unique companies from company_codes_about\n",
    "unique_companies_about = set()\n",
    "\n",
    "for value in companies['company_codes_about']:\n",
    "    unique_companies_about.update(value.split(\",\"))\n",
    "\n",
    "unique_companies_about = list(unique_companies_about)\n",
    "unique_companies_about = unique_companies_about[1:]\n",
    "unique_companies_about = [word.upper() for word in unique_companies_about]\n",
    "print(unique_companies_about[0:10])\n",
    "print(\"There are {} unique companies in unique_companies_about\".format(len(unique_companies_about)))"
   ]
  },
  {
   "cell_type": "code",
   "execution_count": 24,
   "metadata": {},
   "outputs": [
    {
     "name": "stdout",
     "output_type": "stream",
     "text": [
      "['NAVVIG', 'ZENVC', 'BOAOOU', 'SPIEBT', 'GSSIAH', 'UHAFWL', 'PUCOCR', 'SHUNII', 'OTHERP', 'MREINT']\n",
      "There are 66451 unique companies in unique_companies_relevance\n"
     ]
    }
   ],
   "source": [
    "#unique companies from company_codes_relevance\n",
    "unique_companies_relevance = set()\n",
    "\n",
    "for value in companies['company_codes_relevance']:\n",
    "    unique_companies_relevance.update(value.split(\",\"))\n",
    "\n",
    "unique_companies_relevance = list(unique_companies_relevance)\n",
    "unique_companies_relevance = unique_companies_relevance[1:]\n",
    "unique_companies_relevance = [word.upper() for word in unique_companies_relevance]\n",
    "print(unique_companies_relevance[0:10])\n",
    "print(\"There are {} unique companies in unique_companies_relevance\".format(len(unique_companies_relevance)))"
   ]
  },
  {
   "cell_type": "code",
   "execution_count": 25,
   "metadata": {},
   "outputs": [
    {
     "name": "stdout",
     "output_type": "stream",
     "text": [
      "['NAGSCO', 'ENERPL', 'FDP', 'GGCAP', 'AFRAN', 'SASILI', 'ALFLAV', 'OFFCD', 'FRMCG', 'IWKA']\n",
      "There are 3467 unique companies in unique_companies_lineage\n"
     ]
    }
   ],
   "source": [
    "#unique companies from company_codes_lineage\n",
    "unique_companies_lineage = set()\n",
    "\n",
    "for value in companies['company_codes_lineage']:\n",
    "    unique_companies_lineage.update(value.split(\",\"))\n",
    "\n",
    "unique_companies_lineage = list(unique_companies_lineage)\n",
    "unique_companies_lineage = unique_companies_lineage[1:]\n",
    "\n",
    "#Convert to uppercase bc data dictionary has all codes in upper case\n",
    "unique_companies_lineage = [word.upper() for word in unique_companies_lineage]\n",
    "print(unique_companies_lineage[0:10])\n",
    "print(\"There are {} unique companies in unique_companies_lineage\".format(len(unique_companies_lineage)))"
   ]
  },
  {
   "cell_type": "code",
   "execution_count": 28,
   "metadata": {},
   "outputs": [],
   "source": [
    "profile.iloc[0] = checkValidity(unique_company_codes)"
   ]
  },
  {
   "cell_type": "code",
   "execution_count": 30,
   "metadata": {},
   "outputs": [],
   "source": [
    "profile.iloc[1] = checkValidity(unique_companies_occur)"
   ]
  },
  {
   "cell_type": "code",
   "execution_count": 32,
   "metadata": {},
   "outputs": [],
   "source": [
    "profile.iloc[2] = checkValidity(unique_companies_about)"
   ]
  },
  {
   "cell_type": "code",
   "execution_count": 34,
   "metadata": {},
   "outputs": [],
   "source": [
    "profile.iloc[3] = checkValidity(unique_companies_lineage)"
   ]
  },
  {
   "cell_type": "code",
   "execution_count": 37,
   "metadata": {},
   "outputs": [],
   "source": [
    "profile.iloc[4] = checkValidity(unique_companies_relevance)"
   ]
  },
  {
   "cell_type": "code",
   "execution_count": 38,
   "metadata": {},
   "outputs": [
    {
     "data": {
      "text/html": [
       "<div>\n",
       "<style scoped>\n",
       "    .dataframe tbody tr th:only-of-type {\n",
       "        vertical-align: middle;\n",
       "    }\n",
       "\n",
       "    .dataframe tbody tr th {\n",
       "        vertical-align: top;\n",
       "    }\n",
       "\n",
       "    .dataframe thead th {\n",
       "        text-align: right;\n",
       "    }\n",
       "</style>\n",
       "<table border=\"1\" class=\"dataframe\">\n",
       "  <thead>\n",
       "    <tr style=\"text-align: right;\">\n",
       "      <th></th>\n",
       "      <th>Validity</th>\n",
       "    </tr>\n",
       "  </thead>\n",
       "  <tbody>\n",
       "    <tr>\n",
       "      <th>company_codes</th>\n",
       "      <td>86.859462</td>\n",
       "    </tr>\n",
       "    <tr>\n",
       "      <th>company_codes_occur</th>\n",
       "      <td>89.164970</td>\n",
       "    </tr>\n",
       "    <tr>\n",
       "      <th>company_codes_about</th>\n",
       "      <td>99.408707</td>\n",
       "    </tr>\n",
       "    <tr>\n",
       "      <th>company_codes_lineage</th>\n",
       "      <td>99.365446</td>\n",
       "    </tr>\n",
       "    <tr>\n",
       "      <th>company_codes_relevance</th>\n",
       "      <td>86.063415</td>\n",
       "    </tr>\n",
       "    <tr>\n",
       "      <th>body</th>\n",
       "      <td>0.000000</td>\n",
       "    </tr>\n",
       "    <tr>\n",
       "      <th>publication_datetime</th>\n",
       "      <td>0.000000</td>\n",
       "    </tr>\n",
       "  </tbody>\n",
       "</table>\n",
       "</div>"
      ],
      "text/plain": [
       "                          Validity\n",
       "company_codes            86.859462\n",
       "company_codes_occur      89.164970\n",
       "company_codes_about      99.408707\n",
       "company_codes_lineage    99.365446\n",
       "company_codes_relevance  86.063415\n",
       "body                      0.000000\n",
       "publication_datetime      0.000000"
      ]
     },
     "execution_count": 38,
     "metadata": {},
     "output_type": "execute_result"
    }
   ],
   "source": [
    "profile"
   ]
  },
  {
   "cell_type": "code",
   "execution_count": 39,
   "metadata": {},
   "outputs": [],
   "source": [
    "dates = dna['publication_datetime']"
   ]
  },
  {
   "cell_type": "code",
   "execution_count": 40,
   "metadata": {},
   "outputs": [],
   "source": [
    "#Transforms the date from timestamp to a string \n",
    "dates_all_iso = []\n",
    "\n",
    "for date in dates:\n",
    "     dates_all_iso.append(dt.fromtimestamp(date/1000.0).strftime('%Y'))"
   ]
  },
  {
   "cell_type": "code",
   "execution_count": 41,
   "metadata": {},
   "outputs": [],
   "source": [
    "valid_date_all_df = pd.DataFrame()\n",
    "valid_date_all_df['Date'] = dates_all_iso"
   ]
  },
  {
   "cell_type": "code",
   "execution_count": 42,
   "metadata": {},
   "outputs": [],
   "source": [
    "#years should be 2010 and onwards. We realllly expect to see 2013-2018 though\n",
    "validity_date_all = list((valid_date_all_df['Date'] > '2009'))\n",
    "\n",
    "valid_date_all_df['Validity'] = validity_date_all"
   ]
  },
  {
   "cell_type": "code",
   "execution_count": 43,
   "metadata": {},
   "outputs": [
    {
     "name": "stdout",
     "output_type": "stream",
     "text": [
      "100%, or 1942855 of the data in modification datetime are valid\n"
     ]
    }
   ],
   "source": [
    "print('{}%, or'.format(round(sum(valid_date_all_df['Validity'] == True) / len(valid_date_all_df['Validity']) * 100)), '{} of the data in modification datetime are valid'.format(sum(valid_date_all_df['Validity'] == True)))"
   ]
  },
  {
   "cell_type": "code",
   "execution_count": 44,
   "metadata": {},
   "outputs": [],
   "source": [
    "#dropping all the columns except for body\n",
    "text = dna['body'].fillna(\"Nothing\")"
   ]
  },
  {
   "cell_type": "code",
   "execution_count": 45,
   "metadata": {},
   "outputs": [],
   "source": [
    "#Gathering the word count for each row\n",
    "word_count_all = []\n",
    "\n",
    "for words in text:\n",
    "   word_count_all.append(int(len(words.split())))"
   ]
  },
  {
   "cell_type": "code",
   "execution_count": 46,
   "metadata": {},
   "outputs": [],
   "source": [
    "validity_body_all = []\n",
    "\n",
    "#creates a loop where any text with less than 100 words or more than 10,000 words is considered an invalid \n",
    "#data point. The reason for these numbers are that anything less than 100 words does not fit our definition of\n",
    "#an article and anything longer than 10,000 words is too long for us to check?\n",
    "for number in word_count_all:\n",
    "    if number < 100:\n",
    "        validity_body_all.append(0)\n",
    "        \n",
    "    elif number > 10000:\n",
    "        validity_body_all.append(0)\n",
    "        \n",
    "    else:\n",
    "        validity_body_all.append(1)"
   ]
  },
  {
   "cell_type": "code",
   "execution_count": 47,
   "metadata": {},
   "outputs": [
    {
     "name": "stdout",
     "output_type": "stream",
     "text": [
      "78%, or 1520983 of the data in body are valid\n"
     ]
    }
   ],
   "source": [
    "#Validity percentage\n",
    "all_total_valid = sum(validity_body_all)\n",
    "\n",
    "print('{}%, or'.format(round(all_total_valid/len(validity_body_all)*100)), all_total_valid, 'of the data in body are valid')"
   ]
  },
  {
   "cell_type": "code",
   "execution_count": 48,
   "metadata": {},
   "outputs": [],
   "source": [
    "profile.iloc[5] = .78286 * 100"
   ]
  },
  {
   "cell_type": "code",
   "execution_count": 52,
   "metadata": {},
   "outputs": [],
   "source": [
    "profile.iloc[6] = 1.00 * 100"
   ]
  },
  {
   "cell_type": "code",
   "execution_count": 53,
   "metadata": {},
   "outputs": [
    {
     "data": {
      "text/html": [
       "<div>\n",
       "<style scoped>\n",
       "    .dataframe tbody tr th:only-of-type {\n",
       "        vertical-align: middle;\n",
       "    }\n",
       "\n",
       "    .dataframe tbody tr th {\n",
       "        vertical-align: top;\n",
       "    }\n",
       "\n",
       "    .dataframe thead th {\n",
       "        text-align: right;\n",
       "    }\n",
       "</style>\n",
       "<table border=\"1\" class=\"dataframe\">\n",
       "  <thead>\n",
       "    <tr style=\"text-align: right;\">\n",
       "      <th></th>\n",
       "      <th>Validity</th>\n",
       "    </tr>\n",
       "  </thead>\n",
       "  <tbody>\n",
       "    <tr>\n",
       "      <th>company_codes</th>\n",
       "      <td>86.859462</td>\n",
       "    </tr>\n",
       "    <tr>\n",
       "      <th>company_codes_occur</th>\n",
       "      <td>89.164970</td>\n",
       "    </tr>\n",
       "    <tr>\n",
       "      <th>company_codes_about</th>\n",
       "      <td>99.408707</td>\n",
       "    </tr>\n",
       "    <tr>\n",
       "      <th>company_codes_lineage</th>\n",
       "      <td>99.365446</td>\n",
       "    </tr>\n",
       "    <tr>\n",
       "      <th>company_codes_relevance</th>\n",
       "      <td>86.063415</td>\n",
       "    </tr>\n",
       "    <tr>\n",
       "      <th>body</th>\n",
       "      <td>78.286000</td>\n",
       "    </tr>\n",
       "    <tr>\n",
       "      <th>publication_datetime</th>\n",
       "      <td>100.000000</td>\n",
       "    </tr>\n",
       "  </tbody>\n",
       "</table>\n",
       "</div>"
      ],
      "text/plain": [
       "                           Validity\n",
       "company_codes             86.859462\n",
       "company_codes_occur       89.164970\n",
       "company_codes_about       99.408707\n",
       "company_codes_lineage     99.365446\n",
       "company_codes_relevance   86.063415\n",
       "body                      78.286000\n",
       "publication_datetime     100.000000"
      ]
     },
     "execution_count": 53,
     "metadata": {},
     "output_type": "execute_result"
    }
   ],
   "source": [
    "profile"
   ]
  },
  {
   "cell_type": "code",
   "execution_count": 54,
   "metadata": {},
   "outputs": [],
   "source": [
    "profile.to_csv(\"shinyDashboardBI/validitytable.csv\")"
   ]
  },
  {
   "cell_type": "code",
   "execution_count": 9,
   "metadata": {},
   "outputs": [],
   "source": [
    "#create profiling dataframe\n",
    "prof = pd.DataFrame({\"Completeness\": np.zeros(len(dna.columns)).astype(int), \"Uniqueness\": np.zeros(len(dna.columns)).astype(int),\"Duplicates\": np.zeros(len(dna.columns)).astype(int)}).set_index(dna.columns)"
   ]
  },
  {
   "cell_type": "code",
   "execution_count": 10,
   "metadata": {},
   "outputs": [
    {
     "data": {
      "text/html": [
       "<div>\n",
       "<style scoped>\n",
       "    .dataframe tbody tr th:only-of-type {\n",
       "        vertical-align: middle;\n",
       "    }\n",
       "\n",
       "    .dataframe tbody tr th {\n",
       "        vertical-align: top;\n",
       "    }\n",
       "\n",
       "    .dataframe thead th {\n",
       "        text-align: right;\n",
       "    }\n",
       "</style>\n",
       "<table border=\"1\" class=\"dataframe\">\n",
       "  <thead>\n",
       "    <tr style=\"text-align: right;\">\n",
       "      <th></th>\n",
       "      <th>Completeness</th>\n",
       "      <th>Uniqueness</th>\n",
       "      <th>Duplicates</th>\n",
       "    </tr>\n",
       "  </thead>\n",
       "  <tbody>\n",
       "    <tr>\n",
       "      <th>copyright</th>\n",
       "      <td>0</td>\n",
       "      <td>0</td>\n",
       "      <td>0</td>\n",
       "    </tr>\n",
       "    <tr>\n",
       "      <th>subject_codes</th>\n",
       "      <td>0</td>\n",
       "      <td>0</td>\n",
       "      <td>0</td>\n",
       "    </tr>\n",
       "    <tr>\n",
       "      <th>art</th>\n",
       "      <td>0</td>\n",
       "      <td>0</td>\n",
       "      <td>0</td>\n",
       "    </tr>\n",
       "    <tr>\n",
       "      <th>modification_datetime</th>\n",
       "      <td>0</td>\n",
       "      <td>0</td>\n",
       "      <td>0</td>\n",
       "    </tr>\n",
       "    <tr>\n",
       "      <th>body</th>\n",
       "      <td>0</td>\n",
       "      <td>0</td>\n",
       "      <td>0</td>\n",
       "    </tr>\n",
       "    <tr>\n",
       "      <th>company_codes_occur</th>\n",
       "      <td>0</td>\n",
       "      <td>0</td>\n",
       "      <td>0</td>\n",
       "    </tr>\n",
       "    <tr>\n",
       "      <th>company_codes_about</th>\n",
       "      <td>0</td>\n",
       "      <td>0</td>\n",
       "      <td>0</td>\n",
       "    </tr>\n",
       "    <tr>\n",
       "      <th>company_codes_lineage</th>\n",
       "      <td>0</td>\n",
       "      <td>0</td>\n",
       "      <td>0</td>\n",
       "    </tr>\n",
       "    <tr>\n",
       "      <th>snippet</th>\n",
       "      <td>0</td>\n",
       "      <td>0</td>\n",
       "      <td>0</td>\n",
       "    </tr>\n",
       "    <tr>\n",
       "      <th>publication_date</th>\n",
       "      <td>0</td>\n",
       "      <td>0</td>\n",
       "      <td>0</td>\n",
       "    </tr>\n",
       "    <tr>\n",
       "      <th>market_index_codes</th>\n",
       "      <td>0</td>\n",
       "      <td>0</td>\n",
       "      <td>0</td>\n",
       "    </tr>\n",
       "    <tr>\n",
       "      <th>credit</th>\n",
       "      <td>0</td>\n",
       "      <td>0</td>\n",
       "      <td>0</td>\n",
       "    </tr>\n",
       "    <tr>\n",
       "      <th>currency_codes</th>\n",
       "      <td>0</td>\n",
       "      <td>0</td>\n",
       "      <td>0</td>\n",
       "    </tr>\n",
       "    <tr>\n",
       "      <th>region_of_origin</th>\n",
       "      <td>0</td>\n",
       "      <td>0</td>\n",
       "      <td>0</td>\n",
       "    </tr>\n",
       "    <tr>\n",
       "      <th>ingestion_datetime</th>\n",
       "      <td>0</td>\n",
       "      <td>0</td>\n",
       "      <td>0</td>\n",
       "    </tr>\n",
       "    <tr>\n",
       "      <th>modification_date</th>\n",
       "      <td>0</td>\n",
       "      <td>0</td>\n",
       "      <td>0</td>\n",
       "    </tr>\n",
       "    <tr>\n",
       "      <th>source_name</th>\n",
       "      <td>0</td>\n",
       "      <td>0</td>\n",
       "      <td>0</td>\n",
       "    </tr>\n",
       "    <tr>\n",
       "      <th>language_code</th>\n",
       "      <td>0</td>\n",
       "      <td>0</td>\n",
       "      <td>0</td>\n",
       "    </tr>\n",
       "    <tr>\n",
       "      <th>region_codes</th>\n",
       "      <td>0</td>\n",
       "      <td>0</td>\n",
       "      <td>0</td>\n",
       "    </tr>\n",
       "    <tr>\n",
       "      <th>company_codes_association</th>\n",
       "      <td>0</td>\n",
       "      <td>0</td>\n",
       "      <td>0</td>\n",
       "    </tr>\n",
       "    <tr>\n",
       "      <th>person_codes</th>\n",
       "      <td>0</td>\n",
       "      <td>0</td>\n",
       "      <td>0</td>\n",
       "    </tr>\n",
       "    <tr>\n",
       "      <th>byline</th>\n",
       "      <td>0</td>\n",
       "      <td>0</td>\n",
       "      <td>0</td>\n",
       "    </tr>\n",
       "    <tr>\n",
       "      <th>company_codes_relevance</th>\n",
       "      <td>0</td>\n",
       "      <td>0</td>\n",
       "      <td>0</td>\n",
       "    </tr>\n",
       "    <tr>\n",
       "      <th>source_code</th>\n",
       "      <td>0</td>\n",
       "      <td>0</td>\n",
       "      <td>0</td>\n",
       "    </tr>\n",
       "    <tr>\n",
       "      <th>an</th>\n",
       "      <td>0</td>\n",
       "      <td>0</td>\n",
       "      <td>0</td>\n",
       "    </tr>\n",
       "    <tr>\n",
       "      <th>word_count</th>\n",
       "      <td>0</td>\n",
       "      <td>0</td>\n",
       "      <td>0</td>\n",
       "    </tr>\n",
       "    <tr>\n",
       "      <th>company_codes</th>\n",
       "      <td>0</td>\n",
       "      <td>0</td>\n",
       "      <td>0</td>\n",
       "    </tr>\n",
       "    <tr>\n",
       "      <th>industry_codes</th>\n",
       "      <td>0</td>\n",
       "      <td>0</td>\n",
       "      <td>0</td>\n",
       "    </tr>\n",
       "    <tr>\n",
       "      <th>title</th>\n",
       "      <td>0</td>\n",
       "      <td>0</td>\n",
       "      <td>0</td>\n",
       "    </tr>\n",
       "    <tr>\n",
       "      <th>publication_datetime</th>\n",
       "      <td>0</td>\n",
       "      <td>0</td>\n",
       "      <td>0</td>\n",
       "    </tr>\n",
       "    <tr>\n",
       "      <th>publisher_name</th>\n",
       "      <td>0</td>\n",
       "      <td>0</td>\n",
       "      <td>0</td>\n",
       "    </tr>\n",
       "    <tr>\n",
       "      <th>action</th>\n",
       "      <td>0</td>\n",
       "      <td>0</td>\n",
       "      <td>0</td>\n",
       "    </tr>\n",
       "    <tr>\n",
       "      <th>document_type</th>\n",
       "      <td>0</td>\n",
       "      <td>0</td>\n",
       "      <td>0</td>\n",
       "    </tr>\n",
       "    <tr>\n",
       "      <th>section</th>\n",
       "      <td>0</td>\n",
       "      <td>0</td>\n",
       "      <td>0</td>\n",
       "    </tr>\n",
       "    <tr>\n",
       "      <th>dateline</th>\n",
       "      <td>0</td>\n",
       "      <td>0</td>\n",
       "      <td>0</td>\n",
       "    </tr>\n",
       "  </tbody>\n",
       "</table>\n",
       "</div>"
      ],
      "text/plain": [
       "                           Completeness  Uniqueness  Duplicates\n",
       "copyright                             0           0           0\n",
       "subject_codes                         0           0           0\n",
       "art                                   0           0           0\n",
       "modification_datetime                 0           0           0\n",
       "body                                  0           0           0\n",
       "company_codes_occur                   0           0           0\n",
       "company_codes_about                   0           0           0\n",
       "company_codes_lineage                 0           0           0\n",
       "snippet                               0           0           0\n",
       "publication_date                      0           0           0\n",
       "market_index_codes                    0           0           0\n",
       "credit                                0           0           0\n",
       "currency_codes                        0           0           0\n",
       "region_of_origin                      0           0           0\n",
       "ingestion_datetime                    0           0           0\n",
       "modification_date                     0           0           0\n",
       "source_name                           0           0           0\n",
       "language_code                         0           0           0\n",
       "region_codes                          0           0           0\n",
       "company_codes_association             0           0           0\n",
       "person_codes                          0           0           0\n",
       "byline                                0           0           0\n",
       "company_codes_relevance               0           0           0\n",
       "source_code                           0           0           0\n",
       "an                                    0           0           0\n",
       "word_count                            0           0           0\n",
       "company_codes                         0           0           0\n",
       "industry_codes                        0           0           0\n",
       "title                                 0           0           0\n",
       "publication_datetime                  0           0           0\n",
       "publisher_name                        0           0           0\n",
       "action                                0           0           0\n",
       "document_type                         0           0           0\n",
       "section                               0           0           0\n",
       "dateline                              0           0           0"
      ]
     },
     "execution_count": 10,
     "metadata": {},
     "output_type": "execute_result"
    }
   ],
   "source": [
    "prof"
   ]
  },
  {
   "cell_type": "code",
   "execution_count": 14,
   "metadata": {},
   "outputs": [],
   "source": [
    "def findCompleteness(col):\n",
    "    return sum(~col.isnull()) / len(col) * 100\n",
    "\n",
    "#NaN not counted as unique\n",
    "def isUnique(col):\n",
    "    return (len(col.unique()) - sum(col.isnull().unique())) / (len(col) - sum(col.isnull())) * 100\n",
    "\n",
    "def checkDuplicates(col):\n",
    "    return sum(col.duplicated()) / len(col) * 100"
   ]
  },
  {
   "cell_type": "code",
   "execution_count": 15,
   "metadata": {},
   "outputs": [],
   "source": [
    "#Applying completeness to a df\n",
    "prof['Completeness'] = dna.apply(findCompleteness)\n",
    "\n",
    "#Applying the unique function\n",
    "prof['Uniqueness'] = dna.apply(isUnique)\n",
    "\n",
    "#Applying the duplicate function\n",
    "prof['Duplicates'] = dna.apply(checkDuplicates)"
   ]
  },
  {
   "cell_type": "code",
   "execution_count": 16,
   "metadata": {},
   "outputs": [
    {
     "data": {
      "text/html": [
       "<div>\n",
       "<style scoped>\n",
       "    .dataframe tbody tr th:only-of-type {\n",
       "        vertical-align: middle;\n",
       "    }\n",
       "\n",
       "    .dataframe tbody tr th {\n",
       "        vertical-align: top;\n",
       "    }\n",
       "\n",
       "    .dataframe thead th {\n",
       "        text-align: right;\n",
       "    }\n",
       "</style>\n",
       "<table border=\"1\" class=\"dataframe\">\n",
       "  <thead>\n",
       "    <tr style=\"text-align: right;\">\n",
       "      <th></th>\n",
       "      <th>Completeness</th>\n",
       "      <th>Uniqueness</th>\n",
       "      <th>Duplicates</th>\n",
       "    </tr>\n",
       "  </thead>\n",
       "  <tbody>\n",
       "    <tr>\n",
       "      <th>copyright</th>\n",
       "      <td>100.000000</td>\n",
       "      <td>0.701493</td>\n",
       "      <td>99.298507</td>\n",
       "    </tr>\n",
       "    <tr>\n",
       "      <th>subject_codes</th>\n",
       "      <td>100.000000</td>\n",
       "      <td>17.324659</td>\n",
       "      <td>82.675341</td>\n",
       "    </tr>\n",
       "    <tr>\n",
       "      <th>art</th>\n",
       "      <td>100.000000</td>\n",
       "      <td>1.040685</td>\n",
       "      <td>98.959315</td>\n",
       "    </tr>\n",
       "    <tr>\n",
       "      <th>modification_datetime</th>\n",
       "      <td>100.000000</td>\n",
       "      <td>64.681821</td>\n",
       "      <td>35.318179</td>\n",
       "    </tr>\n",
       "    <tr>\n",
       "      <th>body</th>\n",
       "      <td>97.577174</td>\n",
       "      <td>82.073845</td>\n",
       "      <td>19.914610</td>\n",
       "    </tr>\n",
       "    <tr>\n",
       "      <th>company_codes_occur</th>\n",
       "      <td>100.000000</td>\n",
       "      <td>18.137071</td>\n",
       "      <td>81.862929</td>\n",
       "    </tr>\n",
       "    <tr>\n",
       "      <th>company_codes_about</th>\n",
       "      <td>100.000000</td>\n",
       "      <td>9.813290</td>\n",
       "      <td>90.186710</td>\n",
       "    </tr>\n",
       "    <tr>\n",
       "      <th>company_codes_lineage</th>\n",
       "      <td>100.000000</td>\n",
       "      <td>0.441875</td>\n",
       "      <td>99.558125</td>\n",
       "    </tr>\n",
       "    <tr>\n",
       "      <th>snippet</th>\n",
       "      <td>98.808403</td>\n",
       "      <td>90.377214</td>\n",
       "      <td>10.699666</td>\n",
       "    </tr>\n",
       "    <tr>\n",
       "      <th>publication_date</th>\n",
       "      <td>100.000000</td>\n",
       "      <td>21.162773</td>\n",
       "      <td>78.837227</td>\n",
       "    </tr>\n",
       "    <tr>\n",
       "      <th>market_index_codes</th>\n",
       "      <td>100.000000</td>\n",
       "      <td>0.630412</td>\n",
       "      <td>99.369588</td>\n",
       "    </tr>\n",
       "    <tr>\n",
       "      <th>credit</th>\n",
       "      <td>100.000000</td>\n",
       "      <td>0.095787</td>\n",
       "      <td>99.904213</td>\n",
       "    </tr>\n",
       "    <tr>\n",
       "      <th>currency_codes</th>\n",
       "      <td>100.000000</td>\n",
       "      <td>0.013588</td>\n",
       "      <td>99.986412</td>\n",
       "    </tr>\n",
       "    <tr>\n",
       "      <th>region_of_origin</th>\n",
       "      <td>99.978846</td>\n",
       "      <td>0.010296</td>\n",
       "      <td>99.989654</td>\n",
       "    </tr>\n",
       "    <tr>\n",
       "      <th>ingestion_datetime</th>\n",
       "      <td>100.000000</td>\n",
       "      <td>62.956628</td>\n",
       "      <td>37.043372</td>\n",
       "    </tr>\n",
       "    <tr>\n",
       "      <th>modification_date</th>\n",
       "      <td>100.000000</td>\n",
       "      <td>88.690201</td>\n",
       "      <td>11.309799</td>\n",
       "    </tr>\n",
       "    <tr>\n",
       "      <th>source_name</th>\n",
       "      <td>100.000000</td>\n",
       "      <td>0.219677</td>\n",
       "      <td>99.780323</td>\n",
       "    </tr>\n",
       "    <tr>\n",
       "      <th>language_code</th>\n",
       "      <td>100.000000</td>\n",
       "      <td>0.000051</td>\n",
       "      <td>99.999949</td>\n",
       "    </tr>\n",
       "    <tr>\n",
       "      <th>region_codes</th>\n",
       "      <td>100.000000</td>\n",
       "      <td>2.923275</td>\n",
       "      <td>97.076725</td>\n",
       "    </tr>\n",
       "    <tr>\n",
       "      <th>company_codes_association</th>\n",
       "      <td>100.000000</td>\n",
       "      <td>0.000051</td>\n",
       "      <td>99.999949</td>\n",
       "    </tr>\n",
       "    <tr>\n",
       "      <th>person_codes</th>\n",
       "      <td>100.000000</td>\n",
       "      <td>8.579899</td>\n",
       "      <td>91.420101</td>\n",
       "    </tr>\n",
       "    <tr>\n",
       "      <th>byline</th>\n",
       "      <td>100.000000</td>\n",
       "      <td>3.056430</td>\n",
       "      <td>96.943570</td>\n",
       "    </tr>\n",
       "    <tr>\n",
       "      <th>company_codes_relevance</th>\n",
       "      <td>100.000000</td>\n",
       "      <td>25.852521</td>\n",
       "      <td>74.147479</td>\n",
       "    </tr>\n",
       "    <tr>\n",
       "      <th>source_code</th>\n",
       "      <td>100.000000</td>\n",
       "      <td>0.210515</td>\n",
       "      <td>99.789485</td>\n",
       "    </tr>\n",
       "    <tr>\n",
       "      <th>an</th>\n",
       "      <td>100.000000</td>\n",
       "      <td>100.000000</td>\n",
       "      <td>0.000000</td>\n",
       "    </tr>\n",
       "    <tr>\n",
       "      <th>word_count</th>\n",
       "      <td>100.000000</td>\n",
       "      <td>0.724295</td>\n",
       "      <td>99.275705</td>\n",
       "    </tr>\n",
       "    <tr>\n",
       "      <th>company_codes</th>\n",
       "      <td>100.000000</td>\n",
       "      <td>36.217886</td>\n",
       "      <td>63.782114</td>\n",
       "    </tr>\n",
       "    <tr>\n",
       "      <th>industry_codes</th>\n",
       "      <td>100.000000</td>\n",
       "      <td>6.867213</td>\n",
       "      <td>93.132787</td>\n",
       "    </tr>\n",
       "    <tr>\n",
       "      <th>title</th>\n",
       "      <td>100.000000</td>\n",
       "      <td>78.356697</td>\n",
       "      <td>21.643303</td>\n",
       "    </tr>\n",
       "    <tr>\n",
       "      <th>publication_datetime</th>\n",
       "      <td>100.000000</td>\n",
       "      <td>21.162773</td>\n",
       "      <td>78.837227</td>\n",
       "    </tr>\n",
       "    <tr>\n",
       "      <th>publisher_name</th>\n",
       "      <td>100.000000</td>\n",
       "      <td>0.073397</td>\n",
       "      <td>99.926603</td>\n",
       "    </tr>\n",
       "    <tr>\n",
       "      <th>action</th>\n",
       "      <td>100.000000</td>\n",
       "      <td>0.000103</td>\n",
       "      <td>99.999897</td>\n",
       "    </tr>\n",
       "    <tr>\n",
       "      <th>document_type</th>\n",
       "      <td>100.000000</td>\n",
       "      <td>0.000051</td>\n",
       "      <td>99.999949</td>\n",
       "    </tr>\n",
       "    <tr>\n",
       "      <th>section</th>\n",
       "      <td>44.826042</td>\n",
       "      <td>0.617519</td>\n",
       "      <td>99.723139</td>\n",
       "    </tr>\n",
       "    <tr>\n",
       "      <th>dateline</th>\n",
       "      <td>1.385127</td>\n",
       "      <td>19.215191</td>\n",
       "      <td>99.733794</td>\n",
       "    </tr>\n",
       "  </tbody>\n",
       "</table>\n",
       "</div>"
      ],
      "text/plain": [
       "                           Completeness  Uniqueness  Duplicates\n",
       "copyright                    100.000000    0.701493   99.298507\n",
       "subject_codes                100.000000   17.324659   82.675341\n",
       "art                          100.000000    1.040685   98.959315\n",
       "modification_datetime        100.000000   64.681821   35.318179\n",
       "body                          97.577174   82.073845   19.914610\n",
       "company_codes_occur          100.000000   18.137071   81.862929\n",
       "company_codes_about          100.000000    9.813290   90.186710\n",
       "company_codes_lineage        100.000000    0.441875   99.558125\n",
       "snippet                       98.808403   90.377214   10.699666\n",
       "publication_date             100.000000   21.162773   78.837227\n",
       "market_index_codes           100.000000    0.630412   99.369588\n",
       "credit                       100.000000    0.095787   99.904213\n",
       "currency_codes               100.000000    0.013588   99.986412\n",
       "region_of_origin              99.978846    0.010296   99.989654\n",
       "ingestion_datetime           100.000000   62.956628   37.043372\n",
       "modification_date            100.000000   88.690201   11.309799\n",
       "source_name                  100.000000    0.219677   99.780323\n",
       "language_code                100.000000    0.000051   99.999949\n",
       "region_codes                 100.000000    2.923275   97.076725\n",
       "company_codes_association    100.000000    0.000051   99.999949\n",
       "person_codes                 100.000000    8.579899   91.420101\n",
       "byline                       100.000000    3.056430   96.943570\n",
       "company_codes_relevance      100.000000   25.852521   74.147479\n",
       "source_code                  100.000000    0.210515   99.789485\n",
       "an                           100.000000  100.000000    0.000000\n",
       "word_count                   100.000000    0.724295   99.275705\n",
       "company_codes                100.000000   36.217886   63.782114\n",
       "industry_codes               100.000000    6.867213   93.132787\n",
       "title                        100.000000   78.356697   21.643303\n",
       "publication_datetime         100.000000   21.162773   78.837227\n",
       "publisher_name               100.000000    0.073397   99.926603\n",
       "action                       100.000000    0.000103   99.999897\n",
       "document_type                100.000000    0.000051   99.999949\n",
       "section                       44.826042    0.617519   99.723139\n",
       "dateline                       1.385127   19.215191   99.733794"
      ]
     },
     "execution_count": 16,
     "metadata": {},
     "output_type": "execute_result"
    }
   ],
   "source": [
    "prof"
   ]
  },
  {
   "cell_type": "code",
   "execution_count": 17,
   "metadata": {},
   "outputs": [],
   "source": [
    "prof.to_csv(\"shinyDashboardBI/profilingTable.csv\")"
   ]
  },
  {
   "cell_type": "markdown",
   "metadata": {},
   "source": [
    "<h3>Graphs for Dashboard</h3>"
   ]
  },
  {
   "cell_type": "markdown",
   "metadata": {},
   "source": [
    "<h5>Publication 2013</h5>"
   ]
  },
  {
   "cell_type": "code",
   "execution_count": 42,
   "metadata": {},
   "outputs": [],
   "source": [
    "dna2013 = pd.read_csv(\"../data/working/DNA_2013.csv\")"
   ]
  },
  {
   "cell_type": "code",
   "execution_count": 43,
   "metadata": {},
   "outputs": [
    {
     "data": {
      "image/png": "[encoded data removed]",
      "text/plain": [
       "<Figure size 432x288 with 1 Axes>"
      ]
     },
     "metadata": {
      "needs_background": "light"
     },
     "output_type": "display_data"
    }
   ],
   "source": [
    "pub2013 = dna2013['publisher_name'].value_counts().sort_values(ascending = True).tail(10).plot(kind = \"barh\", title = \"Top 10 publishers in DNA, 2013\", color = (\"#232D4B\", \"#E57200\"))\n",
    "fig = pub2013.get_figure()\n",
    "fig.savefig('shinyDashboardBI/www/2013Publisherplot.png')"
   ]
  },
  {
   "cell_type": "markdown",
   "metadata": {},
   "source": [
    "<h5>Publication 2014</h5>"
   ]
  },
  {
   "cell_type": "code",
   "execution_count": 44,
   "metadata": {},
   "outputs": [],
   "source": [
    "dna2014 = pd.read_csv(\"../data/working/DNA_2014.csv\")"
   ]
  },
  {
   "cell_type": "code",
   "execution_count": 45,
   "metadata": {},
   "outputs": [
    {
     "data": {
      "image/png": "[encoded data removed]",
      "text/plain": [
       "<Figure size 432x288 with 1 Axes>"
      ]
     },
     "metadata": {
      "needs_background": "light"
     },
     "output_type": "display_data"
    }
   ],
   "source": [
    "pub2014 = dna2014['publisher_name'].value_counts().sort_values(ascending = True).tail(10).plot(kind = \"barh\", title = \"Top 10 publishers in DNA, 2014\", color = (\"#232D4B\", \"#E57200\"))\n",
    "fig = pub2013.get_figure()\n",
    "fig.savefig('shinyDashboardBI/www/2014Publisherplot.png')"
   ]
  },
  {
   "cell_type": "code",
   "execution_count": null,
   "metadata": {},
   "outputs": [],
   "source": []
  }
 ],
 "metadata": {
  "kernelspec": {
   "display_name": "Python 3",
   "language": "python",
   "name": "python3"
  },
  "language_info": {
   "codemirror_mode": {
    "name": "ipython",
    "version": 3
   },
   "file_extension": ".py",
   "mimetype": "text/x-python",
   "name": "python",
   "nbconvert_exporter": "python",
   "pygments_lexer": "ipython3",
   "version": "3.7.4"
  }
 },
 "nbformat": 4,
 "nbformat_minor": 4
}
