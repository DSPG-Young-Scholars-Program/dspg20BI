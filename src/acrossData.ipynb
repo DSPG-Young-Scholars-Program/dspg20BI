{
 "cells": [
  {
   "cell_type": "code",
   "execution_count": 1,
   "metadata": {},
   "outputs": [
    {
     "name": "stderr",
     "output_type": "stream",
     "text": [
      "/home/ig5eq/.local/lib/python3.7/site-packages/fuzzywuzzy/fuzz.py:11: UserWarning: Using slow pure-python SequenceMatcher. Install python-Levenshtein to remove this warning\n",
      "  warnings.warn('Using slow pure-python SequenceMatcher. Install python-Levenshtein to remove this warning')\n"
     ]
    }
   ],
   "source": [
    "import numpy as np\n",
    "import pandas as pd\n",
    "import nltk\n",
    "from fuzzywuzzy import fuzz\n",
    "from numpy import save\n",
    "import itertools"
   ]
  },
  {
   "cell_type": "code",
   "execution_count": 2,
   "metadata": {},
   "outputs": [],
   "source": [
    "ndc = pd.read_csv(\"../data/working/ndc_clean.csv\", index_col = [0])"
   ]
  },
  {
   "cell_type": "code",
   "execution_count": 3,
   "metadata": {},
   "outputs": [],
   "source": [
    "ndc.dropna(inplace = True)\n",
    "ndc.reset_index(inplace = True)"
   ]
  },
  {
   "cell_type": "code",
   "execution_count": 4,
   "metadata": {},
   "outputs": [],
   "source": [
    "ndc_row = ndc['row']"
   ]
  },
  {
   "cell_type": "code",
   "execution_count": 5,
   "metadata": {},
   "outputs": [],
   "source": [
    "ndc_org = ndc['original_company']"
   ]
  },
  {
   "cell_type": "code",
   "execution_count": 6,
   "metadata": {},
   "outputs": [],
   "source": [
    "ndc_clean = ndc['cleaned_name']"
   ]
  },
  {
   "cell_type": "code",
   "execution_count": 7,
   "metadata": {},
   "outputs": [],
   "source": [
    "dna = pd.read_csv(\"../data/working/dna_clean.csv\", index_col = [0])"
   ]
  },
  {
   "cell_type": "code",
   "execution_count": 8,
   "metadata": {},
   "outputs": [],
   "source": [
    "dna.dropna(inplace = True)\n",
    "dna.reset_index(inplace = True)"
   ]
  },
  {
   "cell_type": "code",
   "execution_count": 9,
   "metadata": {},
   "outputs": [
    {
     "data": {
      "text/plain": [
       "Index(['index', 'Unnamed: 0.1', 'Code', 'Description', 'cleaned_companies'], dtype='object')"
      ]
     },
     "execution_count": 9,
     "metadata": {},
     "output_type": "execute_result"
    }
   ],
   "source": [
    "dna.columns"
   ]
  },
  {
   "cell_type": "code",
   "execution_count": 10,
   "metadata": {},
   "outputs": [],
   "source": [
    "dna_row = dna['index']"
   ]
  },
  {
   "cell_type": "code",
   "execution_count": 11,
   "metadata": {},
   "outputs": [],
   "source": [
    "dna_org = dna['Description']"
   ]
  },
  {
   "cell_type": "code",
   "execution_count": 12,
   "metadata": {},
   "outputs": [],
   "source": [
    "dna_clean = dna['cleaned_companies']"
   ]
  },
  {
   "cell_type": "markdown",
   "metadata": {},
   "source": [
    "### Matching across NDC and DNA"
   ]
  },
  {
   "cell_type": "code",
   "execution_count": 13,
   "metadata": {},
   "outputs": [],
   "source": [
    "##Function that takes in 3 lists, the list of strings you want to compare, the list of strings you're comparing to and a list with the original way the string from list 1 was written.  \n",
    "def matchWithFuzzyNamesOG(l1, l2, og1, og2, row_num1, row_num2):\n",
    "    match = pd.DataFrame(columns = ['clean NDC company', 'original NDC company', 'NDC row', 'clean DNA row', 'clean DNA company', 'original DNA company', 'fuzz ratio'])\n",
    "    for (i, o, r) in zip(l1, og1, row_num1):\n",
    "        \n",
    "        matches = []\n",
    "        score = []\n",
    "        #score_partial = []\n",
    "        row = []\n",
    "        matchesog = []\n",
    "        for (j, q, s) in zip(l2, og2, row_num2):\n",
    "            if (fuzz.ratio(i,j)) == 100:\n",
    "                matches.append(j)\n",
    "                matchesog.append(q)\n",
    "                score.append(fuzz.ratio(i,j))\n",
    "                row.append(s)\n",
    "                #the partial ratio will return the ratio raw score of 100  if the shorter string is found an any of substrings of the larger string, used this as a safety net and potentially as an additional step to \n",
    "               # score_partial.append((fuzz.partial_ratio(i,j)))\n",
    "                match = match.append({ 'clean NDC company': i, 'original NDC company': o, 'NDC row': r, 'clean DNA row': row, 'clean DNA company': matches,   'original DNA company': matchesog, 'fuzz ratio': score,},ignore_index=True)\n",
    "        \n",
    "#Will output a pandas dataframe with 4 columns\n",
    "    return match"
   ]
  },
  {
   "cell_type": "code",
   "execution_count": null,
   "metadata": {},
   "outputs": [],
   "source": [
    "ndcxdna_match = matchWithFuzzyNamesOG(ndc_clean, dna_clean, ndc_org, dna_org, ndc_row, dna_row)"
   ]
  },
  {
   "cell_type": "code",
   "execution_count": null,
   "metadata": {},
   "outputs": [],
   "source": [
    "ndcxdna_match"
   ]
  },
  {
   "cell_type": "code",
   "execution_count": null,
   "metadata": {},
   "outputs": [],
   "source": [
    "ndcxdna_match = ndcxdna_match[~ndcxdna_match.duplicated('NDC row')]"
   ]
  },
  {
   "cell_type": "code",
   "execution_count": null,
   "metadata": {},
   "outputs": [],
   "source": [
    "ndcxdna_match"
   ]
  },
  {
   "cell_type": "code",
   "execution_count": null,
   "metadata": {},
   "outputs": [],
   "source": [
    "ndcxdna_match['clean NDC company'] = ndcxdna_match['clean NDC company'].astype(str)\n",
    "ndcxdna_match['original NDC company'] = ndcxdna_match['original NDC company'].astype(str)\n",
    "ndcxdna_match['NDC row'] = ndcxdna_match['NDC row'].astype(str)"
   ]
  },
  {
   "cell_type": "code",
   "execution_count": null,
   "metadata": {},
   "outputs": [],
   "source": [
    "ndcxdna_match_unique = ndcxdna_match.groupby('clean NDC company', as_index = False).agg({'original NDC company': '^ '.join, \n",
    "                                                                            'NDC row': '^ '.join\n",
    "                                                                                })"
   ]
  },
  {
   "cell_type": "code",
   "execution_count": null,
   "metadata": {},
   "outputs": [],
   "source": [
    "ndcxdna_match_unique"
   ]
  },
  {
   "cell_type": "code",
   "execution_count": null,
   "metadata": {},
   "outputs": [],
   "source": [
    "ndcxdna_match1 = ndcxdna_match.groupby('clean NDC company', as_index = False).first()"
   ]
  },
  {
   "cell_type": "code",
   "execution_count": null,
   "metadata": {},
   "outputs": [],
   "source": [
    "ndcxdna_match_unique[['corporate family', 'clean DNA row', 'clean DNA company', 'original DNA company', 'fuzz ratio']] = ndcxdna_match1[['clean NDC company','clean DNA row', 'clean DNA company', 'original DNA company', 'fuzz ratio']]"
   ]
  },
  {
   "cell_type": "code",
   "execution_count": null,
   "metadata": {},
   "outputs": [],
   "source": [
    "ndcxdna_match_unique.to_csv('../data/working/ndc_dna_matching.csv')"
   ]
  },
  {
   "cell_type": "code",
   "execution_count": null,
   "metadata": {},
   "outputs": [],
   "source": []
  }
 ],
 "metadata": {
  "kernelspec": {
   "display_name": "Python 3.7",
   "language": "python",
   "name": "python37"
  },
  "language_info": {
   "codemirror_mode": {
    "name": "ipython",
    "version": 3
   },
   "file_extension": ".py",
   "mimetype": "text/x-python",
   "name": "python",
   "nbconvert_exporter": "python",
   "pygments_lexer": "ipython3",
   "version": "3.7.4"
  }
 },
 "nbformat": 4,
 "nbformat_minor": 4
}
