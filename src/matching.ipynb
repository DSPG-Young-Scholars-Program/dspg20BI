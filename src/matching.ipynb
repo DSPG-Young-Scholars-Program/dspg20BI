{
 "cells": [
  {
   "cell_type": "code",
   "execution_count": 1,
   "metadata": {},
   "outputs": [
    {
     "name": "stderr",
     "output_type": "stream",
     "text": [
      "/home/itm3f/.local/lib/python3.7/site-packages/fuzzywuzzy/fuzz.py:11: UserWarning: Using slow pure-python SequenceMatcher. Install python-Levenshtein to remove this warning\n",
      "  warnings.warn('Using slow pure-python SequenceMatcher. Install python-Levenshtein to remove this warning')\n"
     ]
    }
   ],
   "source": [
    "import numpy as np\n",
    "import pandas as pd\n",
    "import nltk\n",
    "from fuzzywuzzy import fuzz\n",
    "from nltk.metrics import jaccard_distance"
   ]
  },
  {
   "cell_type": "markdown",
   "metadata": {},
   "source": [
    "<h4>Functions</h4>"
   ]
  },
  {
   "cell_type": "code",
   "execution_count": 190,
   "metadata": {},
   "outputs": [],
   "source": [
    "#function that uses fuzzy matching against two lists\n",
    "#takes two arguments: df1.columnName.tolist() as l1 and df2.columnName.tolist() as l2\n",
    "#This function does two things. First, it print the current word in list 1 and then all the words its being matched to, along with the fuzzy ratio score\n",
    "#Second, it stores each score in an array and returns the array \n",
    "\n",
    "def matchWithFuzzy(l1, l2):\n",
    "    score = []\n",
    "    for i in l1:\n",
    "        print(\"\\nWord in list 1 {} matches:\".format(i))\n",
    "        for j in l2:\n",
    "            score.append(fuzz.ratio(i, j))\n",
    "            print(\"{} with a score of {}\".format(j,fuzz.ratio(i,j)))\n",
    "    \n",
    "    return score"
   ]
  },
  {
   "cell_type": "code",
   "execution_count": 191,
   "metadata": {},
   "outputs": [],
   "source": [
    "#Function that creates a matrix of fuzzy scores\n",
    "#l1 and l2 are the lists\n",
    "#nrows will be the number of rows you will need in the matrix\n",
    "#ncols will be the number of columns you will need\n",
    "\n",
    "\n",
    "#First try to incorporate pandas and numpy; the final output should be a pandas dataframe that is a matrix. If the code is still too slow, then break up the dna dataset\n",
    "#into three 20000x60000 have three seperate jupyters running, using this function for each third of the data(dna), and get \n",
    "#put write.csv into function(will have three csvs, which will need to combined)\n",
    "\n",
    "#try to get a frequency distribution of the matches\n",
    "\n",
    "\n",
    "def matrix_score(l1, l2, nrows, ncols):\n",
    "    #creates a matrix of zeros with the dimensions specified from the parameters\n",
    "    #So if you had a list that had 5 elements in it, your matrix would be a 5x5 matrix; nrows would be 5 and ncols would be 5\n",
    "    matrix = np.zeros(shape = (nrows, ncols))\n",
    "    \n",
    "    #initialize row and col values to 0\n",
    "    row = 0\n",
    "    col = 0\n",
    "    \n",
    "    for i in l1:\n",
    "        for j in l2:\n",
    "            score = fuzz.ratio(i,j)\n",
    "            matrix[row][col] = score\n",
    "            col+=1\n",
    "        col = 0\n",
    "        row+=1\n",
    "    \n",
    "    return matrix "
   ]
  },
  {
   "cell_type": "code",
   "execution_count": 192,
   "metadata": {},
   "outputs": [],
   "source": [
    "def matchWithFuzzyNames(l1, l2, original):\n",
    "    match = pd.DataFrame(columns = ['original company names', 'clean company name', 'company matches', 'fuzz ratio'])\n",
    "    for i in l1:\n",
    "        matches = []\n",
    "        score = []\n",
    "        score_partial = []\n",
    "        for j in l2:\n",
    "            if (fuzz.ratio(i,j)) == 100:\n",
    "                matches.append(j)\n",
    "                score.append(fuzz.ratio(i,j))\n",
    "                score_partial.append((fuzz.partial_ratio(i,j)))\n",
    "        match = match.append({ 'clean company name': i,'company matches': matches, 'fuzz ratio': score, 'fuzz partial ratio': score_partial},ignore_index=True)\n",
    "        \n",
    "    match['original company names'] = original\n",
    "        \n",
    "\n",
    " \n",
    "\n",
    "\n",
    "    return match"
   ]
  },
  {
   "cell_type": "markdown",
   "metadata": {},
   "source": [
    "<h3>NDC Matrix</h3>"
   ]
  },
  {
   "cell_type": "code",
   "execution_count": 92,
   "metadata": {},
   "outputs": [],
   "source": [
    "ndc = pd.read_csv(\"../data/working/cleanNDC.csv\", index_col = [0])"
   ]
  },
  {
   "cell_type": "markdown",
   "metadata": {},
   "source": [
    "<h6>Drop any rows that had NaN</h6>"
   ]
  },
  {
   "cell_type": "code",
   "execution_count": 94,
   "metadata": {},
   "outputs": [],
   "source": [
    "ndc.dropna(inplace = True)"
   ]
  },
  {
   "cell_type": "code",
   "execution_count": 132,
   "metadata": {},
   "outputs": [
    {
     "data": {
      "text/plain": [
       "(6718, 2)"
      ]
     },
     "execution_count": 132,
     "metadata": {},
     "output_type": "execute_result"
    }
   ],
   "source": [
    "ndc.shape"
   ]
  },
  {
   "cell_type": "code",
   "execution_count": 138,
   "metadata": {},
   "outputs": [
    {
     "data": {
      "text/plain": [
       "Index(['original_company', 'cleaned_name'], dtype='object')"
      ]
     },
     "execution_count": 138,
     "metadata": {},
     "output_type": "execute_result"
    }
   ],
   "source": [
    "ndc.columns"
   ]
  },
  {
   "cell_type": "code",
   "execution_count": 134,
   "metadata": {},
   "outputs": [],
   "source": [
    "matrix = matrix_score(ndc.cleaned_name.tolist(), ndc.cleaned_name.tolist(), 6718, 6718)"
   ]
  },
  {
   "cell_type": "code",
   "execution_count": 165,
   "metadata": {},
   "outputs": [
    {
     "data": {
      "text/plain": [
       "array([[100.,  17.,  25., ...,  27.,  24.,  30.],\n",
       "       [ 26., 100.,  40., ...,  31.,  16.,  18.],\n",
       "       [ 17.,  40., 100., ...,  14.,  23.,  33.],\n",
       "       ...,\n",
       "       [ 27.,  31.,  14., ..., 100.,  33.,  40.],\n",
       "       [ 24.,  24.,   8., ...,  25., 100.,  18.],\n",
       "       [ 30.,  18.,  33., ...,  40.,  18., 100.]])"
      ]
     },
     "execution_count": 165,
     "metadata": {},
     "output_type": "execute_result"
    }
   ],
   "source": [
    "matrix"
   ]
  },
  {
   "cell_type": "markdown",
   "metadata": {},
   "source": [
    "<h4>Converting matrix into a dataframe</h4>"
   ]
  },
  {
   "cell_type": "code",
   "execution_count": 177,
   "metadata": {},
   "outputs": [],
   "source": [
    "#This function takes the matrix and list of cleaned company names as arguments and returns a dataframe representing the martrix passed\n",
    "#reset index to just be numbers\n",
    "def convertMatrixToDf(matrix, ls):\n",
    "    #In order for the code to work, the matrix passed must first be converted from float to int\n",
    "    matrix = matrix.astype(int)\n",
    "    #Then the matrix needs to be converted to str\n",
    "    matrix = matrix.astype(str)\n",
    "    cleaned_matrix = [[int(item.split()[0]) for item in row] for row in matrix]\n",
    "    matrix_scores = pd.DataFrame(cleaned_matrix, columns = ls)\n",
    "    \n",
    "    #returns the matrix as a dataframe, with type int\n",
    "    return matrix_scores.astype(int)"
   ]
  },
  {
   "cell_type": "code",
   "execution_count": 178,
   "metadata": {},
   "outputs": [],
   "source": [
    "matrixDf = convertMatrixToDf(matrix, ndc['cleaned_name'].tolist())"
   ]
  },
  {
   "cell_type": "code",
   "execution_count": 193,
   "metadata": {},
   "outputs": [
    {
     "data": {
      "text/html": [
       "<div>\n",
       "<style scoped>\n",
       "    .dataframe tbody tr th:only-of-type {\n",
       "        vertical-align: middle;\n",
       "    }\n",
       "\n",
       "    .dataframe tbody tr th {\n",
       "        vertical-align: top;\n",
       "    }\n",
       "\n",
       "    .dataframe thead th {\n",
       "        text-align: right;\n",
       "    }\n",
       "</style>\n",
       "<table border=\"1\" class=\"dataframe\">\n",
       "  <thead>\n",
       "    <tr style=\"text-align: right;\">\n",
       "      <th></th>\n",
       "      <th>spironolactone %</th>\n",
       "      <th>-loreal</th>\n",
       "      <th>cardinal</th>\n",
       "      <th>church&amp;dwight canada</th>\n",
       "      <th>preferred pharmaeutials</th>\n",
       "      <th>†wal-mart stores†</th>\n",
       "      <th>veterans</th>\n",
       "      <th>medco</th>\n",
       "      <th>st class</th>\n",
       "      <th>st medx</th>\n",
       "      <th>...</th>\n",
       "      <th>zoono</th>\n",
       "      <th>zrg detox</th>\n",
       "      <th>zunyi jici bio-health</th>\n",
       "      <th>zydus</th>\n",
       "      <th>zydus</th>\n",
       "      <th>zydus</th>\n",
       "      <th>zydus</th>\n",
       "      <th>zygone</th>\n",
       "      <th>zyla life sciences</th>\n",
       "      <th>name</th>\n",
       "    </tr>\n",
       "  </thead>\n",
       "  <tbody>\n",
       "    <tr>\n",
       "      <th>0</th>\n",
       "      <td>100</td>\n",
       "      <td>17</td>\n",
       "      <td>25</td>\n",
       "      <td>17</td>\n",
       "      <td>5</td>\n",
       "      <td>24</td>\n",
       "      <td>8</td>\n",
       "      <td>10</td>\n",
       "      <td>25</td>\n",
       "      <td>26</td>\n",
       "      <td>...</td>\n",
       "      <td>29</td>\n",
       "      <td>24</td>\n",
       "      <td>22</td>\n",
       "      <td>10</td>\n",
       "      <td>10</td>\n",
       "      <td>10</td>\n",
       "      <td>10</td>\n",
       "      <td>27</td>\n",
       "      <td>24</td>\n",
       "      <td>30</td>\n",
       "    </tr>\n",
       "    <tr>\n",
       "      <th>1</th>\n",
       "      <td>26</td>\n",
       "      <td>100</td>\n",
       "      <td>40</td>\n",
       "      <td>15</td>\n",
       "      <td>27</td>\n",
       "      <td>33</td>\n",
       "      <td>27</td>\n",
       "      <td>17</td>\n",
       "      <td>27</td>\n",
       "      <td>14</td>\n",
       "      <td>...</td>\n",
       "      <td>17</td>\n",
       "      <td>12</td>\n",
       "      <td>29</td>\n",
       "      <td>0</td>\n",
       "      <td>0</td>\n",
       "      <td>0</td>\n",
       "      <td>0</td>\n",
       "      <td>31</td>\n",
       "      <td>16</td>\n",
       "      <td>18</td>\n",
       "    </tr>\n",
       "    <tr>\n",
       "      <th>2</th>\n",
       "      <td>17</td>\n",
       "      <td>40</td>\n",
       "      <td>100</td>\n",
       "      <td>29</td>\n",
       "      <td>32</td>\n",
       "      <td>16</td>\n",
       "      <td>25</td>\n",
       "      <td>15</td>\n",
       "      <td>25</td>\n",
       "      <td>13</td>\n",
       "      <td>...</td>\n",
       "      <td>15</td>\n",
       "      <td>24</td>\n",
       "      <td>28</td>\n",
       "      <td>15</td>\n",
       "      <td>15</td>\n",
       "      <td>15</td>\n",
       "      <td>15</td>\n",
       "      <td>14</td>\n",
       "      <td>23</td>\n",
       "      <td>33</td>\n",
       "    </tr>\n",
       "    <tr>\n",
       "      <th>3</th>\n",
       "      <td>17</td>\n",
       "      <td>15</td>\n",
       "      <td>29</td>\n",
       "      <td>100</td>\n",
       "      <td>19</td>\n",
       "      <td>16</td>\n",
       "      <td>21</td>\n",
       "      <td>8</td>\n",
       "      <td>29</td>\n",
       "      <td>22</td>\n",
       "      <td>...</td>\n",
       "      <td>8</td>\n",
       "      <td>21</td>\n",
       "      <td>15</td>\n",
       "      <td>8</td>\n",
       "      <td>8</td>\n",
       "      <td>8</td>\n",
       "      <td>8</td>\n",
       "      <td>15</td>\n",
       "      <td>11</td>\n",
       "      <td>17</td>\n",
       "    </tr>\n",
       "    <tr>\n",
       "      <th>4</th>\n",
       "      <td>21</td>\n",
       "      <td>27</td>\n",
       "      <td>32</td>\n",
       "      <td>28</td>\n",
       "      <td>100</td>\n",
       "      <td>15</td>\n",
       "      <td>32</td>\n",
       "      <td>14</td>\n",
       "      <td>19</td>\n",
       "      <td>13</td>\n",
       "      <td>...</td>\n",
       "      <td>0</td>\n",
       "      <td>19</td>\n",
       "      <td>14</td>\n",
       "      <td>21</td>\n",
       "      <td>21</td>\n",
       "      <td>21</td>\n",
       "      <td>21</td>\n",
       "      <td>7</td>\n",
       "      <td>24</td>\n",
       "      <td>7</td>\n",
       "    </tr>\n",
       "  </tbody>\n",
       "</table>\n",
       "<p>5 rows × 6718 columns</p>\n",
       "</div>"
      ],
      "text/plain": [
       "   spironolactone %  -loreal  cardinal  church&dwight canada  \\\n",
       "0               100       17        25                    17   \n",
       "1                26      100        40                    15   \n",
       "2                17       40       100                    29   \n",
       "3                17       15        29                   100   \n",
       "4                21       27        32                    28   \n",
       "\n",
       "   preferred pharmaeutials  †wal-mart stores†  veterans  medco  st class  \\\n",
       "0                        5                 24         8     10        25   \n",
       "1                       27                 33        27     17        27   \n",
       "2                       32                 16        25     15        25   \n",
       "3                       19                 16        21      8        29   \n",
       "4                      100                 15        32     14        19   \n",
       "\n",
       "   st medx  ...  zoono  zrg detox  zunyi jici bio-health  zydus  zydus  zydus  \\\n",
       "0       26  ...     29         24                     22     10     10     10   \n",
       "1       14  ...     17         12                     29      0      0      0   \n",
       "2       13  ...     15         24                     28     15     15     15   \n",
       "3       22  ...      8         21                     15      8      8      8   \n",
       "4       13  ...      0         19                     14     21     21     21   \n",
       "\n",
       "   zydus  zygone  zyla life sciences  name  \n",
       "0     10      27                  24    30  \n",
       "1      0      31                  16    18  \n",
       "2     15      14                  23    33  \n",
       "3      8      15                  11    17  \n",
       "4     21       7                  24     7  \n",
       "\n",
       "[5 rows x 6718 columns]"
      ]
     },
     "execution_count": 193,
     "metadata": {},
     "output_type": "execute_result"
    }
   ],
   "source": [
    "matrixDf.head()"
   ]
  },
  {
   "cell_type": "markdown",
   "metadata": {},
   "source": [
    "<h3>FDA Matrix</h3>"
   ]
  },
  {
   "cell_type": "code",
   "execution_count": 157,
   "metadata": {},
   "outputs": [],
   "source": [
    "fda = pd.read_csv(\"../data/working/fda_clean.csv\", index_col = [0])"
   ]
  },
  {
   "cell_type": "code",
   "execution_count": 158,
   "metadata": {},
   "outputs": [
    {
     "data": {
      "text/plain": [
       "Index(['FDA Companies ', 'Company Clean'], dtype='object')"
      ]
     },
     "execution_count": 158,
     "metadata": {},
     "output_type": "execute_result"
    }
   ],
   "source": [
    "fda.columns"
   ]
  },
  {
   "cell_type": "code",
   "execution_count": 159,
   "metadata": {},
   "outputs": [],
   "source": [
    "fda.dropna(inplace = True)"
   ]
  },
  {
   "cell_type": "code",
   "execution_count": 160,
   "metadata": {},
   "outputs": [
    {
     "data": {
      "text/plain": [
       "(973, 2)"
      ]
     },
     "execution_count": 160,
     "metadata": {},
     "output_type": "execute_result"
    }
   ],
   "source": [
    "fda.shape"
   ]
  },
  {
   "cell_type": "code",
   "execution_count": 161,
   "metadata": {},
   "outputs": [],
   "source": [
    "fda_matrix = matrix_score(fda['Company Clean'].tolist(), fda['Company Clean'].tolist(), 973, 973)"
   ]
  },
  {
   "cell_type": "code",
   "execution_count": 162,
   "metadata": {},
   "outputs": [
    {
     "data": {
      "text/plain": [
       "array([[100.,  13.,  41., ...,  21.,  21.,  28.],\n",
       "       [ 13., 100.,  12., ...,   0.,   0.,   0.],\n",
       "       [ 41.,  12., 100., ...,  20.,  20.,  27.],\n",
       "       ...,\n",
       "       [ 21.,   0.,  10., ..., 100., 100.,  50.],\n",
       "       [ 21.,   0.,  10., ..., 100., 100.,  50.],\n",
       "       [ 14.,   0.,  33., ...,  50.,  50., 100.]])"
      ]
     },
     "execution_count": 162,
     "metadata": {},
     "output_type": "execute_result"
    }
   ],
   "source": [
    "fda_matrix"
   ]
  },
  {
   "cell_type": "code",
   "execution_count": 163,
   "metadata": {},
   "outputs": [],
   "source": [
    "fda_matrix_df = convertMatrixToDf(fda_matrix, fda['Company Clean'].tolist())"
   ]
  },
  {
   "cell_type": "code",
   "execution_count": 164,
   "metadata": {},
   "outputs": [
    {
     "data": {
      "text/html": [
       "<div>\n",
       "<style scoped>\n",
       "    .dataframe tbody tr th:only-of-type {\n",
       "        vertical-align: middle;\n",
       "    }\n",
       "\n",
       "    .dataframe tbody tr th {\n",
       "        vertical-align: top;\n",
       "    }\n",
       "\n",
       "    .dataframe thead th {\n",
       "        text-align: right;\n",
       "    }\n",
       "</style>\n",
       "<table border=\"1\" class=\"dataframe\">\n",
       "  <thead>\n",
       "    <tr style=\"text-align: right;\">\n",
       "      <th></th>\n",
       "      <th>d imaging drug</th>\n",
       "      <th>m</th>\n",
       "      <th>m drug delivery</th>\n",
       "      <th>aaipharma</th>\n",
       "      <th>abbott</th>\n",
       "      <th>abbvie</th>\n",
       "      <th>abbvie endocrine</th>\n",
       "      <th>abbvie endocrine</th>\n",
       "      <th>abbvie</th>\n",
       "      <th>abhai</th>\n",
       "      <th>...</th>\n",
       "      <th>yabao</th>\n",
       "      <th>yaopharma</th>\n",
       "      <th>yung shin</th>\n",
       "      <th>zambon</th>\n",
       "      <th>zevacor</th>\n",
       "      <th>zo skin</th>\n",
       "      <th>zydus</th>\n",
       "      <th>zydus</th>\n",
       "      <th>zydus</th>\n",
       "      <th>zydus worldwide</th>\n",
       "    </tr>\n",
       "  </thead>\n",
       "  <tbody>\n",
       "    <tr>\n",
       "      <th>0</th>\n",
       "      <td>100</td>\n",
       "      <td>13</td>\n",
       "      <td>41</td>\n",
       "      <td>26</td>\n",
       "      <td>10</td>\n",
       "      <td>10</td>\n",
       "      <td>20</td>\n",
       "      <td>20</td>\n",
       "      <td>10</td>\n",
       "      <td>11</td>\n",
       "      <td>...</td>\n",
       "      <td>11</td>\n",
       "      <td>17</td>\n",
       "      <td>26</td>\n",
       "      <td>20</td>\n",
       "      <td>19</td>\n",
       "      <td>29</td>\n",
       "      <td>21</td>\n",
       "      <td>21</td>\n",
       "      <td>21</td>\n",
       "      <td>28</td>\n",
       "    </tr>\n",
       "    <tr>\n",
       "      <th>1</th>\n",
       "      <td>13</td>\n",
       "      <td>100</td>\n",
       "      <td>12</td>\n",
       "      <td>20</td>\n",
       "      <td>0</td>\n",
       "      <td>0</td>\n",
       "      <td>0</td>\n",
       "      <td>0</td>\n",
       "      <td>0</td>\n",
       "      <td>0</td>\n",
       "      <td>...</td>\n",
       "      <td>0</td>\n",
       "      <td>20</td>\n",
       "      <td>0</td>\n",
       "      <td>29</td>\n",
       "      <td>0</td>\n",
       "      <td>0</td>\n",
       "      <td>0</td>\n",
       "      <td>0</td>\n",
       "      <td>0</td>\n",
       "      <td>0</td>\n",
       "    </tr>\n",
       "    <tr>\n",
       "      <th>2</th>\n",
       "      <td>41</td>\n",
       "      <td>12</td>\n",
       "      <td>100</td>\n",
       "      <td>8</td>\n",
       "      <td>0</td>\n",
       "      <td>10</td>\n",
       "      <td>26</td>\n",
       "      <td>26</td>\n",
       "      <td>10</td>\n",
       "      <td>10</td>\n",
       "      <td>...</td>\n",
       "      <td>10</td>\n",
       "      <td>8</td>\n",
       "      <td>33</td>\n",
       "      <td>10</td>\n",
       "      <td>9</td>\n",
       "      <td>18</td>\n",
       "      <td>20</td>\n",
       "      <td>20</td>\n",
       "      <td>20</td>\n",
       "      <td>27</td>\n",
       "    </tr>\n",
       "    <tr>\n",
       "      <th>3</th>\n",
       "      <td>26</td>\n",
       "      <td>20</td>\n",
       "      <td>17</td>\n",
       "      <td>100</td>\n",
       "      <td>13</td>\n",
       "      <td>27</td>\n",
       "      <td>24</td>\n",
       "      <td>24</td>\n",
       "      <td>27</td>\n",
       "      <td>43</td>\n",
       "      <td>...</td>\n",
       "      <td>29</td>\n",
       "      <td>78</td>\n",
       "      <td>11</td>\n",
       "      <td>27</td>\n",
       "      <td>25</td>\n",
       "      <td>12</td>\n",
       "      <td>0</td>\n",
       "      <td>0</td>\n",
       "      <td>0</td>\n",
       "      <td>8</td>\n",
       "    </tr>\n",
       "    <tr>\n",
       "      <th>4</th>\n",
       "      <td>10</td>\n",
       "      <td>0</td>\n",
       "      <td>0</td>\n",
       "      <td>13</td>\n",
       "      <td>100</td>\n",
       "      <td>50</td>\n",
       "      <td>36</td>\n",
       "      <td>36</td>\n",
       "      <td>50</td>\n",
       "      <td>36</td>\n",
       "      <td>...</td>\n",
       "      <td>55</td>\n",
       "      <td>27</td>\n",
       "      <td>0</td>\n",
       "      <td>50</td>\n",
       "      <td>31</td>\n",
       "      <td>15</td>\n",
       "      <td>0</td>\n",
       "      <td>0</td>\n",
       "      <td>0</td>\n",
       "      <td>10</td>\n",
       "    </tr>\n",
       "  </tbody>\n",
       "</table>\n",
       "<p>5 rows × 973 columns</p>\n",
       "</div>"
      ],
      "text/plain": [
       "   d imaging drug    m  m drug delivery  aaipharma  abbott  abbvie  \\\n",
       "0             100   13               41         26      10      10   \n",
       "1              13  100               12         20       0       0   \n",
       "2              41   12              100          8       0      10   \n",
       "3              26   20               17        100      13      27   \n",
       "4              10    0                0         13     100      50   \n",
       "\n",
       "   abbvie endocrine  abbvie endocrine  abbvie  abhai  ...  yabao  yaopharma  \\\n",
       "0                20                20      10     11  ...     11         17   \n",
       "1                 0                 0       0      0  ...      0         20   \n",
       "2                26                26      10     10  ...     10          8   \n",
       "3                24                24      27     43  ...     29         78   \n",
       "4                36                36      50     36  ...     55         27   \n",
       "\n",
       "   yung shin  zambon  zevacor  zo skin  zydus  zydus  zydus  zydus worldwide  \n",
       "0         26      20       19       29     21     21     21               28  \n",
       "1          0      29        0        0      0      0      0                0  \n",
       "2         33      10        9       18     20     20     20               27  \n",
       "3         11      27       25       12      0      0      0                8  \n",
       "4          0      50       31       15      0      0      0               10  \n",
       "\n",
       "[5 rows x 973 columns]"
      ]
     },
     "execution_count": 164,
     "metadata": {},
     "output_type": "execute_result"
    }
   ],
   "source": [
    "fda_matrix_df.head()"
   ]
  },
  {
   "cell_type": "code",
   "execution_count": null,
   "metadata": {},
   "outputs": [],
   "source": []
  },
  {
   "cell_type": "code",
   "execution_count": null,
   "metadata": {},
   "outputs": [],
   "source": []
  },
  {
   "cell_type": "code",
   "execution_count": 124,
   "metadata": {},
   "outputs": [],
   "source": [
    "fda_matrix_df.to_csv(\"../data/working/matrix_fda.csv\")"
   ]
  },
  {
   "cell_type": "markdown",
   "metadata": {},
   "source": [
    "<h3>DNA Matrix subset</h3>"
   ]
  },
  {
   "cell_type": "code",
   "execution_count": 39,
   "metadata": {},
   "outputs": [],
   "source": [
    "dna = pd.read_csv(\"../data/working/dna_clean.csv\", index_col = [0])"
   ]
  },
  {
   "cell_type": "code",
   "execution_count": 40,
   "metadata": {},
   "outputs": [
    {
     "data": {
      "text/plain": [
       "(64005, 4)"
      ]
     },
     "execution_count": 40,
     "metadata": {},
     "output_type": "execute_result"
    }
   ],
   "source": [
    "dna.shape"
   ]
  },
  {
   "cell_type": "code",
   "execution_count": 41,
   "metadata": {},
   "outputs": [],
   "source": [
    "dna.dropna(inplace = True)"
   ]
  },
  {
   "cell_type": "code",
   "execution_count": 70,
   "metadata": {},
   "outputs": [],
   "source": [
    "dna_subset = dna[21318:42636]"
   ]
  },
  {
   "cell_type": "code",
   "execution_count": 71,
   "metadata": {},
   "outputs": [
    {
     "data": {
      "text/html": [
       "<div>\n",
       "<style scoped>\n",
       "    .dataframe tbody tr th:only-of-type {\n",
       "        vertical-align: middle;\n",
       "    }\n",
       "\n",
       "    .dataframe tbody tr th {\n",
       "        vertical-align: top;\n",
       "    }\n",
       "\n",
       "    .dataframe thead th {\n",
       "        text-align: right;\n",
       "    }\n",
       "</style>\n",
       "<table border=\"1\" class=\"dataframe\">\n",
       "  <thead>\n",
       "    <tr style=\"text-align: right;\">\n",
       "      <th></th>\n",
       "      <th>Unnamed: 0.1</th>\n",
       "      <th>Code</th>\n",
       "      <th>Description</th>\n",
       "      <th>cleaned_companies</th>\n",
       "    </tr>\n",
       "  </thead>\n",
       "  <tbody>\n",
       "    <tr>\n",
       "      <th>21341</th>\n",
       "      <td>35411</td>\n",
       "      <td>FIRBUS</td>\n",
       "      <td>First Busey Corporation</td>\n",
       "      <td>first busey</td>\n",
       "    </tr>\n",
       "    <tr>\n",
       "      <th>21342</th>\n",
       "      <td>35415</td>\n",
       "      <td>FIRCPT</td>\n",
       "      <td>Emerald Health Therapeutics Inc.</td>\n",
       "      <td>emerald therapeutics</td>\n",
       "    </tr>\n",
       "    <tr>\n",
       "      <th>21343</th>\n",
       "      <td>35416</td>\n",
       "      <td>FIRDER</td>\n",
       "      <td>First Derivatives PLC</td>\n",
       "      <td>first derivatives</td>\n",
       "    </tr>\n",
       "    <tr>\n",
       "      <th>21344</th>\n",
       "      <td>35418</td>\n",
       "      <td>FIRDIA</td>\n",
       "      <td>Firestone Diamonds PLC</td>\n",
       "      <td>firestone diamonds</td>\n",
       "    </tr>\n",
       "    <tr>\n",
       "      <th>21345</th>\n",
       "      <td>35419</td>\n",
       "      <td>FIREEI</td>\n",
       "      <td>FireEye Inc.</td>\n",
       "      <td>fireeye</td>\n",
       "    </tr>\n",
       "    <tr>\n",
       "      <th>...</th>\n",
       "      <td>...</td>\n",
       "      <td>...</td>\n",
       "      <td>...</td>\n",
       "      <td>...</td>\n",
       "    </tr>\n",
       "    <tr>\n",
       "      <th>42673</th>\n",
       "      <td>70649</td>\n",
       "      <td>OMCCAP</td>\n",
       "      <td>NanoSphere Health Sciences Inc.</td>\n",
       "      <td>nanosphere sciences</td>\n",
       "    </tr>\n",
       "    <tr>\n",
       "      <th>42674</th>\n",
       "      <td>70650</td>\n",
       "      <td>OMCMST</td>\n",
       "      <td>Omnicomm Systems Inc</td>\n",
       "      <td>omnicomm</td>\n",
       "    </tr>\n",
       "    <tr>\n",
       "      <th>42675</th>\n",
       "      <td>70651</td>\n",
       "      <td>OMCRED</td>\n",
       "      <td>OmniAmerican Credit Union</td>\n",
       "      <td>omniamerican credit union</td>\n",
       "    </tr>\n",
       "    <tr>\n",
       "      <th>42676</th>\n",
       "      <td>70652</td>\n",
       "      <td>OMDBZZ</td>\n",
       "      <td>1Malaysia Development Bhd</td>\n",
       "      <td>malaysia development</td>\n",
       "    </tr>\n",
       "    <tr>\n",
       "      <th>42677</th>\n",
       "      <td>70655</td>\n",
       "      <td>OMDCI</td>\n",
       "      <td>OMD Chicago Inc.</td>\n",
       "      <td>omd chicago</td>\n",
       "    </tr>\n",
       "  </tbody>\n",
       "</table>\n",
       "<p>21318 rows × 4 columns</p>\n",
       "</div>"
      ],
      "text/plain": [
       "       Unnamed: 0.1    Code                       Description  \\\n",
       "21341         35411  FIRBUS           First Busey Corporation   \n",
       "21342         35415  FIRCPT  Emerald Health Therapeutics Inc.   \n",
       "21343         35416  FIRDER             First Derivatives PLC   \n",
       "21344         35418  FIRDIA            Firestone Diamonds PLC   \n",
       "21345         35419  FIREEI                      FireEye Inc.   \n",
       "...             ...     ...                               ...   \n",
       "42673         70649  OMCCAP   NanoSphere Health Sciences Inc.   \n",
       "42674         70650  OMCMST              Omnicomm Systems Inc   \n",
       "42675         70651  OMCRED         OmniAmerican Credit Union   \n",
       "42676         70652  OMDBZZ         1Malaysia Development Bhd   \n",
       "42677         70655   OMDCI                  OMD Chicago Inc.   \n",
       "\n",
       "               cleaned_companies  \n",
       "21341                first busey  \n",
       "21342       emerald therapeutics  \n",
       "21343          first derivatives  \n",
       "21344         firestone diamonds  \n",
       "21345                    fireeye  \n",
       "...                          ...  \n",
       "42673        nanosphere sciences  \n",
       "42674                   omnicomm  \n",
       "42675  omniamerican credit union  \n",
       "42676       malaysia development  \n",
       "42677                omd chicago  \n",
       "\n",
       "[21318 rows x 4 columns]"
      ]
     },
     "execution_count": 71,
     "metadata": {},
     "output_type": "execute_result"
    }
   ],
   "source": [
    "dna_subset"
   ]
  },
  {
   "cell_type": "code",
   "execution_count": 72,
   "metadata": {},
   "outputs": [
    {
     "name": "stderr",
     "output_type": "stream",
     "text": [
      "/apps/software/standard/compiler/gcc/7.1.0/jupyter_conda/2019.10-py3.7/lib/python3.7/site-packages/ipykernel_launcher.py:1: SettingWithCopyWarning: \n",
      "A value is trying to be set on a copy of a slice from a DataFrame.\n",
      "Try using .loc[row_indexer,col_indexer] = value instead\n",
      "\n",
      "See the caveats in the documentation: http://pandas.pydata.org/pandas-docs/stable/user_guide/indexing.html#returning-a-view-versus-a-copy\n",
      "  \"\"\"Entry point for launching an IPython kernel.\n"
     ]
    }
   ],
   "source": [
    "dna_subset['row'] = np.arange(0,len(dna_subset))"
   ]
  },
  {
   "cell_type": "code",
   "execution_count": 73,
   "metadata": {},
   "outputs": [
    {
     "data": {
      "text/plain": [
       "21318"
      ]
     },
     "execution_count": 73,
     "metadata": {},
     "output_type": "execute_result"
    }
   ],
   "source": [
    "len(dna_subset)"
   ]
  },
  {
   "cell_type": "code",
   "execution_count": 79,
   "metadata": {},
   "outputs": [],
   "source": [
    "#3553\n",
    "partOne = dna_subset[0:3553]\n",
    "partTwo = dna_subset[3553:7016]\n",
    "partThree = dna_subset[7016:10659]\n",
    "partFour = dna_subset[10659:14212]\n",
    "partFive = dna_subset[14212:17765]\n",
    "partSix = dna_subset[17765:21318]"
   ]
  },
  {
   "cell_type": "code",
   "execution_count": 80,
   "metadata": {},
   "outputs": [
    {
     "data": {
      "text/html": [
       "<div>\n",
       "<style scoped>\n",
       "    .dataframe tbody tr th:only-of-type {\n",
       "        vertical-align: middle;\n",
       "    }\n",
       "\n",
       "    .dataframe tbody tr th {\n",
       "        vertical-align: top;\n",
       "    }\n",
       "\n",
       "    .dataframe thead th {\n",
       "        text-align: right;\n",
       "    }\n",
       "</style>\n",
       "<table border=\"1\" class=\"dataframe\">\n",
       "  <thead>\n",
       "    <tr style=\"text-align: right;\">\n",
       "      <th></th>\n",
       "      <th>Unnamed: 0.1</th>\n",
       "      <th>Code</th>\n",
       "      <th>Description</th>\n",
       "      <th>cleaned_companies</th>\n",
       "      <th>row</th>\n",
       "    </tr>\n",
       "  </thead>\n",
       "  <tbody>\n",
       "    <tr>\n",
       "      <th>42673</th>\n",
       "      <td>70649</td>\n",
       "      <td>OMCCAP</td>\n",
       "      <td>NanoSphere Health Sciences Inc.</td>\n",
       "      <td>nanosphere sciences</td>\n",
       "      <td>21313</td>\n",
       "    </tr>\n",
       "    <tr>\n",
       "      <th>42674</th>\n",
       "      <td>70650</td>\n",
       "      <td>OMCMST</td>\n",
       "      <td>Omnicomm Systems Inc</td>\n",
       "      <td>omnicomm</td>\n",
       "      <td>21314</td>\n",
       "    </tr>\n",
       "    <tr>\n",
       "      <th>42675</th>\n",
       "      <td>70651</td>\n",
       "      <td>OMCRED</td>\n",
       "      <td>OmniAmerican Credit Union</td>\n",
       "      <td>omniamerican credit union</td>\n",
       "      <td>21315</td>\n",
       "    </tr>\n",
       "    <tr>\n",
       "      <th>42676</th>\n",
       "      <td>70652</td>\n",
       "      <td>OMDBZZ</td>\n",
       "      <td>1Malaysia Development Bhd</td>\n",
       "      <td>malaysia development</td>\n",
       "      <td>21316</td>\n",
       "    </tr>\n",
       "    <tr>\n",
       "      <th>42677</th>\n",
       "      <td>70655</td>\n",
       "      <td>OMDCI</td>\n",
       "      <td>OMD Chicago Inc.</td>\n",
       "      <td>omd chicago</td>\n",
       "      <td>21317</td>\n",
       "    </tr>\n",
       "  </tbody>\n",
       "</table>\n",
       "</div>"
      ],
      "text/plain": [
       "       Unnamed: 0.1    Code                      Description  \\\n",
       "42673         70649  OMCCAP  NanoSphere Health Sciences Inc.   \n",
       "42674         70650  OMCMST             Omnicomm Systems Inc   \n",
       "42675         70651  OMCRED        OmniAmerican Credit Union   \n",
       "42676         70652  OMDBZZ        1Malaysia Development Bhd   \n",
       "42677         70655   OMDCI                 OMD Chicago Inc.   \n",
       "\n",
       "               cleaned_companies    row  \n",
       "42673        nanosphere sciences  21313  \n",
       "42674                   omnicomm  21314  \n",
       "42675  omniamerican credit union  21315  \n",
       "42676       malaysia development  21316  \n",
       "42677                omd chicago  21317  "
      ]
     },
     "execution_count": 80,
     "metadata": {},
     "output_type": "execute_result"
    }
   ],
   "source": [
    "partSix.tail()"
   ]
  },
  {
   "cell_type": "code",
   "execution_count": 81,
   "metadata": {},
   "outputs": [
    {
     "ename": "KeyboardInterrupt",
     "evalue": "",
     "output_type": "error",
     "traceback": [
      "\u001b[0;31m---------------------------------------------------------------------------\u001b[0m",
      "\u001b[0;31mKeyboardInterrupt\u001b[0m                         Traceback (most recent call last)",
      "\u001b[0;32m<ipython-input-81-505fc3435ac9>\u001b[0m in \u001b[0;36m<module>\u001b[0;34m\u001b[0m\n\u001b[0;32m----> 1\u001b[0;31m \u001b[0mdna_subset_matrix\u001b[0m \u001b[0;34m=\u001b[0m \u001b[0mmatrix_score\u001b[0m\u001b[0;34m(\u001b[0m\u001b[0mpartOne\u001b[0m\u001b[0;34m[\u001b[0m\u001b[0;34m'cleaned_companies'\u001b[0m\u001b[0;34m]\u001b[0m\u001b[0;34m.\u001b[0m\u001b[0mtolist\u001b[0m\u001b[0;34m(\u001b[0m\u001b[0;34m)\u001b[0m\u001b[0;34m,\u001b[0m \u001b[0mdna\u001b[0m\u001b[0;34m[\u001b[0m\u001b[0;34m'cleaned_companies'\u001b[0m\u001b[0;34m]\u001b[0m\u001b[0;34m.\u001b[0m\u001b[0mtolist\u001b[0m\u001b[0;34m(\u001b[0m\u001b[0;34m)\u001b[0m\u001b[0;34m,\u001b[0m \u001b[0;36m3553\u001b[0m\u001b[0;34m,\u001b[0m\u001b[0;36m63954\u001b[0m\u001b[0;34m)\u001b[0m\u001b[0;34m\u001b[0m\u001b[0;34m\u001b[0m\u001b[0m\n\u001b[0m",
      "\u001b[0;32m<ipython-input-2-1e2da991ead7>\u001b[0m in \u001b[0;36mmatrix_score\u001b[0;34m(l1, l2, nrows, ncols)\u001b[0m\n\u001b[1;32m     24\u001b[0m         \u001b[0;32mfor\u001b[0m \u001b[0mj\u001b[0m \u001b[0;32min\u001b[0m \u001b[0ml2\u001b[0m\u001b[0;34m:\u001b[0m\u001b[0;34m\u001b[0m\u001b[0;34m\u001b[0m\u001b[0m\n\u001b[1;32m     25\u001b[0m             \u001b[0mscore\u001b[0m \u001b[0;34m=\u001b[0m \u001b[0mfuzz\u001b[0m\u001b[0;34m.\u001b[0m\u001b[0mratio\u001b[0m\u001b[0;34m(\u001b[0m\u001b[0mi\u001b[0m\u001b[0;34m,\u001b[0m\u001b[0mj\u001b[0m\u001b[0;34m)\u001b[0m\u001b[0;34m\u001b[0m\u001b[0;34m\u001b[0m\u001b[0m\n\u001b[0;32m---> 26\u001b[0;31m             \u001b[0mmatrix\u001b[0m\u001b[0;34m[\u001b[0m\u001b[0mrow\u001b[0m\u001b[0;34m]\u001b[0m\u001b[0;34m[\u001b[0m\u001b[0mcol\u001b[0m\u001b[0;34m]\u001b[0m \u001b[0;34m=\u001b[0m \u001b[0mscore\u001b[0m\u001b[0;34m\u001b[0m\u001b[0;34m\u001b[0m\u001b[0m\n\u001b[0m\u001b[1;32m     27\u001b[0m             \u001b[0mcol\u001b[0m\u001b[0;34m+=\u001b[0m\u001b[0;36m1\u001b[0m\u001b[0;34m\u001b[0m\u001b[0;34m\u001b[0m\u001b[0m\n\u001b[1;32m     28\u001b[0m         \u001b[0mcol\u001b[0m \u001b[0;34m=\u001b[0m \u001b[0;36m0\u001b[0m\u001b[0;34m\u001b[0m\u001b[0;34m\u001b[0m\u001b[0m\n",
      "\u001b[0;31mKeyboardInterrupt\u001b[0m: "
     ]
    }
   ],
   "source": [
    "dna_subset_matrix = matrix_score(partOne['cleaned_companies'].tolist(), dna['cleaned_companies'].tolist(), 3553,63954)"
   ]
  },
  {
   "cell_type": "code",
   "execution_count": 49,
   "metadata": {},
   "outputs": [
    {
     "ename": "NameError",
     "evalue": "name 'dna_subset_matrix' is not defined",
     "output_type": "error",
     "traceback": [
      "\u001b[0;31m---------------------------------------------------------------------------\u001b[0m",
      "\u001b[0;31mNameError\u001b[0m                                 Traceback (most recent call last)",
      "\u001b[0;32m<ipython-input-49-4455224a52a9>\u001b[0m in \u001b[0;36m<module>\u001b[0;34m\u001b[0m\n\u001b[0;32m----> 1\u001b[0;31m \u001b[0mdna_subset_matrix\u001b[0m\u001b[0;34m\u001b[0m\u001b[0;34m\u001b[0m\u001b[0m\n\u001b[0m",
      "\u001b[0;31mNameError\u001b[0m: name 'dna_subset_matrix' is not defined"
     ]
    }
   ],
   "source": [
    "dna_subset_matrix"
   ]
  },
  {
   "cell_type": "markdown",
   "metadata": {},
   "source": [
    "<h4>Jaccard</h4>"
   ]
  },
  {
   "cell_type": "markdown",
   "metadata": {},
   "source": [
    " Formula: 1 - (|intersection of A,B| / |A| + |B| - |A union B|)"
   ]
  },
  {
   "cell_type": "code",
   "execution_count": 40,
   "metadata": {},
   "outputs": [],
   "source": [
    "def matchWithJaccard(l1, l2):\n",
    "    l1 = set(l1)\n",
    "    l2 = set(l2)\n",
    "    for i in l1:\n",
    "        print(\"\\nCompany in list 1 {} matches\".format(i))\n",
    "        i = set(i)\n",
    "        for j in l2:\n",
    "            j = set(j)\n",
    "            print(\"{} with a jaccard score of {}\".format(j, jaccard_distance(i, j)))"
   ]
  },
  {
   "cell_type": "code",
   "execution_count": 41,
   "metadata": {},
   "outputs": [],
   "source": [
    "mylist = [\"nike\", \"tesla\", \"johnson&johnson\"]\n",
    "mylist2 = ['nike', \"tesla\", \"john\"]"
   ]
  },
  {
   "cell_type": "code",
   "execution_count": 42,
   "metadata": {},
   "outputs": [
    {
     "name": "stdout",
     "output_type": "stream",
     "text": [
      "\n",
      "Company in list 1 nike matches\n",
      "{'e', 'k', 'n', 'i'} with a jaccard score of 0.0\n",
      "{'o', 'n', 'h', 'j'} with a jaccard score of 0.8571428571428571\n",
      "{'a', 's', 'l', 'e', 't'} with a jaccard score of 0.875\n",
      "\n",
      "Company in list 1 johnson&johnson matches\n",
      "{'e', 'k', 'n', 'i'} with a jaccard score of 0.8888888888888888\n",
      "{'o', 'n', 'h', 'j'} with a jaccard score of 0.3333333333333333\n",
      "{'a', 's', 'l', 'e', 't'} with a jaccard score of 0.9\n",
      "\n",
      "Company in list 1 tesla matches\n",
      "{'e', 'k', 'n', 'i'} with a jaccard score of 0.875\n",
      "{'o', 'n', 'h', 'j'} with a jaccard score of 1.0\n",
      "{'a', 's', 'l', 'e', 't'} with a jaccard score of 0.0\n"
     ]
    }
   ],
   "source": [
    "matchWithJaccard(mylist, mylist2)"
   ]
  },
  {
   "cell_type": "code",
   "execution_count": 43,
   "metadata": {},
   "outputs": [],
   "source": [
    "s1 = set([1,2,3,4])\n",
    "s2 = set([3,4,5])"
   ]
  },
  {
   "cell_type": "code",
   "execution_count": 49,
   "metadata": {},
   "outputs": [
    {
     "name": "stdout",
     "output_type": "stream",
     "text": [
      "0.6\n"
     ]
    }
   ],
   "source": [
    "print(jaccard_distance(s1, s2))"
   ]
  },
  {
   "cell_type": "code",
   "execution_count": 51,
   "metadata": {},
   "outputs": [],
   "source": [
    "s1 = {1, 2, 3, 4, 5}\n",
    "s2 = {4, 5, 6, 7, 8, 9, 10}"
   ]
  },
  {
   "cell_type": "code",
   "execution_count": 52,
   "metadata": {},
   "outputs": [
    {
     "name": "stdout",
     "output_type": "stream",
     "text": [
      "0.8\n"
     ]
    }
   ],
   "source": [
    "print(jaccard_distance(s1,s2))"
   ]
  },
  {
   "cell_type": "code",
   "execution_count": 53,
   "metadata": {},
   "outputs": [
    {
     "name": "stdout",
     "output_type": "stream",
     "text": [
      "{4, 5}\n"
     ]
    }
   ],
   "source": [
    "print(s1 & s2)"
   ]
  },
  {
   "cell_type": "code",
   "execution_count": null,
   "metadata": {},
   "outputs": [],
   "source": []
  }
 ],
 "metadata": {
  "kernelspec": {
   "display_name": "Python 3",
   "language": "python",
   "name": "python3"
  },
  "language_info": {
   "codemirror_mode": {
    "name": "ipython",
    "version": 3
   },
   "file_extension": ".py",
   "mimetype": "text/x-python",
   "name": "python",
   "nbconvert_exporter": "python",
   "pygments_lexer": "ipython3",
   "version": "3.7.4"
  }
 },
 "nbformat": 4,
 "nbformat_minor": 4
}
