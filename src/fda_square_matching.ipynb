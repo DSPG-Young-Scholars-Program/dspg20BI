{
 "cells": [
  {
   "cell_type": "code",
   "execution_count": 2,
   "metadata": {},
   "outputs": [
    {
     "name": "stderr",
     "output_type": "stream",
     "text": [
      "/home/ig5eq/.local/lib/python3.7/site-packages/fuzzywuzzy/fuzz.py:11: UserWarning: Using slow pure-python SequenceMatcher. Install python-Levenshtein to remove this warning\n",
      "  warnings.warn('Using slow pure-python SequenceMatcher. Install python-Levenshtein to remove this warning')\n"
     ]
    }
   ],
   "source": [
    "import pandas as pd\n",
    "import fuzzywuzzy \n",
    "from fuzzywuzzy import fuzz\n",
    "import numpy as np\n",
    "from numpy import save\n",
    "import collections"
   ]
  },
  {
   "cell_type": "markdown",
   "metadata": {},
   "source": [
    "### Creating FDA Matrix Function inputs"
   ]
  },
  {
   "cell_type": "code",
   "execution_count": 3,
   "metadata": {},
   "outputs": [],
   "source": [
    "#This simply reads in the fda csv, we're reading in the cleaned fda look at cleanFDA for more details on cleaining\n",
    "fda = pd.read_csv('../data/working/fda_clean.csv')"
   ]
  },
  {
   "cell_type": "code",
   "execution_count": 4,
   "metadata": {},
   "outputs": [],
   "source": [
    "#This drops the rows that have no company name due to aggressive cleaning \n",
    "#dropped 686: PHARM ASSOC and 898: US PHARM HOLDINGS, bc all of these substrings were part of removing words list\n",
    "fda_clean = fda.dropna()"
   ]
  },
  {
   "cell_type": "code",
   "execution_count": 4,
   "metadata": {},
   "outputs": [],
   "source": [
    "#Reset the index of the new dataframe, post drop, to reflect the new number of rows\n",
    "fda_org = fda_clean['FDA Companies '].reset_index()"
   ]
  },
  {
   "cell_type": "code",
   "execution_count": 54,
   "metadata": {
    "collapsed": true,
    "jupyter": {
     "outputs_hidden": true
    }
   },
   "outputs": [
    {
     "data": {
      "text/html": [
       "<div>\n",
       "<style scoped>\n",
       "    .dataframe tbody tr th:only-of-type {\n",
       "        vertical-align: middle;\n",
       "    }\n",
       "\n",
       "    .dataframe tbody tr th {\n",
       "        vertical-align: top;\n",
       "    }\n",
       "\n",
       "    .dataframe thead th {\n",
       "        text-align: right;\n",
       "    }\n",
       "</style>\n",
       "<table border=\"1\" class=\"dataframe\">\n",
       "  <thead>\n",
       "    <tr style=\"text-align: right;\">\n",
       "      <th></th>\n",
       "      <th>index</th>\n",
       "      <th>FDA Companies</th>\n",
       "    </tr>\n",
       "  </thead>\n",
       "  <tbody>\n",
       "    <tr>\n",
       "      <th>0</th>\n",
       "      <td>0</td>\n",
       "      <td>3D IMAGING DRUG</td>\n",
       "    </tr>\n",
       "    <tr>\n",
       "      <th>1</th>\n",
       "      <td>1</td>\n",
       "      <td>3M</td>\n",
       "    </tr>\n",
       "    <tr>\n",
       "      <th>2</th>\n",
       "      <td>2</td>\n",
       "      <td>3M DRUG DELIVERY</td>\n",
       "    </tr>\n",
       "    <tr>\n",
       "      <th>3</th>\n",
       "      <td>3</td>\n",
       "      <td>AAIPHARMA LLC</td>\n",
       "    </tr>\n",
       "    <tr>\n",
       "      <th>4</th>\n",
       "      <td>4</td>\n",
       "      <td>ABBOTT LABS</td>\n",
       "    </tr>\n",
       "    <tr>\n",
       "      <th>...</th>\n",
       "      <td>...</td>\n",
       "      <td>...</td>\n",
       "    </tr>\n",
       "    <tr>\n",
       "      <th>968</th>\n",
       "      <td>970</td>\n",
       "      <td>ZO SKIN HEALTH</td>\n",
       "    </tr>\n",
       "    <tr>\n",
       "      <th>969</th>\n",
       "      <td>971</td>\n",
       "      <td>ZYDUS HLTHCARE</td>\n",
       "    </tr>\n",
       "    <tr>\n",
       "      <th>970</th>\n",
       "      <td>972</td>\n",
       "      <td>ZYDUS PHARMS USA</td>\n",
       "    </tr>\n",
       "    <tr>\n",
       "      <th>971</th>\n",
       "      <td>973</td>\n",
       "      <td>ZYDUS PHARMS USA INC</td>\n",
       "    </tr>\n",
       "    <tr>\n",
       "      <th>972</th>\n",
       "      <td>974</td>\n",
       "      <td>ZYDUS WORLDWIDE</td>\n",
       "    </tr>\n",
       "  </tbody>\n",
       "</table>\n",
       "<p>973 rows × 2 columns</p>\n",
       "</div>"
      ],
      "text/plain": [
       "     index        FDA Companies \n",
       "0        0       3D IMAGING DRUG\n",
       "1        1                    3M\n",
       "2        2      3M DRUG DELIVERY\n",
       "3        3         AAIPHARMA LLC\n",
       "4        4           ABBOTT LABS\n",
       "..     ...                   ...\n",
       "968    970        ZO SKIN HEALTH\n",
       "969    971        ZYDUS HLTHCARE\n",
       "970    972      ZYDUS PHARMS USA\n",
       "971    973  ZYDUS PHARMS USA INC\n",
       "972    974       ZYDUS WORLDWIDE\n",
       "\n",
       "[973 rows x 2 columns]"
      ]
     },
     "execution_count": 54,
     "metadata": {},
     "output_type": "execute_result"
    }
   ],
   "source": [
    "fda_org"
   ]
  },
  {
   "cell_type": "code",
   "execution_count": 5,
   "metadata": {},
   "outputs": [],
   "source": [
    "fda_row = fda_org['index']"
   ]
  },
  {
   "cell_type": "code",
   "execution_count": 6,
   "metadata": {},
   "outputs": [],
   "source": [
    "#subset the original company names to use as input matching function later\n",
    "fda_comp = fda_org['FDA Companies ']"
   ]
  },
  {
   "cell_type": "code",
   "execution_count": 7,
   "metadata": {},
   "outputs": [],
   "source": [
    "#subset the clean company names to use as input in matching function later\n",
    "fda_list = fda_clean['Company Clean']"
   ]
  },
  {
   "cell_type": "markdown",
   "metadata": {},
   "source": [
    "### FDA Fuzzy matching using fuzzy wuzzy"
   ]
  },
  {
   "cell_type": "code",
   "execution_count": 2,
   "metadata": {},
   "outputs": [],
   "source": [
    "##Function that takes in 3 lists, the list of strings you want to compare, the list of strings you're comparing to and a list with the original way the string from list 1 was written.  \n",
    "def matchWithFuzzyNames(l1, l2, original, row_num):\n",
    "    match = pd.DataFrame(columns = ['original company names', 'clean company name', 'company matches', 'fuzz ratio'])\n",
    "    for i in l1:\n",
    "        matches = []\n",
    "        score = []\n",
    "        score_partial = []\n",
    "        for j in l2:\n",
    "            #due to time constraints, we set the fuzz.ratio to 100, however future programming should adjust this value to some other quantity to see if we get better matches\n",
    "            if (fuzz.ratio(i,j)) == 100:\n",
    "                matches.append(j)\n",
    "                score.append(fuzz.ratio(i,j))\n",
    "                #the partial ratio will return the ratio raw score of 100  if the shorter string is found an any of substrings of the larger string, used this as a safety net and potentially as an additional step to \n",
    "                score_partial.append((fuzz.partial_ratio(i,j)))\n",
    "        match = match.append({ 'clean company name': i,'company matches': matches, 'fuzz ratio': score, 'fuzz partial ratio': score_partial},ignore_index=True)\n",
    "        \n",
    "    match['original company names'] = original\n",
    "    match['original row number'] = row_num\n",
    " \n",
    "#Will output a pandas dataframe with 4 columns\n",
    "    return match\n"
   ]
  },
  {
   "cell_type": "code",
   "execution_count": 9,
   "metadata": {},
   "outputs": [],
   "source": [
    "#saves the results of the fuzzy matching as a variable \n",
    "matching = matchWithFuzzyNames(fda_list,fda_list,fda_comp, fda_row)"
   ]
  },
  {
   "cell_type": "markdown",
   "metadata": {},
   "source": [
    "### Creating truncated version of matching"
   ]
  },
  {
   "cell_type": "code",
   "execution_count": 33,
   "metadata": {},
   "outputs": [],
   "source": [
    "\n",
    "matching['company matches'] = matching['company matches'].astype(str)\n",
    "matching['original row number'] = matching['original row number'].astype(str)\n",
    "matching['fuzz ratio'] = matching['fuzz ratio'].astype(str)"
   ]
  },
  {
   "cell_type": "code",
   "execution_count": 38,
   "metadata": {
    "collapsed": true,
    "jupyter": {
     "outputs_hidden": true
    }
   },
   "outputs": [
    {
     "ename": "KeyError",
     "evalue": "'c'",
     "output_type": "error",
     "traceback": [
      "\u001b[0;31m---------------------------------------------------------------------------\u001b[0m",
      "\u001b[0;31mKeyError\u001b[0m                                  Traceback (most recent call last)",
      "\u001b[0;32m<ipython-input-38-5906efb7d2dd>\u001b[0m in \u001b[0;36m<module>\u001b[0;34m\u001b[0m\n\u001b[1;32m      1\u001b[0m \u001b[0;31m#group by clean company name, append the original company names, row numbers and ratio value to new colum\u001b[0m\u001b[0;34m\u001b[0m\u001b[0;34m\u001b[0m\u001b[0;34m\u001b[0m\u001b[0m\n\u001b[0;32m----> 2\u001b[0;31m unique_comp = matching.groupby('clean company name'[0], as_index = False).agg({'original company names': ', '.join, \n\u001b[0m\u001b[1;32m      3\u001b[0m                                                                             \u001b[0;34m'original row number'\u001b[0m\u001b[0;34m:\u001b[0m \u001b[0;34m', '\u001b[0m\u001b[0;34m.\u001b[0m\u001b[0mjoin\u001b[0m\u001b[0;34m,\u001b[0m\u001b[0;34m\u001b[0m\u001b[0;34m\u001b[0m\u001b[0m\n\u001b[1;32m      4\u001b[0m                                                                             \u001b[0;34m'company matches'\u001b[0m\u001b[0;34m:\u001b[0m \u001b[0;34m', '\u001b[0m\u001b[0;34m.\u001b[0m\u001b[0mjoin\u001b[0m\u001b[0;34m,\u001b[0m\u001b[0;34m\u001b[0m\u001b[0;34m\u001b[0m\u001b[0m\n\u001b[1;32m      5\u001b[0m                                                                            'fuzz ratio': ', '.join} )\n",
      "\u001b[0;32m~/.local/lib/python3.7/site-packages/pandas/core/frame.py\u001b[0m in \u001b[0;36mgroupby\u001b[0;34m(self, by, axis, level, as_index, sort, group_keys, squeeze, observed)\u001b[0m\n\u001b[1;32m   5808\u001b[0m             \u001b[0mgroup_keys\u001b[0m\u001b[0;34m=\u001b[0m\u001b[0mgroup_keys\u001b[0m\u001b[0;34m,\u001b[0m\u001b[0;34m\u001b[0m\u001b[0;34m\u001b[0m\u001b[0m\n\u001b[1;32m   5809\u001b[0m             \u001b[0msqueeze\u001b[0m\u001b[0;34m=\u001b[0m\u001b[0msqueeze\u001b[0m\u001b[0;34m,\u001b[0m\u001b[0;34m\u001b[0m\u001b[0;34m\u001b[0m\u001b[0m\n\u001b[0;32m-> 5810\u001b[0;31m             \u001b[0mobserved\u001b[0m\u001b[0;34m=\u001b[0m\u001b[0mobserved\u001b[0m\u001b[0;34m,\u001b[0m\u001b[0;34m\u001b[0m\u001b[0;34m\u001b[0m\u001b[0m\n\u001b[0m\u001b[1;32m   5811\u001b[0m         )\n\u001b[1;32m   5812\u001b[0m \u001b[0;34m\u001b[0m\u001b[0m\n",
      "\u001b[0;32m~/.local/lib/python3.7/site-packages/pandas/core/groupby/groupby.py\u001b[0m in \u001b[0;36m__init__\u001b[0;34m(self, obj, keys, axis, level, grouper, exclusions, selection, as_index, sort, group_keys, squeeze, observed, mutated)\u001b[0m\n\u001b[1;32m    408\u001b[0m                 \u001b[0msort\u001b[0m\u001b[0;34m=\u001b[0m\u001b[0msort\u001b[0m\u001b[0;34m,\u001b[0m\u001b[0;34m\u001b[0m\u001b[0;34m\u001b[0m\u001b[0m\n\u001b[1;32m    409\u001b[0m                 \u001b[0mobserved\u001b[0m\u001b[0;34m=\u001b[0m\u001b[0mobserved\u001b[0m\u001b[0;34m,\u001b[0m\u001b[0;34m\u001b[0m\u001b[0;34m\u001b[0m\u001b[0m\n\u001b[0;32m--> 410\u001b[0;31m                 \u001b[0mmutated\u001b[0m\u001b[0;34m=\u001b[0m\u001b[0mself\u001b[0m\u001b[0;34m.\u001b[0m\u001b[0mmutated\u001b[0m\u001b[0;34m,\u001b[0m\u001b[0;34m\u001b[0m\u001b[0;34m\u001b[0m\u001b[0m\n\u001b[0m\u001b[1;32m    411\u001b[0m             )\n\u001b[1;32m    412\u001b[0m \u001b[0;34m\u001b[0m\u001b[0m\n",
      "\u001b[0;32m~/.local/lib/python3.7/site-packages/pandas/core/groupby/grouper.py\u001b[0m in \u001b[0;36mget_grouper\u001b[0;34m(obj, key, axis, level, sort, observed, mutated, validate)\u001b[0m\n\u001b[1;32m    598\u001b[0m                 \u001b[0min_axis\u001b[0m\u001b[0;34m,\u001b[0m \u001b[0mname\u001b[0m\u001b[0;34m,\u001b[0m \u001b[0mlevel\u001b[0m\u001b[0;34m,\u001b[0m \u001b[0mgpr\u001b[0m \u001b[0;34m=\u001b[0m \u001b[0;32mFalse\u001b[0m\u001b[0;34m,\u001b[0m \u001b[0;32mNone\u001b[0m\u001b[0;34m,\u001b[0m \u001b[0mgpr\u001b[0m\u001b[0;34m,\u001b[0m \u001b[0;32mNone\u001b[0m\u001b[0;34m\u001b[0m\u001b[0;34m\u001b[0m\u001b[0m\n\u001b[1;32m    599\u001b[0m             \u001b[0;32melse\u001b[0m\u001b[0;34m:\u001b[0m\u001b[0;34m\u001b[0m\u001b[0;34m\u001b[0m\u001b[0m\n\u001b[0;32m--> 600\u001b[0;31m                 \u001b[0;32mraise\u001b[0m \u001b[0mKeyError\u001b[0m\u001b[0;34m(\u001b[0m\u001b[0mgpr\u001b[0m\u001b[0;34m)\u001b[0m\u001b[0;34m\u001b[0m\u001b[0;34m\u001b[0m\u001b[0m\n\u001b[0m\u001b[1;32m    601\u001b[0m         \u001b[0;32melif\u001b[0m \u001b[0misinstance\u001b[0m\u001b[0;34m(\u001b[0m\u001b[0mgpr\u001b[0m\u001b[0;34m,\u001b[0m \u001b[0mGrouper\u001b[0m\u001b[0;34m)\u001b[0m \u001b[0;32mand\u001b[0m \u001b[0mgpr\u001b[0m\u001b[0;34m.\u001b[0m\u001b[0mkey\u001b[0m \u001b[0;32mis\u001b[0m \u001b[0;32mnot\u001b[0m \u001b[0;32mNone\u001b[0m\u001b[0;34m:\u001b[0m\u001b[0;34m\u001b[0m\u001b[0;34m\u001b[0m\u001b[0m\n\u001b[1;32m    602\u001b[0m             \u001b[0;31m# Add key to exclusions\u001b[0m\u001b[0;34m\u001b[0m\u001b[0;34m\u001b[0m\u001b[0;34m\u001b[0m\u001b[0m\n",
      "\u001b[0;31mKeyError\u001b[0m: 'c'"
     ]
    }
   ],
   "source": [
    "#group by clean company name, append the original company names, row numbers and ratio value to new colum\n",
    "unique_comp = matching.groupby('clean company name', as_index = False).agg({'original company names': ', '.join, \n",
    "                                                                            'original row number': ', '.join,\n",
    "                                                                            'company matches': ', '.join,\n",
    "                                                                           'fuzz ratio': ', '.join} )"
   ]
  },
  {
   "cell_type": "code",
   "execution_count": 1,
   "metadata": {},
   "outputs": [
    {
     "ename": "NameError",
     "evalue": "name 'unique_comp' is not defined",
     "output_type": "error",
     "traceback": [
      "\u001b[0;31m---------------------------------------------------------------------------\u001b[0m",
      "\u001b[0;31mNameError\u001b[0m                                 Traceback (most recent call last)",
      "\u001b[0;32m<ipython-input-1-a9e7ad337605>\u001b[0m in \u001b[0;36m<module>\u001b[0;34m\u001b[0m\n\u001b[0;32m----> 1\u001b[0;31m \u001b[0munique_comp\u001b[0m\u001b[0;34m\u001b[0m\u001b[0;34m\u001b[0m\u001b[0m\n\u001b[0m",
      "\u001b[0;31mNameError\u001b[0m: name 'unique_comp' is not defined"
     ]
    }
   ],
   "source": [
    "unique_comp"
   ]
  },
  {
   "cell_type": "markdown",
   "metadata": {},
   "source": [
    "### Interesting statistics for FDA?"
   ]
  },
  {
   "cell_type": "code",
   "execution_count": 41,
   "metadata": {},
   "outputs": [
    {
     "data": {
      "text/plain": [
       "18.19116135662898"
      ]
     },
     "execution_count": 41,
     "metadata": {},
     "output_type": "execute_result"
    }
   ],
   "source": [
    "# How many matches were there at 100%: #of total companies - #of unique values \n",
    "\n",
    "(973 - 796) / 973 * 100"
   ]
  },
  {
   "cell_type": "markdown",
   "metadata": {},
   "source": [
    "### Producing and attemping to analyse FDA matrix "
   ]
  },
  {
   "cell_type": "code",
   "execution_count": 41,
   "metadata": {},
   "outputs": [],
   "source": [
    "def matrix_score(l1, l2, file_path):\n",
    "    #creates a matrix of zeros with the dimensions specified from the parameters\n",
    "    #So if you had a list that had 5 elements in it, your matrix would be a 5x5 matrix; nrows would be 5 and ncols would be 5\n",
    "    matrix = np.zeros(shape = (len(l1), len(l2)))\n",
    "   \n",
    "    #initialize row and col values to 0\n",
    "    row = 0\n",
    "    col = 0\n",
    "   \n",
    "    for i in l1:\n",
    "        if row % (len(l1)//10) == 0:\n",
    "             print(\"progress: %.2f\" % (100*row/len(l1)) + \"%\")\n",
    "        for j in l2:\n",
    "            score = fuzz.ratio(i,j)\n",
    "            matrix[row][col] = score\n",
    "            col+=1\n",
    "        col = 0\n",
    "        row+=1\n",
    "        \n",
    "        \n",
    "        \n",
    "\n",
    "    save(file_path, matrix)\n",
    "        \n",
    "    return matrix"
   ]
  },
  {
   "cell_type": "code",
   "execution_count": 48,
   "metadata": {
    "collapsed": true,
    "jupyter": {
     "outputs_hidden": true
    }
   },
   "outputs": [
    {
     "name": "stdout",
     "output_type": "stream",
     "text": [
      "progress: 0.00%\n",
      "progress: 9.97%\n",
      "progress: 19.94%\n",
      "progress: 29.91%\n",
      "progress: 39.88%\n",
      "progress: 49.85%\n",
      "progress: 59.82%\n",
      "progress: 69.78%\n",
      "progress: 79.75%\n",
      "progress: 89.72%\n",
      "progress: 99.69%\n"
     ]
    }
   ],
   "source": [
    "fda_matrix = matrix_score(fda_list,fda_list)"
   ]
  },
  {
   "cell_type": "code",
   "execution_count": 49,
   "metadata": {},
   "outputs": [
    {
     "data": {
      "text/plain": [
       "array([[100.,  13.,  41., ...,  21.,  21.,  28.],\n",
       "       [ 13., 100.,  12., ...,   0.,   0.,   0.],\n",
       "       [ 41.,  12., 100., ...,  20.,  20.,  27.],\n",
       "       ...,\n",
       "       [ 21.,   0.,  10., ..., 100., 100.,  50.],\n",
       "       [ 21.,   0.,  10., ..., 100., 100.,  50.],\n",
       "       [ 14.,   0.,  33., ...,  50.,  50., 100.]])"
      ]
     },
     "execution_count": 49,
     "metadata": {},
     "output_type": "execute_result"
    }
   ],
   "source": [
    "fda_matrix"
   ]
  },
  {
   "cell_type": "markdown",
   "metadata": {},
   "source": [
    "#### Looking at the frequency of the matrix numbers"
   ]
  },
  {
   "cell_type": "code",
   "execution_count": 50,
   "metadata": {},
   "outputs": [],
   "source": [
    "#This gets the upper diagonal, but including the diagonal k, in our case all the 100. \n",
    "fda_upper = np.triu(fda_matrix)"
   ]
  },
  {
   "cell_type": "code",
   "execution_count": 58,
   "metadata": {},
   "outputs": [],
   "source": [
    "#This gets the upper diagonal, excluding the diagonal, so it does not include all the self-matches\n",
    "fda_only_upper = fda_matrix[np.triu_indices(len(fda_list), k = 1)]"
   ]
  },
  {
   "cell_type": "code",
   "execution_count": 76,
   "metadata": {},
   "outputs": [
    {
     "data": {
      "text/plain": [
       "array([ 13.,  41.,  26., ..., 100.,  50.,  50.])"
      ]
     },
     "execution_count": 76,
     "metadata": {},
     "output_type": "execute_result"
    }
   ],
   "source": [
    "fda_only_upper"
   ]
  },
  {
   "cell_type": "code",
   "execution_count": 61,
   "metadata": {},
   "outputs": [],
   "source": [
    "counts = collections.Counter(fda_only_upper)"
   ]
  },
  {
   "cell_type": "code",
   "execution_count": 101,
   "metadata": {
    "collapsed": true,
    "jupyter": {
     "outputs_hidden": true
    }
   },
   "outputs": [
    {
     "data": {
      "text/plain": [
       "Counter({13.0: 12944,\n",
       "         41.0: 558,\n",
       "         26.0: 8147,\n",
       "         10.0: 11148,\n",
       "         20.0: 21648,\n",
       "         11.0: 14165,\n",
       "         25.0: 20107,\n",
       "         19.0: 11686,\n",
       "         12.0: 18385,\n",
       "         28.0: 2301,\n",
       "         33.0: 17959,\n",
       "         24.0: 16112,\n",
       "         8.0: 5412,\n",
       "         17.0: 28874,\n",
       "         18.0: 23075,\n",
       "         14.0: 17104,\n",
       "         21.0: 14772,\n",
       "         30.0: 9258,\n",
       "         29.0: 23060,\n",
       "         40.0: 10296,\n",
       "         23.0: 4682,\n",
       "         22.0: 19386,\n",
       "         9.0: 7588,\n",
       "         27.0: 19662,\n",
       "         48.0: 721,\n",
       "         32.0: 9255,\n",
       "         16.0: 5037,\n",
       "         42.0: 2295,\n",
       "         36.0: 10149,\n",
       "         15.0: 21638,\n",
       "         35.0: 7406,\n",
       "         45.0: 724,\n",
       "         0.0: 29451,\n",
       "         43.0: 4277,\n",
       "         31.0: 14242,\n",
       "         7.0: 2069,\n",
       "         38.0: 7507,\n",
       "         47.0: 1026,\n",
       "         34.0: 1438,\n",
       "         37.0: 1164,\n",
       "         55.0: 1064,\n",
       "         53.0: 873,\n",
       "         5.0: 191,\n",
       "         50.0: 3418,\n",
       "         6.0: 568,\n",
       "         39.0: 542,\n",
       "         82.0: 24,\n",
       "         44.0: 2821,\n",
       "         46.0: 3054,\n",
       "         56.0: 211,\n",
       "         78.0: 14,\n",
       "         76.0: 16,\n",
       "         64.0: 79,\n",
       "         67.0: 426,\n",
       "         74.0: 12,\n",
       "         59.0: 139,\n",
       "         60.0: 386,\n",
       "         63.0: 42,\n",
       "         54.0: 91,\n",
       "         52.0: 228,\n",
       "         57.0: 684,\n",
       "         62.0: 421,\n",
       "         70.0: 32,\n",
       "         71.0: 100,\n",
       "         100.0: 263,\n",
       "         65.0: 25,\n",
       "         73.0: 71,\n",
       "         58.0: 59,\n",
       "         83.0: 7,\n",
       "         51.0: 17,\n",
       "         86.0: 12,\n",
       "         80.0: 47,\n",
       "         75.0: 24,\n",
       "         85.0: 5,\n",
       "         49.0: 13,\n",
       "         72.0: 9,\n",
       "         69.0: 39,\n",
       "         68.0: 2,\n",
       "         4.0: 13,\n",
       "         77.0: 18,\n",
       "         61.0: 52,\n",
       "         89.0: 3,\n",
       "         79.0: 5,\n",
       "         84.0: 3,\n",
       "         95.0: 1,\n",
       "         88.0: 15,\n",
       "         97.0: 2,\n",
       "         91.0: 2,\n",
       "         94.0: 2,\n",
       "         81.0: 1,\n",
       "         90.0: 2,\n",
       "         93.0: 2})"
      ]
     },
     "execution_count": 101,
     "metadata": {},
     "output_type": "execute_result"
    }
   ],
   "source": [
    "counts"
   ]
  },
  {
   "cell_type": "code",
   "execution_count": 72,
   "metadata": {},
   "outputs": [],
   "source": [
    "import operator "
   ]
  },
  {
   "cell_type": "code",
   "execution_count": 77,
   "metadata": {},
   "outputs": [],
   "source": [
    "sorted_counts = sorted(counts.items(), key=lambda x: x[1])"
   ]
  },
  {
   "cell_type": "code",
   "execution_count": 80,
   "metadata": {},
   "outputs": [],
   "source": [
    "sorted_counts = sorted(counts.items())"
   ]
  },
  {
   "cell_type": "code",
   "execution_count": 81,
   "metadata": {
    "collapsed": true,
    "jupyter": {
     "outputs_hidden": true
    }
   },
   "outputs": [
    {
     "data": {
      "text/plain": [
       "[(0.0, 29451),\n",
       " (4.0, 13),\n",
       " (5.0, 191),\n",
       " (6.0, 568),\n",
       " (7.0, 2069),\n",
       " (8.0, 5412),\n",
       " (9.0, 7588),\n",
       " (10.0, 11148),\n",
       " (11.0, 14165),\n",
       " (12.0, 18385),\n",
       " (13.0, 12944),\n",
       " (14.0, 17104),\n",
       " (15.0, 21638),\n",
       " (16.0, 5037),\n",
       " (17.0, 28874),\n",
       " (18.0, 23075),\n",
       " (19.0, 11686),\n",
       " (20.0, 21648),\n",
       " (21.0, 14772),\n",
       " (22.0, 19386),\n",
       " (23.0, 4682),\n",
       " (24.0, 16112),\n",
       " (25.0, 20107),\n",
       " (26.0, 8147),\n",
       " (27.0, 19662),\n",
       " (28.0, 2301),\n",
       " (29.0, 23060),\n",
       " (30.0, 9258),\n",
       " (31.0, 14242),\n",
       " (32.0, 9255),\n",
       " (33.0, 17959),\n",
       " (34.0, 1438),\n",
       " (35.0, 7406),\n",
       " (36.0, 10149),\n",
       " (37.0, 1164),\n",
       " (38.0, 7507),\n",
       " (39.0, 542),\n",
       " (40.0, 10296),\n",
       " (41.0, 558),\n",
       " (42.0, 2295),\n",
       " (43.0, 4277),\n",
       " (44.0, 2821),\n",
       " (45.0, 724),\n",
       " (46.0, 3054),\n",
       " (47.0, 1026),\n",
       " (48.0, 721),\n",
       " (49.0, 13),\n",
       " (50.0, 3418),\n",
       " (51.0, 17),\n",
       " (52.0, 228),\n",
       " (53.0, 873),\n",
       " (54.0, 91),\n",
       " (55.0, 1064),\n",
       " (56.0, 211),\n",
       " (57.0, 684),\n",
       " (58.0, 59),\n",
       " (59.0, 139),\n",
       " (60.0, 386),\n",
       " (61.0, 52),\n",
       " (62.0, 421),\n",
       " (63.0, 42),\n",
       " (64.0, 79),\n",
       " (65.0, 25),\n",
       " (67.0, 426),\n",
       " (68.0, 2),\n",
       " (69.0, 39),\n",
       " (70.0, 32),\n",
       " (71.0, 100),\n",
       " (72.0, 9),\n",
       " (73.0, 71),\n",
       " (74.0, 12),\n",
       " (75.0, 24),\n",
       " (76.0, 16),\n",
       " (77.0, 18),\n",
       " (78.0, 14),\n",
       " (79.0, 5),\n",
       " (80.0, 47),\n",
       " (81.0, 1),\n",
       " (82.0, 24),\n",
       " (83.0, 7),\n",
       " (84.0, 3),\n",
       " (85.0, 5),\n",
       " (86.0, 12),\n",
       " (88.0, 15),\n",
       " (89.0, 3),\n",
       " (90.0, 2),\n",
       " (91.0, 2),\n",
       " (93.0, 2),\n",
       " (94.0, 2),\n",
       " (95.0, 1),\n",
       " (97.0, 2),\n",
       " (100.0, 263)]"
      ]
     },
     "execution_count": 81,
     "metadata": {},
     "output_type": "execute_result"
    }
   ],
   "source": [
    "sorted_counts"
   ]
  },
  {
   "cell_type": "code",
   "execution_count": 86,
   "metadata": {},
   "outputs": [],
   "source": [
    "from matplotlib import pyplot as plt"
   ]
  },
  {
   "cell_type": "code",
   "execution_count": 98,
   "metadata": {},
   "outputs": [],
   "source": [
    "x_axis = list(counts.keys())\n",
    "y_axis = list(counts.values())"
   ]
  },
  {
   "cell_type": "code",
   "execution_count": 100,
   "metadata": {},
   "outputs": [
    {
     "data": {
      "text/plain": [
       "<BarContainer object of 92 artists>"
      ]
     },
     "execution_count": 100,
     "metadata": {},
     "output_type": "execute_result"
    },
    {
     "data": {
      "image/png": "[encoded data removed]",
      "text/plain": [
       "<Figure size 432x288 with 1 Axes>"
      ]
     },
     "metadata": {
      "needs_background": "light"
     },
     "output_type": "display_data"
    }
   ],
   "source": [
    "plt.bar(range(len(counts)),y_axis) #tick_label=x_axis)"
   ]
  },
  {
   "cell_type": "code",
   "execution_count": 94,
   "metadata": {},
   "outputs": [
    {
     "data": {
      "text/plain": [
       "<BarContainer object of 92 artists>"
      ]
     },
     "execution_count": 94,
     "metadata": {},
     "output_type": "execute_result"
    },
    {
     "data": {
      "image/png": "[encoded data removed]",
      "text/plain": [
       "<Figure size 432x288 with 1 Axes>"
      ]
     },
     "metadata": {
      "needs_background": "light"
     },
     "output_type": "display_data"
    }
   ],
   "source": [
    "#this bar plot shows the frequency of the \n",
    "plt.bar(*zip(*counts.items()))"
   ]
  },
  {
   "cell_type": "code",
   "execution_count": 60,
   "metadata": {},
   "outputs": [
    {
     "data": {
      "text/plain": [
       "472878"
      ]
     },
     "execution_count": 60,
     "metadata": {},
     "output_type": "execute_result"
    }
   ],
   "source": [
    "len(fda_only_upper)"
   ]
  },
  {
   "cell_type": "markdown",
   "metadata": {},
   "source": [
    "###  DNA matrix"
   ]
  },
  {
   "cell_type": "code",
   "execution_count": 17,
   "metadata": {},
   "outputs": [],
   "source": [
    "#reading in dna dataset\n",
    "dna = pd.read_csv('../data/working/dna_clean.csv')"
   ]
  },
  {
   "cell_type": "code",
   "execution_count": 19,
   "metadata": {},
   "outputs": [],
   "source": [
    "#dropping na values due to aggressive cleaing\n",
    "#which row number and companies were dropped?\n",
    "dna.dropna(inplace = True) \n"
   ]
  },
  {
   "cell_type": "code",
   "execution_count": 20,
   "metadata": {},
   "outputs": [
    {
     "data": {
      "text/plain": [
       "63954"
      ]
     },
     "execution_count": 20,
     "metadata": {},
     "output_type": "execute_result"
    }
   ],
   "source": [
    "len(dna)"
   ]
  },
  {
   "cell_type": "code",
   "execution_count": 5,
   "metadata": {},
   "outputs": [],
   "source": [
    "#convert column to list to pass into function\n",
    "dna = dna['cleaned_companies'].tolist()"
   ]
  },
  {
   "cell_type": "code",
   "execution_count": 6,
   "metadata": {},
   "outputs": [],
   "source": [
    "dna_set1 = dna[42636:53295]"
   ]
  },
  {
   "cell_type": "code",
   "execution_count": 13,
   "metadata": {},
   "outputs": [],
   "source": [
    "dna_set2 = dna[53295:63954]"
   ]
  },
  {
   "cell_type": "code",
   "execution_count": 17,
   "metadata": {
    "collapsed": true,
    "jupyter": {
     "outputs_hidden": true
    }
   },
   "outputs": [
    {
     "name": "stdout",
     "output_type": "stream",
     "text": [
      "progress: 0.00%\n",
      "progress: 9.99%\n",
      "progress: 19.98%\n",
      "progress: 29.97%\n",
      "progress: 39.97%\n",
      "progress: 49.96%\n",
      "progress: 59.95%\n",
      "progress: 69.94%\n",
      "progress: 79.93%\n",
      "progress: 89.92%\n",
      "progress: 99.92%\n"
     ]
    },
    {
     "data": {
      "text/plain": [
       "array([[ 12.,   6.,  13., ...,  28.,  20.,  29.],\n",
       "       [ 18.,  27.,  23., ...,  25.,  43.,  33.],\n",
       "       [  0.,  25.,  20., ...,  12.,  14.,  17.],\n",
       "       ...,\n",
       "       [  4.,  23.,  26., ..., 100.,  30.,  33.],\n",
       "       [  5.,  26.,  14., ...,  25., 100.,  31.],\n",
       "       [ 13.,  13.,  23., ...,  28.,  19., 100.]])"
      ]
     },
     "execution_count": 17,
     "metadata": {},
     "output_type": "execute_result"
    }
   ],
   "source": [
    "#this calcultes the fuzzy ratio of the last portion of the dna against the full dna data set\n",
    "matrix_score(dna_set2, dna)"
   ]
  },
  {
   "cell_type": "code",
   "execution_count": 2,
   "metadata": {
    "collapsed": true,
    "jupyter": {
     "outputs_hidden": true
    }
   },
   "outputs": [
    {
     "ename": "KeyboardInterrupt",
     "evalue": "",
     "output_type": "error",
     "traceback": [
      "\u001b[0;31m---------------------------------------------------------------------------\u001b[0m",
      "\u001b[0;31mKeyboardInterrupt\u001b[0m                         Traceback (most recent call last)",
      "\u001b[0;32m<ipython-input-2-520f80cd98bc>\u001b[0m in \u001b[0;36m<module>\u001b[0;34m\u001b[0m\n\u001b[0;32m----> 1\u001b[0;31m \u001b[0mdata\u001b[0m \u001b[0;34m=\u001b[0m \u001b[0mpd\u001b[0m\u001b[0;34m.\u001b[0m\u001b[0mread_csv\u001b[0m\u001b[0;34m(\u001b[0m\u001b[0;34m'../data/working/dna_matrix_3b.csv'\u001b[0m\u001b[0;34m)\u001b[0m\u001b[0;34m\u001b[0m\u001b[0;34m\u001b[0m\u001b[0m\n\u001b[0m",
      "\u001b[0;32m~/.local/lib/python3.7/site-packages/pandas/io/parsers.py\u001b[0m in \u001b[0;36mparser_f\u001b[0;34m(filepath_or_buffer, sep, delimiter, header, names, index_col, usecols, squeeze, prefix, mangle_dupe_cols, dtype, engine, converters, true_values, false_values, skipinitialspace, skiprows, skipfooter, nrows, na_values, keep_default_na, na_filter, verbose, skip_blank_lines, parse_dates, infer_datetime_format, keep_date_col, date_parser, dayfirst, cache_dates, iterator, chunksize, compression, thousands, decimal, lineterminator, quotechar, quoting, doublequote, escapechar, comment, encoding, dialect, error_bad_lines, warn_bad_lines, delim_whitespace, low_memory, memory_map, float_precision)\u001b[0m\n\u001b[1;32m    674\u001b[0m         )\n\u001b[1;32m    675\u001b[0m \u001b[0;34m\u001b[0m\u001b[0m\n\u001b[0;32m--> 676\u001b[0;31m         \u001b[0;32mreturn\u001b[0m \u001b[0m_read\u001b[0m\u001b[0;34m(\u001b[0m\u001b[0mfilepath_or_buffer\u001b[0m\u001b[0;34m,\u001b[0m \u001b[0mkwds\u001b[0m\u001b[0;34m)\u001b[0m\u001b[0;34m\u001b[0m\u001b[0;34m\u001b[0m\u001b[0m\n\u001b[0m\u001b[1;32m    677\u001b[0m \u001b[0;34m\u001b[0m\u001b[0m\n\u001b[1;32m    678\u001b[0m     \u001b[0mparser_f\u001b[0m\u001b[0;34m.\u001b[0m\u001b[0m__name__\u001b[0m \u001b[0;34m=\u001b[0m \u001b[0mname\u001b[0m\u001b[0;34m\u001b[0m\u001b[0;34m\u001b[0m\u001b[0m\n",
      "\u001b[0;32m~/.local/lib/python3.7/site-packages/pandas/io/parsers.py\u001b[0m in \u001b[0;36m_read\u001b[0;34m(filepath_or_buffer, kwds)\u001b[0m\n\u001b[1;32m    452\u001b[0m \u001b[0;34m\u001b[0m\u001b[0m\n\u001b[1;32m    453\u001b[0m     \u001b[0;32mtry\u001b[0m\u001b[0;34m:\u001b[0m\u001b[0;34m\u001b[0m\u001b[0;34m\u001b[0m\u001b[0m\n\u001b[0;32m--> 454\u001b[0;31m         \u001b[0mdata\u001b[0m \u001b[0;34m=\u001b[0m \u001b[0mparser\u001b[0m\u001b[0;34m.\u001b[0m\u001b[0mread\u001b[0m\u001b[0;34m(\u001b[0m\u001b[0mnrows\u001b[0m\u001b[0;34m)\u001b[0m\u001b[0;34m\u001b[0m\u001b[0;34m\u001b[0m\u001b[0m\n\u001b[0m\u001b[1;32m    455\u001b[0m     \u001b[0;32mfinally\u001b[0m\u001b[0;34m:\u001b[0m\u001b[0;34m\u001b[0m\u001b[0;34m\u001b[0m\u001b[0m\n\u001b[1;32m    456\u001b[0m         \u001b[0mparser\u001b[0m\u001b[0;34m.\u001b[0m\u001b[0mclose\u001b[0m\u001b[0;34m(\u001b[0m\u001b[0;34m)\u001b[0m\u001b[0;34m\u001b[0m\u001b[0;34m\u001b[0m\u001b[0m\n",
      "\u001b[0;32m~/.local/lib/python3.7/site-packages/pandas/io/parsers.py\u001b[0m in \u001b[0;36mread\u001b[0;34m(self, nrows)\u001b[0m\n\u001b[1;32m   1131\u001b[0m     \u001b[0;32mdef\u001b[0m \u001b[0mread\u001b[0m\u001b[0;34m(\u001b[0m\u001b[0mself\u001b[0m\u001b[0;34m,\u001b[0m \u001b[0mnrows\u001b[0m\u001b[0;34m=\u001b[0m\u001b[0;32mNone\u001b[0m\u001b[0;34m)\u001b[0m\u001b[0;34m:\u001b[0m\u001b[0;34m\u001b[0m\u001b[0;34m\u001b[0m\u001b[0m\n\u001b[1;32m   1132\u001b[0m         \u001b[0mnrows\u001b[0m \u001b[0;34m=\u001b[0m \u001b[0m_validate_integer\u001b[0m\u001b[0;34m(\u001b[0m\u001b[0;34m\"nrows\"\u001b[0m\u001b[0;34m,\u001b[0m \u001b[0mnrows\u001b[0m\u001b[0;34m)\u001b[0m\u001b[0;34m\u001b[0m\u001b[0;34m\u001b[0m\u001b[0m\n\u001b[0;32m-> 1133\u001b[0;31m         \u001b[0mret\u001b[0m \u001b[0;34m=\u001b[0m \u001b[0mself\u001b[0m\u001b[0;34m.\u001b[0m\u001b[0m_engine\u001b[0m\u001b[0;34m.\u001b[0m\u001b[0mread\u001b[0m\u001b[0;34m(\u001b[0m\u001b[0mnrows\u001b[0m\u001b[0;34m)\u001b[0m\u001b[0;34m\u001b[0m\u001b[0;34m\u001b[0m\u001b[0m\n\u001b[0m\u001b[1;32m   1134\u001b[0m \u001b[0;34m\u001b[0m\u001b[0m\n\u001b[1;32m   1135\u001b[0m         \u001b[0;31m# May alter columns / col_dict\u001b[0m\u001b[0;34m\u001b[0m\u001b[0;34m\u001b[0m\u001b[0;34m\u001b[0m\u001b[0m\n",
      "\u001b[0;32m~/.local/lib/python3.7/site-packages/pandas/io/parsers.py\u001b[0m in \u001b[0;36mread\u001b[0;34m(self, nrows)\u001b[0m\n\u001b[1;32m   2035\u001b[0m     \u001b[0;32mdef\u001b[0m \u001b[0mread\u001b[0m\u001b[0;34m(\u001b[0m\u001b[0mself\u001b[0m\u001b[0;34m,\u001b[0m \u001b[0mnrows\u001b[0m\u001b[0;34m=\u001b[0m\u001b[0;32mNone\u001b[0m\u001b[0;34m)\u001b[0m\u001b[0;34m:\u001b[0m\u001b[0;34m\u001b[0m\u001b[0;34m\u001b[0m\u001b[0m\n\u001b[1;32m   2036\u001b[0m         \u001b[0;32mtry\u001b[0m\u001b[0;34m:\u001b[0m\u001b[0;34m\u001b[0m\u001b[0;34m\u001b[0m\u001b[0m\n\u001b[0;32m-> 2037\u001b[0;31m             \u001b[0mdata\u001b[0m \u001b[0;34m=\u001b[0m \u001b[0mself\u001b[0m\u001b[0;34m.\u001b[0m\u001b[0m_reader\u001b[0m\u001b[0;34m.\u001b[0m\u001b[0mread\u001b[0m\u001b[0;34m(\u001b[0m\u001b[0mnrows\u001b[0m\u001b[0;34m)\u001b[0m\u001b[0;34m\u001b[0m\u001b[0;34m\u001b[0m\u001b[0m\n\u001b[0m\u001b[1;32m   2038\u001b[0m         \u001b[0;32mexcept\u001b[0m \u001b[0mStopIteration\u001b[0m\u001b[0;34m:\u001b[0m\u001b[0;34m\u001b[0m\u001b[0;34m\u001b[0m\u001b[0m\n\u001b[1;32m   2039\u001b[0m             \u001b[0;32mif\u001b[0m \u001b[0mself\u001b[0m\u001b[0;34m.\u001b[0m\u001b[0m_first_chunk\u001b[0m\u001b[0;34m:\u001b[0m\u001b[0;34m\u001b[0m\u001b[0;34m\u001b[0m\u001b[0m\n",
      "\u001b[0;32mpandas/_libs/parsers.pyx\u001b[0m in \u001b[0;36mpandas._libs.parsers.TextReader.read\u001b[0;34m()\u001b[0m\n",
      "\u001b[0;32mpandas/_libs/parsers.pyx\u001b[0m in \u001b[0;36mpandas._libs.parsers.TextReader._read_low_memory\u001b[0;34m()\u001b[0m\n",
      "\u001b[0;32mpandas/_libs/parsers.pyx\u001b[0m in \u001b[0;36mpandas._libs.parsers.TextReader._read_rows\u001b[0;34m()\u001b[0m\n",
      "\u001b[0;32mpandas/_libs/parsers.pyx\u001b[0m in \u001b[0;36mpandas._libs.parsers.TextReader._convert_column_data\u001b[0;34m()\u001b[0m\n",
      "\u001b[0;32mpandas/_libs/parsers.pyx\u001b[0m in \u001b[0;36mpandas._libs.parsers.TextReader._convert_tokens\u001b[0;34m()\u001b[0m\n",
      "\u001b[0;32mpandas/_libs/parsers.pyx\u001b[0m in \u001b[0;36mpandas._libs.parsers.TextReader._convert_with_dtype\u001b[0;34m()\u001b[0m\n",
      "\u001b[0;32m~/.local/lib/python3.7/site-packages/pandas/core/dtypes/common.py\u001b[0m in \u001b[0;36mis_extension_array_dtype\u001b[0;34m(arr_or_dtype)\u001b[0m\n\u001b[1;32m   1563\u001b[0m \u001b[0;34m\u001b[0m\u001b[0m\n\u001b[1;32m   1564\u001b[0m \u001b[0;34m\u001b[0m\u001b[0m\n\u001b[0;32m-> 1565\u001b[0;31m \u001b[0;32mdef\u001b[0m \u001b[0mis_extension_array_dtype\u001b[0m\u001b[0;34m(\u001b[0m\u001b[0marr_or_dtype\u001b[0m\u001b[0;34m)\u001b[0m \u001b[0;34m->\u001b[0m \u001b[0mbool\u001b[0m\u001b[0;34m:\u001b[0m\u001b[0;34m\u001b[0m\u001b[0;34m\u001b[0m\u001b[0m\n\u001b[0m\u001b[1;32m   1566\u001b[0m     \"\"\"\n\u001b[1;32m   1567\u001b[0m     \u001b[0mCheck\u001b[0m \u001b[0;32mif\u001b[0m \u001b[0man\u001b[0m \u001b[0mobject\u001b[0m \u001b[0;32mis\u001b[0m \u001b[0ma\u001b[0m \u001b[0mpandas\u001b[0m \u001b[0mextension\u001b[0m \u001b[0marray\u001b[0m \u001b[0mtype\u001b[0m\u001b[0;34m.\u001b[0m\u001b[0;34m\u001b[0m\u001b[0;34m\u001b[0m\u001b[0m\n",
      "\u001b[0;31mKeyboardInterrupt\u001b[0m: "
     ]
    }
   ],
   "source": [
    "###THIS IS OLD CODE THAT IS NO LONGER APPLICABLE \n",
    "\n",
    "#=ORIGINALLY the data was stored in a csv using savtxt from numpy, this took up 16gb so we switched to npy using save from numpy\n",
    "\n",
    "###to go from the csv file to the .npy instead of re-running the entire code simply did \n",
    "#from numpy import loadtxt\n",
    "#from numpy import save\n",
    "#data = pd.read_csv('../data/working/dna_matrix_3b.csv')\n",
    "#data = loadtxt('../data/working/dna_matrix_3a.csv', delimiter=',') ###this return the array!!\n",
    "\n",
    "#save('../data/working/dna_matrix_3a.npy', data) ##this saved the array into the npy format, reduced memory to 5gb\n",
    "\n",
    "\n"
   ]
  },
  {
   "cell_type": "markdown",
   "metadata": {},
   "source": [
    "### Joining the two different arrays into one"
   ]
  },
  {
   "cell_type": "code",
   "execution_count": 22,
   "metadata": {},
   "outputs": [],
   "source": [
    "dict_data = load('dna_matrix_3b.npy')"
   ]
  },
  {
   "cell_type": "code",
   "execution_count": 25,
   "metadata": {},
   "outputs": [],
   "source": [
    "dna_mata = load('../data/working/dna_matrix_3a.npy')"
   ]
  },
  {
   "cell_type": "code",
   "execution_count": 30,
   "metadata": {},
   "outputs": [],
   "source": [
    "#this will join the two matrices together\n",
    "dna_matrix_3 = np.vstack((dna_mata,dict_data))"
   ]
  },
  {
   "cell_type": "code",
   "execution_count": 34,
   "metadata": {},
   "outputs": [],
   "source": [
    "#this saves the newly joined array to the path of our choice\n",
    "save('../data/working/dna_matrix_3.npy', dna_matrix_3)"
   ]
  },
  {
   "cell_type": "markdown",
   "metadata": {},
   "source": [
    "### Fuzzy matching DNA with itself?"
   ]
  },
  {
   "cell_type": "code",
   "execution_count": null,
   "metadata": {},
   "outputs": [],
   "source": [
    "dna_fuzzy = matchWithFuzzyNames(match_name,match_name,org_name,row_num)"
   ]
  },
  {
   "cell_type": "code",
   "execution_count": 23,
   "metadata": {},
   "outputs": [
    {
     "data": {
      "text/html": [
       "<div>\n",
       "<style scoped>\n",
       "    .dataframe tbody tr th:only-of-type {\n",
       "        vertical-align: middle;\n",
       "    }\n",
       "\n",
       "    .dataframe tbody tr th {\n",
       "        vertical-align: top;\n",
       "    }\n",
       "\n",
       "    .dataframe thead th {\n",
       "        text-align: right;\n",
       "    }\n",
       "</style>\n",
       "<table border=\"1\" class=\"dataframe\">\n",
       "  <thead>\n",
       "    <tr style=\"text-align: right;\">\n",
       "      <th></th>\n",
       "      <th>index</th>\n",
       "      <th>Unnamed: 0</th>\n",
       "      <th>Unnamed: 0.1</th>\n",
       "      <th>Code</th>\n",
       "      <th>Description</th>\n",
       "      <th>cleaned_companies</th>\n",
       "    </tr>\n",
       "  </thead>\n",
       "  <tbody>\n",
       "    <tr>\n",
       "      <th>0</th>\n",
       "      <td>0</td>\n",
       "      <td>0</td>\n",
       "      <td>0</td>\n",
       "      <td>AA</td>\n",
       "      <td>AA PLC</td>\n",
       "      <td>aa</td>\n",
       "    </tr>\n",
       "    <tr>\n",
       "      <th>1</th>\n",
       "      <td>1</td>\n",
       "      <td>1</td>\n",
       "      <td>2</td>\n",
       "      <td>AAAADJ</td>\n",
       "      <td>Emperial Americas, Inc.</td>\n",
       "      <td>emperial americas</td>\n",
       "    </tr>\n",
       "    <tr>\n",
       "      <th>2</th>\n",
       "      <td>2</td>\n",
       "      <td>2</td>\n",
       "      <td>3</td>\n",
       "      <td>AAAAIY</td>\n",
       "      <td>American Academy of Allergy, Asthma and Immuno...</td>\n",
       "      <td>academy allergy asthma immunology</td>\n",
       "    </tr>\n",
       "    <tr>\n",
       "      <th>3</th>\n",
       "      <td>3</td>\n",
       "      <td>3</td>\n",
       "      <td>5</td>\n",
       "      <td>AAABBB</td>\n",
       "      <td>Bird Studies Canada</td>\n",
       "      <td>bird studies canada</td>\n",
       "    </tr>\n",
       "  </tbody>\n",
       "</table>\n",
       "</div>"
      ],
      "text/plain": [
       "   index  Unnamed: 0  Unnamed: 0.1    Code  \\\n",
       "0      0           0             0      AA   \n",
       "1      1           1             2  AAAADJ   \n",
       "2      2           2             3  AAAAIY   \n",
       "3      3           3             5  AAABBB   \n",
       "\n",
       "                                         Description  \\\n",
       "0                                             AA PLC   \n",
       "1                            Emperial Americas, Inc.   \n",
       "2  American Academy of Allergy, Asthma and Immuno...   \n",
       "3                                Bird Studies Canada   \n",
       "\n",
       "                   cleaned_companies  \n",
       "0                                 aa  \n",
       "1                  emperial americas  \n",
       "2  academy allergy asthma immunology  \n",
       "3                bird studies canada  "
      ]
     },
     "execution_count": 23,
     "metadata": {},
     "output_type": "execute_result"
    }
   ],
   "source": [
    "dna_new = dna.reset_index()\n",
    "dna_new.head(4)"
   ]
  },
  {
   "cell_type": "code",
   "execution_count": 25,
   "metadata": {},
   "outputs": [],
   "source": [
    "row_num = dna_new['index']"
   ]
  },
  {
   "cell_type": "code",
   "execution_count": 28,
   "metadata": {},
   "outputs": [],
   "source": [
    "org_name = dna_new['Description']"
   ]
  },
  {
   "cell_type": "code",
   "execution_count": 26,
   "metadata": {},
   "outputs": [],
   "source": [
    "match_name = dna_new['cleaned_companies']"
   ]
  }
 ],
 "metadata": {
  "kernelspec": {
   "display_name": "Python 3.7",
   "language": "python",
   "name": "python37"
  },
  "language_info": {
   "codemirror_mode": {
    "name": "ipython",
    "version": 3
   },
   "file_extension": ".py",
   "mimetype": "text/x-python",
   "name": "python",
   "nbconvert_exporter": "python",
   "pygments_lexer": "ipython3",
   "version": "3.7.4"
  }
 },
 "nbformat": 4,
 "nbformat_minor": 4
}
