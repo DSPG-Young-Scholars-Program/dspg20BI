{
 "cells": [
  {
   "cell_type": "markdown",
   "metadata": {},
   "source": [
    "### This function is from the OSS team, written by Daniel. This function will iterate through two lists and output a table that shows the words from list two that match the single entry of list "
   ]
  },
  {
   "cell_type": "code",
   "execution_count": null,
   "metadata": {},
   "outputs": [],
   "source": [
    "def iterativeFullFuzzyMatch(inputColumn):\n",
    "    \"\"\"iteratively perform a fuzzy match on entire input column\n",
    "    \n",
    "    Keyword arguments:\n",
    "    inputColumn -- a SINGLE column from a pandas dataframe, this will be the set of\n",
    "    target words/entries will be iteratively matched against (except self) seeking\n",
    "    close matches\n",
    "    \"\"\"\n",
    "    #get the input column names\n",
    "    inputColumnName=inputColumn.columns\n",
    "    #get the unique values (and counts)\n",
    "    tableUniqueFullNameCounts=inputColumn[inputColumnName[0]].value_counts()\n",
    "    #convert that output to a proper table\n",
    "    tableUniqueFullNameCounts=tableUniqueFullNameCounts.reset_index()\n",
    "    #rename the columns\n",
    "    tableUniqueFullNameCounts.rename(columns={inputColumnName[0]:\"count\",\"index\":inputColumnName[0]},inplace=True)\n",
    "\n",
    "    import difflib\n",
    "    import numpy as np\n",
    "    \n",
    "    #create blank column\n",
    "    tableUniqueFullNameCounts['guesses']=''\n",
    "\n",
    "    for index, row in tableUniqueFullNameCounts.iterrows():\n",
    "       blankBool=np.full((len(tableUniqueFullNameCounts.index)),True)\n",
    "       curBool=blankBool\n",
    "       curBool[index]=False\n",
    "       currentChecklist=tableUniqueFullNameCounts[inputColumnName[0]].loc[curBool]\n",
    "       tableUniqueFullNameCounts['guesses'].loc[index]=difflib.get_close_matches(tableUniqueFullNameCounts[inputColumnName[0]].loc[index],currentChecklist,cutoff=0.8)\n",
    "    \n",
    "    return tableUniqueFullNameCounts"
   ]
  },
  {
   "cell_type": "code",
   "execution_count": null,
   "metadata": {},
   "outputs": [],
   "source": [
    "# the original match with fuzzy, this function will intake two lists, columns or arrays and will output in text, the word from list 1 that is matching with word from list 2 and it's fuzz ratio\n",
    "def matchWithFuzzy(l1, l2):\n",
    "    score = []\n",
    "    for i in l1:\n",
    "        print(\"\\nWord in list 1 {} matches:\".format(i))\n",
    "        for j in l2:\n",
    "            score.append(fuzz.ratio(i, j))\n",
    "            print(\"{} with a score of {}\".format(j,fuzz.ratio(i,j)))\n",
    "   \n",
    "    return score"
   ]
  },
  {
   "cell_type": "code",
   "execution_count": 9,
   "metadata": {},
   "outputs": [],
   "source": [
    "##Function that takes in 3 lists, the list of strings you want to compare, the list of strings you're comparing to and a list with the original way the string from list 1 was written.  \n",
    "def matchWithFuzzyNames(l1, l2, original):\n",
    "    match = pd.DataFrame(columns = ['original company names', 'clean company name', 'company matches', 'fuzz ratio'])\n",
    "    for i in l1:\n",
    "        matches = []\n",
    "        score = []\n",
    "        score_partial = []\n",
    "        for j in l2:\n",
    "            if (fuzz.ratio(i,j)) == 100:\n",
    "                matches.append(j)\n",
    "                score.append(fuzz.ratio(i,j))\n",
    "                score_partial.append((fuzz.partial_ratio(i,j)))\n",
    "        match = match.append({ 'clean company name': i,'company matches': matches, 'fuzz ratio': score, 'fuzz partial ratio': score_partial},ignore_index=True)\n",
    "        \n",
    "    match['original company names'] = original\n",
    "\n",
    "#Will output a table with 4 columns\n",
    "    return match\n"
   ]
  },
  {
   "cell_type": "code",
   "execution_count": 15,
   "metadata": {},
   "outputs": [],
   "source": [
    "#Function that creates a matrix of fuzzy scores\n",
    "#l1 and l2 are the lists\n",
    "#nrows will be the number of rows you will need in the matrix\n",
    "#ncols will be the number of columns you will need\n",
    "#change array to df or numpy \n",
    "def matrix_score(l1, l2, file_name):\n",
    "    #creates a matrix of zeros with the dimensions specified from the parameters\n",
    "    #So if you had a list that had 5 elements in it, your matrix would be a 5x5 matrix; nrows would be 5 and ncols would be 5\n",
    "    matrix = np.zeros(shape = (len(l1), len(l2)))\n",
    "   \n",
    "    #initialize row and col values to 0\n",
    "    row = 0\n",
    "    col = 0\n",
    "   \n",
    "    for i in l1:\n",
    "        if row % (len(l1)//10) == 0:\n",
    "             print(\"progress: %.2f\" % (100*row/len(l1)) + \"%\")\n",
    "        for j in l2:\n",
    "            score = fuzz.ratio(i,j)\n",
    "            matrix[row][col] = score\n",
    "            col+=1\n",
    "        col = 0\n",
    "        row+=1\n",
    "        \n",
    "        \n",
    "        \n",
    "\n",
    "    save(file_name, matrix)\n",
    "        \n",
    "    return matrix"
   ]
  }
 ],
 "metadata": {
  "kernelspec": {
   "display_name": "Python 3.7",
   "language": "python",
   "name": "python37"
  },
  "language_info": {
   "codemirror_mode": {
    "name": "ipython",
    "version": 3
   },
   "file_extension": ".py",
   "mimetype": "text/x-python",
   "name": "python",
   "nbconvert_exporter": "python",
   "pygments_lexer": "ipython3",
   "version": "3.7.4"
  }
 },
 "nbformat": 4,
 "nbformat_minor": 4
}
