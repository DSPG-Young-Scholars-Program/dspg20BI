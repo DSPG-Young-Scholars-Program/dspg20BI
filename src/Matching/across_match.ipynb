{
 "cells": [
  {
   "cell_type": "markdown",
   "metadata": {},
   "source": [
    "# Matching companies across dataset \n",
    "\n",
    "This Jupyter Notebook contains code on creating a dataframe that demonstrates all the company matches between:\n",
    " * FDA and NDC\n",
    " * FDA and DNA\n",
    " * NDC and DNA \n",
    " * NDC and FDA Matrix\n",
    " \n",
    "The function that creates the table output for corporate family and all matches in the second df is defined here."
   ]
  },
  {
   "cell_type": "code",
   "execution_count": 9,
   "metadata": {},
   "outputs": [],
   "source": [
    "import numpy as np\n",
    "import pandas as pd\n",
    "import nltk\n",
    "from fuzzywuzzy import fuzz\n",
    "#from nltk.metrics import jaccard_distance\n",
    "from numpy import save\n",
    "import itertools"
   ]
  },
  {
   "cell_type": "markdown",
   "metadata": {},
   "source": [
    "### Function for matching and matrix"
   ]
  },
  {
   "cell_type": "code",
   "execution_count": 13,
   "metadata": {},
   "outputs": [],
   "source": [
    "##Function that takes in 3 lists, the list of strings you want to compare, the list of strings you're comparing to and a list with the original way the string from list 1 was written.  \n",
    "def matchWithFuzzyNamesAcross(l1, l2, og1, og2, row_num1, row_num2):\n",
    "    \n",
    "    \"\"\"outputs a dataframe with the clean company name, original company name and original row for all the 100% matches\n",
    "    \n",
    "        Keyword Arguments:\n",
    "        l1 -- a column or list of the clean company names being compared\n",
    "        l2 -- a column or list of the clean company you're comparing to\n",
    "        og1 -- a column or list of the original  company names being compared\n",
    "        og2 -- a column or list of the original  company names you're comparing to\n",
    "        row_num1 -- a column or list of the original row numbers (before removing NA values) being compared \n",
    "        row_num2 -- a column or list of the original row numbers (before removing NA values) you're comparing to \n",
    "    \"\"\"\n",
    "    match = pd.DataFrame(columns = ['clean fda company name', 'original fda company', 'fda row', 'clean ndc row', 'clean ndc company', 'original ndc company', 'fuzz ratio'])\n",
    "    \n",
    "    for (i, o, r) in zip(l1, og1, row_num1):\n",
    "        \n",
    "        '''\n",
    "        this will go through each row in all three lists at the same time:\n",
    "        for each clean company name (i) , original company name (o) and original row number (r) \n",
    "        in each row of clean_company, original_company and original row number list being compared \n",
    "\n",
    "        '''\n",
    "        \n",
    "        #these lists are defined in this first for loop so the list becomes empty and can store new information for each company name being matched \n",
    "        \n",
    "        matches = [] #empty list to store all the matches for current row \n",
    "        \n",
    "        score = [] #empty list to store all the scores for current row\n",
    "        \n",
    "        #score_partial = []\n",
    "        \n",
    "        row = [] #empty list to store all the original row numbers for current row \n",
    "        \n",
    "        matchesog = [] #empty list to store all original company names\n",
    "        \n",
    "        for (j, q, s) in zip(l2, og2, row_num2):\n",
    "            '''\n",
    "            this will go through each row in all three lists at the same time:\n",
    "            for each clean company name (j) , original company name (q) and original row number (s) \n",
    "            in each row of clean_company, original_company and original row number of the list you're comparing to\n",
    "        \n",
    "            '''\n",
    "            \n",
    "    \n",
    "            if (fuzz.ratio(i,j)) == 100: #due to time constraints, we set the fuzz.ratio to 100, however future programming should adjust this value to some other quantity to see if we get better matches\n",
    "                \n",
    "                matches.append(j) #add all the clean company names from list 2 that matches to clean company name from list 1 to the empty matches list \n",
    "               \n",
    "                matchesog.append(q) #add all the original company names associated with the clean company name in list 2 to the empty matches og list\n",
    "                \n",
    "                score.append(fuzz.ratio(i,j)) #add all the fuzz ratios associated with comparing clean company in list 1 to clean company in list 2 to the list score\n",
    "                \n",
    "                row.append(s) #add all the original row number associated with the clean company name in list 2 to the row list \n",
    "                \n",
    "                #the partial ratio will return the ratio raw score of 100  if the shorter string is found an any of substrings of the larger string, used this as a safety net and potentially as an additional step to \n",
    "                #score_partial.append((fuzz.partial_ratio(i,j)))\n",
    "            \n",
    "            \n",
    "                #match is defined within this if statement because we only want the clean fda company that matches this criteria of 100% match\n",
    "                match = match.append({ 'clean fda company name': i, 'original fda company': o, 'fda row': r, 'clean ndc row': row, 'clean ndc company': matches,   'original ndc company': matchesog, 'fuzz ratio': score,},ignore_index=True)\n",
    "        \n",
    "#Will output a pandas dataframe with 4 columns\n",
    "    return match\n"
   ]
  },
  {
   "cell_type": "code",
   "execution_count": null,
   "metadata": {},
   "outputs": [],
   "source": [
    "#OLD CODE IDEA: First try to incorporate pandas and numpy; the final output should be a pandas dataframe that is a matrix. If the code is still too slow, then break up the dna dataset\n",
    "#into three 20000x60000 have three seperate jupyters running, using this function for each third of the data(dna), and get \n",
    "#put write.csv into function(will have three csvs, which will need to combined)\n",
    "\n",
    "#try to get a frequency distribution of the matches\n",
    "\n",
    "#NEW CODE:\n",
    "def matrix_score(l1, l2, file_name):\n",
    "    \"\"\"outputs a numpy array with all the fuzz ratio for each pairing of words between l1 and l2\n",
    "    \n",
    "        Keyword Arguments:\n",
    "        l1 - a column or list of the clean company names being compared\n",
    "        l2 - a column or list of the clean company you're comparing to\n",
    "        file_name - the filepath file will be saved to \n",
    "\n",
    "    \"\"\"\n",
    "    #creates a matrix of zeros with the dimensions specified from the parameters\n",
    "    #So if you had a list that had 5 elements in it, your matrix would be a 5x5 matrix; nrows would be 5 and ncols would be 5\n",
    "    #matrix = np.zeros(shape = (nrows, ncols))\n",
    "    matrix = np.zeros(shape = (len(l1), len(l2)))\n",
    "    \n",
    "    #initialize row and col values to 0\n",
    "    row = 0\n",
    "    col = 0\n",
    "    \n",
    "    for i in l1:\n",
    "        if row % (len(l1)//10) == 0:       \n",
    "            print(\"progress: %.2f\" % (100*row/len(l1)) + \"%\") #prints out the progress of, will update approximately every 10%\n",
    "        for j in l2:\n",
    "            score = fuzz.ratio(i,j)\n",
    "            matrix[row][col] = score\n",
    "            col+=1\n",
    "        col = 0\n",
    "        row+=1\n",
    "    \n",
    "    save(file_name, matrix) #uses numpy package to automatically save array as an npy file \n",
    "    \n",
    "    return matrix "
   ]
  },
  {
   "cell_type": "markdown",
   "metadata": {},
   "source": [
    "### Setting up inputs for FDA x NDC"
   ]
  },
  {
   "cell_type": "code",
   "execution_count": 10,
   "metadata": {},
   "outputs": [],
   "source": [
    "ndc = pd.read_csv(\"../../data/working/ndc_clean.csv\", index_col = [0])"
   ]
  },
  {
   "cell_type": "code",
   "execution_count": 11,
   "metadata": {},
   "outputs": [],
   "source": [
    "ndc.dropna(inplace = True) #drop NA values, NA values produced due to aggresive cleaning methods (check cleaning folder)\n",
    "ndc.reset_index(inplace = True) #reset the index to match the new number of rows without NA values "
   ]
  },
  {
   "cell_type": "code",
   "execution_count": 12,
   "metadata": {},
   "outputs": [],
   "source": [
    "ndc_row = ndc['row'] #this input is needed to match the original row number (the row number of df with NA value) where the matches comes from "
   ]
  },
  {
   "cell_type": "code",
   "execution_count": 13,
   "metadata": {},
   "outputs": [],
   "source": [
    "ndc_og = ndc['original_company'] #this input is needed to list the original company name, pre-cleaning"
   ]
  },
  {
   "cell_type": "code",
   "execution_count": 14,
   "metadata": {},
   "outputs": [],
   "source": [
    "ndc_clean = ndc['cleaned_name'] #this input is needed as it is what we used for matching "
   ]
  },
  {
   "cell_type": "code",
   "execution_count": 15,
   "metadata": {},
   "outputs": [],
   "source": [
    "fda = pd.read_csv(\"../data/working/fda_clean.csv\", index_col = [0])"
   ]
  },
  {
   "cell_type": "code",
   "execution_count": 16,
   "metadata": {},
   "outputs": [],
   "source": [
    "fda.dropna(inplace = True) #drop NA values, NA values produced due to aggresive cleaning methods (check cleaning folder)\n",
    "fda.reset_index(inplace = True)#reset the index to match the new number of rows without NA values "
   ]
  },
  {
   "cell_type": "code",
   "execution_count": 9,
   "metadata": {},
   "outputs": [
    {
     "data": {
      "text/plain": [
       "Index(['index', 'FDA Companies ', 'Company Clean'], dtype='object')"
      ]
     },
     "execution_count": 9,
     "metadata": {},
     "output_type": "execute_result"
    }
   ],
   "source": [
    "fda.columns"
   ]
  },
  {
   "cell_type": "code",
   "execution_count": 10,
   "metadata": {},
   "outputs": [],
   "source": [
    "fda_row = fda['index'] #this input is needed to match the original row number (the row number of df with NA value) where the matches comes from "
   ]
  },
  {
   "cell_type": "code",
   "execution_count": 11,
   "metadata": {},
   "outputs": [],
   "source": [
    "fda_og = fda['FDA Companies '] #this input is needed to list the original company name, pre-cleaning let's us see what company names are truly matching"
   ]
  },
  {
   "cell_type": "code",
   "execution_count": 12,
   "metadata": {},
   "outputs": [],
   "source": [
    "fda_clean = fda['Company Clean'] #this input is needed as it is what we used for matching "
   ]
  },
  {
   "cell_type": "markdown",
   "metadata": {},
   "source": [
    "#### FDAxNDC Matching"
   ]
  },
  {
   "cell_type": "code",
   "execution_count": 14,
   "metadata": {},
   "outputs": [],
   "source": [
    "fdaxndc = matchWithFuzzyNamesAcross(fda_clean, ndc_clean, fda_og, ndc_og, fda_row, ndc_row)"
   ]
  },
  {
   "cell_type": "code",
   "execution_count": 64,
   "metadata": {},
   "outputs": [
    {
     "data": {
      "text/html": [
       "<div>\n",
       "<style scoped>\n",
       "    .dataframe tbody tr th:only-of-type {\n",
       "        vertical-align: middle;\n",
       "    }\n",
       "\n",
       "    .dataframe tbody tr th {\n",
       "        vertical-align: top;\n",
       "    }\n",
       "\n",
       "    .dataframe thead th {\n",
       "        text-align: right;\n",
       "    }\n",
       "</style>\n",
       "<table border=\"1\" class=\"dataframe\">\n",
       "  <thead>\n",
       "    <tr style=\"text-align: right;\">\n",
       "      <th></th>\n",
       "      <th>clean fda company name</th>\n",
       "      <th>original fda company</th>\n",
       "      <th>fda row</th>\n",
       "      <th>clean ndc row</th>\n",
       "      <th>clean ndc company</th>\n",
       "      <th>original ndc company</th>\n",
       "      <th>fuzz ratio</th>\n",
       "    </tr>\n",
       "  </thead>\n",
       "  <tbody>\n",
       "    <tr>\n",
       "      <th>0</th>\n",
       "      <td>m</td>\n",
       "      <td>3M</td>\n",
       "      <td>1</td>\n",
       "      <td>[20, 22]</td>\n",
       "      <td>[m, m]</td>\n",
       "      <td>[3M Company, 3M Health Care]</td>\n",
       "      <td>[100, 100]</td>\n",
       "    </tr>\n",
       "    <tr>\n",
       "      <th>2</th>\n",
       "      <td>abbvie</td>\n",
       "      <td>ABBVIE</td>\n",
       "      <td>5</td>\n",
       "      <td>[66]</td>\n",
       "      <td>[abbvie]</td>\n",
       "      <td>[AbbVie Inc.]</td>\n",
       "      <td>[100]</td>\n",
       "    </tr>\n",
       "    <tr>\n",
       "      <th>3</th>\n",
       "      <td>abbvie</td>\n",
       "      <td>ABBVIE INC</td>\n",
       "      <td>8</td>\n",
       "      <td>[66]</td>\n",
       "      <td>[abbvie]</td>\n",
       "      <td>[AbbVie Inc.]</td>\n",
       "      <td>[100]</td>\n",
       "    </tr>\n",
       "    <tr>\n",
       "      <th>4</th>\n",
       "      <td>abraxis bioscience</td>\n",
       "      <td>ABRAXIS BIOSCIENCE</td>\n",
       "      <td>11</td>\n",
       "      <td>[71]</td>\n",
       "      <td>[abraxis bioscience]</td>\n",
       "      <td>[Abraxis BioScience, LLC]</td>\n",
       "      <td>[100]</td>\n",
       "    </tr>\n",
       "    <tr>\n",
       "      <th>5</th>\n",
       "      <td>accord</td>\n",
       "      <td>ACCORD HLTHCARE</td>\n",
       "      <td>12</td>\n",
       "      <td>[81, 82, 83, 84, 85]</td>\n",
       "      <td>[accord, accord, accord, accord, accord]</td>\n",
       "      <td>[Accord Healthcare, Accord Healthcare Inc, Acc...</td>\n",
       "      <td>[100, 100, 100, 100, 100]</td>\n",
       "    </tr>\n",
       "    <tr>\n",
       "      <th>...</th>\n",
       "      <td>...</td>\n",
       "      <td>...</td>\n",
       "      <td>...</td>\n",
       "      <td>...</td>\n",
       "      <td>...</td>\n",
       "      <td>...</td>\n",
       "      <td>...</td>\n",
       "    </tr>\n",
       "    <tr>\n",
       "      <th>913</th>\n",
       "      <td>yaopharma</td>\n",
       "      <td>YAOPHARMA CO LTD</td>\n",
       "      <td>966</td>\n",
       "      <td>[6939]</td>\n",
       "      <td>[yaopharma]</td>\n",
       "      <td>[Yaopharma Co., Ltd.]</td>\n",
       "      <td>[100]</td>\n",
       "    </tr>\n",
       "    <tr>\n",
       "      <th>914</th>\n",
       "      <td>zo skin</td>\n",
       "      <td>ZO SKIN HEALTH</td>\n",
       "      <td>970</td>\n",
       "      <td>[7009]</td>\n",
       "      <td>[zo skin]</td>\n",
       "      <td>[ZO Skin Health, Inc.]</td>\n",
       "      <td>[100]</td>\n",
       "    </tr>\n",
       "    <tr>\n",
       "      <th>915</th>\n",
       "      <td>zydus</td>\n",
       "      <td>ZYDUS HLTHCARE</td>\n",
       "      <td>971</td>\n",
       "      <td>[7017, 7018, 7019, 7020]</td>\n",
       "      <td>[zydus, zydus, zydus, zydus]</td>\n",
       "      <td>[Zydus Pharmaceuticals (USA) Inc., Zydus Pharm...</td>\n",
       "      <td>[100, 100, 100, 100]</td>\n",
       "    </tr>\n",
       "    <tr>\n",
       "      <th>919</th>\n",
       "      <td>zydus</td>\n",
       "      <td>ZYDUS PHARMS USA</td>\n",
       "      <td>972</td>\n",
       "      <td>[7017, 7018, 7019, 7020]</td>\n",
       "      <td>[zydus, zydus, zydus, zydus]</td>\n",
       "      <td>[Zydus Pharmaceuticals (USA) Inc., Zydus Pharm...</td>\n",
       "      <td>[100, 100, 100, 100]</td>\n",
       "    </tr>\n",
       "    <tr>\n",
       "      <th>923</th>\n",
       "      <td>zydus</td>\n",
       "      <td>ZYDUS PHARMS USA INC</td>\n",
       "      <td>973</td>\n",
       "      <td>[7017, 7018, 7019, 7020]</td>\n",
       "      <td>[zydus, zydus, zydus, zydus]</td>\n",
       "      <td>[Zydus Pharmaceuticals (USA) Inc., Zydus Pharm...</td>\n",
       "      <td>[100, 100, 100, 100]</td>\n",
       "    </tr>\n",
       "  </tbody>\n",
       "</table>\n",
       "<p>490 rows × 7 columns</p>\n",
       "</div>"
      ],
      "text/plain": [
       "    clean fda company name  original fda company fda row  \\\n",
       "0                        m                    3M       1   \n",
       "2                   abbvie                ABBVIE       5   \n",
       "3                   abbvie            ABBVIE INC       8   \n",
       "4       abraxis bioscience    ABRAXIS BIOSCIENCE      11   \n",
       "5                   accord       ACCORD HLTHCARE      12   \n",
       "..                     ...                   ...     ...   \n",
       "913              yaopharma      YAOPHARMA CO LTD     966   \n",
       "914                zo skin        ZO SKIN HEALTH     970   \n",
       "915                  zydus        ZYDUS HLTHCARE     971   \n",
       "919                  zydus      ZYDUS PHARMS USA     972   \n",
       "923                  zydus  ZYDUS PHARMS USA INC     973   \n",
       "\n",
       "                clean ndc row                         clean ndc company  \\\n",
       "0                    [20, 22]                                    [m, m]   \n",
       "2                        [66]                                  [abbvie]   \n",
       "3                        [66]                                  [abbvie]   \n",
       "4                        [71]                      [abraxis bioscience]   \n",
       "5        [81, 82, 83, 84, 85]  [accord, accord, accord, accord, accord]   \n",
       "..                        ...                                       ...   \n",
       "913                    [6939]                               [yaopharma]   \n",
       "914                    [7009]                                 [zo skin]   \n",
       "915  [7017, 7018, 7019, 7020]              [zydus, zydus, zydus, zydus]   \n",
       "919  [7017, 7018, 7019, 7020]              [zydus, zydus, zydus, zydus]   \n",
       "923  [7017, 7018, 7019, 7020]              [zydus, zydus, zydus, zydus]   \n",
       "\n",
       "                                  original ndc company  \\\n",
       "0                         [3M Company, 3M Health Care]   \n",
       "2                                        [AbbVie Inc.]   \n",
       "3                                        [AbbVie Inc.]   \n",
       "4                            [Abraxis BioScience, LLC]   \n",
       "5    [Accord Healthcare, Accord Healthcare Inc, Acc...   \n",
       "..                                                 ...   \n",
       "913                              [Yaopharma Co., Ltd.]   \n",
       "914                             [ZO Skin Health, Inc.]   \n",
       "915  [Zydus Pharmaceuticals (USA) Inc., Zydus Pharm...   \n",
       "919  [Zydus Pharmaceuticals (USA) Inc., Zydus Pharm...   \n",
       "923  [Zydus Pharmaceuticals (USA) Inc., Zydus Pharm...   \n",
       "\n",
       "                    fuzz ratio  \n",
       "0                   [100, 100]  \n",
       "2                        [100]  \n",
       "3                        [100]  \n",
       "4                        [100]  \n",
       "5    [100, 100, 100, 100, 100]  \n",
       "..                         ...  \n",
       "913                      [100]  \n",
       "914                      [100]  \n",
       "915       [100, 100, 100, 100]  \n",
       "919       [100, 100, 100, 100]  \n",
       "923       [100, 100, 100, 100]  \n",
       "\n",
       "[490 rows x 7 columns]"
      ]
     },
     "execution_count": 64,
     "metadata": {},
     "output_type": "execute_result"
    }
   ],
   "source": [
    "fdaxndc"
   ]
  },
  {
   "cell_type": "markdown",
   "metadata": {},
   "source": [
    "### Cleaning up the results to obtain Table with unique row #'s"
   ]
  },
  {
   "cell_type": "code",
   "execution_count": 15,
   "metadata": {},
   "outputs": [],
   "source": [
    "#The code produces repeats the same output for each match a string has, (ex. if car matched 4x it would have the same four entries for car) this code removes duplicate rows leaving only the one match we're interested in\n",
    "fdaxndc = fdaxndc[~fdaxndc.duplicated('fda row')]"
   ]
  },
  {
   "cell_type": "code",
   "execution_count": 59,
   "metadata": {
    "collapsed": true,
    "jupyter": {
     "outputs_hidden": true
    }
   },
   "outputs": [
    {
     "ename": "TypeError",
     "evalue": "unhashable type: 'list'",
     "output_type": "error",
     "traceback": [
      "\u001b[0;31m---------------------------------------------------------------------------\u001b[0m",
      "\u001b[0;31mTypeError\u001b[0m                                 Traceback (most recent call last)",
      "\u001b[0;32m<ipython-input-59-38d543b6ed63>\u001b[0m in \u001b[0;36m<module>\u001b[0;34m\u001b[0m\n\u001b[0;32m----> 1\u001b[0;31m \u001b[0mndc_unique\u001b[0m \u001b[0;34m=\u001b[0m \u001b[0mfdc_match\u001b[0m\u001b[0;34m[\u001b[0m\u001b[0;34m~\u001b[0m\u001b[0mfdc_match\u001b[0m\u001b[0;34m.\u001b[0m\u001b[0mduplicated\u001b[0m\u001b[0;34m(\u001b[0m\u001b[0;34m'clean ndc company'\u001b[0m\u001b[0;34m)\u001b[0m\u001b[0;34m]\u001b[0m\u001b[0;34m\u001b[0m\u001b[0;34m\u001b[0m\u001b[0m\n\u001b[0m",
      "\u001b[0;32m~/.local/lib/python3.7/site-packages/pandas/core/frame.py\u001b[0m in \u001b[0;36mduplicated\u001b[0;34m(self, subset, keep)\u001b[0m\n\u001b[1;32m   4886\u001b[0m \u001b[0;34m\u001b[0m\u001b[0m\n\u001b[1;32m   4887\u001b[0m         \u001b[0mvals\u001b[0m \u001b[0;34m=\u001b[0m \u001b[0;34m(\u001b[0m\u001b[0mcol\u001b[0m\u001b[0;34m.\u001b[0m\u001b[0mvalues\u001b[0m \u001b[0;32mfor\u001b[0m \u001b[0mname\u001b[0m\u001b[0;34m,\u001b[0m \u001b[0mcol\u001b[0m \u001b[0;32min\u001b[0m \u001b[0mself\u001b[0m\u001b[0;34m.\u001b[0m\u001b[0mitems\u001b[0m\u001b[0;34m(\u001b[0m\u001b[0;34m)\u001b[0m \u001b[0;32mif\u001b[0m \u001b[0mname\u001b[0m \u001b[0;32min\u001b[0m \u001b[0msubset\u001b[0m\u001b[0;34m)\u001b[0m\u001b[0;34m\u001b[0m\u001b[0;34m\u001b[0m\u001b[0m\n\u001b[0;32m-> 4888\u001b[0;31m         \u001b[0mlabels\u001b[0m\u001b[0;34m,\u001b[0m \u001b[0mshape\u001b[0m \u001b[0;34m=\u001b[0m \u001b[0mmap\u001b[0m\u001b[0;34m(\u001b[0m\u001b[0mlist\u001b[0m\u001b[0;34m,\u001b[0m \u001b[0mzip\u001b[0m\u001b[0;34m(\u001b[0m\u001b[0;34m*\u001b[0m\u001b[0mmap\u001b[0m\u001b[0;34m(\u001b[0m\u001b[0mf\u001b[0m\u001b[0;34m,\u001b[0m \u001b[0mvals\u001b[0m\u001b[0;34m)\u001b[0m\u001b[0;34m)\u001b[0m\u001b[0;34m)\u001b[0m\u001b[0;34m\u001b[0m\u001b[0;34m\u001b[0m\u001b[0m\n\u001b[0m\u001b[1;32m   4889\u001b[0m \u001b[0;34m\u001b[0m\u001b[0m\n\u001b[1;32m   4890\u001b[0m         \u001b[0mids\u001b[0m \u001b[0;34m=\u001b[0m \u001b[0mget_group_index\u001b[0m\u001b[0;34m(\u001b[0m\u001b[0mlabels\u001b[0m\u001b[0;34m,\u001b[0m \u001b[0mshape\u001b[0m\u001b[0;34m,\u001b[0m \u001b[0msort\u001b[0m\u001b[0;34m=\u001b[0m\u001b[0;32mFalse\u001b[0m\u001b[0;34m,\u001b[0m \u001b[0mxnull\u001b[0m\u001b[0;34m=\u001b[0m\u001b[0;32mFalse\u001b[0m\u001b[0;34m)\u001b[0m\u001b[0;34m\u001b[0m\u001b[0;34m\u001b[0m\u001b[0m\n",
      "\u001b[0;32m~/.local/lib/python3.7/site-packages/pandas/core/frame.py\u001b[0m in \u001b[0;36mf\u001b[0;34m(vals)\u001b[0m\n\u001b[1;32m   4861\u001b[0m         \u001b[0;32mdef\u001b[0m \u001b[0mf\u001b[0m\u001b[0;34m(\u001b[0m\u001b[0mvals\u001b[0m\u001b[0;34m)\u001b[0m\u001b[0;34m:\u001b[0m\u001b[0;34m\u001b[0m\u001b[0;34m\u001b[0m\u001b[0m\n\u001b[1;32m   4862\u001b[0m             labels, shape = algorithms.factorize(\n\u001b[0;32m-> 4863\u001b[0;31m                 \u001b[0mvals\u001b[0m\u001b[0;34m,\u001b[0m \u001b[0msize_hint\u001b[0m\u001b[0;34m=\u001b[0m\u001b[0mmin\u001b[0m\u001b[0;34m(\u001b[0m\u001b[0mlen\u001b[0m\u001b[0;34m(\u001b[0m\u001b[0mself\u001b[0m\u001b[0;34m)\u001b[0m\u001b[0;34m,\u001b[0m \u001b[0m_SIZE_HINT_LIMIT\u001b[0m\u001b[0;34m)\u001b[0m\u001b[0;34m\u001b[0m\u001b[0;34m\u001b[0m\u001b[0m\n\u001b[0m\u001b[1;32m   4864\u001b[0m             )\n\u001b[1;32m   4865\u001b[0m             \u001b[0;32mreturn\u001b[0m \u001b[0mlabels\u001b[0m\u001b[0;34m.\u001b[0m\u001b[0mastype\u001b[0m\u001b[0;34m(\u001b[0m\u001b[0;34m\"i8\"\u001b[0m\u001b[0;34m,\u001b[0m \u001b[0mcopy\u001b[0m\u001b[0;34m=\u001b[0m\u001b[0;32mFalse\u001b[0m\u001b[0;34m)\u001b[0m\u001b[0;34m,\u001b[0m \u001b[0mlen\u001b[0m\u001b[0;34m(\u001b[0m\u001b[0mshape\u001b[0m\u001b[0;34m)\u001b[0m\u001b[0;34m\u001b[0m\u001b[0;34m\u001b[0m\u001b[0m\n",
      "\u001b[0;32m~/.local/lib/python3.7/site-packages/pandas/core/algorithms.py\u001b[0m in \u001b[0;36mfactorize\u001b[0;34m(values, sort, na_sentinel, size_hint)\u001b[0m\n\u001b[1;32m    634\u001b[0m \u001b[0;34m\u001b[0m\u001b[0m\n\u001b[1;32m    635\u001b[0m         codes, uniques = _factorize_array(\n\u001b[0;32m--> 636\u001b[0;31m             \u001b[0mvalues\u001b[0m\u001b[0;34m,\u001b[0m \u001b[0mna_sentinel\u001b[0m\u001b[0;34m=\u001b[0m\u001b[0mna_sentinel\u001b[0m\u001b[0;34m,\u001b[0m \u001b[0msize_hint\u001b[0m\u001b[0;34m=\u001b[0m\u001b[0msize_hint\u001b[0m\u001b[0;34m,\u001b[0m \u001b[0mna_value\u001b[0m\u001b[0;34m=\u001b[0m\u001b[0mna_value\u001b[0m\u001b[0;34m\u001b[0m\u001b[0;34m\u001b[0m\u001b[0m\n\u001b[0m\u001b[1;32m    637\u001b[0m         )\n\u001b[1;32m    638\u001b[0m \u001b[0;34m\u001b[0m\u001b[0m\n",
      "\u001b[0;32m~/.local/lib/python3.7/site-packages/pandas/core/algorithms.py\u001b[0m in \u001b[0;36m_factorize_array\u001b[0;34m(values, na_sentinel, size_hint, na_value)\u001b[0m\n\u001b[1;32m    482\u001b[0m \u001b[0;34m\u001b[0m\u001b[0m\n\u001b[1;32m    483\u001b[0m     \u001b[0mtable\u001b[0m \u001b[0;34m=\u001b[0m \u001b[0mhash_klass\u001b[0m\u001b[0;34m(\u001b[0m\u001b[0msize_hint\u001b[0m \u001b[0;32mor\u001b[0m \u001b[0mlen\u001b[0m\u001b[0;34m(\u001b[0m\u001b[0mvalues\u001b[0m\u001b[0;34m)\u001b[0m\u001b[0;34m)\u001b[0m\u001b[0;34m\u001b[0m\u001b[0;34m\u001b[0m\u001b[0m\n\u001b[0;32m--> 484\u001b[0;31m     \u001b[0muniques\u001b[0m\u001b[0;34m,\u001b[0m \u001b[0mcodes\u001b[0m \u001b[0;34m=\u001b[0m \u001b[0mtable\u001b[0m\u001b[0;34m.\u001b[0m\u001b[0mfactorize\u001b[0m\u001b[0;34m(\u001b[0m\u001b[0mvalues\u001b[0m\u001b[0;34m,\u001b[0m \u001b[0mna_sentinel\u001b[0m\u001b[0;34m=\u001b[0m\u001b[0mna_sentinel\u001b[0m\u001b[0;34m,\u001b[0m \u001b[0mna_value\u001b[0m\u001b[0;34m=\u001b[0m\u001b[0mna_value\u001b[0m\u001b[0;34m)\u001b[0m\u001b[0;34m\u001b[0m\u001b[0;34m\u001b[0m\u001b[0m\n\u001b[0m\u001b[1;32m    485\u001b[0m \u001b[0;34m\u001b[0m\u001b[0m\n\u001b[1;32m    486\u001b[0m     \u001b[0mcodes\u001b[0m \u001b[0;34m=\u001b[0m \u001b[0mensure_platform_int\u001b[0m\u001b[0;34m(\u001b[0m\u001b[0mcodes\u001b[0m\u001b[0;34m)\u001b[0m\u001b[0;34m\u001b[0m\u001b[0;34m\u001b[0m\u001b[0m\n",
      "\u001b[0;32mpandas/_libs/hashtable_class_helper.pxi\u001b[0m in \u001b[0;36mpandas._libs.hashtable.PyObjectHashTable.factorize\u001b[0;34m()\u001b[0m\n",
      "\u001b[0;32mpandas/_libs/hashtable_class_helper.pxi\u001b[0m in \u001b[0;36mpandas._libs.hashtable.PyObjectHashTable._unique\u001b[0;34m()\u001b[0m\n",
      "\u001b[0;31mTypeError\u001b[0m: unhashable type: 'list'"
     ]
    }
   ],
   "source": [
    "#failed attempts\n",
    "#ndc_unique = fdaxndc[~fdaxndc.duplicated('clean ndc company')]\n",
    "#ndc_unique = fdaxndc.drop_duplicates(subset='clean ndc company')"
   ]
  },
  {
   "cell_type": "code",
   "execution_count": 16,
   "metadata": {},
   "outputs": [],
   "source": [
    "#changing the 3 columns we want to aggregate into a single row into list to facilitate joining of information\n",
    "fdaxndc['clean fda company name'] = fdaxndc['clean fda company name'].astype(str)\n",
    "fdaxndc['original fda company'] = fdaxndc['original fda company'].astype(str)\n",
    "fdaxndc['fda row'] = fdaxndc['fda row'].astype(str)"
   ]
  },
  {
   "cell_type": "code",
   "execution_count": 17,
   "metadata": {},
   "outputs": [],
   "source": [
    "#recent change output will not reflect -- changing joining character from comma to carrot in order to split more easily\n",
    "#groups by clean fda company and joins all the ways the clean fda company is originally written along with all the rows where these original companies are found in the original dataframe\n",
    "fdaxndc_unique = fdaxndc.groupby('clean fda company name', as_index = False).agg({'original fda company': '^ '.join, \n",
    "                                                                            'fda row': '^ '.join\n",
    "                                                                                })"
   ]
  },
  {
   "cell_type": "code",
   "execution_count": 18,
   "metadata": {},
   "outputs": [],
   "source": [
    "#groups by clean fda company name and only keeps the first instance of all the rows (non-repeats)\n",
    "fdaxndc_unique1 = fdaxndc.groupby('clean fda company name', as_index = False).first()"
   ]
  },
  {
   "cell_type": "code",
   "execution_count": 22,
   "metadata": {},
   "outputs": [],
   "source": [
    "#This creates the final data frame output that has one clean corporate family and all the matches in from the other company dataset in the same row. \n",
    "fdaxndc_unique[['corporate family', 'clean ndc row', 'clean ndc company', 'original ndc company', 'fuzz ratio']] = fdaxndc_unique1[['clean fda company name','clean ndc row', 'clean ndc company', 'original ndc company', 'fuzz ratio']]"
   ]
  },
  {
   "cell_type": "code",
   "execution_count": null,
   "metadata": {},
   "outputs": [],
   "source": [
    "#fdaxndc_unique.to_csv('../data/working/fda_ndc_matching.csv')"
   ]
  },
  {
   "cell_type": "markdown",
   "metadata": {},
   "source": [
    "## FDA x DNA"
   ]
  },
  {
   "cell_type": "markdown",
   "metadata": {},
   "source": [
    "### Preparing DNA inputs "
   ]
  },
  {
   "cell_type": "code",
   "execution_count": 24,
   "metadata": {},
   "outputs": [],
   "source": [
    "#read in the dna dataset \n",
    "dna = pd.read_csv(\"../../data/working/dna_clean.csv\", index_col = [0])"
   ]
  },
  {
   "cell_type": "code",
   "execution_count": 25,
   "metadata": {},
   "outputs": [],
   "source": [
    "dna.dropna(inplace = True) #drop NA values, NA values produced due to aggresive cleaning methods (check cleaning folder)\n",
    "dna.reset_index(inplace = True) #reset the index to match the new number of rows without NA values"
   ]
  },
  {
   "cell_type": "code",
   "execution_count": 28,
   "metadata": {},
   "outputs": [],
   "source": [
    "dna_row = dna['index']\n",
    "dna_og = dna['Description']\n",
    "dna_clean = dna['cleaned_companies']"
   ]
  },
  {
   "cell_type": "markdown",
   "metadata": {},
   "source": [
    "### Using matchWithFuzzyNamesAcross to create dateframe with matches"
   ]
  },
  {
   "cell_type": "code",
   "execution_count": 29,
   "metadata": {},
   "outputs": [],
   "source": [
    "fdaxnda = matchWithFuzzyNamesAcross(fda_clean, dna_clean, fda_og, dna_og, fda_row, dna_row)"
   ]
  },
  {
   "cell_type": "code",
   "execution_count": 31,
   "metadata": {},
   "outputs": [],
   "source": [
    "fdaxnda.to_csv('DNA and FDA matches') #last minute save because session was about to end "
   ]
  },
  {
   "cell_type": "code",
   "execution_count": 24,
   "metadata": {},
   "outputs": [],
   "source": [
    "#THIS IS OLD CODE NO LONG RELEVANT\n",
    "fdaxnda= pd.read_csv('DNA and FDA matches') #reading in the last minute df save to finish output"
   ]
  },
  {
   "cell_type": "code",
   "execution_count": 3,
   "metadata": {
    "collapsed": true,
    "jupyter": {
     "outputs_hidden": true
    }
   },
   "outputs": [
    {
     "data": {
      "text/html": [
       "<div>\n",
       "<style scoped>\n",
       "    .dataframe tbody tr th:only-of-type {\n",
       "        vertical-align: middle;\n",
       "    }\n",
       "\n",
       "    .dataframe tbody tr th {\n",
       "        vertical-align: top;\n",
       "    }\n",
       "\n",
       "    .dataframe thead th {\n",
       "        text-align: right;\n",
       "    }\n",
       "</style>\n",
       "<table border=\"1\" class=\"dataframe\">\n",
       "  <thead>\n",
       "    <tr style=\"text-align: right;\">\n",
       "      <th></th>\n",
       "      <th>Unnamed: 0</th>\n",
       "      <th>clean fda company name</th>\n",
       "      <th>original fda company</th>\n",
       "      <th>fda row</th>\n",
       "      <th>clean ndc row</th>\n",
       "      <th>clean ndc company</th>\n",
       "      <th>original ndc company</th>\n",
       "      <th>fuzz ratio</th>\n",
       "    </tr>\n",
       "  </thead>\n",
       "  <tbody>\n",
       "    <tr>\n",
       "      <th>0</th>\n",
       "      <td>0</td>\n",
       "      <td>m</td>\n",
       "      <td>3M</td>\n",
       "      <td>1</td>\n",
       "      <td>[33223, 37340, 38604, 53031, 56261, 58045]</td>\n",
       "      <td>['m', 'm', 'm', 'm', 'm', 'm']</td>\n",
       "      <td>['M101 Corp', '3M Company', 'M2 Group Ltd.', '...</td>\n",
       "      <td>[100, 100, 100, 100, 100, 100]</td>\n",
       "    </tr>\n",
       "    <tr>\n",
       "      <th>1</th>\n",
       "      <td>1</td>\n",
       "      <td>m</td>\n",
       "      <td>3M</td>\n",
       "      <td>1</td>\n",
       "      <td>[33223, 37340, 38604, 53031, 56261, 58045]</td>\n",
       "      <td>['m', 'm', 'm', 'm', 'm', 'm']</td>\n",
       "      <td>['M101 Corp', '3M Company', 'M2 Group Ltd.', '...</td>\n",
       "      <td>[100, 100, 100, 100, 100, 100]</td>\n",
       "    </tr>\n",
       "    <tr>\n",
       "      <th>2</th>\n",
       "      <td>2</td>\n",
       "      <td>m</td>\n",
       "      <td>3M</td>\n",
       "      <td>1</td>\n",
       "      <td>[33223, 37340, 38604, 53031, 56261, 58045]</td>\n",
       "      <td>['m', 'm', 'm', 'm', 'm', 'm']</td>\n",
       "      <td>['M101 Corp', '3M Company', 'M2 Group Ltd.', '...</td>\n",
       "      <td>[100, 100, 100, 100, 100, 100]</td>\n",
       "    </tr>\n",
       "    <tr>\n",
       "      <th>3</th>\n",
       "      <td>3</td>\n",
       "      <td>m</td>\n",
       "      <td>3M</td>\n",
       "      <td>1</td>\n",
       "      <td>[33223, 37340, 38604, 53031, 56261, 58045]</td>\n",
       "      <td>['m', 'm', 'm', 'm', 'm', 'm']</td>\n",
       "      <td>['M101 Corp', '3M Company', 'M2 Group Ltd.', '...</td>\n",
       "      <td>[100, 100, 100, 100, 100, 100]</td>\n",
       "    </tr>\n",
       "    <tr>\n",
       "      <th>4</th>\n",
       "      <td>4</td>\n",
       "      <td>m</td>\n",
       "      <td>3M</td>\n",
       "      <td>1</td>\n",
       "      <td>[33223, 37340, 38604, 53031, 56261, 58045]</td>\n",
       "      <td>['m', 'm', 'm', 'm', 'm', 'm']</td>\n",
       "      <td>['M101 Corp', '3M Company', 'M2 Group Ltd.', '...</td>\n",
       "      <td>[100, 100, 100, 100, 100, 100]</td>\n",
       "    </tr>\n",
       "    <tr>\n",
       "      <th>...</th>\n",
       "      <td>...</td>\n",
       "      <td>...</td>\n",
       "      <td>...</td>\n",
       "      <td>...</td>\n",
       "      <td>...</td>\n",
       "      <td>...</td>\n",
       "      <td>...</td>\n",
       "      <td>...</td>\n",
       "    </tr>\n",
       "    <tr>\n",
       "      <th>613</th>\n",
       "      <td>613</td>\n",
       "      <td>wockhardt</td>\n",
       "      <td>WOCKHARDT LTD</td>\n",
       "      <td>953</td>\n",
       "      <td>[61416]</td>\n",
       "      <td>['wockhardt']</td>\n",
       "      <td>['Wockhardt Ltd']</td>\n",
       "      <td>[100]</td>\n",
       "    </tr>\n",
       "    <tr>\n",
       "      <th>614</th>\n",
       "      <td>614</td>\n",
       "      <td>wockhardt</td>\n",
       "      <td>WOCKHARDT USA</td>\n",
       "      <td>954</td>\n",
       "      <td>[61416]</td>\n",
       "      <td>['wockhardt']</td>\n",
       "      <td>['Wockhardt Ltd']</td>\n",
       "      <td>[100]</td>\n",
       "    </tr>\n",
       "    <tr>\n",
       "      <th>615</th>\n",
       "      <td>615</td>\n",
       "      <td>wyeth</td>\n",
       "      <td>WYETH PHARMS INC</td>\n",
       "      <td>957</td>\n",
       "      <td>[1808, 15691]</td>\n",
       "      <td>['wyeth', 'wyeth']</td>\n",
       "      <td>['Wyeth LLC', 'Wyeth Ltd.']</td>\n",
       "      <td>[100, 100]</td>\n",
       "    </tr>\n",
       "    <tr>\n",
       "      <th>616</th>\n",
       "      <td>616</td>\n",
       "      <td>wyeth</td>\n",
       "      <td>WYETH PHARMS INC</td>\n",
       "      <td>957</td>\n",
       "      <td>[1808, 15691]</td>\n",
       "      <td>['wyeth', 'wyeth']</td>\n",
       "      <td>['Wyeth LLC', 'Wyeth Ltd.']</td>\n",
       "      <td>[100, 100]</td>\n",
       "    </tr>\n",
       "    <tr>\n",
       "      <th>617</th>\n",
       "      <td>617</td>\n",
       "      <td>zambon</td>\n",
       "      <td>ZAMBON SPA</td>\n",
       "      <td>968</td>\n",
       "      <td>[63778]</td>\n",
       "      <td>['zambon']</td>\n",
       "      <td>['Zambon Company SpA']</td>\n",
       "      <td>[100]</td>\n",
       "    </tr>\n",
       "  </tbody>\n",
       "</table>\n",
       "<p>618 rows × 8 columns</p>\n",
       "</div>"
      ],
      "text/plain": [
       "     Unnamed: 0 clean fda company name original fda company  fda row  \\\n",
       "0             0                      m                   3M        1   \n",
       "1             1                      m                   3M        1   \n",
       "2             2                      m                   3M        1   \n",
       "3             3                      m                   3M        1   \n",
       "4             4                      m                   3M        1   \n",
       "..          ...                    ...                  ...      ...   \n",
       "613         613              wockhardt        WOCKHARDT LTD      953   \n",
       "614         614              wockhardt        WOCKHARDT USA      954   \n",
       "615         615                  wyeth     WYETH PHARMS INC      957   \n",
       "616         616                  wyeth     WYETH PHARMS INC      957   \n",
       "617         617                 zambon           ZAMBON SPA      968   \n",
       "\n",
       "                                  clean ndc row  \\\n",
       "0    [33223, 37340, 38604, 53031, 56261, 58045]   \n",
       "1    [33223, 37340, 38604, 53031, 56261, 58045]   \n",
       "2    [33223, 37340, 38604, 53031, 56261, 58045]   \n",
       "3    [33223, 37340, 38604, 53031, 56261, 58045]   \n",
       "4    [33223, 37340, 38604, 53031, 56261, 58045]   \n",
       "..                                          ...   \n",
       "613                                     [61416]   \n",
       "614                                     [61416]   \n",
       "615                               [1808, 15691]   \n",
       "616                               [1808, 15691]   \n",
       "617                                     [63778]   \n",
       "\n",
       "                  clean ndc company  \\\n",
       "0    ['m', 'm', 'm', 'm', 'm', 'm']   \n",
       "1    ['m', 'm', 'm', 'm', 'm', 'm']   \n",
       "2    ['m', 'm', 'm', 'm', 'm', 'm']   \n",
       "3    ['m', 'm', 'm', 'm', 'm', 'm']   \n",
       "4    ['m', 'm', 'm', 'm', 'm', 'm']   \n",
       "..                              ...   \n",
       "613                   ['wockhardt']   \n",
       "614                   ['wockhardt']   \n",
       "615              ['wyeth', 'wyeth']   \n",
       "616              ['wyeth', 'wyeth']   \n",
       "617                      ['zambon']   \n",
       "\n",
       "                                  original ndc company  \\\n",
       "0    ['M101 Corp', '3M Company', 'M2 Group Ltd.', '...   \n",
       "1    ['M101 Corp', '3M Company', 'M2 Group Ltd.', '...   \n",
       "2    ['M101 Corp', '3M Company', 'M2 Group Ltd.', '...   \n",
       "3    ['M101 Corp', '3M Company', 'M2 Group Ltd.', '...   \n",
       "4    ['M101 Corp', '3M Company', 'M2 Group Ltd.', '...   \n",
       "..                                                 ...   \n",
       "613                                  ['Wockhardt Ltd']   \n",
       "614                                  ['Wockhardt Ltd']   \n",
       "615                        ['Wyeth LLC', 'Wyeth Ltd.']   \n",
       "616                        ['Wyeth LLC', 'Wyeth Ltd.']   \n",
       "617                             ['Zambon Company SpA']   \n",
       "\n",
       "                         fuzz ratio  \n",
       "0    [100, 100, 100, 100, 100, 100]  \n",
       "1    [100, 100, 100, 100, 100, 100]  \n",
       "2    [100, 100, 100, 100, 100, 100]  \n",
       "3    [100, 100, 100, 100, 100, 100]  \n",
       "4    [100, 100, 100, 100, 100, 100]  \n",
       "..                              ...  \n",
       "613                           [100]  \n",
       "614                           [100]  \n",
       "615                      [100, 100]  \n",
       "616                      [100, 100]  \n",
       "617                           [100]  \n",
       "\n",
       "[618 rows x 8 columns]"
      ]
     },
     "execution_count": 3,
     "metadata": {},
     "output_type": "execute_result"
    }
   ],
   "source": [
    "fdaxnda"
   ]
  },
  {
   "cell_type": "markdown",
   "metadata": {},
   "source": [
    "### Cleaning up dataframe to only have one corporate family and all atches in one row "
   ]
  },
  {
   "cell_type": "code",
   "execution_count": 25,
   "metadata": {},
   "outputs": [],
   "source": [
    "fdaxnda = fdaxnda[~fdaxnda.duplicated('fda row')] #remove any duplicate of row numbers from list being compared, only want 1 input from the list being compared to "
   ]
  },
  {
   "cell_type": "code",
   "execution_count": 26,
   "metadata": {
    "collapsed": true,
    "jupyter": {
     "outputs_hidden": true
    }
   },
   "outputs": [
    {
     "data": {
      "text/html": [
       "<div>\n",
       "<style scoped>\n",
       "    .dataframe tbody tr th:only-of-type {\n",
       "        vertical-align: middle;\n",
       "    }\n",
       "\n",
       "    .dataframe tbody tr th {\n",
       "        vertical-align: top;\n",
       "    }\n",
       "\n",
       "    .dataframe thead th {\n",
       "        text-align: right;\n",
       "    }\n",
       "</style>\n",
       "<table border=\"1\" class=\"dataframe\">\n",
       "  <thead>\n",
       "    <tr style=\"text-align: right;\">\n",
       "      <th></th>\n",
       "      <th>Unnamed: 0</th>\n",
       "      <th>clean fda company name</th>\n",
       "      <th>original fda company</th>\n",
       "      <th>fda row</th>\n",
       "      <th>clean ndc row</th>\n",
       "      <th>clean ndc company</th>\n",
       "      <th>original ndc company</th>\n",
       "      <th>fuzz ratio</th>\n",
       "    </tr>\n",
       "  </thead>\n",
       "  <tbody>\n",
       "    <tr>\n",
       "      <th>0</th>\n",
       "      <td>0</td>\n",
       "      <td>m</td>\n",
       "      <td>3M</td>\n",
       "      <td>1</td>\n",
       "      <td>[33223, 37340, 38604, 53031, 56261, 58045]</td>\n",
       "      <td>['m', 'm', 'm', 'm', 'm', 'm']</td>\n",
       "      <td>['M101 Corp', '3M Company', 'M2 Group Ltd.', '...</td>\n",
       "      <td>[100, 100, 100, 100, 100, 100]</td>\n",
       "    </tr>\n",
       "    <tr>\n",
       "      <th>6</th>\n",
       "      <td>6</td>\n",
       "      <td>aaipharma</td>\n",
       "      <td>AAIPHARMA LLC</td>\n",
       "      <td>3</td>\n",
       "      <td>[3820]</td>\n",
       "      <td>['aaipharma']</td>\n",
       "      <td>['AAIPharma Services Corp.']</td>\n",
       "      <td>[100]</td>\n",
       "    </tr>\n",
       "    <tr>\n",
       "      <th>7</th>\n",
       "      <td>7</td>\n",
       "      <td>abbott</td>\n",
       "      <td>ABBOTT LABS</td>\n",
       "      <td>4</td>\n",
       "      <td>[260, 273, 275]</td>\n",
       "      <td>['abbott', 'abbott', 'abbott']</td>\n",
       "      <td>['Abbott AG', 'Abbott Oy', 'Abbott Srl']</td>\n",
       "      <td>[100, 100, 100]</td>\n",
       "    </tr>\n",
       "    <tr>\n",
       "      <th>10</th>\n",
       "      <td>10</td>\n",
       "      <td>abbvie</td>\n",
       "      <td>ABBVIE</td>\n",
       "      <td>5</td>\n",
       "      <td>[488]</td>\n",
       "      <td>['abbvie']</td>\n",
       "      <td>['AbbVie Inc.']</td>\n",
       "      <td>[100]</td>\n",
       "    </tr>\n",
       "    <tr>\n",
       "      <th>11</th>\n",
       "      <td>11</td>\n",
       "      <td>abbvie</td>\n",
       "      <td>ABBVIE INC</td>\n",
       "      <td>8</td>\n",
       "      <td>[488]</td>\n",
       "      <td>['abbvie']</td>\n",
       "      <td>['AbbVie Inc.']</td>\n",
       "      <td>[100]</td>\n",
       "    </tr>\n",
       "    <tr>\n",
       "      <th>...</th>\n",
       "      <td>...</td>\n",
       "      <td>...</td>\n",
       "      <td>...</td>\n",
       "      <td>...</td>\n",
       "      <td>...</td>\n",
       "      <td>...</td>\n",
       "      <td>...</td>\n",
       "      <td>...</td>\n",
       "    </tr>\n",
       "    <tr>\n",
       "      <th>612</th>\n",
       "      <td>612</td>\n",
       "      <td>wockhardt bio</td>\n",
       "      <td>WOCKHARDT BIO AG</td>\n",
       "      <td>952</td>\n",
       "      <td>[62283]</td>\n",
       "      <td>['wockhardt bio']</td>\n",
       "      <td>['Wockhardt Bio AG']</td>\n",
       "      <td>[100]</td>\n",
       "    </tr>\n",
       "    <tr>\n",
       "      <th>613</th>\n",
       "      <td>613</td>\n",
       "      <td>wockhardt</td>\n",
       "      <td>WOCKHARDT LTD</td>\n",
       "      <td>953</td>\n",
       "      <td>[61416]</td>\n",
       "      <td>['wockhardt']</td>\n",
       "      <td>['Wockhardt Ltd']</td>\n",
       "      <td>[100]</td>\n",
       "    </tr>\n",
       "    <tr>\n",
       "      <th>614</th>\n",
       "      <td>614</td>\n",
       "      <td>wockhardt</td>\n",
       "      <td>WOCKHARDT USA</td>\n",
       "      <td>954</td>\n",
       "      <td>[61416]</td>\n",
       "      <td>['wockhardt']</td>\n",
       "      <td>['Wockhardt Ltd']</td>\n",
       "      <td>[100]</td>\n",
       "    </tr>\n",
       "    <tr>\n",
       "      <th>615</th>\n",
       "      <td>615</td>\n",
       "      <td>wyeth</td>\n",
       "      <td>WYETH PHARMS INC</td>\n",
       "      <td>957</td>\n",
       "      <td>[1808, 15691]</td>\n",
       "      <td>['wyeth', 'wyeth']</td>\n",
       "      <td>['Wyeth LLC', 'Wyeth Ltd.']</td>\n",
       "      <td>[100, 100]</td>\n",
       "    </tr>\n",
       "    <tr>\n",
       "      <th>617</th>\n",
       "      <td>617</td>\n",
       "      <td>zambon</td>\n",
       "      <td>ZAMBON SPA</td>\n",
       "      <td>968</td>\n",
       "      <td>[63778]</td>\n",
       "      <td>['zambon']</td>\n",
       "      <td>['Zambon Company SpA']</td>\n",
       "      <td>[100]</td>\n",
       "    </tr>\n",
       "  </tbody>\n",
       "</table>\n",
       "<p>327 rows × 8 columns</p>\n",
       "</div>"
      ],
      "text/plain": [
       "     Unnamed: 0 clean fda company name original fda company  fda row  \\\n",
       "0             0                      m                   3M        1   \n",
       "6             6              aaipharma        AAIPHARMA LLC        3   \n",
       "7             7                 abbott          ABBOTT LABS        4   \n",
       "10           10                 abbvie               ABBVIE        5   \n",
       "11           11                 abbvie           ABBVIE INC        8   \n",
       "..          ...                    ...                  ...      ...   \n",
       "612         612          wockhardt bio     WOCKHARDT BIO AG      952   \n",
       "613         613              wockhardt        WOCKHARDT LTD      953   \n",
       "614         614              wockhardt        WOCKHARDT USA      954   \n",
       "615         615                  wyeth     WYETH PHARMS INC      957   \n",
       "617         617                 zambon           ZAMBON SPA      968   \n",
       "\n",
       "                                  clean ndc row  \\\n",
       "0    [33223, 37340, 38604, 53031, 56261, 58045]   \n",
       "6                                        [3820]   \n",
       "7                               [260, 273, 275]   \n",
       "10                                        [488]   \n",
       "11                                        [488]   \n",
       "..                                          ...   \n",
       "612                                     [62283]   \n",
       "613                                     [61416]   \n",
       "614                                     [61416]   \n",
       "615                               [1808, 15691]   \n",
       "617                                     [63778]   \n",
       "\n",
       "                  clean ndc company  \\\n",
       "0    ['m', 'm', 'm', 'm', 'm', 'm']   \n",
       "6                     ['aaipharma']   \n",
       "7    ['abbott', 'abbott', 'abbott']   \n",
       "10                       ['abbvie']   \n",
       "11                       ['abbvie']   \n",
       "..                              ...   \n",
       "612               ['wockhardt bio']   \n",
       "613                   ['wockhardt']   \n",
       "614                   ['wockhardt']   \n",
       "615              ['wyeth', 'wyeth']   \n",
       "617                      ['zambon']   \n",
       "\n",
       "                                  original ndc company  \\\n",
       "0    ['M101 Corp', '3M Company', 'M2 Group Ltd.', '...   \n",
       "6                         ['AAIPharma Services Corp.']   \n",
       "7             ['Abbott AG', 'Abbott Oy', 'Abbott Srl']   \n",
       "10                                     ['AbbVie Inc.']   \n",
       "11                                     ['AbbVie Inc.']   \n",
       "..                                                 ...   \n",
       "612                               ['Wockhardt Bio AG']   \n",
       "613                                  ['Wockhardt Ltd']   \n",
       "614                                  ['Wockhardt Ltd']   \n",
       "615                        ['Wyeth LLC', 'Wyeth Ltd.']   \n",
       "617                             ['Zambon Company SpA']   \n",
       "\n",
       "                         fuzz ratio  \n",
       "0    [100, 100, 100, 100, 100, 100]  \n",
       "6                             [100]  \n",
       "7                   [100, 100, 100]  \n",
       "10                            [100]  \n",
       "11                            [100]  \n",
       "..                              ...  \n",
       "612                           [100]  \n",
       "613                           [100]  \n",
       "614                           [100]  \n",
       "615                      [100, 100]  \n",
       "617                           [100]  \n",
       "\n",
       "[327 rows x 8 columns]"
      ]
     },
     "execution_count": 26,
     "metadata": {},
     "output_type": "execute_result"
    }
   ],
   "source": [
    "fdaxnda"
   ]
  },
  {
   "cell_type": "code",
   "execution_count": 27,
   "metadata": {},
   "outputs": [],
   "source": [
    "#changing the 3 columns we want to aggregate into a single row into list to facilitate joining of information\n",
    "fdaxnda['clean fda company name'] = fdaxnda['clean fda company name'].astype(str)\n",
    "fdaxnda['original fda company'] = fdaxnda['original fda company'].astype(str)\n",
    "fdaxnda['fda row'] = fdaxnda['fda row'].astype(str)"
   ]
  },
  {
   "cell_type": "code",
   "execution_count": 28,
   "metadata": {},
   "outputs": [],
   "source": [
    "#recent change output will not reflect -- changing joining character from comma to carrot in order to split more easily\n",
    "#groups by clean fda company and joins all the ways the clean fda company is originally written along with all the rows where these original companies are found in the original dataframe\n",
    "fdaxnda_unique = fdaxnda.groupby('clean fda company name', as_index = False).agg({'original fda company': '^ '.join, \n",
    "                                                                            'fda row': '^ '.join\n",
    "                                                                                })"
   ]
  },
  {
   "cell_type": "code",
   "execution_count": 29,
   "metadata": {},
   "outputs": [],
   "source": [
    "#groups by clean fda company name and keeps the first instance of all the rows (non-repeats) allows us to have a second df with all the information we want\n",
    "fdaxnda1 = fdaxnda.groupby('clean fda company name', as_index = False).first()"
   ]
  },
  {
   "cell_type": "code",
   "execution_count": 31,
   "metadata": {},
   "outputs": [],
   "source": [
    "#matches the first df columns with the necessary information from the second df to complete the final output\n",
    "fdaxnda_unique[['corporate family', 'clean dna row', 'clean dna company', 'original dna company', 'fuzz ratio']] = fdaxnda1[['clean fda company name','clean ndc row', 'clean ndc company', 'original ndc company', 'fuzz ratio']]"
   ]
  },
  {
   "cell_type": "code",
   "execution_count": 33,
   "metadata": {},
   "outputs": [],
   "source": [
    "#fdaxnda_unique.to_csv('../data/working/fda_dna_matching.csv')"
   ]
  },
  {
   "cell_type": "markdown",
   "metadata": {},
   "source": [
    "### NDCxDNA"
   ]
  },
  {
   "cell_type": "code",
   "execution_count": null,
   "metadata": {},
   "outputs": [],
   "source": [
    "#save the output of function to variable ndcxdna_match\n",
    "ndcxdna= matchWithFuzzyNamesAcross(ndc_clean, dna_clean, ndc_og, dna_og, ndc_row, dna_row)"
   ]
  },
  {
   "cell_type": "code",
   "execution_count": null,
   "metadata": {},
   "outputs": [],
   "source": [
    "#changing the 3 columns we want to aggregate into a single row into list to facilitate joining of information\n",
    "ndcxdna= ndcxdna_match[~ndcxdna_match.duplicated('NDC row')]"
   ]
  },
  {
   "cell_type": "code",
   "execution_count": null,
   "metadata": {},
   "outputs": [],
   "source": [
    "#recent change output will not reflect -- changing joining character from comma to carrot in order to split more easily\n",
    "#groups by clean fda company and joins all the ways the clean fda company is originally written along with all the rows where these original companies are found in the original dataframe\n",
    "ndcxdna_match['clean NDC company'] = ndcxdna_match['clean NDC company'].astype(str)\n",
    "ndcxdna_match['original NDC company'] = ndcxdna_match['original NDC company'].astype(str)\n",
    "ndcxdna_match['NDC row'] = ndcxdna_match['NDC row'].astype(str)"
   ]
  },
  {
   "cell_type": "code",
   "execution_count": null,
   "metadata": {},
   "outputs": [],
   "source": [
    "ndcxdna_unique = ndcxdna_match.groupby('clean NDC company', as_index = False).agg({'original NDC company': '^ '.join, \n",
    "                                                                            'NDC row': '^ '.join\n",
    "                                                                                })"
   ]
  },
  {
   "cell_type": "code",
   "execution_count": null,
   "metadata": {},
   "outputs": [],
   "source": [
    "#groups by clean fda company name and keeps the first instance of all the rows (non-repeats) allows us to have a second df with all the information on clean DNA row, clean DNA company, original DNA company and fuzz ratio\n",
    "ndcxdna_1 = ndcxdna_match.groupby('clean NDC company', as_index = False).first()"
   ]
  },
  {
   "cell_type": "code",
   "execution_count": null,
   "metadata": {},
   "outputs": [],
   "source": [
    "#matches the first df columns with the necessary information from the second df to complete the final output\n",
    "ndcxdna_unique[['corporate family', 'clean DNA row', 'clean DNA company', 'original DNA company', 'fuzz ratio']] = ndcxdna_match1[['clean NDC company','clean DNA row', 'clean DNA company', 'original DNA company', 'fuzz ratio']]"
   ]
  },
  {
   "cell_type": "markdown",
   "metadata": {},
   "source": [
    "### Matrix FDAxNDC"
   ]
  },
  {
   "cell_type": "code",
   "execution_count": null,
   "metadata": {},
   "outputs": [],
   "source": [
    "#Getting unique clean companies from ndc_matching (see ndc matrix section above to see where this variable came from)\n",
    "ndc_unique_clean = ndcxdna_unique['clean NDC company']\n",
    "#drops any duplicates so that the result is a series of unique companies that matched 100%\n",
    "ndc_unique_clean.drop_duplicates(inplace = True)\n",
    "#convert series to a df\n",
    "ndc_unique_clean = pd.DataFrame(ndc_unique_clean)\n",
    "#renaming column\n",
    "ndc_unique_clean = ndc_unique_clean.rename(columns = {\"clean company name\": \"ndc clean name\"})\n",
    "#reset index so numbers are in order\n",
    "ndc_unique_clean.reset_index(inplace = True)\n",
    "#delete index column\n",
    "del ndc_unique_clean['index']"
   ]
  },
  {
   "cell_type": "code",
   "execution_count": null,
   "metadata": {},
   "outputs": [],
   "source": [
    "#Getting unique clean companies from fda (see fda matrix section above to see where this variable came from)\n",
    "fda_unique_clean = fdaxdna['clean fda company name']\n",
    "fda_unique_clean.drop_duplicates(inplace = True)\n",
    "fda_unique_clean = pd.DataFrame(fda_unique_clean)\n",
    "fda_unique_clean = fda_unique_clean.rename(columns = {\"clean company name\": \"fda clean name\"})\n",
    "fda_unique_clean.reset_index(inplace = True)\n",
    "del fda_unique_clean['index']"
   ]
  },
  {
   "cell_type": "code",
   "execution_count": null,
   "metadata": {},
   "outputs": [],
   "source": [
    "#creates a 796 x 5209 matrix\n",
    "fdaxndc_matrix = matrix_score(fda_unique_clean['fda clean name'].tolist(), ndc_unique_clean['ndc clean name'].tolist())"
   ]
  },
  {
   "cell_type": "code",
   "execution_count": null,
   "metadata": {},
   "outputs": [],
   "source": [
    "#ndcxdna_match_unique.to_csv('../data/working/ndc_dna_matching.csv')"
   ]
  }
 ],
 "metadata": {
  "kernelspec": {
   "display_name": "Python 3",
   "language": "python",
   "name": "python3"
  },
  "language_info": {
   "codemirror_mode": {
    "name": "ipython",
    "version": 3
   },
   "file_extension": ".py",
   "mimetype": "text/x-python",
   "name": "python",
   "nbconvert_exporter": "python",
   "pygments_lexer": "ipython3",
   "version": "3.7.4"
  }
 },
 "nbformat": 4,
 "nbformat_minor": 4
}
