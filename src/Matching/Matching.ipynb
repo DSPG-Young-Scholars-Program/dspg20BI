{
 "cells": [
  {
   "cell_type": "code",
   "execution_count": null,
   "metadata": {},
   "outputs": [],
   "source": [
    "import numpy as np\n",
    "import pandas as pd\n",
    "import string\n",
    "import re\n",
    "from fuzzywuzzy import fuzz"
   ]
  },
  {
   "cell_type": "markdown",
   "metadata": {},
   "source": [
    "<h2>Reading in the datasets</h2>"
   ]
  },
  {
   "cell_type": "code",
   "execution_count": 2,
   "metadata": {},
   "outputs": [],
   "source": [
    "dna = pd.read_csv(\"../data/working/validcompaniesdictionary.csv\", index_col = [0])"
   ]
  },
  {
   "cell_type": "code",
   "execution_count": 3,
   "metadata": {},
   "outputs": [],
   "source": [
    "fda = pd.read_excel(\"../data/original/fda_companies.xlsx\")"
   ]
  },
  {
   "cell_type": "code",
   "execution_count": 85,
   "metadata": {},
   "outputs": [],
   "source": [
    "ndc = pd.read_excel(\"../data/original/BI DSPG Company Datasets/NDC_Company_Dataset.xls\")"
   ]
  },
  {
   "cell_type": "markdown",
   "metadata": {},
   "source": [
    "<h2>Neil's code for cleaning</h2>"
   ]
  },
  {
   "cell_type": "code",
   "execution_count": 150,
   "metadata": {},
   "outputs": [
    {
     "name": "stdout",
     "output_type": "stream",
     "text": [
      "!\"#'()*+,./:;<=>?@[\\]^`{|}~\n"
     ]
    }
   ],
   "source": [
    "removeset=string.punctuation\n",
    "removeset=removeset.replace(\"-\",\"\") #Don't remove dashes\n",
    "removeset=removeset.replace(\"&\",\"\") #Don't remove ampersand\n",
    "removeset=removeset.replace(\"_\",\"\") #Don't remove underscore\n",
    "removeset=removeset.replace(\"%\",\"\") #Don't remove percent\n",
    "removeset=removeset.replace(\"$\",\"\") #Don't remove dollar\n",
    "   \n",
    "print(removeset)"
   ]
  },
  {
   "cell_type": "code",
   "execution_count": 76,
   "metadata": {},
   "outputs": [
    {
     "name": "stdout",
     "output_type": "stream",
     "text": [
      "hello world\n",
      "hello world\n",
      "hello world\n",
      "hello world\n",
      "hello world\n",
      "hello-world\n",
      "hel&lo&world\n",
      "hel_lo wo_rld\n"
     ]
    }
   ],
   "source": [
    "# remove all single characters (This step is done first, because later there are single chars we want to retain.)\n",
    "#document = re.sub(r'\\s+[a-zA-Z]\\s+', ' ', str(X[sen]))\n",
    "string = \"hello i world\"\n",
    "string = re.sub(r'\\s+[a-zA-Z]\\s+', ' ', string)\n",
    "print(string)\n",
    "\n",
    "# remove all numbers\n",
    "#document = re.sub(r'[0-9]','', document)\n",
    "string2 = \"h3ll0\"\n",
    "string2 = re.sub(r'[0-9]','', string)\n",
    "print(string2)\n",
    "\n",
    "# Substituting multiple spaces with single space\n",
    "#document = re.sub(r'\\s+', ' ', document, flags=re.I)\n",
    "string3 = \"hello      world\"\n",
    "string3 = re.sub(r'\\s+', ' ', string3, flags=re.I)\n",
    "print(string3)\n",
    "\n",
    "#Converting to lowercase\n",
    "string4 = \"HEllo WORLD\"\n",
    "string4 = string4.lower()\n",
    "print(string4)\n",
    "\n",
    "#Removing prefixed 'b'\n",
    "#document = re.sub(r'^b\\s+', '', document)\n",
    "string5 = \"b hello world\"\n",
    "string5 = re.sub(r'^b\\s+', '', string5)\n",
    "print(string5)\n",
    "\n",
    "#Make dashes into combined words\n",
    "#document = re.sub(r'\\s-\\s+', '-', document)\n",
    "string6 = \"hello - world\"\n",
    "string6 = re.sub(r'\\s-\\s+', '-', string6)\n",
    "print(string6)\n",
    "\n",
    "#Make ampersand into combined words\n",
    "#document = re.sub(r'\\s&\\s+', '&', document)\n",
    "string7 = \"hel & lo & world\"\n",
    "string7 = re.sub(r'\\s&\\s+', '&', string7)\n",
    "print(string7)\n",
    "\n",
    "#Make underscore into combined words\n",
    "#document = re.sub(r'\\s_\\s+', '_', document)\n",
    "string8 = \"hel _ lo wo _ rld\"\n",
    "string8 = re.sub(r'\\s_\\s+', '_', string8)\n",
    "print(string8)"
   ]
  },
  {
   "cell_type": "code",
   "execution_count": 77,
   "metadata": {},
   "outputs": [
    {
     "name": "stdout",
     "output_type": "stream",
     "text": [
      "JohnsonJohnson\n"
     ]
    }
   ],
   "source": [
    "#removes all punctuation in string that is in removeset\n",
    "document = \"Johnson+;Johnson!\"\n",
    "for i in removeset:\n",
    "    document=re.sub(re.escape(i),\"\",document)\n",
    "print(document)"
   ]
  },
  {
   "cell_type": "markdown",
   "metadata": {},
   "source": []
  },
  {
   "cell_type": "markdown",
   "metadata": {},
   "source": [
    "<h2>Daniel's Code for Cleaning NDC</h2>"
   ]
  },
  {
   "cell_type": "code",
   "execution_count": 10,
   "metadata": {},
   "outputs": [],
   "source": [
    "def eraseFromColumn(inputColumn, eraseList):\n",
    "    \"iteratively delete regex query matches from input list\"\n",
    "    \n",
    "    \"\"\"\n",
    "    inputColumn -- a column from a pandas dataframe, this will be the set of\n",
    "    target words/entries that deletions will be made from\n",
    "    eraseList -- a column containing strings (regex expressions) which will be\n",
    "    deleted from the inputColumn, in an iterative fashion\n",
    "    \"\"\"\n",
    "    eraseList['changeNum'] = 0\n",
    "    eraseList['changeIndexes'] = ''\n",
    "    \n",
    "    inputColumn = inputColumn.replace(regex=True, to_replace = \"\\\\\\\\\", value='/')\n",
    "    \n",
    "    for index, row in eraseList.iterrows():\n",
    "        curReplaceVal = row[0]\n",
    "        currentRegexExpression=re.compile(curReplaceVal)\n",
    "        CurrentBoolVec=inputColumn.str.contains(currentRegexExpression, na= False)\n",
    "        eraseList['changeIndexes'].iloc[index]=[i for i, x in enumerate(CurrentBoolVec) if x]\n",
    "        eraseList['changeNum'].iloc[index] = len(eraseList['changeIndexes'].iloc[index])\n",
    "        inputColumn.replace(regex=True, to_replace=currentRegexExpression,value='', inplace = True)\n",
    "    \n",
    "    return inputColumn, eraseList"
   ]
  },
  {
   "cell_type": "markdown",
   "metadata": {},
   "source": [
    "<h2>Cleaning NDC</h2>"
   ]
  },
  {
   "cell_type": "markdown",
   "metadata": {},
   "source": [
    "<h4>Removing the first 25 since they are just numbers</h4>"
   ]
  },
  {
   "cell_type": "code",
   "execution_count": 86,
   "metadata": {},
   "outputs": [],
   "source": [
    "#Getting rid of the first 25 since those are just numbers\n",
    "ndc = ndc.iloc[25:]\n",
    "#renaming column\n",
    "ndc = ndc.rename(columns = {'Row Labels':'company'})"
   ]
  },
  {
   "cell_type": "markdown",
   "metadata": {},
   "source": [
    "<h4>Lowercase everything</h4>"
   ]
  },
  {
   "cell_type": "code",
   "execution_count": 91,
   "metadata": {},
   "outputs": [],
   "source": [
    "#Converting to lower first\n",
    "ndc.company = ndc.company.str.lower()"
   ]
  },
  {
   "cell_type": "markdown",
   "metadata": {},
   "source": [
    "<h4>Get rid of () and {}</h4>"
   ]
  },
  {
   "cell_type": "code",
   "execution_count": 128,
   "metadata": {},
   "outputs": [],
   "source": [
    "#Function that uses regex to remove parentheses and square brackets\n",
    "def removeParenthesis(string):\n",
    "    return re.sub('[()\\{}]', '', string)"
   ]
  },
  {
   "cell_type": "code",
   "execution_count": 129,
   "metadata": {},
   "outputs": [],
   "source": [
    "#Here I am just making a new array that will hold the result of removing parentheses\n",
    "#I will deleted the old row further down\n",
    "companies = np.array([])\n",
    "for row in ndc.itertuples():\n",
    "    companies = np.append(companies, removeParenthesis(row.company))"
   ]
  },
  {
   "cell_type": "code",
   "execution_count": 130,
   "metadata": {},
   "outputs": [],
   "source": [
    "ndc['companies'] = companies"
   ]
  },
  {
   "cell_type": "code",
   "execution_count": 132,
   "metadata": {},
   "outputs": [
    {
     "data": {
      "text/html": [
       "<div>\n",
       "<style scoped>\n",
       "    .dataframe tbody tr th:only-of-type {\n",
       "        vertical-align: middle;\n",
       "    }\n",
       "\n",
       "    .dataframe tbody tr th {\n",
       "        vertical-align: top;\n",
       "    }\n",
       "\n",
       "    .dataframe thead th {\n",
       "        text-align: right;\n",
       "    }\n",
       "</style>\n",
       "<table border=\"1\" class=\"dataframe\">\n",
       "  <thead>\n",
       "    <tr style=\"text-align: right;\">\n",
       "      <th></th>\n",
       "      <th>company</th>\n",
       "      <th>companies</th>\n",
       "    </tr>\n",
       "  </thead>\n",
       "  <tbody>\n",
       "    <tr>\n",
       "      <th>25</th>\n",
       "      <td>spironolactone 2%</td>\n",
       "      <td>spironolactone 2%</td>\n",
       "    </tr>\n",
       "    <tr>\n",
       "      <th>26</th>\n",
       "      <td>-l'oreal usa products inc</td>\n",
       "      <td>-l'oreal usa products inc</td>\n",
       "    </tr>\n",
       "    <tr>\n",
       "      <th>27</th>\n",
       "      <td>.cardinal health</td>\n",
       "      <td>.cardinal health</td>\n",
       "    </tr>\n",
       "    <tr>\n",
       "      <th>28</th>\n",
       "      <td>.church &amp; dwight canada corp</td>\n",
       "      <td>.church &amp; dwight canada corp</td>\n",
       "    </tr>\n",
       "    <tr>\n",
       "      <th>29</th>\n",
       "      <td>{preferred pharmaeutials inc.</td>\n",
       "      <td>preferred pharmaeutials inc.</td>\n",
       "    </tr>\n",
       "    <tr>\n",
       "      <th>...</th>\n",
       "      <td>...</td>\n",
       "      <td>...</td>\n",
       "    </tr>\n",
       "    <tr>\n",
       "      <th>7046</th>\n",
       "      <td>zygone</td>\n",
       "      <td>zygone</td>\n",
       "    </tr>\n",
       "    <tr>\n",
       "      <th>7047</th>\n",
       "      <td>zyla life sciences us inc.</td>\n",
       "      <td>zyla life sciences us inc.</td>\n",
       "    </tr>\n",
       "    <tr>\n",
       "      <th>7048</th>\n",
       "      <td>#name?</td>\n",
       "      <td>#name?</td>\n",
       "    </tr>\n",
       "    <tr>\n",
       "      <th>7049</th>\n",
       "      <td>(blank)</td>\n",
       "      <td>blank</td>\n",
       "    </tr>\n",
       "    <tr>\n",
       "      <th>7050</th>\n",
       "      <td>grand total</td>\n",
       "      <td>grand total</td>\n",
       "    </tr>\n",
       "  </tbody>\n",
       "</table>\n",
       "<p>7026 rows × 2 columns</p>\n",
       "</div>"
      ],
      "text/plain": [
       "                            company                     companies\n",
       "25               spironolactone 2%             spironolactone 2% \n",
       "26        -l'oreal usa products inc     -l'oreal usa products inc\n",
       "27                 .cardinal health              .cardinal health\n",
       "28     .church & dwight canada corp  .church & dwight canada corp\n",
       "29    {preferred pharmaeutials inc.  preferred pharmaeutials inc.\n",
       "...                             ...                           ...\n",
       "7046                         zygone                        zygone\n",
       "7047     zyla life sciences us inc.    zyla life sciences us inc.\n",
       "7048                         #name?                        #name?\n",
       "7049                        (blank)                         blank\n",
       "7050                    grand total                   grand total\n",
       "\n",
       "[7026 rows x 2 columns]"
      ]
     },
     "execution_count": 132,
     "metadata": {},
     "output_type": "execute_result"
    }
   ],
   "source": [
    "#Shows the changes\n",
    "ndc[(ndc.company.str.contains(\"()\") | (ndc.company.str.contains(\"{}\")))]"
   ]
  },
  {
   "cell_type": "code",
   "execution_count": 164,
   "metadata": {},
   "outputs": [],
   "source": [
    "del ndc['company']"
   ]
  },
  {
   "cell_type": "markdown",
   "metadata": {},
   "source": [
    "<h4>Getting rid of rest of unnecessary punctuation</h4>"
   ]
  },
  {
   "cell_type": "code",
   "execution_count": 165,
   "metadata": {},
   "outputs": [
    {
     "data": {
      "text/plain": [
       "'!\"#\\'()*+,./:;<=>?@[\\\\]^`{|}~'"
      ]
     },
     "execution_count": 165,
     "metadata": {},
     "output_type": "execute_result"
    }
   ],
   "source": [
    "#Removing these from ndc dataset\n",
    "removeset"
   ]
  },
  {
   "cell_type": "code",
   "execution_count": 166,
   "metadata": {},
   "outputs": [],
   "source": [
    "#function that gets rid of unwanted punctuation\n",
    "#This does get rid of ' within a string (ex. l'oreal becomes l oreal) so maybe recheck?\n",
    "def removeUnwantedPunc(string):\n",
    "    return re.sub('[!\"#\\'()*+,./:;<=>?@[\\]^`{|}~]', ' ', string)"
   ]
  },
  {
   "cell_type": "code",
   "execution_count": 180,
   "metadata": {},
   "outputs": [],
   "source": [
    "company = np.array([])\n",
    "\n",
    "for row in ndc.itertuples():\n",
    "    company = np.append(company, removeUnwantedPunc(row.companies))"
   ]
  },
  {
   "cell_type": "code",
   "execution_count": 182,
   "metadata": {},
   "outputs": [],
   "source": [
    "ndc['company'] = company"
   ]
  },
  {
   "cell_type": "code",
   "execution_count": 185,
   "metadata": {},
   "outputs": [],
   "source": [
    "del ndc['companies']"
   ]
  },
  {
   "cell_type": "code",
   "execution_count": 186,
   "metadata": {},
   "outputs": [
    {
     "data": {
      "text/html": [
       "<div>\n",
       "<style scoped>\n",
       "    .dataframe tbody tr th:only-of-type {\n",
       "        vertical-align: middle;\n",
       "    }\n",
       "\n",
       "    .dataframe tbody tr th {\n",
       "        vertical-align: top;\n",
       "    }\n",
       "\n",
       "    .dataframe thead th {\n",
       "        text-align: right;\n",
       "    }\n",
       "</style>\n",
       "<table border=\"1\" class=\"dataframe\">\n",
       "  <thead>\n",
       "    <tr style=\"text-align: right;\">\n",
       "      <th></th>\n",
       "      <th>company</th>\n",
       "    </tr>\n",
       "  </thead>\n",
       "  <tbody>\n",
       "    <tr>\n",
       "      <th>25</th>\n",
       "      <td>spironolactone 2%</td>\n",
       "    </tr>\n",
       "    <tr>\n",
       "      <th>26</th>\n",
       "      <td>-l oreal usa products inc</td>\n",
       "    </tr>\n",
       "    <tr>\n",
       "      <th>27</th>\n",
       "      <td>cardinal health</td>\n",
       "    </tr>\n",
       "    <tr>\n",
       "      <th>28</th>\n",
       "      <td>church &amp; dwight canada corp</td>\n",
       "    </tr>\n",
       "    <tr>\n",
       "      <th>29</th>\n",
       "      <td>preferred pharmaeutials inc</td>\n",
       "    </tr>\n",
       "  </tbody>\n",
       "</table>\n",
       "</div>"
      ],
      "text/plain": [
       "                         company\n",
       "25            spironolactone 2% \n",
       "26     -l oreal usa products inc\n",
       "27               cardinal health\n",
       "28   church & dwight canada corp\n",
       "29  preferred pharmaeutials inc "
      ]
     },
     "execution_count": 186,
     "metadata": {},
     "output_type": "execute_result"
    }
   ],
   "source": [
    "ndc.head()"
   ]
  },
  {
   "cell_type": "markdown",
   "metadata": {},
   "source": [
    "<h4>Grabbing the list of legal entities from os github</h4>"
   ]
  },
  {
   "cell_type": "code",
   "execution_count": 189,
   "metadata": {},
   "outputs": [
    {
     "data": {
      "text/html": [
       "<div>\n",
       "<style scoped>\n",
       "    .dataframe tbody tr th:only-of-type {\n",
       "        vertical-align: middle;\n",
       "    }\n",
       "\n",
       "    .dataframe tbody tr th {\n",
       "        vertical-align: top;\n",
       "    }\n",
       "\n",
       "    .dataframe thead th {\n",
       "        text-align: right;\n",
       "    }\n",
       "</style>\n",
       "<table border=\"1\" class=\"dataframe\">\n",
       "  <thead>\n",
       "    <tr style=\"text-align: right;\">\n",
       "      <th></th>\n",
       "      <th>0</th>\n",
       "    </tr>\n",
       "  </thead>\n",
       "  <tbody>\n",
       "    <tr>\n",
       "      <th>0</th>\n",
       "      <td>'(?i) Inc\\b'</td>\n",
       "    </tr>\n",
       "    <tr>\n",
       "      <th>1</th>\n",
       "      <td>'(?i) Ltd\\b'</td>\n",
       "    </tr>\n",
       "    <tr>\n",
       "      <th>2</th>\n",
       "      <td>'(?i) LLC\\b'</td>\n",
       "    </tr>\n",
       "    <tr>\n",
       "      <th>3</th>\n",
       "      <td>'(?i) GmbH\\b'</td>\n",
       "    </tr>\n",
       "    <tr>\n",
       "      <th>4</th>\n",
       "      <td>'(?i) Corporation\\b'</td>\n",
       "    </tr>\n",
       "  </tbody>\n",
       "</table>\n",
       "</div>"
      ],
      "text/plain": [
       "                      0\n",
       "0          '(?i) Inc\\b'\n",
       "1          '(?i) Ltd\\b'\n",
       "2          '(?i) LLC\\b'\n",
       "3         '(?i) GmbH\\b'\n",
       "4  '(?i) Corporation\\b'"
      ]
     },
     "execution_count": 189,
     "metadata": {},
     "output_type": "execute_result"
    }
   ],
   "source": [
    "legalEntities = pd.read_csv(\"https://raw.githubusercontent.com/DSPG-Young-Scholars-Program/dspg20oss/danBranch/ossPy/keyFiles/curatedLegalEntitesRaw.csv\", header = None)\n",
    "legalEntities.head()"
   ]
  },
  {
   "cell_type": "markdown",
   "metadata": {},
   "source": [
    "<h4>Using Daniel's code to get remove legal entities</h4>"
   ]
  },
  {
   "cell_type": "code",
   "execution_count": 173,
   "metadata": {},
   "outputs": [],
   "source": []
  },
  {
   "cell_type": "code",
   "execution_count": null,
   "metadata": {},
   "outputs": [],
   "source": []
  },
  {
   "cell_type": "code",
   "execution_count": null,
   "metadata": {},
   "outputs": [],
   "source": []
  }
 ],
 "metadata": {
  "kernelspec": {
   "display_name": "Python 3",
   "language": "python",
   "name": "python3"
  },
  "language_info": {
   "codemirror_mode": {
    "name": "ipython",
    "version": 3
   },
   "file_extension": ".py",
   "mimetype": "text/x-python",
   "name": "python",
   "nbconvert_exporter": "python",
   "pygments_lexer": "ipython3",
   "version": "3.7.4"
  }
 },
 "nbformat": 4,
 "nbformat_minor": 4
}
