{
 "cells": [
  {
   "cell_type": "code",
   "execution_count": 1,
   "metadata": {},
   "outputs": [],
   "source": [
    "import numpy as np\n",
    "import pandas as pd\n",
    "import string\n",
    "import re\n",
    "import nltk\n",
    "from fuzzywuzzy import process, fuzz\n",
    "import difflib\n",
    "from two_lists_similarity import Calculate_Similarity as cs\n",
    "import fuzzymatcher\n",
    "from numpy import savetxt\n",
    "from numpy import save\n",
    "from numpy import savez_compressed\n",
    "from numpy import save\n",
    "from numpy import vstack"
   ]
  },
  {
   "cell_type": "markdown",
   "metadata": {},
   "source": [
    "### Reading in three data sets"
   ]
  },
  {
   "cell_type": "code",
   "execution_count": 63,
   "metadata": {},
   "outputs": [],
   "source": [
    "fda=pd.read_csv(\"../data/working/fda_clean.csv\")\n",
    "ndc=pd.read_csv(\"../data/working/cleanNDC.csv\")\n",
    "#dna=pd.read_csv(\"../data/working/dna_clean.csv\")"
   ]
  },
  {
   "cell_type": "code",
   "execution_count": 57,
   "metadata": {},
   "outputs": [
    {
     "data": {
      "text/plain": [
       "True"
      ]
     },
     "execution_count": 57,
     "metadata": {},
     "output_type": "execute_result"
    }
   ],
   "source": [
    "dna.isnull().values.any()"
   ]
  },
  {
   "cell_type": "code",
   "execution_count": 41,
   "metadata": {},
   "outputs": [
    {
     "data": {
      "text/plain": [
       "Unnamed: 0            0\n",
       "Unnamed: 0.1          0\n",
       "Code                  0\n",
       "Description           0\n",
       "cleaned_companies    51\n",
       "dtype: int64"
      ]
     },
     "execution_count": 41,
     "metadata": {},
     "output_type": "execute_result"
    }
   ],
   "source": [
    "dna.isnull().sum()"
   ]
  },
  {
   "cell_type": "code",
   "execution_count": 26,
   "metadata": {},
   "outputs": [
    {
     "name": "stdout",
     "output_type": "stream",
     "text": [
      "<class 'pandas.core.frame.DataFrame'>\n",
      "RangeIndex: 975 entries, 0 to 974\n",
      "Data columns (total 3 columns):\n",
      " #   Column          Non-Null Count  Dtype \n",
      "---  ------          --------------  ----- \n",
      " 0   Unnamed: 0      975 non-null    int64 \n",
      " 1   FDA Companies   975 non-null    object\n",
      " 2   Company Clean   973 non-null    object\n",
      "dtypes: int64(1), object(2)\n",
      "memory usage: 23.0+ KB\n"
     ]
    }
   ],
   "source": [
    "fda.info()"
   ]
  },
  {
   "cell_type": "code",
   "execution_count": 27,
   "metadata": {},
   "outputs": [
    {
     "name": "stdout",
     "output_type": "stream",
     "text": [
      "<class 'pandas.core.frame.DataFrame'>\n",
      "RangeIndex: 7026 entries, 0 to 7025\n",
      "Data columns (total 3 columns):\n",
      " #   Column            Non-Null Count  Dtype \n",
      "---  ------            --------------  ----- \n",
      " 0   Unnamed: 0        7026 non-null   int64 \n",
      " 1   original_company  7026 non-null   object\n",
      " 2   cleaned_name      6725 non-null   object\n",
      "dtypes: int64(1), object(2)\n",
      "memory usage: 164.8+ KB\n"
     ]
    }
   ],
   "source": [
    "ndc.info()"
   ]
  },
  {
   "cell_type": "code",
   "execution_count": 58,
   "metadata": {},
   "outputs": [
    {
     "name": "stdout",
     "output_type": "stream",
     "text": [
      "<class 'pandas.core.frame.DataFrame'>\n",
      "RangeIndex: 64005 entries, 0 to 64004\n",
      "Data columns (total 5 columns):\n",
      " #   Column             Non-Null Count  Dtype \n",
      "---  ------             --------------  ----- \n",
      " 0   Unnamed: 0         64005 non-null  int64 \n",
      " 1   Unnamed: 0.1       64005 non-null  int64 \n",
      " 2   Code               64005 non-null  object\n",
      " 3   Description        64005 non-null  object\n",
      " 4   cleaned_companies  63954 non-null  object\n",
      "dtypes: int64(2), object(3)\n",
      "memory usage: 2.4+ MB\n"
     ]
    }
   ],
   "source": [
    "dna.info()"
   ]
  },
  {
   "cell_type": "code",
   "execution_count": 64,
   "metadata": {},
   "outputs": [],
   "source": [
    "dna=dna.dropna()"
   ]
  },
  {
   "cell_type": "code",
   "execution_count": 65,
   "metadata": {},
   "outputs": [
    {
     "data": {
      "text/plain": [
       "False"
      ]
     },
     "execution_count": 65,
     "metadata": {},
     "output_type": "execute_result"
    }
   ],
   "source": [
    "dna.isnull().values.any()"
   ]
  },
  {
   "cell_type": "code",
   "execution_count": 46,
   "metadata": {},
   "outputs": [
    {
     "data": {
      "text/plain": [
       "Unnamed: 0           0\n",
       "Unnamed: 0.1         0\n",
       "Code                 0\n",
       "Description          0\n",
       "cleaned_companies    0\n",
       "dtype: int64"
      ]
     },
     "execution_count": 46,
     "metadata": {},
     "output_type": "execute_result"
    }
   ],
   "source": [
    "dna.isnull().sum()"
   ]
  },
  {
   "cell_type": "code",
   "execution_count": 66,
   "metadata": {},
   "outputs": [
    {
     "name": "stdout",
     "output_type": "stream",
     "text": [
      "<class 'pandas.core.frame.DataFrame'>\n",
      "Int64Index: 63954 entries, 0 to 64004\n",
      "Data columns (total 5 columns):\n",
      " #   Column             Non-Null Count  Dtype \n",
      "---  ------             --------------  ----- \n",
      " 0   Unnamed: 0         63954 non-null  int64 \n",
      " 1   Unnamed: 0.1       63954 non-null  int64 \n",
      " 2   Code               63954 non-null  object\n",
      " 3   Description        63954 non-null  object\n",
      " 4   cleaned_companies  63954 non-null  object\n",
      "dtypes: int64(2), object(3)\n",
      "memory usage: 2.9+ MB\n"
     ]
    }
   ],
   "source": [
    "dna.info()"
   ]
  },
  {
   "cell_type": "markdown",
   "metadata": {},
   "source": [
    "#### Creating a function to measure fuzz ratio between two data sets"
   ]
  },
  {
   "cell_type": "code",
   "execution_count": 6,
   "metadata": {},
   "outputs": [],
   "source": [
    "#df1=fda.iloc[:100]\n",
    "#df2=ndc.iloc[:100]\n",
    "#df3=dna.iloc[:100]"
   ]
  },
  {
   "cell_type": "code",
   "execution_count": 76,
   "metadata": {},
   "outputs": [],
   "source": [
    "#Function that creates a matrix of fuzzy scores\n",
    "#l1 and l2 are the lists\n",
    "#nrows will be the number of rows you will need in the matrix\n",
    "#ncols will be the number of columns you will need\n",
    "\n",
    "#distribution of the matrix\n",
    "def matrix_score(list1, list2, nrows, ncols):\n",
    "    #creates a matrix of zeros with the dimensions specified from the parameters\n",
    "    #So if you had a list that had 5 elements in it, your matrix would be a 5x5 matrix; nrows would be 5 and ncols would be 5\n",
    "    matrix = np.zeros(shape = (nrows, ncols))\n",
    "   \n",
    "    #initialize row and col values to 0\n",
    "    row = 0\n",
    "    col = 0\n",
    "   \n",
    "    for i in list1:\n",
    "        if row % (len(list1)//10) == 0:\n",
    "            print(\"progress: %.2f\" % (100*row/len(list1)) + \"%\")\n",
    "        for j in list2:\n",
    "            score = fuzz.ratio(i,j)\n",
    "            matrix[row][col] = score\n",
    "            col+=1\n",
    "        col = 0\n",
    "        row+=1\n",
    "    #savetxt('/sfs/lustre/bahamut/scratch/sr2wm/Git/dspg20BI/data/working/dna_matrix_1c.csv', matrix, delimiter=',')\n",
    "    save('/sfs/lustre/bahamut/scratch/sr2wm/Git/dspg20BI/data/working/dna_matrix_1b.npy', matrix)\n",
    "    return matrix"
   ]
  },
  {
   "cell_type": "code",
   "execution_count": 75,
   "metadata": {},
   "outputs": [],
   "source": [
    "#data1=dna[:10659]\n",
    "data2=dna[10659:21318]\n",
    "#data.info()"
   ]
  },
  {
   "cell_type": "code",
   "execution_count": 77,
   "metadata": {},
   "outputs": [
    {
     "name": "stdout",
     "output_type": "stream",
     "text": [
      "progress: 0.00%\n",
      "progress: 9.99%\n",
      "progress: 19.98%\n",
      "progress: 29.97%\n",
      "progress: 39.97%\n",
      "progress: 49.96%\n",
      "progress: 59.95%\n",
      "progress: 69.94%\n",
      "progress: 79.93%\n",
      "progress: 89.92%\n",
      "progress: 99.92%\n"
     ]
    }
   ],
   "source": [
    "matrix=matrix_score(data2['cleaned_companies'].tolist(), dna['cleaned_companies'].tolist(), 10659, 63954)"
   ]
  },
  {
   "cell_type": "code",
   "execution_count": 78,
   "metadata": {},
   "outputs": [],
   "source": [
    "d1=np.load('../data/working/dna_matrix_1b.npy')"
   ]
  },
  {
   "cell_type": "code",
   "execution_count": 80,
   "metadata": {},
   "outputs": [],
   "source": [
    "d=np.load('../data/working/dna_matrix_1a.npy')"
   ]
  },
  {
   "cell_type": "code",
   "execution_count": 91,
   "metadata": {},
   "outputs": [],
   "source": [
    "dna_matrix=vstack([d,d1])"
   ]
  },
  {
   "cell_type": "code",
   "execution_count": 88,
   "metadata": {},
   "outputs": [
    {
     "data": {
      "text/plain": [
       "array([[100.,  21.,  11., ...,   4.,   5.,  13.],\n",
       "       [ 21., 100.,  32., ...,  26.,  30.,  27.],\n",
       "       [ 11.,  32., 100., ...,  34.,  32.,  33.],\n",
       "       ...,\n",
       "       [ 25.,  32.,  26., ...,  21.,  32.,  38.],\n",
       "       [ 13.,  40.,  26., ...,  21.,  29.,  39.],\n",
       "       [ 11.,  24.,  29., ...,  23.,  27.,  36.]])"
      ]
     },
     "execution_count": 88,
     "metadata": {},
     "output_type": "execute_result"
    }
   ],
   "source": [
    "dna_matrix"
   ]
  },
  {
   "cell_type": "code",
   "execution_count": 89,
   "metadata": {},
   "outputs": [
    {
     "data": {
      "text/plain": [
       "array([[20., 34., 31., ..., 23., 19., 26.],\n",
       "       [22., 42., 29., ..., 27., 23., 32.],\n",
       "       [44., 33., 25., ..., 16., 14., 23.],\n",
       "       ...,\n",
       "       [25., 32., 26., ..., 21., 32., 38.],\n",
       "       [13., 40., 26., ..., 21., 29., 39.],\n",
       "       [11., 24., 29., ..., 23., 27., 36.]])"
      ]
     },
     "execution_count": 89,
     "metadata": {},
     "output_type": "execute_result"
    }
   ],
   "source": [
    "d1"
   ]
  },
  {
   "cell_type": "code",
   "execution_count": 90,
   "metadata": {},
   "outputs": [
    {
     "data": {
      "text/plain": [
       "array([[100.,  21.,  11., ...,   4.,   5.,  13.],\n",
       "       [ 21., 100.,  32., ...,  26.,  30.,  27.],\n",
       "       [ 11.,  32., 100., ...,  34.,  32.,  33.],\n",
       "       ...,\n",
       "       [ 17.,  31.,  36., ...,  27.,  21.,  28.],\n",
       "       [  0.,  19.,  11., ...,  12.,  10.,  12.],\n",
       "       [ 10.,  39.,  31., ...,  25.,  33.,  34.]])"
      ]
     },
     "execution_count": 90,
     "metadata": {},
     "output_type": "execute_result"
    }
   ],
   "source": [
    "d"
   ]
  },
  {
   "cell_type": "code",
   "execution_count": 93,
   "metadata": {},
   "outputs": [],
   "source": [
    "save('/sfs/lustre/bahamut/scratch/sr2wm/Git/dspg20BI/data/working/dna_matrix_1.npy', dna_matrix)"
   ]
  },
  {
   "cell_type": "code",
   "execution_count": 3,
   "metadata": {},
   "outputs": [],
   "source": [
    "data_matrix=np.load('../data/working/dna_matrix_1.npy')"
   ]
  },
  {
   "cell_type": "code",
   "execution_count": 4,
   "metadata": {},
   "outputs": [
    {
     "data": {
      "text/plain": [
       "array([[100.,  21.,  11., ...,   4.,   5.,  13.],\n",
       "       [ 21., 100.,  32., ...,  26.,  30.,  27.],\n",
       "       [ 11.,  32., 100., ...,  34.,  32.,  33.],\n",
       "       ...,\n",
       "       [ 25.,  32.,  26., ...,  21.,  32.,  38.],\n",
       "       [ 13.,  40.,  26., ...,  21.,  29.,  39.],\n",
       "       [ 11.,  24.,  29., ...,  23.,  27.,  36.]])"
      ]
     },
     "execution_count": 4,
     "metadata": {},
     "output_type": "execute_result"
    }
   ],
   "source": [
    "data_matrix"
   ]
  },
  {
   "cell_type": "code",
   "execution_count": 10,
   "metadata": {},
   "outputs": [],
   "source": [
    "#This function takes the matrix and list of cleaned company names as arguments and returns a dataframe representing the martrix passed\n",
    "def convertMatrixToDf(matrix, ls):\n",
    "    #In order for the code to work, the matrix passed must first be converted from float to int\n",
    "    matrix = matrix.astype(int)\n",
    "    #Then the matrix needs to be converted to str\n",
    "    matrix = matrix.astype(str)\n",
    "    cleaned_matrix = [[int(item.split()[0]) for item in row] for row in matrix]\n",
    "    matrix_scores = pd.DataFrame(cleaned_matrix, columns = ls)\n",
    "    #Since there are no company name rows, this function makes them\n",
    "    matrix_scores['companies'] = ls\n",
    "   \n",
    "    #returns the matrix as a dataframe, with type int\n",
    "    return matrix_scores.astype(int)"
   ]
  },
  {
   "cell_type": "code",
   "execution_count": 11,
   "metadata": {},
   "outputs": [],
   "source": [
    "ls=data['cleaned_companies'].tolist()"
   ]
  },
  {
   "cell_type": "code",
   "execution_count": null,
   "metadata": {},
   "outputs": [],
   "source": [
    "df=convertMatrixToDf(matrix, ls)\n",
    "df.to_csv(r'/sfs/lustre/bahamut/scratch/sr2wm/Git/dspg20BI/data/working/dna_matrix_1a.csv')"
   ]
  },
  {
   "cell_type": "code",
   "execution_count": 7,
   "metadata": {},
   "outputs": [
    {
     "data": {
      "text/html": [
       "<div>\n",
       "<style scoped>\n",
       "    .dataframe tbody tr th:only-of-type {\n",
       "        vertical-align: middle;\n",
       "    }\n",
       "\n",
       "    .dataframe tbody tr th {\n",
       "        vertical-align: top;\n",
       "    }\n",
       "\n",
       "    .dataframe thead th {\n",
       "        text-align: right;\n",
       "    }\n",
       "</style>\n",
       "<table border=\"1\" class=\"dataframe\">\n",
       "  <thead>\n",
       "    <tr style=\"text-align: right;\">\n",
       "      <th></th>\n",
       "      <th>1.200000000000000000e+01</th>\n",
       "      <th>2.900000000000000000e+01</th>\n",
       "      <th>3.400000000000000000e+01</th>\n",
       "      <th>3.200000000000000000e+01</th>\n",
       "      <th>1.900000000000000000e+01</th>\n",
       "      <th>2.900000000000000000e+01.1</th>\n",
       "      <th>3.500000000000000000e+01</th>\n",
       "      <th>3.500000000000000000e+01.1</th>\n",
       "      <th>3.400000000000000000e+01.1</th>\n",
       "      <th>3.100000000000000000e+01</th>\n",
       "      <th>...</th>\n",
       "      <th>4.100000000000000000e+01.291</th>\n",
       "      <th>3.600000000000000000e+01.1365</th>\n",
       "      <th>1.700000000000000000e+01.1494</th>\n",
       "      <th>3.000000000000000000e+01.3676</th>\n",
       "      <th>2.900000000000000000e+01.4190</th>\n",
       "      <th>8.400000000000000000e+01.1</th>\n",
       "      <th>6.600000000000000000e+01.1</th>\n",
       "      <th>3.200000000000000000e+01.2414</th>\n",
       "      <th>4.200000000000000000e+01.193</th>\n",
       "      <th>3.100000000000000000e+01.3062</th>\n",
       "    </tr>\n",
       "  </thead>\n",
       "  <tbody>\n",
       "    <tr>\n",
       "      <th>0</th>\n",
       "      <td>0.0</td>\n",
       "      <td>43.0</td>\n",
       "      <td>18.0</td>\n",
       "      <td>27.0</td>\n",
       "      <td>18.0</td>\n",
       "      <td>22.0</td>\n",
       "      <td>26.0</td>\n",
       "      <td>38.0</td>\n",
       "      <td>23.0</td>\n",
       "      <td>32.0</td>\n",
       "      <td>...</td>\n",
       "      <td>36.0</td>\n",
       "      <td>34.0</td>\n",
       "      <td>25.0</td>\n",
       "      <td>31.0</td>\n",
       "      <td>43.0</td>\n",
       "      <td>26.0</td>\n",
       "      <td>27.0</td>\n",
       "      <td>22.0</td>\n",
       "      <td>26.0</td>\n",
       "      <td>26.0</td>\n",
       "    </tr>\n",
       "    <tr>\n",
       "      <th>1</th>\n",
       "      <td>0.0</td>\n",
       "      <td>28.0</td>\n",
       "      <td>18.0</td>\n",
       "      <td>39.0</td>\n",
       "      <td>17.0</td>\n",
       "      <td>22.0</td>\n",
       "      <td>19.0</td>\n",
       "      <td>19.0</td>\n",
       "      <td>31.0</td>\n",
       "      <td>27.0</td>\n",
       "      <td>...</td>\n",
       "      <td>22.0</td>\n",
       "      <td>19.0</td>\n",
       "      <td>12.0</td>\n",
       "      <td>30.0</td>\n",
       "      <td>28.0</td>\n",
       "      <td>29.0</td>\n",
       "      <td>36.0</td>\n",
       "      <td>18.0</td>\n",
       "      <td>25.0</td>\n",
       "      <td>30.0</td>\n",
       "    </tr>\n",
       "    <tr>\n",
       "      <th>2</th>\n",
       "      <td>0.0</td>\n",
       "      <td>22.0</td>\n",
       "      <td>19.0</td>\n",
       "      <td>21.0</td>\n",
       "      <td>29.0</td>\n",
       "      <td>29.0</td>\n",
       "      <td>20.0</td>\n",
       "      <td>20.0</td>\n",
       "      <td>23.0</td>\n",
       "      <td>23.0</td>\n",
       "      <td>...</td>\n",
       "      <td>23.0</td>\n",
       "      <td>25.0</td>\n",
       "      <td>40.0</td>\n",
       "      <td>24.0</td>\n",
       "      <td>22.0</td>\n",
       "      <td>22.0</td>\n",
       "      <td>23.0</td>\n",
       "      <td>22.0</td>\n",
       "      <td>22.0</td>\n",
       "      <td>32.0</td>\n",
       "    </tr>\n",
       "    <tr>\n",
       "      <th>3</th>\n",
       "      <td>17.0</td>\n",
       "      <td>41.0</td>\n",
       "      <td>29.0</td>\n",
       "      <td>39.0</td>\n",
       "      <td>30.0</td>\n",
       "      <td>34.0</td>\n",
       "      <td>38.0</td>\n",
       "      <td>45.0</td>\n",
       "      <td>36.0</td>\n",
       "      <td>40.0</td>\n",
       "      <td>...</td>\n",
       "      <td>33.0</td>\n",
       "      <td>31.0</td>\n",
       "      <td>22.0</td>\n",
       "      <td>38.0</td>\n",
       "      <td>31.0</td>\n",
       "      <td>34.0</td>\n",
       "      <td>36.0</td>\n",
       "      <td>27.0</td>\n",
       "      <td>28.0</td>\n",
       "      <td>36.0</td>\n",
       "    </tr>\n",
       "    <tr>\n",
       "      <th>4</th>\n",
       "      <td>8.0</td>\n",
       "      <td>31.0</td>\n",
       "      <td>25.0</td>\n",
       "      <td>29.0</td>\n",
       "      <td>18.0</td>\n",
       "      <td>30.0</td>\n",
       "      <td>38.0</td>\n",
       "      <td>42.0</td>\n",
       "      <td>25.0</td>\n",
       "      <td>25.0</td>\n",
       "      <td>...</td>\n",
       "      <td>36.0</td>\n",
       "      <td>31.0</td>\n",
       "      <td>30.0</td>\n",
       "      <td>27.0</td>\n",
       "      <td>31.0</td>\n",
       "      <td>38.0</td>\n",
       "      <td>33.0</td>\n",
       "      <td>33.0</td>\n",
       "      <td>38.0</td>\n",
       "      <td>36.0</td>\n",
       "    </tr>\n",
       "  </tbody>\n",
       "</table>\n",
       "<p>5 rows × 63954 columns</p>\n",
       "</div>"
      ],
      "text/plain": [
       "   1.200000000000000000e+01  2.900000000000000000e+01  \\\n",
       "0                       0.0                      43.0   \n",
       "1                       0.0                      28.0   \n",
       "2                       0.0                      22.0   \n",
       "3                      17.0                      41.0   \n",
       "4                       8.0                      31.0   \n",
       "\n",
       "   3.400000000000000000e+01  3.200000000000000000e+01  \\\n",
       "0                      18.0                      27.0   \n",
       "1                      18.0                      39.0   \n",
       "2                      19.0                      21.0   \n",
       "3                      29.0                      39.0   \n",
       "4                      25.0                      29.0   \n",
       "\n",
       "   1.900000000000000000e+01  2.900000000000000000e+01.1  \\\n",
       "0                      18.0                        22.0   \n",
       "1                      17.0                        22.0   \n",
       "2                      29.0                        29.0   \n",
       "3                      30.0                        34.0   \n",
       "4                      18.0                        30.0   \n",
       "\n",
       "   3.500000000000000000e+01  3.500000000000000000e+01.1  \\\n",
       "0                      26.0                        38.0   \n",
       "1                      19.0                        19.0   \n",
       "2                      20.0                        20.0   \n",
       "3                      38.0                        45.0   \n",
       "4                      38.0                        42.0   \n",
       "\n",
       "   3.400000000000000000e+01.1  3.100000000000000000e+01  ...  \\\n",
       "0                        23.0                      32.0  ...   \n",
       "1                        31.0                      27.0  ...   \n",
       "2                        23.0                      23.0  ...   \n",
       "3                        36.0                      40.0  ...   \n",
       "4                        25.0                      25.0  ...   \n",
       "\n",
       "   4.100000000000000000e+01.291  3.600000000000000000e+01.1365  \\\n",
       "0                          36.0                           34.0   \n",
       "1                          22.0                           19.0   \n",
       "2                          23.0                           25.0   \n",
       "3                          33.0                           31.0   \n",
       "4                          36.0                           31.0   \n",
       "\n",
       "   1.700000000000000000e+01.1494  3.000000000000000000e+01.3676  \\\n",
       "0                           25.0                           31.0   \n",
       "1                           12.0                           30.0   \n",
       "2                           40.0                           24.0   \n",
       "3                           22.0                           38.0   \n",
       "4                           30.0                           27.0   \n",
       "\n",
       "   2.900000000000000000e+01.4190  8.400000000000000000e+01.1  \\\n",
       "0                           43.0                        26.0   \n",
       "1                           28.0                        29.0   \n",
       "2                           22.0                        22.0   \n",
       "3                           31.0                        34.0   \n",
       "4                           31.0                        38.0   \n",
       "\n",
       "   6.600000000000000000e+01.1  3.200000000000000000e+01.2414  \\\n",
       "0                        27.0                           22.0   \n",
       "1                        36.0                           18.0   \n",
       "2                        23.0                           22.0   \n",
       "3                        36.0                           27.0   \n",
       "4                        33.0                           33.0   \n",
       "\n",
       "   4.200000000000000000e+01.193  3.100000000000000000e+01.3062  \n",
       "0                          26.0                           26.0  \n",
       "1                          25.0                           30.0  \n",
       "2                          22.0                           32.0  \n",
       "3                          28.0                           36.0  \n",
       "4                          38.0                           36.0  \n",
       "\n",
       "[5 rows x 63954 columns]"
      ]
     },
     "execution_count": 7,
     "metadata": {},
     "output_type": "execute_result"
    }
   ],
   "source": [
    "dna_data_1b=pd.read_csv(\"../data/working/dna_matrix_1b.csv\")\n",
    "dna_data_1b.head()"
   ]
  },
  {
   "cell_type": "code",
   "execution_count": null,
   "metadata": {},
   "outputs": [],
   "source": [
    "col_name= []\n",
    "for row in dna_data.itertuples():\n",
    "    for col in row:\n",
    "        if row[col]== 100:\n",
    "        col_name.append(col.name)"
   ]
  },
  {
   "cell_type": "code",
   "execution_count": null,
   "metadata": {},
   "outputs": [],
   "source": [
    "def matchWithFuzzyNames(list1, list2, original):\n",
    "    match = pd.DataFrame(columns = ['original company names', 'clean company name', 'company matches', 'fuzz ratio'])\n",
    "    for i in list1:\n",
    "        matches = []\n",
    "        score = []\n",
    "        score_partial = []\n",
    "        for j in list2:\n",
    "            if (fuzz.ratio(i,j)) == 100:\n",
    "                matches.append(j)\n",
    "                score.append(fuzz.ratio(i,j))\n",
    "                score_partial.append((fuzz.partial_ratio(i,j)))\n",
    "        match = match.append({ 'clean company name': i,'company matches': matches, 'fuzz ratio': score, 'fuzz partial ratio': score_partial},ignore_index=True)\n",
    "        \n",
    "    match['original company names'] = original\n",
    "        \n",
    "\n",
    "\n",
    "    return match\n"
   ]
  },
  {
   "cell_type": "code",
   "execution_count": null,
   "metadata": {},
   "outputs": [],
   "source": [
    "#matching=match.head(len(match))\n",
    "matching=match.head(500)"
   ]
  },
  {
   "cell_type": "markdown",
   "metadata": {},
   "source": [
    "##### Specify the col name for each dataset"
   ]
  },
  {
   "cell_type": "code",
   "execution_count": null,
   "metadata": {},
   "outputs": [],
   "source": [
    "matchWithFuzzyNames(fda, ndc, fda.col_name)"
   ]
  },
  {
   "cell_type": "code",
   "execution_count": null,
   "metadata": {},
   "outputs": [],
   "source": [
    "ndc_matching['clean_company_name'.value_counts()"
   ]
  },
  {
   "cell_type": "code",
   "execution_count": null,
   "metadata": {},
   "outputs": [],
   "source": []
  }
 ],
 "metadata": {
  "kernelspec": {
   "display_name": "Python 3",
   "language": "python",
   "name": "python3"
  },
  "language_info": {
   "codemirror_mode": {
    "name": "ipython",
    "version": 3
   },
   "file_extension": ".py",
   "mimetype": "text/x-python",
   "name": "python",
   "nbconvert_exporter": "python",
   "pygments_lexer": "ipython3",
   "version": "3.7.4"
  }
 },
 "nbformat": 4,
 "nbformat_minor": 4
}
