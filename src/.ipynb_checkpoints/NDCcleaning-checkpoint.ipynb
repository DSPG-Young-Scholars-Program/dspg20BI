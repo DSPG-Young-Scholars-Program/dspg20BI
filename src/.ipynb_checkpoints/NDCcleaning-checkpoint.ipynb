{
 "cells": [
  {
   "cell_type": "code",
   "execution_count": 1,
   "metadata": {},
   "outputs": [
    {
     "name": "stderr",
     "output_type": "stream",
     "text": [
      "/home/itm3f/.local/lib/python3.7/site-packages/fuzzywuzzy/fuzz.py:11: UserWarning: Using slow pure-python SequenceMatcher. Install python-Levenshtein to remove this warning\n",
      "  warnings.warn('Using slow pure-python SequenceMatcher. Install python-Levenshtein to remove this warning')\n"
     ]
    }
   ],
   "source": [
    "import numpy as np\n",
    "import pandas as pd\n",
    "import string\n",
    "import re\n",
    "from fuzzywuzzy import fuzz \n",
    "from nltk.metrics import * "
   ]
  },
  {
   "cell_type": "markdown",
   "metadata": {},
   "source": [
    "<h2>Reading in the datasets</h2>"
   ]
  },
  {
   "cell_type": "code",
   "execution_count": 2,
   "metadata": {},
   "outputs": [],
   "source": [
    "dna = pd.read_csv(\"../data/working/validcompaniesdictionary.csv\", index_col = [0])"
   ]
  },
  {
   "cell_type": "code",
   "execution_count": 3,
   "metadata": {},
   "outputs": [],
   "source": [
    "fda = pd.read_excel(\"../data/original/fda_companies.xlsx\")"
   ]
  },
  {
   "cell_type": "code",
   "execution_count": 47,
   "metadata": {},
   "outputs": [],
   "source": [
    "ndc = pd.read_excel(\"../data/original/BI DSPG Company Datasets/NDC_Company_Dataset.xls\")"
   ]
  },
  {
   "cell_type": "markdown",
   "metadata": {},
   "source": [
    "<h2>Neil's code for cleaning</h2>"
   ]
  },
  {
   "cell_type": "code",
   "execution_count": 5,
   "metadata": {},
   "outputs": [
    {
     "name": "stdout",
     "output_type": "stream",
     "text": [
      "!\"#'()*+,./:;<=>?@[\\]^`{|}~\n"
     ]
    }
   ],
   "source": [
    "removeset=string.punctuation\n",
    "removeset=removeset.replace(\"-\",\"\") #Don't remove dashes\n",
    "removeset=removeset.replace(\"&\",\"\") #Don't remove ampersand\n",
    "removeset=removeset.replace(\"_\",\"\") #Don't remove underscore\n",
    "removeset=removeset.replace(\"%\",\"\") #Don't remove percent\n",
    "removeset=removeset.replace(\"$\",\"\") #Don't remove dollar\n",
    "   \n",
    "print(removeset)"
   ]
  },
  {
   "cell_type": "code",
   "execution_count": 183,
   "metadata": {},
   "outputs": [
    {
     "name": "stdout",
     "output_type": "stream",
     "text": [
      "hello world\n",
      "hello world\n",
      "hello world\n",
      "hello world\n",
      "hello world\n",
      "hello-world\n",
      "hel&lo&world\n",
      "hel_lo wo_rld\n"
     ]
    }
   ],
   "source": [
    "# remove all single characters (This step is done first, because later there are single chars we want to retain.)\n",
    "#document = re.sub(r'\\s+[a-zA-Z]\\s+', ' ', str(X[sen]))\n",
    "string = \"hello i world\"\n",
    "string = re.sub(r'\\s+[a-zA-Z]\\s+', ' ', string)\n",
    "print(string)\n",
    "\n",
    "# remove all numbers\n",
    "#document = re.sub(r'[0-9]','', document)\n",
    "string2 = \"h3ll0\"\n",
    "string2 = re.sub(r'[0-9]','', string)\n",
    "print(string2)\n",
    "\n",
    "# Substituting multiple spaces with single space\n",
    "#document = re.sub(r'\\s+', ' ', document, flags=re.I)\n",
    "string3 = \"hello      world\"\n",
    "string3 = re.sub(r'\\s+', ' ', string3, flags=re.I)\n",
    "print(string3)\n",
    "\n",
    "#Converting to lowercase\n",
    "string4 = \"HEllo WORLD\"\n",
    "string4 = string4.lower()\n",
    "print(string4)\n",
    "\n",
    "#Removing prefixed 'b'\n",
    "#document = re.sub(r'^b\\s+', '', document)\n",
    "string5 = \"b hello world\"\n",
    "string5 = re.sub(r'^b\\s+', '', string5)\n",
    "print(string5)\n",
    "\n",
    "#Make dashes into combined words\n",
    "#document = re.sub(r'\\s-\\s+', '-', document)\n",
    "string6 = \"hello - world\"\n",
    "string6 = re.sub(r'\\s-\\s+', '-', string6)\n",
    "print(string6)\n",
    "\n",
    "#Make ampersand into combined words\n",
    "#document = re.sub(r'\\s&\\s+', '&', document)\n",
    "string7 = \"hel & lo & world\"\n",
    "string7 = re.sub(r'\\s&\\s+', '&', string7)\n",
    "print(string7)\n",
    "\n",
    "#Make underscore into combined words\n",
    "#document = re.sub(r'\\s_\\s+', '_', document)\n",
    "string8 = \"hel _ lo wo _ rld\"\n",
    "string8 = re.sub(r'\\s_\\s+', '_', string8)\n",
    "print(string8)"
   ]
  },
  {
   "cell_type": "code",
   "execution_count": 77,
   "metadata": {},
   "outputs": [
    {
     "name": "stdout",
     "output_type": "stream",
     "text": [
      "JohnsonJohnson\n"
     ]
    }
   ],
   "source": [
    "#removes all punctuation in string that is in removeset\n",
    "document = \"Johnson+;Johnson!\"\n",
    "for i in removeset:\n",
    "    document=re.sub(re.escape(i),\"\",document)\n",
    "print(document)"
   ]
  },
  {
   "cell_type": "markdown",
   "metadata": {},
   "source": [
    "<h2>Cleaning NDC</h2>"
   ]
  },
  {
   "cell_type": "code",
   "execution_count": 48,
   "metadata": {},
   "outputs": [],
   "source": [
    "ndc['originalRow'] = np.arange(0,len(ndc))"
   ]
  },
  {
   "cell_type": "markdown",
   "metadata": {},
   "source": [
    "<h4>Removing the first 25 since they are just numbers</h4>"
   ]
  },
  {
   "cell_type": "code",
   "execution_count": 49,
   "metadata": {},
   "outputs": [],
   "source": [
    "#Getting rid of the first 25 since those are just numbers\n",
    "ndc = ndc.iloc[25:]\n",
    "#renaming column\n",
    "ndc = ndc.rename(columns = {'Row Labels':'company'})"
   ]
  },
  {
   "cell_type": "code",
   "execution_count": 50,
   "metadata": {},
   "outputs": [],
   "source": [
    "ndc['row'] = np.arange(0,len(ndc))\n",
    "ndc.set_index('row', inplace = True)"
   ]
  },
  {
   "cell_type": "code",
   "execution_count": 51,
   "metadata": {},
   "outputs": [
    {
     "data": {
      "text/html": [
       "<div>\n",
       "<style scoped>\n",
       "    .dataframe tbody tr th:only-of-type {\n",
       "        vertical-align: middle;\n",
       "    }\n",
       "\n",
       "    .dataframe tbody tr th {\n",
       "        vertical-align: top;\n",
       "    }\n",
       "\n",
       "    .dataframe thead th {\n",
       "        text-align: right;\n",
       "    }\n",
       "</style>\n",
       "<table border=\"1\" class=\"dataframe\">\n",
       "  <thead>\n",
       "    <tr style=\"text-align: right;\">\n",
       "      <th></th>\n",
       "      <th>company</th>\n",
       "      <th>originalRow</th>\n",
       "    </tr>\n",
       "    <tr>\n",
       "      <th>row</th>\n",
       "      <th></th>\n",
       "      <th></th>\n",
       "    </tr>\n",
       "  </thead>\n",
       "  <tbody>\n",
       "    <tr>\n",
       "      <th>0</th>\n",
       "      <td>SPIRONOLACTONE 2%</td>\n",
       "      <td>25</td>\n",
       "    </tr>\n",
       "    <tr>\n",
       "      <th>1</th>\n",
       "      <td>-L'Oreal USA Products Inc</td>\n",
       "      <td>26</td>\n",
       "    </tr>\n",
       "    <tr>\n",
       "      <th>2</th>\n",
       "      <td>.Cardinal Health</td>\n",
       "      <td>27</td>\n",
       "    </tr>\n",
       "    <tr>\n",
       "      <th>3</th>\n",
       "      <td>.Church &amp; Dwight Canada Corp</td>\n",
       "      <td>28</td>\n",
       "    </tr>\n",
       "    <tr>\n",
       "      <th>4</th>\n",
       "      <td>{Preferred Pharmaeutials INC.</td>\n",
       "      <td>29</td>\n",
       "    </tr>\n",
       "  </tbody>\n",
       "</table>\n",
       "</div>"
      ],
      "text/plain": [
       "                           company  originalRow\n",
       "row                                            \n",
       "0               SPIRONOLACTONE 2%            25\n",
       "1        -L'Oreal USA Products Inc           26\n",
       "2                 .Cardinal Health           27\n",
       "3     .Church & Dwight Canada Corp           28\n",
       "4    {Preferred Pharmaeutials INC.           29"
      ]
     },
     "execution_count": 51,
     "metadata": {},
     "output_type": "execute_result"
    }
   ],
   "source": [
    "ndc.head()"
   ]
  },
  {
   "cell_type": "markdown",
   "metadata": {},
   "source": [
    "<h4>Lowercase everything</h4>"
   ]
  },
  {
   "cell_type": "code",
   "execution_count": 52,
   "metadata": {},
   "outputs": [],
   "source": [
    "#Converting to lower first\n",
    "ndc.company = ndc.company.str.lower()"
   ]
  },
  {
   "cell_type": "markdown",
   "metadata": {},
   "source": [
    "<h4>Remove content that are in parentheses</h4>"
   ]
  },
  {
   "cell_type": "code",
   "execution_count": 53,
   "metadata": {},
   "outputs": [],
   "source": [
    "#Function for removing parentheses content\n",
    "def removeParenthesesContent(string):\n",
    "    return re.sub(r'\\([^)]*\\)', '', string)\n"
   ]
  },
  {
   "cell_type": "code",
   "execution_count": 54,
   "metadata": {},
   "outputs": [],
   "source": [
    "ndc['companiesWithoutParensContent'] = ndc['company'].apply(removeParenthesesContent)"
   ]
  },
  {
   "cell_type": "code",
   "execution_count": 55,
   "metadata": {},
   "outputs": [],
   "source": [
    "del ndc['company']"
   ]
  },
  {
   "cell_type": "markdown",
   "metadata": {},
   "source": [
    "<h4>Remove Unwanted Punctuation</h4>"
   ]
  },
  {
   "cell_type": "code",
   "execution_count": 56,
   "metadata": {},
   "outputs": [],
   "source": [
    "#function that gets rid of unwanted punctuation\n",
    "#This does get rid of ' within a string (ex. l'oreal becomes l oreal) so maybe recheck?\n",
    "def removeUnwantedPunc(string):\n",
    "    return re.sub('[!\"#\\'()*+,./:;%<=>?@[\\]^`{|}~]', '', string)"
   ]
  },
  {
   "cell_type": "code",
   "execution_count": 57,
   "metadata": {},
   "outputs": [],
   "source": [
    "ndc['companiesWithoutUnwantedPunc'] = ndc['companiesWithoutParensContent'].apply(removeUnwantedPunc)"
   ]
  },
  {
   "cell_type": "code",
   "execution_count": 58,
   "metadata": {},
   "outputs": [],
   "source": [
    "del ndc['companiesWithoutParensContent']"
   ]
  },
  {
   "cell_type": "code",
   "execution_count": 59,
   "metadata": {},
   "outputs": [],
   "source": [
    "ndc.rename(columns = {\"companiesWithoutUnwantedPunc\": \"company\"}, inplace = True)"
   ]
  },
  {
   "cell_type": "code",
   "execution_count": 60,
   "metadata": {},
   "outputs": [
    {
     "data": {
      "text/html": [
       "<div>\n",
       "<style scoped>\n",
       "    .dataframe tbody tr th:only-of-type {\n",
       "        vertical-align: middle;\n",
       "    }\n",
       "\n",
       "    .dataframe tbody tr th {\n",
       "        vertical-align: top;\n",
       "    }\n",
       "\n",
       "    .dataframe thead th {\n",
       "        text-align: right;\n",
       "    }\n",
       "</style>\n",
       "<table border=\"1\" class=\"dataframe\">\n",
       "  <thead>\n",
       "    <tr style=\"text-align: right;\">\n",
       "      <th></th>\n",
       "      <th>originalRow</th>\n",
       "      <th>company</th>\n",
       "    </tr>\n",
       "    <tr>\n",
       "      <th>row</th>\n",
       "      <th></th>\n",
       "      <th></th>\n",
       "    </tr>\n",
       "  </thead>\n",
       "  <tbody>\n",
       "    <tr>\n",
       "      <th>0</th>\n",
       "      <td>25</td>\n",
       "      <td>spironolactone 2</td>\n",
       "    </tr>\n",
       "    <tr>\n",
       "      <th>1</th>\n",
       "      <td>26</td>\n",
       "      <td>-loreal usa products inc</td>\n",
       "    </tr>\n",
       "    <tr>\n",
       "      <th>2</th>\n",
       "      <td>27</td>\n",
       "      <td>cardinal health</td>\n",
       "    </tr>\n",
       "    <tr>\n",
       "      <th>3</th>\n",
       "      <td>28</td>\n",
       "      <td>church &amp; dwight canada corp</td>\n",
       "    </tr>\n",
       "    <tr>\n",
       "      <th>4</th>\n",
       "      <td>29</td>\n",
       "      <td>preferred pharmaeutials inc</td>\n",
       "    </tr>\n",
       "  </tbody>\n",
       "</table>\n",
       "</div>"
      ],
      "text/plain": [
       "     originalRow                      company\n",
       "row                                          \n",
       "0             25            spironolactone 2 \n",
       "1             26     -loreal usa products inc\n",
       "2             27              cardinal health\n",
       "3             28  church & dwight canada corp\n",
       "4             29  preferred pharmaeutials inc"
      ]
     },
     "execution_count": 60,
     "metadata": {},
     "output_type": "execute_result"
    }
   ],
   "source": [
    "#At this point all the companies are lowercased, don't have parenthetical content, and don't have unwanted punctuation\n",
    "ndc.head()"
   ]
  },
  {
   "cell_type": "markdown",
   "metadata": {},
   "source": [
    "<h4>Removing numbers</h4>"
   ]
  },
  {
   "cell_type": "code",
   "execution_count": 61,
   "metadata": {},
   "outputs": [],
   "source": [
    "#Function that will remove numbers\n",
    "def removeNumbers(string):\n",
    "    return re.sub(r'[0-9+]','', string)"
   ]
  },
  {
   "cell_type": "code",
   "execution_count": 62,
   "metadata": {},
   "outputs": [],
   "source": [
    "ndc['companiesWithNoNumbers'] = ndc.company.apply(removeNumbers)"
   ]
  },
  {
   "cell_type": "code",
   "execution_count": 63,
   "metadata": {},
   "outputs": [],
   "source": [
    "del ndc['company']"
   ]
  },
  {
   "cell_type": "code",
   "execution_count": 64,
   "metadata": {},
   "outputs": [],
   "source": [
    "ndc = ndc.rename(columns = {\"companiesWithNoNumbers\": 'company'})"
   ]
  },
  {
   "cell_type": "code",
   "execution_count": 65,
   "metadata": {},
   "outputs": [
    {
     "data": {
      "text/html": [
       "<div>\n",
       "<style scoped>\n",
       "    .dataframe tbody tr th:only-of-type {\n",
       "        vertical-align: middle;\n",
       "    }\n",
       "\n",
       "    .dataframe tbody tr th {\n",
       "        vertical-align: top;\n",
       "    }\n",
       "\n",
       "    .dataframe thead th {\n",
       "        text-align: right;\n",
       "    }\n",
       "</style>\n",
       "<table border=\"1\" class=\"dataframe\">\n",
       "  <thead>\n",
       "    <tr style=\"text-align: right;\">\n",
       "      <th></th>\n",
       "      <th>originalRow</th>\n",
       "      <th>company</th>\n",
       "    </tr>\n",
       "    <tr>\n",
       "      <th>row</th>\n",
       "      <th></th>\n",
       "      <th></th>\n",
       "    </tr>\n",
       "  </thead>\n",
       "  <tbody>\n",
       "    <tr>\n",
       "      <th>0</th>\n",
       "      <td>25</td>\n",
       "      <td>spironolactone</td>\n",
       "    </tr>\n",
       "    <tr>\n",
       "      <th>1</th>\n",
       "      <td>26</td>\n",
       "      <td>-loreal usa products inc</td>\n",
       "    </tr>\n",
       "    <tr>\n",
       "      <th>2</th>\n",
       "      <td>27</td>\n",
       "      <td>cardinal health</td>\n",
       "    </tr>\n",
       "    <tr>\n",
       "      <th>3</th>\n",
       "      <td>28</td>\n",
       "      <td>church &amp; dwight canada corp</td>\n",
       "    </tr>\n",
       "    <tr>\n",
       "      <th>4</th>\n",
       "      <td>29</td>\n",
       "      <td>preferred pharmaeutials inc</td>\n",
       "    </tr>\n",
       "  </tbody>\n",
       "</table>\n",
       "</div>"
      ],
      "text/plain": [
       "     originalRow                      company\n",
       "row                                          \n",
       "0             25             spironolactone  \n",
       "1             26     -loreal usa products inc\n",
       "2             27              cardinal health\n",
       "3             28  church & dwight canada corp\n",
       "4             29  preferred pharmaeutials inc"
      ]
     },
     "execution_count": 65,
     "metadata": {},
     "output_type": "execute_result"
    }
   ],
   "source": [
    "ndc.head()"
   ]
  },
  {
   "cell_type": "markdown",
   "metadata": {},
   "source": [
    "<h4>Removing Single Chars</h4>"
   ]
  },
  {
   "cell_type": "code",
   "execution_count": 66,
   "metadata": {},
   "outputs": [],
   "source": [
    "def removeSingleChar(string):\n",
    "    return re.sub(r'\\s+[a-zA-Z]\\s+', ' ', string)"
   ]
  },
  {
   "cell_type": "code",
   "execution_count": 67,
   "metadata": {},
   "outputs": [],
   "source": [
    "ndc['companiesWithNoSingleChar'] = ndc.company.apply(removeSingleChar)"
   ]
  },
  {
   "cell_type": "code",
   "execution_count": 68,
   "metadata": {},
   "outputs": [],
   "source": [
    "del ndc['company']\n",
    "ndc = ndc.rename(columns={\"companiesWithNoSingleChar\": 'company'})"
   ]
  },
  {
   "cell_type": "markdown",
   "metadata": {},
   "source": [
    "<h4>Substituting Multiple Spaces with Single Space</h4>"
   ]
  },
  {
   "cell_type": "code",
   "execution_count": 69,
   "metadata": {},
   "outputs": [],
   "source": [
    "def subMultipleSpacesForOne(string):\n",
    "    return re.sub(r'\\s+', ' ', string, flags=re.I)"
   ]
  },
  {
   "cell_type": "code",
   "execution_count": 70,
   "metadata": {},
   "outputs": [],
   "source": [
    "ndc['noMultipleSpaces'] = ndc.company.apply(subMultipleSpacesForOne)"
   ]
  },
  {
   "cell_type": "code",
   "execution_count": 71,
   "metadata": {},
   "outputs": [],
   "source": [
    "del ndc['company']\n",
    "ndc = ndc.rename(columns = {\"noMultipleSpaces\": 'company'})"
   ]
  },
  {
   "cell_type": "markdown",
   "metadata": {},
   "source": [
    "<h4>Removing Prefix b</h4>"
   ]
  },
  {
   "cell_type": "code",
   "execution_count": 72,
   "metadata": {},
   "outputs": [],
   "source": [
    "def removePrefix(string):\n",
    "    return re.sub(r'^b\\s+', '', string)"
   ]
  },
  {
   "cell_type": "code",
   "execution_count": 73,
   "metadata": {},
   "outputs": [],
   "source": [
    "ndc['removedPrefix'] = ndc.company.apply(removePrefix)"
   ]
  },
  {
   "cell_type": "code",
   "execution_count": 74,
   "metadata": {},
   "outputs": [
    {
     "data": {
      "text/plain": [
       "Index(['originalRow', 'company', 'removedPrefix'], dtype='object')"
      ]
     },
     "execution_count": 74,
     "metadata": {},
     "output_type": "execute_result"
    }
   ],
   "source": [
    "ndc.columns"
   ]
  },
  {
   "cell_type": "code",
   "execution_count": 75,
   "metadata": {},
   "outputs": [],
   "source": [
    "del ndc['company']\n",
    "ndc = ndc.rename(columns = {\"removedPrefix\":\"company\"})"
   ]
  },
  {
   "cell_type": "markdown",
   "metadata": {},
   "source": [
    "<h4>Make dashes into combined words</h4>"
   ]
  },
  {
   "cell_type": "code",
   "execution_count": 76,
   "metadata": {},
   "outputs": [],
   "source": [
    "#start here\n",
    "def makeDashCombined(string):\n",
    "    return re.sub(r'\\s-\\s+', '-', string)"
   ]
  },
  {
   "cell_type": "code",
   "execution_count": 77,
   "metadata": {},
   "outputs": [],
   "source": [
    "ndc['combinedDash'] = ndc.company.apply(makeDashCombined)\n"
   ]
  },
  {
   "cell_type": "code",
   "execution_count": 78,
   "metadata": {},
   "outputs": [],
   "source": [
    "del ndc['company']\n",
    "ndc = ndc.rename(columns = {\"combinedDash\": 'company'})"
   ]
  },
  {
   "cell_type": "markdown",
   "metadata": {},
   "source": [
    "<h4>Combine Ampersand</h4>"
   ]
  },
  {
   "cell_type": "code",
   "execution_count": 79,
   "metadata": {},
   "outputs": [],
   "source": [
    "def combineAmpersand(string):\n",
    "    return re.sub(r'\\s&\\s+', '&', string)"
   ]
  },
  {
   "cell_type": "code",
   "execution_count": 80,
   "metadata": {},
   "outputs": [],
   "source": [
    "ndc['combineAmp'] = ndc.company.apply(combineAmpersand)"
   ]
  },
  {
   "cell_type": "code",
   "execution_count": 81,
   "metadata": {},
   "outputs": [
    {
     "data": {
      "text/plain": [
       "Index(['originalRow', 'company', 'combineAmp'], dtype='object')"
      ]
     },
     "execution_count": 81,
     "metadata": {},
     "output_type": "execute_result"
    }
   ],
   "source": [
    "ndc.columns"
   ]
  },
  {
   "cell_type": "code",
   "execution_count": 82,
   "metadata": {},
   "outputs": [],
   "source": [
    "del ndc['company']\n",
    "ndc = ndc.rename(columns = {\"combineAmp\": 'company'})"
   ]
  },
  {
   "cell_type": "code",
   "execution_count": 83,
   "metadata": {},
   "outputs": [
    {
     "data": {
      "text/plain": [
       "Index(['originalRow', 'company'], dtype='object')"
      ]
     },
     "execution_count": 83,
     "metadata": {},
     "output_type": "execute_result"
    }
   ],
   "source": [
    "ndc.columns"
   ]
  },
  {
   "cell_type": "markdown",
   "metadata": {},
   "source": [
    "<h4>Combine '_'</h4>"
   ]
  },
  {
   "cell_type": "code",
   "execution_count": 84,
   "metadata": {},
   "outputs": [],
   "source": [
    "def combinedUnderScore(string):\n",
    "    return re.sub(r'\\s_\\s+', '_', string)"
   ]
  },
  {
   "cell_type": "code",
   "execution_count": 85,
   "metadata": {},
   "outputs": [
    {
     "data": {
      "text/plain": [
       "Index(['originalRow', 'company'], dtype='object')"
      ]
     },
     "execution_count": 85,
     "metadata": {},
     "output_type": "execute_result"
    }
   ],
   "source": [
    "ndc.columns"
   ]
  },
  {
   "cell_type": "code",
   "execution_count": 86,
   "metadata": {},
   "outputs": [],
   "source": [
    "ndc['combinedUnder'] = ndc.company.apply(combinedUnderScore)"
   ]
  },
  {
   "cell_type": "code",
   "execution_count": 87,
   "metadata": {},
   "outputs": [],
   "source": [
    "del ndc['company']\n",
    "ndc = ndc.rename(columns = {\"combinedUnder\": 'company'})"
   ]
  },
  {
   "cell_type": "code",
   "execution_count": 88,
   "metadata": {},
   "outputs": [
    {
     "data": {
      "text/html": [
       "<div>\n",
       "<style scoped>\n",
       "    .dataframe tbody tr th:only-of-type {\n",
       "        vertical-align: middle;\n",
       "    }\n",
       "\n",
       "    .dataframe tbody tr th {\n",
       "        vertical-align: top;\n",
       "    }\n",
       "\n",
       "    .dataframe thead th {\n",
       "        text-align: right;\n",
       "    }\n",
       "</style>\n",
       "<table border=\"1\" class=\"dataframe\">\n",
       "  <thead>\n",
       "    <tr style=\"text-align: right;\">\n",
       "      <th></th>\n",
       "      <th>originalRow</th>\n",
       "      <th>company</th>\n",
       "    </tr>\n",
       "    <tr>\n",
       "      <th>row</th>\n",
       "      <th></th>\n",
       "      <th></th>\n",
       "    </tr>\n",
       "  </thead>\n",
       "  <tbody>\n",
       "    <tr>\n",
       "      <th>0</th>\n",
       "      <td>25</td>\n",
       "      <td>spironolactone</td>\n",
       "    </tr>\n",
       "    <tr>\n",
       "      <th>1</th>\n",
       "      <td>26</td>\n",
       "      <td>-loreal usa products inc</td>\n",
       "    </tr>\n",
       "    <tr>\n",
       "      <th>2</th>\n",
       "      <td>27</td>\n",
       "      <td>cardinal health</td>\n",
       "    </tr>\n",
       "    <tr>\n",
       "      <th>3</th>\n",
       "      <td>28</td>\n",
       "      <td>church&amp;dwight canada corp</td>\n",
       "    </tr>\n",
       "    <tr>\n",
       "      <th>4</th>\n",
       "      <td>29</td>\n",
       "      <td>preferred pharmaeutials inc</td>\n",
       "    </tr>\n",
       "  </tbody>\n",
       "</table>\n",
       "</div>"
      ],
      "text/plain": [
       "     originalRow                      company\n",
       "row                                          \n",
       "0             25              spironolactone \n",
       "1             26     -loreal usa products inc\n",
       "2             27              cardinal health\n",
       "3             28    church&dwight canada corp\n",
       "4             29  preferred pharmaeutials inc"
      ]
     },
     "execution_count": 88,
     "metadata": {},
     "output_type": "execute_result"
    }
   ],
   "source": [
    "ndc.head()"
   ]
  },
  {
   "cell_type": "markdown",
   "metadata": {},
   "source": [
    "<h2>End Initial Cleaning</h2>"
   ]
  },
  {
   "cell_type": "markdown",
   "metadata": {},
   "source": [
    "<h4>Grabbing the list of legal entities from os github</h4>"
   ]
  },
  {
   "cell_type": "code",
   "execution_count": 89,
   "metadata": {},
   "outputs": [
    {
     "data": {
      "text/html": [
       "<div>\n",
       "<style scoped>\n",
       "    .dataframe tbody tr th:only-of-type {\n",
       "        vertical-align: middle;\n",
       "    }\n",
       "\n",
       "    .dataframe tbody tr th {\n",
       "        vertical-align: top;\n",
       "    }\n",
       "\n",
       "    .dataframe thead th {\n",
       "        text-align: right;\n",
       "    }\n",
       "</style>\n",
       "<table border=\"1\" class=\"dataframe\">\n",
       "  <thead>\n",
       "    <tr style=\"text-align: right;\">\n",
       "      <th></th>\n",
       "      <th>0</th>\n",
       "    </tr>\n",
       "  </thead>\n",
       "  <tbody>\n",
       "    <tr>\n",
       "      <th>0</th>\n",
       "      <td>(?i) Inc\\b</td>\n",
       "    </tr>\n",
       "    <tr>\n",
       "      <th>1</th>\n",
       "      <td>(?i) Ltd\\b</td>\n",
       "    </tr>\n",
       "    <tr>\n",
       "      <th>2</th>\n",
       "      <td>(?i) LLC\\b</td>\n",
       "    </tr>\n",
       "    <tr>\n",
       "      <th>3</th>\n",
       "      <td>(?i) GmbH\\b</td>\n",
       "    </tr>\n",
       "    <tr>\n",
       "      <th>4</th>\n",
       "      <td>(?i) Corporation\\b</td>\n",
       "    </tr>\n",
       "  </tbody>\n",
       "</table>\n",
       "</div>"
      ],
      "text/plain": [
       "                    0\n",
       "0          (?i) Inc\\b\n",
       "1          (?i) Ltd\\b\n",
       "2          (?i) LLC\\b\n",
       "3         (?i) GmbH\\b\n",
       "4  (?i) Corporation\\b"
      ]
     },
     "execution_count": 89,
     "metadata": {},
     "output_type": "execute_result"
    }
   ],
   "source": [
    "legalEntities = pd.read_csv(\"https://raw.githubusercontent.com/DSPG-Young-Scholars-Program/dspg20oss/danBranch/ossPy/keyFiles/curatedLegalEntitesRaw.csv\", quotechar = \"'\",header = None)\n",
    "legalEntities.head()"
   ]
  },
  {
   "cell_type": "markdown",
   "metadata": {},
   "source": [
    "<h4>Using Daniel's code to get remove legal entities</h4>"
   ]
  },
  {
   "cell_type": "code",
   "execution_count": 90,
   "metadata": {},
   "outputs": [],
   "source": [
    "def eraseFromColumn(inputColumn, eraseList):\n",
    "    \"iteratively delete regex query matches from input list\"\n",
    "    \n",
    "    \"\"\"\n",
    "    inputColumn -- a column from a pandas dataframe, this will be the set of\n",
    "    target words/entries that deletions will be made from\n",
    "    eraseList -- a column containing strings (regex expressions) which will be\n",
    "    deleted from the inputColumn, in an iterative fashion\n",
    "    \"\"\"\n",
    "    eraseList['changeNum'] = 0\n",
    "    eraseList['changeIndexes'] = ''\n",
    "    \n",
    "    inputColumn = inputColumn.replace(regex=True, to_replace = \"\\\\\\\\\", value='/')\n",
    "    \n",
    "    for index, row in eraseList.iterrows():\n",
    "        curReplaceVal = row[0]\n",
    "        currentRegexExpression=re.compile(curReplaceVal)\n",
    "        CurrentBoolVec=inputColumn.str.contains(currentRegexExpression, na= False)\n",
    "        eraseList['changeIndexes'].iloc[index]=[i for i, x in enumerate(CurrentBoolVec) if x]\n",
    "        eraseList['changeNum'].iloc[index] = len(eraseList['changeIndexes'].iloc[index])\n",
    "        inputColumn.replace(regex=True, to_replace=currentRegexExpression,value='', inplace = True)\n",
    "    \n",
    "    return inputColumn, eraseList"
   ]
  },
  {
   "cell_type": "code",
   "execution_count": 91,
   "metadata": {},
   "outputs": [
    {
     "name": "stderr",
     "output_type": "stream",
     "text": [
      "/home/itm3f/.local/lib/python3.7/site-packages/pandas/core/indexing.py:205: SettingWithCopyWarning: \n",
      "A value is trying to be set on a copy of a slice from a DataFrame\n",
      "\n",
      "See the caveats in the documentation: http://pandas.pydata.org/pandas-docs/stable/user_guide/indexing.html#returning-a-view-versus-a-copy\n",
      "  self._setitem_with_indexer(indexer, value)\n"
     ]
    }
   ],
   "source": [
    "output, eraseList = eraseFromColumn(ndc.company, legalEntities)"
   ]
  },
  {
   "cell_type": "code",
   "execution_count": 92,
   "metadata": {},
   "outputs": [],
   "source": [
    "#This dataframe is lowercased, doesn't have any of the unwanted punctuation, and has removed all legal entity labels\n",
    "output= pd.DataFrame(output)"
   ]
  },
  {
   "cell_type": "markdown",
   "metadata": {},
   "source": [
    "<h4>Counting Unique String Tokens using Daniel's code, then adding more to the list from Isabel and Susweta's lists</h4>"
   ]
  },
  {
   "cell_type": "code",
   "execution_count": 93,
   "metadata": {},
   "outputs": [],
   "source": [
    "ndc_cleaned = output"
   ]
  },
  {
   "cell_type": "code",
   "execution_count": 94,
   "metadata": {},
   "outputs": [],
   "source": [
    "longString = ndc_cleaned['company'].str.cat(sep = \" \")"
   ]
  },
  {
   "cell_type": "code",
   "execution_count": 95,
   "metadata": {},
   "outputs": [],
   "source": [
    "longStringSeperated = longString.split(' ')"
   ]
  },
  {
   "cell_type": "code",
   "execution_count": 96,
   "metadata": {},
   "outputs": [],
   "source": [
    "uniqueSubTokenFrame = pd.DataFrame(longStringSeperated)"
   ]
  },
  {
   "cell_type": "code",
   "execution_count": 97,
   "metadata": {},
   "outputs": [],
   "source": [
    "columnUniqueCounts = uniqueSubTokenFrame.iloc[:,0].value_counts()"
   ]
  },
  {
   "cell_type": "code",
   "execution_count": 98,
   "metadata": {},
   "outputs": [],
   "source": [
    "tableUniqueCounts = columnUniqueCounts.reset_index()"
   ]
  },
  {
   "cell_type": "code",
   "execution_count": 99,
   "metadata": {},
   "outputs": [],
   "source": [
    "tableUniqueCounts.rename(columns = {0: \"count\", \"index\":\"token\"}, inplace = True)"
   ]
  },
  {
   "cell_type": "code",
   "execution_count": 100,
   "metadata": {},
   "outputs": [],
   "source": [
    "top20 = tableUniqueCounts.head(20).token.tolist()"
   ]
  },
  {
   "cell_type": "code",
   "execution_count": 101,
   "metadata": {},
   "outputs": [
    {
     "data": {
      "text/plain": [
       "['pharmaceuticals',\n",
       " 'medical',\n",
       " 'products',\n",
       " 'laboratories',\n",
       " 'pharma',\n",
       " 'anda',\n",
       " 'supply',\n",
       " 'health',\n",
       " 'pharmaceutical',\n",
       " 'usa',\n",
       " 'international',\n",
       " 'care',\n",
       " 'and',\n",
       " 'nda',\n",
       " 'coltd',\n",
       " 'the',\n",
       " 'home',\n",
       " 'healthcare',\n",
       " '',\n",
       " 'of']"
      ]
     },
     "execution_count": 101,
     "metadata": {},
     "output_type": "execute_result"
    }
   ],
   "source": [
    "#top 20 tokens in ndc\n",
    "top20"
   ]
  },
  {
   "cell_type": "code",
   "execution_count": 102,
   "metadata": {},
   "outputs": [],
   "source": [
    "#top occuring tokens from fda and dna\n",
    "top20.append(\"group\")\n",
    "top20.append(\"holdings\")\n",
    "top20.append(\"capital\")\n",
    "top20.append(\"technologies\")\n",
    "top20.append(\"association\")\n",
    "top20.append('us')\n",
    "top20.append('services')\n",
    "top20.append(\"university\")\n",
    "top20.append(\"bank\")\n",
    "top20.append(\"partners\")\n",
    "top20.append(\"energy\")\n",
    "top20.append(\"systems\")\n",
    "top20.append(\"intl\")\n",
    "top20.append(\"pharms\")\n",
    "top20.append(\"american\")\n",
    "top20.append(\"national\")\n",
    "top20.append(\"biosciences\")"
   ]
  },
  {
   "cell_type": "code",
   "execution_count": 103,
   "metadata": {},
   "outputs": [
    {
     "data": {
      "text/plain": [
       "['pharmaceuticals',\n",
       " 'medical',\n",
       " 'products',\n",
       " 'laboratories',\n",
       " 'pharma',\n",
       " 'anda',\n",
       " 'supply',\n",
       " 'health',\n",
       " 'pharmaceutical',\n",
       " 'usa',\n",
       " 'international',\n",
       " 'care',\n",
       " 'and',\n",
       " 'nda',\n",
       " 'coltd',\n",
       " 'the',\n",
       " 'home',\n",
       " 'healthcare',\n",
       " '',\n",
       " 'of',\n",
       " 'group',\n",
       " 'holdings',\n",
       " 'capital',\n",
       " 'technologies',\n",
       " 'association',\n",
       " 'us',\n",
       " 'services',\n",
       " 'university',\n",
       " 'bank',\n",
       " 'partners',\n",
       " 'energy',\n",
       " 'systems',\n",
       " 'intl',\n",
       " 'pharms',\n",
       " 'american',\n",
       " 'national',\n",
       " 'biosciences']"
      ]
     },
     "execution_count": 103,
     "metadata": {},
     "output_type": "execute_result"
    }
   ],
   "source": [
    "#Top 20 occuring tokens in ndc plus some top occuring tokens in dna and fda\n",
    "top20"
   ]
  },
  {
   "cell_type": "markdown",
   "metadata": {},
   "source": [
    "<h4>Getting rid of top occuring tokens</h4>"
   ]
  },
  {
   "cell_type": "code",
   "execution_count": 104,
   "metadata": {},
   "outputs": [],
   "source": [
    "ndc_cleaned = ndc_cleaned['company'].apply(lambda x: ' '.join([word for word in x.split() if word not in (top20)])) #Isabel's code"
   ]
  },
  {
   "cell_type": "code",
   "execution_count": 105,
   "metadata": {},
   "outputs": [
    {
     "data": {
      "text/html": [
       "<div>\n",
       "<style scoped>\n",
       "    .dataframe tbody tr th:only-of-type {\n",
       "        vertical-align: middle;\n",
       "    }\n",
       "\n",
       "    .dataframe tbody tr th {\n",
       "        vertical-align: top;\n",
       "    }\n",
       "\n",
       "    .dataframe thead th {\n",
       "        text-align: right;\n",
       "    }\n",
       "</style>\n",
       "<table border=\"1\" class=\"dataframe\">\n",
       "  <thead>\n",
       "    <tr style=\"text-align: right;\">\n",
       "      <th></th>\n",
       "      <th>company</th>\n",
       "    </tr>\n",
       "    <tr>\n",
       "      <th>row</th>\n",
       "      <th></th>\n",
       "    </tr>\n",
       "  </thead>\n",
       "  <tbody>\n",
       "    <tr>\n",
       "      <th>0</th>\n",
       "      <td>spironolactone</td>\n",
       "    </tr>\n",
       "    <tr>\n",
       "      <th>1</th>\n",
       "      <td>-loreal</td>\n",
       "    </tr>\n",
       "    <tr>\n",
       "      <th>2</th>\n",
       "      <td>cardinal</td>\n",
       "    </tr>\n",
       "    <tr>\n",
       "      <th>3</th>\n",
       "      <td>church&amp;dwight canada</td>\n",
       "    </tr>\n",
       "    <tr>\n",
       "      <th>4</th>\n",
       "      <td>preferred pharmaeutials</td>\n",
       "    </tr>\n",
       "  </tbody>\n",
       "</table>\n",
       "</div>"
      ],
      "text/plain": [
       "                     company\n",
       "row                         \n",
       "0             spironolactone\n",
       "1                    -loreal\n",
       "2                   cardinal\n",
       "3       church&dwight canada\n",
       "4    preferred pharmaeutials"
      ]
     },
     "execution_count": 105,
     "metadata": {},
     "output_type": "execute_result"
    }
   ],
   "source": [
    "ndc_cleaned = pd.DataFrame(ndc_cleaned)\n",
    "ndc_cleaned.head()"
   ]
  },
  {
   "cell_type": "markdown",
   "metadata": {},
   "source": [
    "<h4>Adding csv to working data</h4>"
   ]
  },
  {
   "cell_type": "code",
   "execution_count": 106,
   "metadata": {},
   "outputs": [],
   "source": [
    "#match these datasets together"
   ]
  },
  {
   "cell_type": "code",
   "execution_count": 107,
   "metadata": {},
   "outputs": [],
   "source": [
    "og = pd.read_excel(\"../data/original/BI DSPG Company Datasets/NDC_Company_Dataset.xls\")"
   ]
  },
  {
   "cell_type": "code",
   "execution_count": 108,
   "metadata": {},
   "outputs": [],
   "source": [
    "og['originalRow'] = np.arange(0,len(og))"
   ]
  },
  {
   "cell_type": "code",
   "execution_count": 110,
   "metadata": {},
   "outputs": [],
   "source": [
    "og = og.iloc[25:]"
   ]
  },
  {
   "cell_type": "code",
   "execution_count": 111,
   "metadata": {},
   "outputs": [],
   "source": [
    "og['row'] = np.arange(0, len(og))\n",
    "og.set_index('row', inplace = True)"
   ]
  },
  {
   "cell_type": "code",
   "execution_count": 112,
   "metadata": {},
   "outputs": [],
   "source": [
    "og['cleaned_name'] = ndc_cleaned.company.tolist()"
   ]
  },
  {
   "cell_type": "code",
   "execution_count": 114,
   "metadata": {},
   "outputs": [
    {
     "data": {
      "text/html": [
       "<div>\n",
       "<style scoped>\n",
       "    .dataframe tbody tr th:only-of-type {\n",
       "        vertical-align: middle;\n",
       "    }\n",
       "\n",
       "    .dataframe tbody tr th {\n",
       "        vertical-align: top;\n",
       "    }\n",
       "\n",
       "    .dataframe thead th {\n",
       "        text-align: right;\n",
       "    }\n",
       "</style>\n",
       "<table border=\"1\" class=\"dataframe\">\n",
       "  <thead>\n",
       "    <tr style=\"text-align: right;\">\n",
       "      <th></th>\n",
       "      <th>Row Labels</th>\n",
       "      <th>originalRow</th>\n",
       "      <th>cleaned_name</th>\n",
       "    </tr>\n",
       "    <tr>\n",
       "      <th>row</th>\n",
       "      <th></th>\n",
       "      <th></th>\n",
       "      <th></th>\n",
       "    </tr>\n",
       "  </thead>\n",
       "  <tbody>\n",
       "    <tr>\n",
       "      <th>7006</th>\n",
       "      <td>Zinka, Inc.</td>\n",
       "      <td>7031</td>\n",
       "      <td>zinka</td>\n",
       "    </tr>\n",
       "    <tr>\n",
       "      <th>7007</th>\n",
       "      <td>ZION HEALTH</td>\n",
       "      <td>7032</td>\n",
       "      <td>zion</td>\n",
       "    </tr>\n",
       "    <tr>\n",
       "      <th>7008</th>\n",
       "      <td>Zivon Cosmetic Co., Ltd.</td>\n",
       "      <td>7033</td>\n",
       "      <td>zivon cosmetic</td>\n",
       "    </tr>\n",
       "    <tr>\n",
       "      <th>7009</th>\n",
       "      <td>ZO Skin Health, Inc.</td>\n",
       "      <td>7034</td>\n",
       "      <td>zo skin</td>\n",
       "    </tr>\n",
       "    <tr>\n",
       "      <th>7010</th>\n",
       "      <td>Zoe Processing</td>\n",
       "      <td>7035</td>\n",
       "      <td>zoe processing</td>\n",
       "    </tr>\n",
       "    <tr>\n",
       "      <th>7011</th>\n",
       "      <td>Zogics, LLC</td>\n",
       "      <td>7036</td>\n",
       "      <td>zogics</td>\n",
       "    </tr>\n",
       "    <tr>\n",
       "      <th>7012</th>\n",
       "      <td>ZOOM PRODUCTS LLC</td>\n",
       "      <td>7037</td>\n",
       "      <td>zoom</td>\n",
       "    </tr>\n",
       "    <tr>\n",
       "      <th>7013</th>\n",
       "      <td>Zoono USA</td>\n",
       "      <td>7038</td>\n",
       "      <td>zoono</td>\n",
       "    </tr>\n",
       "    <tr>\n",
       "      <th>7014</th>\n",
       "      <td>ZOONO USA, LLC</td>\n",
       "      <td>7039</td>\n",
       "      <td>zoono</td>\n",
       "    </tr>\n",
       "    <tr>\n",
       "      <th>7015</th>\n",
       "      <td>ZRG DETOX, INC.</td>\n",
       "      <td>7040</td>\n",
       "      <td>zrg detox</td>\n",
       "    </tr>\n",
       "    <tr>\n",
       "      <th>7016</th>\n",
       "      <td>Zunyi Jici Bio-Health Products Co Ltd</td>\n",
       "      <td>7041</td>\n",
       "      <td>zunyi jici bio-health</td>\n",
       "    </tr>\n",
       "    <tr>\n",
       "      <th>7017</th>\n",
       "      <td>Zydus Pharmaceuticals (USA) Inc.</td>\n",
       "      <td>7042</td>\n",
       "      <td>zydus</td>\n",
       "    </tr>\n",
       "    <tr>\n",
       "      <th>7018</th>\n",
       "      <td>Zydus Pharmaceuticals USA Inc</td>\n",
       "      <td>7043</td>\n",
       "      <td>zydus</td>\n",
       "    </tr>\n",
       "    <tr>\n",
       "      <th>7019</th>\n",
       "      <td>Zydus Pharmaceuticals USA Inc.</td>\n",
       "      <td>7044</td>\n",
       "      <td>zydus</td>\n",
       "    </tr>\n",
       "    <tr>\n",
       "      <th>7020</th>\n",
       "      <td>Zydus Technologies Limited</td>\n",
       "      <td>7045</td>\n",
       "      <td>zydus</td>\n",
       "    </tr>\n",
       "    <tr>\n",
       "      <th>7021</th>\n",
       "      <td>ZYGONE</td>\n",
       "      <td>7046</td>\n",
       "      <td>zygone</td>\n",
       "    </tr>\n",
       "    <tr>\n",
       "      <th>7022</th>\n",
       "      <td>Zyla Life Sciences US Inc.</td>\n",
       "      <td>7047</td>\n",
       "      <td>zyla life sciences</td>\n",
       "    </tr>\n",
       "    <tr>\n",
       "      <th>7023</th>\n",
       "      <td>#NAME?</td>\n",
       "      <td>7048</td>\n",
       "      <td>name</td>\n",
       "    </tr>\n",
       "    <tr>\n",
       "      <th>7024</th>\n",
       "      <td>(blank)</td>\n",
       "      <td>7049</td>\n",
       "      <td></td>\n",
       "    </tr>\n",
       "    <tr>\n",
       "      <th>7025</th>\n",
       "      <td>Grand Total</td>\n",
       "      <td>7050</td>\n",
       "      <td>grand total</td>\n",
       "    </tr>\n",
       "  </tbody>\n",
       "</table>\n",
       "</div>"
      ],
      "text/plain": [
       "                                 Row Labels  originalRow  \\\n",
       "row                                                        \n",
       "7006                            Zinka, Inc.         7031   \n",
       "7007                            ZION HEALTH         7032   \n",
       "7008               Zivon Cosmetic Co., Ltd.         7033   \n",
       "7009                   ZO Skin Health, Inc.         7034   \n",
       "7010                         Zoe Processing         7035   \n",
       "7011                            Zogics, LLC         7036   \n",
       "7012                      ZOOM PRODUCTS LLC         7037   \n",
       "7013                              Zoono USA         7038   \n",
       "7014                         ZOONO USA, LLC         7039   \n",
       "7015                        ZRG DETOX, INC.         7040   \n",
       "7016  Zunyi Jici Bio-Health Products Co Ltd         7041   \n",
       "7017       Zydus Pharmaceuticals (USA) Inc.         7042   \n",
       "7018          Zydus Pharmaceuticals USA Inc         7043   \n",
       "7019         Zydus Pharmaceuticals USA Inc.         7044   \n",
       "7020             Zydus Technologies Limited         7045   \n",
       "7021                                 ZYGONE         7046   \n",
       "7022             Zyla Life Sciences US Inc.         7047   \n",
       "7023                                 #NAME?         7048   \n",
       "7024                                (blank)         7049   \n",
       "7025                            Grand Total         7050   \n",
       "\n",
       "               cleaned_name  \n",
       "row                          \n",
       "7006                  zinka  \n",
       "7007                   zion  \n",
       "7008         zivon cosmetic  \n",
       "7009                zo skin  \n",
       "7010         zoe processing  \n",
       "7011                 zogics  \n",
       "7012                   zoom  \n",
       "7013                  zoono  \n",
       "7014                  zoono  \n",
       "7015              zrg detox  \n",
       "7016  zunyi jici bio-health  \n",
       "7017                  zydus  \n",
       "7018                  zydus  \n",
       "7019                  zydus  \n",
       "7020                  zydus  \n",
       "7021                 zygone  \n",
       "7022     zyla life sciences  \n",
       "7023                   name  \n",
       "7024                         \n",
       "7025            grand total  "
      ]
     },
     "execution_count": 114,
     "metadata": {},
     "output_type": "execute_result"
    }
   ],
   "source": [
    "og.tail(20)"
   ]
  },
  {
   "cell_type": "code",
   "execution_count": 115,
   "metadata": {},
   "outputs": [],
   "source": [
    "og = og.rename(columns = {\"Row Labels\": \"original_company\"})"
   ]
  },
  {
   "cell_type": "code",
   "execution_count": 116,
   "metadata": {},
   "outputs": [
    {
     "data": {
      "text/html": [
       "<div>\n",
       "<style scoped>\n",
       "    .dataframe tbody tr th:only-of-type {\n",
       "        vertical-align: middle;\n",
       "    }\n",
       "\n",
       "    .dataframe tbody tr th {\n",
       "        vertical-align: top;\n",
       "    }\n",
       "\n",
       "    .dataframe thead th {\n",
       "        text-align: right;\n",
       "    }\n",
       "</style>\n",
       "<table border=\"1\" class=\"dataframe\">\n",
       "  <thead>\n",
       "    <tr style=\"text-align: right;\">\n",
       "      <th></th>\n",
       "      <th>original_company</th>\n",
       "      <th>originalRow</th>\n",
       "      <th>cleaned_name</th>\n",
       "    </tr>\n",
       "    <tr>\n",
       "      <th>row</th>\n",
       "      <th></th>\n",
       "      <th></th>\n",
       "      <th></th>\n",
       "    </tr>\n",
       "  </thead>\n",
       "  <tbody>\n",
       "    <tr>\n",
       "      <th>7021</th>\n",
       "      <td>ZYGONE</td>\n",
       "      <td>7046</td>\n",
       "      <td>zygone</td>\n",
       "    </tr>\n",
       "    <tr>\n",
       "      <th>7022</th>\n",
       "      <td>Zyla Life Sciences US Inc.</td>\n",
       "      <td>7047</td>\n",
       "      <td>zyla life sciences</td>\n",
       "    </tr>\n",
       "    <tr>\n",
       "      <th>7023</th>\n",
       "      <td>#NAME?</td>\n",
       "      <td>7048</td>\n",
       "      <td>name</td>\n",
       "    </tr>\n",
       "    <tr>\n",
       "      <th>7024</th>\n",
       "      <td>(blank)</td>\n",
       "      <td>7049</td>\n",
       "      <td></td>\n",
       "    </tr>\n",
       "    <tr>\n",
       "      <th>7025</th>\n",
       "      <td>Grand Total</td>\n",
       "      <td>7050</td>\n",
       "      <td>grand total</td>\n",
       "    </tr>\n",
       "  </tbody>\n",
       "</table>\n",
       "</div>"
      ],
      "text/plain": [
       "                original_company  originalRow        cleaned_name\n",
       "row                                                              \n",
       "7021                      ZYGONE         7046              zygone\n",
       "7022  Zyla Life Sciences US Inc.         7047  zyla life sciences\n",
       "7023                      #NAME?         7048                name\n",
       "7024                     (blank)         7049                    \n",
       "7025                 Grand Total         7050         grand total"
      ]
     },
     "execution_count": 116,
     "metadata": {},
     "output_type": "execute_result"
    }
   ],
   "source": [
    "og.tail()"
   ]
  },
  {
   "cell_type": "code",
   "execution_count": 117,
   "metadata": {},
   "outputs": [
    {
     "data": {
      "text/plain": [
       "7026"
      ]
     },
     "execution_count": 117,
     "metadata": {},
     "output_type": "execute_result"
    }
   ],
   "source": [
    "len(og)"
   ]
  },
  {
   "cell_type": "code",
   "execution_count": 118,
   "metadata": {},
   "outputs": [],
   "source": [
    "og.drop([7023], inplace = True)"
   ]
  },
  {
   "cell_type": "code",
   "execution_count": 119,
   "metadata": {},
   "outputs": [],
   "source": [
    "og.drop([7024], inplace= True)"
   ]
  },
  {
   "cell_type": "code",
   "execution_count": 120,
   "metadata": {},
   "outputs": [],
   "source": [
    "og.drop([7025], inplace = True)"
   ]
  },
  {
   "cell_type": "code",
   "execution_count": 124,
   "metadata": {},
   "outputs": [
    {
     "data": {
      "text/html": [
       "<div>\n",
       "<style scoped>\n",
       "    .dataframe tbody tr th:only-of-type {\n",
       "        vertical-align: middle;\n",
       "    }\n",
       "\n",
       "    .dataframe tbody tr th {\n",
       "        vertical-align: top;\n",
       "    }\n",
       "\n",
       "    .dataframe thead th {\n",
       "        text-align: right;\n",
       "    }\n",
       "</style>\n",
       "<table border=\"1\" class=\"dataframe\">\n",
       "  <thead>\n",
       "    <tr style=\"text-align: right;\">\n",
       "      <th></th>\n",
       "      <th>original_company</th>\n",
       "      <th>originalRow</th>\n",
       "      <th>cleaned_name</th>\n",
       "    </tr>\n",
       "    <tr>\n",
       "      <th>row</th>\n",
       "      <th></th>\n",
       "      <th></th>\n",
       "      <th></th>\n",
       "    </tr>\n",
       "  </thead>\n",
       "  <tbody>\n",
       "    <tr>\n",
       "      <th>0</th>\n",
       "      <td>SPIRONOLACTONE 2%</td>\n",
       "      <td>25</td>\n",
       "      <td>spironolactone</td>\n",
       "    </tr>\n",
       "    <tr>\n",
       "      <th>1</th>\n",
       "      <td>-L'Oreal USA Products Inc</td>\n",
       "      <td>26</td>\n",
       "      <td>-loreal</td>\n",
       "    </tr>\n",
       "    <tr>\n",
       "      <th>2</th>\n",
       "      <td>.Cardinal Health</td>\n",
       "      <td>27</td>\n",
       "      <td>cardinal</td>\n",
       "    </tr>\n",
       "    <tr>\n",
       "      <th>3</th>\n",
       "      <td>.Church &amp; Dwight Canada Corp</td>\n",
       "      <td>28</td>\n",
       "      <td>church&amp;dwight canada</td>\n",
       "    </tr>\n",
       "    <tr>\n",
       "      <th>4</th>\n",
       "      <td>{Preferred Pharmaeutials INC.</td>\n",
       "      <td>29</td>\n",
       "      <td>preferred pharmaeutials</td>\n",
       "    </tr>\n",
       "  </tbody>\n",
       "</table>\n",
       "</div>"
      ],
      "text/plain": [
       "                  original_company  originalRow             cleaned_name\n",
       "row                                                                     \n",
       "0               SPIRONOLACTONE 2%            25           spironolactone\n",
       "1        -L'Oreal USA Products Inc           26                  -loreal\n",
       "2                 .Cardinal Health           27                 cardinal\n",
       "3     .Church & Dwight Canada Corp           28     church&dwight canada\n",
       "4    {Preferred Pharmaeutials INC.           29  preferred pharmaeutials"
      ]
     },
     "execution_count": 124,
     "metadata": {},
     "output_type": "execute_result"
    }
   ],
   "source": [
    "og.head()"
   ]
  },
  {
   "cell_type": "code",
   "execution_count": 122,
   "metadata": {},
   "outputs": [],
   "source": []
  },
  {
   "cell_type": "code",
   "execution_count": 125,
   "metadata": {},
   "outputs": [
    {
     "data": {
      "text/plain": [
       "Row Labels     SPIRONOLACTONE 2% \n",
       "Name: 25, dtype: object"
      ]
     },
     "execution_count": 125,
     "metadata": {},
     "output_type": "execute_result"
    }
   ],
   "source": []
  },
  {
   "cell_type": "code",
   "execution_count": 126,
   "metadata": {},
   "outputs": [],
   "source": [
    "og.to_csv(\"../data/working/ndc_clean.csv\")"
   ]
  },
  {
   "cell_type": "code",
   "execution_count": 127,
   "metadata": {},
   "outputs": [],
   "source": [
    "x = pd.read_csv(\"../data/working/ndc_clean.csv\", index_col = [0])"
   ]
  },
  {
   "cell_type": "code",
   "execution_count": 128,
   "metadata": {},
   "outputs": [
    {
     "data": {
      "text/html": [
       "<div>\n",
       "<style scoped>\n",
       "    .dataframe tbody tr th:only-of-type {\n",
       "        vertical-align: middle;\n",
       "    }\n",
       "\n",
       "    .dataframe tbody tr th {\n",
       "        vertical-align: top;\n",
       "    }\n",
       "\n",
       "    .dataframe thead th {\n",
       "        text-align: right;\n",
       "    }\n",
       "</style>\n",
       "<table border=\"1\" class=\"dataframe\">\n",
       "  <thead>\n",
       "    <tr style=\"text-align: right;\">\n",
       "      <th></th>\n",
       "      <th>original_company</th>\n",
       "      <th>originalRow</th>\n",
       "      <th>cleaned_name</th>\n",
       "    </tr>\n",
       "    <tr>\n",
       "      <th>row</th>\n",
       "      <th></th>\n",
       "      <th></th>\n",
       "      <th></th>\n",
       "    </tr>\n",
       "  </thead>\n",
       "  <tbody>\n",
       "    <tr>\n",
       "      <th>7018</th>\n",
       "      <td>Zydus Pharmaceuticals USA Inc</td>\n",
       "      <td>7043</td>\n",
       "      <td>zydus</td>\n",
       "    </tr>\n",
       "    <tr>\n",
       "      <th>7019</th>\n",
       "      <td>Zydus Pharmaceuticals USA Inc.</td>\n",
       "      <td>7044</td>\n",
       "      <td>zydus</td>\n",
       "    </tr>\n",
       "    <tr>\n",
       "      <th>7020</th>\n",
       "      <td>Zydus Technologies Limited</td>\n",
       "      <td>7045</td>\n",
       "      <td>zydus</td>\n",
       "    </tr>\n",
       "    <tr>\n",
       "      <th>7021</th>\n",
       "      <td>ZYGONE</td>\n",
       "      <td>7046</td>\n",
       "      <td>zygone</td>\n",
       "    </tr>\n",
       "    <tr>\n",
       "      <th>7022</th>\n",
       "      <td>Zyla Life Sciences US Inc.</td>\n",
       "      <td>7047</td>\n",
       "      <td>zyla life sciences</td>\n",
       "    </tr>\n",
       "  </tbody>\n",
       "</table>\n",
       "</div>"
      ],
      "text/plain": [
       "                    original_company  originalRow        cleaned_name\n",
       "row                                                                  \n",
       "7018   Zydus Pharmaceuticals USA Inc         7043               zydus\n",
       "7019  Zydus Pharmaceuticals USA Inc.         7044               zydus\n",
       "7020      Zydus Technologies Limited         7045               zydus\n",
       "7021                          ZYGONE         7046              zygone\n",
       "7022      Zyla Life Sciences US Inc.         7047  zyla life sciences"
      ]
     },
     "execution_count": 128,
     "metadata": {},
     "output_type": "execute_result"
    }
   ],
   "source": [
    "x.tail()"
   ]
  },
  {
   "cell_type": "code",
   "execution_count": 129,
   "metadata": {},
   "outputs": [
    {
     "data": {
      "text/html": [
       "<div>\n",
       "<style scoped>\n",
       "    .dataframe tbody tr th:only-of-type {\n",
       "        vertical-align: middle;\n",
       "    }\n",
       "\n",
       "    .dataframe tbody tr th {\n",
       "        vertical-align: top;\n",
       "    }\n",
       "\n",
       "    .dataframe thead th {\n",
       "        text-align: right;\n",
       "    }\n",
       "</style>\n",
       "<table border=\"1\" class=\"dataframe\">\n",
       "  <thead>\n",
       "    <tr style=\"text-align: right;\">\n",
       "      <th></th>\n",
       "      <th>original_company</th>\n",
       "      <th>originalRow</th>\n",
       "      <th>cleaned_name</th>\n",
       "    </tr>\n",
       "    <tr>\n",
       "      <th>row</th>\n",
       "      <th></th>\n",
       "      <th></th>\n",
       "      <th></th>\n",
       "    </tr>\n",
       "  </thead>\n",
       "  <tbody>\n",
       "    <tr>\n",
       "      <th>407</th>\n",
       "      <td>Amneal Biosciences</td>\n",
       "      <td>432</td>\n",
       "      <td>amneal</td>\n",
       "    </tr>\n",
       "    <tr>\n",
       "      <th>408</th>\n",
       "      <td>Amneal Biosciences LLC</td>\n",
       "      <td>433</td>\n",
       "      <td>amneal</td>\n",
       "    </tr>\n",
       "    <tr>\n",
       "      <th>2745</th>\n",
       "      <td>Greenwich Biosciences, Inc.</td>\n",
       "      <td>2770</td>\n",
       "      <td>greenwich</td>\n",
       "    </tr>\n",
       "    <tr>\n",
       "      <th>2875</th>\n",
       "      <td>Harmony Biosciences, LLC</td>\n",
       "      <td>2900</td>\n",
       "      <td>harmony</td>\n",
       "    </tr>\n",
       "    <tr>\n",
       "      <th>3684</th>\n",
       "      <td>Leadiant Biosciences, Inc.</td>\n",
       "      <td>3709</td>\n",
       "      <td>leadiant</td>\n",
       "    </tr>\n",
       "    <tr>\n",
       "      <th>4481</th>\n",
       "      <td>Neurocrine Biosciences, Inc.</td>\n",
       "      <td>4506</td>\n",
       "      <td>neurocrine</td>\n",
       "    </tr>\n",
       "    <tr>\n",
       "      <th>4768</th>\n",
       "      <td>Owen Biosciences Inc</td>\n",
       "      <td>4793</td>\n",
       "      <td>owen</td>\n",
       "    </tr>\n",
       "    <tr>\n",
       "      <th>4769</th>\n",
       "      <td>Owen Biosciences Inc.</td>\n",
       "      <td>4794</td>\n",
       "      <td>owen</td>\n",
       "    </tr>\n",
       "    <tr>\n",
       "      <th>4770</th>\n",
       "      <td>Owen Biosciences, Inc.</td>\n",
       "      <td>4795</td>\n",
       "      <td>owen</td>\n",
       "    </tr>\n",
       "  </tbody>\n",
       "</table>\n",
       "</div>"
      ],
      "text/plain": [
       "                  original_company  originalRow cleaned_name\n",
       "row                                                         \n",
       "407             Amneal Biosciences          432       amneal\n",
       "408         Amneal Biosciences LLC          433       amneal\n",
       "2745   Greenwich Biosciences, Inc.         2770    greenwich\n",
       "2875      Harmony Biosciences, LLC         2900      harmony\n",
       "3684    Leadiant Biosciences, Inc.         3709     leadiant\n",
       "4481  Neurocrine Biosciences, Inc.         4506   neurocrine\n",
       "4768          Owen Biosciences Inc         4793         owen\n",
       "4769         Owen Biosciences Inc.         4794         owen\n",
       "4770        Owen Biosciences, Inc.         4795         owen"
      ]
     },
     "execution_count": 129,
     "metadata": {},
     "output_type": "execute_result"
    }
   ],
   "source": [
    "og[og['original_company'].str.contains(\"Biosciences\")]"
   ]
  },
  {
   "cell_type": "code",
   "execution_count": 130,
   "metadata": {},
   "outputs": [],
   "source": [
    "orig =  pd.read_excel(\"../data/original/BI DSPG Company Datasets/NDC_Company_Dataset.xls\")"
   ]
  },
  {
   "cell_type": "code",
   "execution_count": 131,
   "metadata": {},
   "outputs": [
    {
     "data": {
      "text/plain": [
       "Row Labels    Arbor Pharmaceuticals\n",
       "Name: 726, dtype: object"
      ]
     },
     "execution_count": 131,
     "metadata": {},
     "output_type": "execute_result"
    }
   ],
   "source": [
    "orig.iloc[726]"
   ]
  },
  {
   "cell_type": "code",
   "execution_count": null,
   "metadata": {},
   "outputs": [],
   "source": []
  }
 ],
 "metadata": {
  "kernelspec": {
   "display_name": "Python 3",
   "language": "python",
   "name": "python3"
  },
  "language_info": {
   "codemirror_mode": {
    "name": "ipython",
    "version": 3
   },
   "file_extension": ".py",
   "mimetype": "text/x-python",
   "name": "python",
   "nbconvert_exporter": "python",
   "pygments_lexer": "ipython3",
   "version": "3.7.4"
  }
 },
 "nbformat": 4,
 "nbformat_minor": 4
}
