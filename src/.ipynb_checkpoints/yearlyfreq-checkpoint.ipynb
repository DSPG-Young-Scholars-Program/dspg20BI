{
 "cells": [
  {
   "cell_type": "code",
   "execution_count": 2,
   "metadata": {},
   "outputs": [
    {
     "name": "stderr",
     "output_type": "stream",
     "text": [
      "[nltk_data] Downloading package punkt to /home/sr2wm/nltk_data...\n",
      "[nltk_data]   Package punkt is already up-to-date!\n"
     ]
    },
    {
     "data": {
      "text/plain": [
       "True"
      ]
     },
     "execution_count": 2,
     "metadata": {},
     "output_type": "execute_result"
    }
   ],
   "source": [
    "import gzip\n",
    "import json\n",
    "import numpy as np\n",
    "import pandas as pd\n",
    "import matplotlib as mpl\n",
    "import matplotlib.pyplot as plt\n",
    "import seaborn as sns\n",
    "import collections\n",
    "import nltk\n",
    "from collections import Counter\n",
    "from itertools import chain\n",
    "from datetime import datetime as dt\n",
    "nltk.download('punkt')"
   ]
  },
  {
   "cell_type": "code",
   "execution_count": 3,
   "metadata": {},
   "outputs": [],
   "source": [
    "# Reading in the DNA data\n",
    "df = pd.read_json('../data/original/DNA_DATA_FULL.gz', compression='gzip')"
   ]
  },
  {
   "cell_type": "code",
   "execution_count": 3,
   "metadata": {},
   "outputs": [
    {
     "data": {
      "text/html": [
       "<div>\n",
       "<style scoped>\n",
       "    .dataframe tbody tr th:only-of-type {\n",
       "        vertical-align: middle;\n",
       "    }\n",
       "\n",
       "    .dataframe tbody tr th {\n",
       "        vertical-align: top;\n",
       "    }\n",
       "\n",
       "    .dataframe thead th {\n",
       "        text-align: right;\n",
       "    }\n",
       "</style>\n",
       "<table border=\"1\" class=\"dataframe\">\n",
       "  <thead>\n",
       "    <tr style=\"text-align: right;\">\n",
       "      <th></th>\n",
       "      <th>copyright</th>\n",
       "      <th>subject_codes</th>\n",
       "      <th>art</th>\n",
       "      <th>modification_datetime</th>\n",
       "      <th>body</th>\n",
       "      <th>company_codes_occur</th>\n",
       "      <th>company_codes_about</th>\n",
       "      <th>company_codes_lineage</th>\n",
       "      <th>snippet</th>\n",
       "      <th>publication_date</th>\n",
       "      <th>...</th>\n",
       "      <th>word_count</th>\n",
       "      <th>company_codes</th>\n",
       "      <th>industry_codes</th>\n",
       "      <th>title</th>\n",
       "      <th>publication_datetime</th>\n",
       "      <th>publisher_name</th>\n",
       "      <th>action</th>\n",
       "      <th>document_type</th>\n",
       "      <th>section</th>\n",
       "      <th>dateline</th>\n",
       "    </tr>\n",
       "  </thead>\n",
       "  <tbody>\n",
       "    <tr>\n",
       "      <th>0</th>\n",
       "      <td>(c) Copyright 2014 Obesity, Fitness &amp; Wellness...</td>\n",
       "      <td>,grdly,gscho,nnam,ccat,gcat,gedu,ghea,gtrea,nc...</td>\n",
       "      <td></td>\n",
       "      <td>1391132355000</td>\n",
       "      <td>\"When we decided to purchase new ultrasound eq...</td>\n",
       "      <td>,tshba,tosmsc,toamsi,</td>\n",
       "      <td>,tshba,</td>\n",
       "      <td></td>\n",
       "      <td>2014 FEB 8 (NewsRx) -- By a News Reporter-Staf...</td>\n",
       "      <td>1391817600000</td>\n",
       "      <td>...</td>\n",
       "      <td>671</td>\n",
       "      <td>,toamsi,toamsi,tosmsc,tosmsc,tshba,tshba,tshba,</td>\n",
       "      <td>,iphmed,i372,i951,i3302,i3454,ielec,itech,</td>\n",
       "      <td>Toshiba America Medical Systems, Inc. Arizona ...</td>\n",
       "      <td>1391817600000</td>\n",
       "      <td>NewsRx.com</td>\n",
       "      <td>add</td>\n",
       "      <td>article</td>\n",
       "      <td>NaN</td>\n",
       "      <td>NaN</td>\n",
       "    </tr>\n",
       "    <tr>\n",
       "      <th>1</th>\n",
       "      <td>© 2014 The Advisory Board Company. All rights ...</td>\n",
       "      <td>,nabst,cempbn,c42,ccat,cwrkpa,ncat,nfact,nfcpin,</td>\n",
       "      <td></td>\n",
       "      <td>1390496727000</td>\n",
       "      <td>A similar ban already applies to self-insured ...</td>\n",
       "      <td>,irevs,</td>\n",
       "      <td>,irevs,</td>\n",
       "      <td></td>\n",
       "      <td>The Internal Revenue Service last week signale...</td>\n",
       "      <td>1390262400000</td>\n",
       "      <td>...</td>\n",
       "      <td>355</td>\n",
       "      <td>,irevs,irevs,irevs,</td>\n",
       "      <td>,i257,i951,</td>\n",
       "      <td>IRS Delaying ACA's Equal-Coverage Provision fo...</td>\n",
       "      <td>1390262400000</td>\n",
       "      <td>The Advisory Board Company/American Health Line</td>\n",
       "      <td>add</td>\n",
       "      <td>article</td>\n",
       "      <td>NaN</td>\n",
       "      <td>NaN</td>\n",
       "    </tr>\n",
       "    <tr>\n",
       "      <th>2</th>\n",
       "      <td>© Copyright 2014 Clinical Trials Week via News...</td>\n",
       "      <td>,c23,ctrial,gcancr,gcrese,gsci,c22,ccat,gcat,g...</td>\n",
       "      <td></td>\n",
       "      <td>1390525806000</td>\n",
       "      <td>Dr. Curiel is the leader for TumAdoR Project 6...</td>\n",
       "      <td></td>\n",
       "      <td></td>\n",
       "      <td></td>\n",
       "      <td>2014 JAN 27 (NewsRx) -- By a News Reporter-Sta...</td>\n",
       "      <td>1390780800000</td>\n",
       "      <td>...</td>\n",
       "      <td>414</td>\n",
       "      <td>,euruno,</td>\n",
       "      <td>,i257,i2573,i951,idrugty,</td>\n",
       "      <td>Clinical Trials and Studies; Broad-spectrum ca...</td>\n",
       "      <td>1390780800000</td>\n",
       "      <td>NewsRx.com</td>\n",
       "      <td>add</td>\n",
       "      <td>article</td>\n",
       "      <td>NaN</td>\n",
       "      <td>NaN</td>\n",
       "    </tr>\n",
       "    <tr>\n",
       "      <th>3</th>\n",
       "      <td>© Copyright 2018 Journal of Engineering via Ve...</td>\n",
       "      <td>,c151,c15,ccat,ncat,nfact,nfcpin,</td>\n",
       "      <td></td>\n",
       "      <td>1523916466000</td>\n",
       "      <td>Cost of manufactured product increased $4.7 mi...</td>\n",
       "      <td>,retrac,nyse,</td>\n",
       "      <td>,retrac,</td>\n",
       "      <td></td>\n",
       "      <td>2018 APR 16 (VerticalNews) -- By a News Report...</td>\n",
       "      <td>1523836800000</td>\n",
       "      <td>...</td>\n",
       "      <td>582</td>\n",
       "      <td>,retrac,nyse,nyse,retrac,retrac,seexc,</td>\n",
       "      <td>,i372,i951,</td>\n",
       "      <td>Retractable Technologies Inc. Retractable Tech...</td>\n",
       "      <td>1523836800000</td>\n",
       "      <td>NewsRX, LLC</td>\n",
       "      <td>add</td>\n",
       "      <td>article</td>\n",
       "      <td></td>\n",
       "      <td>NaN</td>\n",
       "    </tr>\n",
       "    <tr>\n",
       "      <th>4</th>\n",
       "      <td>© Copyright 2017 Pharma Business Week via News...</td>\n",
       "      <td>,ctmark,cgymtr,ccat,cinprp,</td>\n",
       "      <td></td>\n",
       "      <td>1499725044000</td>\n",
       "      <td>The international trademark goods and services...</td>\n",
       "      <td>,brstmy,</td>\n",
       "      <td>,brstmy,</td>\n",
       "      <td></td>\n",
       "      <td>2017 JUL 10 (NewsRx) -- By a News Reporter-Sta...</td>\n",
       "      <td>1499644800000</td>\n",
       "      <td>...</td>\n",
       "      <td>169</td>\n",
       "      <td>,brstmy,brstmy,brstmy,</td>\n",
       "      <td>,i257,ibioph,i2569,i951,</td>\n",
       "      <td>Pharmaceutical Companies; An Application for t...</td>\n",
       "      <td>1499644800000</td>\n",
       "      <td>NewsRX, LLC</td>\n",
       "      <td>add</td>\n",
       "      <td>article</td>\n",
       "      <td></td>\n",
       "      <td>NaN</td>\n",
       "    </tr>\n",
       "  </tbody>\n",
       "</table>\n",
       "<p>5 rows × 35 columns</p>\n",
       "</div>"
      ],
      "text/plain": [
       "                                           copyright  \\\n",
       "0  (c) Copyright 2014 Obesity, Fitness & Wellness...   \n",
       "1  © 2014 The Advisory Board Company. All rights ...   \n",
       "2  © Copyright 2014 Clinical Trials Week via News...   \n",
       "3  © Copyright 2018 Journal of Engineering via Ve...   \n",
       "4  © Copyright 2017 Pharma Business Week via News...   \n",
       "\n",
       "                                       subject_codes art  \\\n",
       "0  ,grdly,gscho,nnam,ccat,gcat,gedu,ghea,gtrea,nc...       \n",
       "1   ,nabst,cempbn,c42,ccat,cwrkpa,ncat,nfact,nfcpin,       \n",
       "2  ,c23,ctrial,gcancr,gcrese,gsci,c22,ccat,gcat,g...       \n",
       "3                  ,c151,c15,ccat,ncat,nfact,nfcpin,       \n",
       "4                        ,ctmark,cgymtr,ccat,cinprp,       \n",
       "\n",
       "   modification_datetime                                               body  \\\n",
       "0          1391132355000  \"When we decided to purchase new ultrasound eq...   \n",
       "1          1390496727000  A similar ban already applies to self-insured ...   \n",
       "2          1390525806000  Dr. Curiel is the leader for TumAdoR Project 6...   \n",
       "3          1523916466000  Cost of manufactured product increased $4.7 mi...   \n",
       "4          1499725044000  The international trademark goods and services...   \n",
       "\n",
       "     company_codes_occur company_codes_about company_codes_lineage  \\\n",
       "0  ,tshba,tosmsc,toamsi,             ,tshba,                         \n",
       "1                ,irevs,             ,irevs,                         \n",
       "2                                                                    \n",
       "3          ,retrac,nyse,            ,retrac,                         \n",
       "4               ,brstmy,            ,brstmy,                         \n",
       "\n",
       "                                             snippet  publication_date  ...  \\\n",
       "0  2014 FEB 8 (NewsRx) -- By a News Reporter-Staf...     1391817600000  ...   \n",
       "1  The Internal Revenue Service last week signale...     1390262400000  ...   \n",
       "2  2014 JAN 27 (NewsRx) -- By a News Reporter-Sta...     1390780800000  ...   \n",
       "3  2018 APR 16 (VerticalNews) -- By a News Report...     1523836800000  ...   \n",
       "4  2017 JUL 10 (NewsRx) -- By a News Reporter-Sta...     1499644800000  ...   \n",
       "\n",
       "  word_count                                    company_codes  \\\n",
       "0        671  ,toamsi,toamsi,tosmsc,tosmsc,tshba,tshba,tshba,   \n",
       "1        355                              ,irevs,irevs,irevs,   \n",
       "2        414                                         ,euruno,   \n",
       "3        582           ,retrac,nyse,nyse,retrac,retrac,seexc,   \n",
       "4        169                           ,brstmy,brstmy,brstmy,   \n",
       "\n",
       "                               industry_codes  \\\n",
       "0  ,iphmed,i372,i951,i3302,i3454,ielec,itech,   \n",
       "1                                 ,i257,i951,   \n",
       "2                   ,i257,i2573,i951,idrugty,   \n",
       "3                                 ,i372,i951,   \n",
       "4                    ,i257,ibioph,i2569,i951,   \n",
       "\n",
       "                                               title  publication_datetime  \\\n",
       "0  Toshiba America Medical Systems, Inc. Arizona ...         1391817600000   \n",
       "1  IRS Delaying ACA's Equal-Coverage Provision fo...         1390262400000   \n",
       "2  Clinical Trials and Studies; Broad-spectrum ca...         1390780800000   \n",
       "3  Retractable Technologies Inc. Retractable Tech...         1523836800000   \n",
       "4  Pharmaceutical Companies; An Application for t...         1499644800000   \n",
       "\n",
       "                                    publisher_name action document_type  \\\n",
       "0                                       NewsRx.com    add       article   \n",
       "1  The Advisory Board Company/American Health Line    add       article   \n",
       "2                                       NewsRx.com    add       article   \n",
       "3                                      NewsRX, LLC    add       article   \n",
       "4                                      NewsRX, LLC    add       article   \n",
       "\n",
       "  section dateline  \n",
       "0     NaN      NaN  \n",
       "1     NaN      NaN  \n",
       "2     NaN      NaN  \n",
       "3              NaN  \n",
       "4              NaN  \n",
       "\n",
       "[5 rows x 35 columns]"
      ]
     },
     "execution_count": 3,
     "metadata": {},
     "output_type": "execute_result"
    }
   ],
   "source": [
    "df.head()"
   ]
  },
  {
   "cell_type": "code",
   "execution_count": 4,
   "metadata": {},
   "outputs": [
    {
     "data": {
      "text/html": [
       "<div>\n",
       "<style scoped>\n",
       "    .dataframe tbody tr th:only-of-type {\n",
       "        vertical-align: middle;\n",
       "    }\n",
       "\n",
       "    .dataframe tbody tr th {\n",
       "        vertical-align: top;\n",
       "    }\n",
       "\n",
       "    .dataframe thead th {\n",
       "        text-align: right;\n",
       "    }\n",
       "</style>\n",
       "<table border=\"1\" class=\"dataframe\">\n",
       "  <thead>\n",
       "    <tr style=\"text-align: right;\">\n",
       "      <th></th>\n",
       "      <th>copyright</th>\n",
       "      <th>subject_codes</th>\n",
       "      <th>art</th>\n",
       "      <th>modification_datetime</th>\n",
       "      <th>body</th>\n",
       "      <th>company_codes_occur</th>\n",
       "      <th>company_codes_about</th>\n",
       "      <th>company_codes_lineage</th>\n",
       "      <th>snippet</th>\n",
       "      <th>publication_date</th>\n",
       "      <th>...</th>\n",
       "      <th>company_codes</th>\n",
       "      <th>industry_codes</th>\n",
       "      <th>title</th>\n",
       "      <th>publication_datetime</th>\n",
       "      <th>publisher_name</th>\n",
       "      <th>action</th>\n",
       "      <th>document_type</th>\n",
       "      <th>section</th>\n",
       "      <th>dateline</th>\n",
       "      <th>year</th>\n",
       "    </tr>\n",
       "  </thead>\n",
       "  <tbody>\n",
       "    <tr>\n",
       "      <th>0</th>\n",
       "      <td>(c) Copyright 2014 Obesity, Fitness &amp; Wellness...</td>\n",
       "      <td>,grdly,gscho,nnam,ccat,gcat,gedu,ghea,gtrea,nc...</td>\n",
       "      <td></td>\n",
       "      <td>1391132355000</td>\n",
       "      <td>\"When we decided to purchase new ultrasound eq...</td>\n",
       "      <td>,tshba,tosmsc,toamsi,</td>\n",
       "      <td>,tshba,</td>\n",
       "      <td></td>\n",
       "      <td>2014 FEB 8 (NewsRx) -- By a News Reporter-Staf...</td>\n",
       "      <td>1391817600000</td>\n",
       "      <td>...</td>\n",
       "      <td>,toamsi,toamsi,tosmsc,tosmsc,tshba,tshba,tshba,</td>\n",
       "      <td>,iphmed,i372,i951,i3302,i3454,ielec,itech,</td>\n",
       "      <td>Toshiba America Medical Systems, Inc. Arizona ...</td>\n",
       "      <td>1391817600000</td>\n",
       "      <td>NewsRx.com</td>\n",
       "      <td>add</td>\n",
       "      <td>article</td>\n",
       "      <td>NaN</td>\n",
       "      <td>NaN</td>\n",
       "      <td>2014</td>\n",
       "    </tr>\n",
       "    <tr>\n",
       "      <th>1</th>\n",
       "      <td>© 2014 The Advisory Board Company. All rights ...</td>\n",
       "      <td>,nabst,cempbn,c42,ccat,cwrkpa,ncat,nfact,nfcpin,</td>\n",
       "      <td></td>\n",
       "      <td>1390496727000</td>\n",
       "      <td>A similar ban already applies to self-insured ...</td>\n",
       "      <td>,irevs,</td>\n",
       "      <td>,irevs,</td>\n",
       "      <td></td>\n",
       "      <td>The Internal Revenue Service last week signale...</td>\n",
       "      <td>1390262400000</td>\n",
       "      <td>...</td>\n",
       "      <td>,irevs,irevs,irevs,</td>\n",
       "      <td>,i257,i951,</td>\n",
       "      <td>IRS Delaying ACA's Equal-Coverage Provision fo...</td>\n",
       "      <td>1390262400000</td>\n",
       "      <td>The Advisory Board Company/American Health Line</td>\n",
       "      <td>add</td>\n",
       "      <td>article</td>\n",
       "      <td>NaN</td>\n",
       "      <td>NaN</td>\n",
       "      <td>2014</td>\n",
       "    </tr>\n",
       "    <tr>\n",
       "      <th>2</th>\n",
       "      <td>© Copyright 2014 Clinical Trials Week via News...</td>\n",
       "      <td>,c23,ctrial,gcancr,gcrese,gsci,c22,ccat,gcat,g...</td>\n",
       "      <td></td>\n",
       "      <td>1390525806000</td>\n",
       "      <td>Dr. Curiel is the leader for TumAdoR Project 6...</td>\n",
       "      <td></td>\n",
       "      <td></td>\n",
       "      <td></td>\n",
       "      <td>2014 JAN 27 (NewsRx) -- By a News Reporter-Sta...</td>\n",
       "      <td>1390780800000</td>\n",
       "      <td>...</td>\n",
       "      <td>,euruno,</td>\n",
       "      <td>,i257,i2573,i951,idrugty,</td>\n",
       "      <td>Clinical Trials and Studies; Broad-spectrum ca...</td>\n",
       "      <td>1390780800000</td>\n",
       "      <td>NewsRx.com</td>\n",
       "      <td>add</td>\n",
       "      <td>article</td>\n",
       "      <td>NaN</td>\n",
       "      <td>NaN</td>\n",
       "      <td>2014</td>\n",
       "    </tr>\n",
       "    <tr>\n",
       "      <th>3</th>\n",
       "      <td>© Copyright 2018 Journal of Engineering via Ve...</td>\n",
       "      <td>,c151,c15,ccat,ncat,nfact,nfcpin,</td>\n",
       "      <td></td>\n",
       "      <td>1523916466000</td>\n",
       "      <td>Cost of manufactured product increased $4.7 mi...</td>\n",
       "      <td>,retrac,nyse,</td>\n",
       "      <td>,retrac,</td>\n",
       "      <td></td>\n",
       "      <td>2018 APR 16 (VerticalNews) -- By a News Report...</td>\n",
       "      <td>1523836800000</td>\n",
       "      <td>...</td>\n",
       "      <td>,retrac,nyse,nyse,retrac,retrac,seexc,</td>\n",
       "      <td>,i372,i951,</td>\n",
       "      <td>Retractable Technologies Inc. Retractable Tech...</td>\n",
       "      <td>1523836800000</td>\n",
       "      <td>NewsRX, LLC</td>\n",
       "      <td>add</td>\n",
       "      <td>article</td>\n",
       "      <td></td>\n",
       "      <td>NaN</td>\n",
       "      <td>2018</td>\n",
       "    </tr>\n",
       "    <tr>\n",
       "      <th>4</th>\n",
       "      <td>© Copyright 2017 Pharma Business Week via News...</td>\n",
       "      <td>,ctmark,cgymtr,ccat,cinprp,</td>\n",
       "      <td></td>\n",
       "      <td>1499725044000</td>\n",
       "      <td>The international trademark goods and services...</td>\n",
       "      <td>,brstmy,</td>\n",
       "      <td>,brstmy,</td>\n",
       "      <td></td>\n",
       "      <td>2017 JUL 10 (NewsRx) -- By a News Reporter-Sta...</td>\n",
       "      <td>1499644800000</td>\n",
       "      <td>...</td>\n",
       "      <td>,brstmy,brstmy,brstmy,</td>\n",
       "      <td>,i257,ibioph,i2569,i951,</td>\n",
       "      <td>Pharmaceutical Companies; An Application for t...</td>\n",
       "      <td>1499644800000</td>\n",
       "      <td>NewsRX, LLC</td>\n",
       "      <td>add</td>\n",
       "      <td>article</td>\n",
       "      <td></td>\n",
       "      <td>NaN</td>\n",
       "      <td>2017</td>\n",
       "    </tr>\n",
       "  </tbody>\n",
       "</table>\n",
       "<p>5 rows × 36 columns</p>\n",
       "</div>"
      ],
      "text/plain": [
       "                                           copyright  \\\n",
       "0  (c) Copyright 2014 Obesity, Fitness & Wellness...   \n",
       "1  © 2014 The Advisory Board Company. All rights ...   \n",
       "2  © Copyright 2014 Clinical Trials Week via News...   \n",
       "3  © Copyright 2018 Journal of Engineering via Ve...   \n",
       "4  © Copyright 2017 Pharma Business Week via News...   \n",
       "\n",
       "                                       subject_codes art  \\\n",
       "0  ,grdly,gscho,nnam,ccat,gcat,gedu,ghea,gtrea,nc...       \n",
       "1   ,nabst,cempbn,c42,ccat,cwrkpa,ncat,nfact,nfcpin,       \n",
       "2  ,c23,ctrial,gcancr,gcrese,gsci,c22,ccat,gcat,g...       \n",
       "3                  ,c151,c15,ccat,ncat,nfact,nfcpin,       \n",
       "4                        ,ctmark,cgymtr,ccat,cinprp,       \n",
       "\n",
       "   modification_datetime                                               body  \\\n",
       "0          1391132355000  \"When we decided to purchase new ultrasound eq...   \n",
       "1          1390496727000  A similar ban already applies to self-insured ...   \n",
       "2          1390525806000  Dr. Curiel is the leader for TumAdoR Project 6...   \n",
       "3          1523916466000  Cost of manufactured product increased $4.7 mi...   \n",
       "4          1499725044000  The international trademark goods and services...   \n",
       "\n",
       "     company_codes_occur company_codes_about company_codes_lineage  \\\n",
       "0  ,tshba,tosmsc,toamsi,             ,tshba,                         \n",
       "1                ,irevs,             ,irevs,                         \n",
       "2                                                                    \n",
       "3          ,retrac,nyse,            ,retrac,                         \n",
       "4               ,brstmy,            ,brstmy,                         \n",
       "\n",
       "                                             snippet  publication_date  ...  \\\n",
       "0  2014 FEB 8 (NewsRx) -- By a News Reporter-Staf...     1391817600000  ...   \n",
       "1  The Internal Revenue Service last week signale...     1390262400000  ...   \n",
       "2  2014 JAN 27 (NewsRx) -- By a News Reporter-Sta...     1390780800000  ...   \n",
       "3  2018 APR 16 (VerticalNews) -- By a News Report...     1523836800000  ...   \n",
       "4  2017 JUL 10 (NewsRx) -- By a News Reporter-Sta...     1499644800000  ...   \n",
       "\n",
       "                                     company_codes  \\\n",
       "0  ,toamsi,toamsi,tosmsc,tosmsc,tshba,tshba,tshba,   \n",
       "1                              ,irevs,irevs,irevs,   \n",
       "2                                         ,euruno,   \n",
       "3           ,retrac,nyse,nyse,retrac,retrac,seexc,   \n",
       "4                           ,brstmy,brstmy,brstmy,   \n",
       "\n",
       "                               industry_codes  \\\n",
       "0  ,iphmed,i372,i951,i3302,i3454,ielec,itech,   \n",
       "1                                 ,i257,i951,   \n",
       "2                   ,i257,i2573,i951,idrugty,   \n",
       "3                                 ,i372,i951,   \n",
       "4                    ,i257,ibioph,i2569,i951,   \n",
       "\n",
       "                                               title publication_datetime  \\\n",
       "0  Toshiba America Medical Systems, Inc. Arizona ...        1391817600000   \n",
       "1  IRS Delaying ACA's Equal-Coverage Provision fo...        1390262400000   \n",
       "2  Clinical Trials and Studies; Broad-spectrum ca...        1390780800000   \n",
       "3  Retractable Technologies Inc. Retractable Tech...        1523836800000   \n",
       "4  Pharmaceutical Companies; An Application for t...        1499644800000   \n",
       "\n",
       "                                    publisher_name  action document_type  \\\n",
       "0                                       NewsRx.com     add       article   \n",
       "1  The Advisory Board Company/American Health Line     add       article   \n",
       "2                                       NewsRx.com     add       article   \n",
       "3                                      NewsRX, LLC     add       article   \n",
       "4                                      NewsRX, LLC     add       article   \n",
       "\n",
       "  section dateline  year  \n",
       "0     NaN      NaN  2014  \n",
       "1     NaN      NaN  2014  \n",
       "2     NaN      NaN  2014  \n",
       "3              NaN  2018  \n",
       "4              NaN  2017  \n",
       "\n",
       "[5 rows x 36 columns]"
      ]
     },
     "execution_count": 4,
     "metadata": {},
     "output_type": "execute_result"
    }
   ],
   "source": [
    "date = [dt.fromtimestamp(x/1000).strftime('%Y-%m-%d %H:%M:%S') for x in df['publication_date']]\n",
    "pd.to_datetime(date)\n",
    "df['year'] = pd.DatetimeIndex(date).year\n",
    "df.head()"
   ]
  },
  {
   "cell_type": "code",
   "execution_count": 5,
   "metadata": {},
   "outputs": [
    {
     "data": {
      "text/plain": [
       "(1942855, 36)"
      ]
     },
     "execution_count": 5,
     "metadata": {},
     "output_type": "execute_result"
    }
   ],
   "source": [
    "df.shape"
   ]
  },
  {
   "cell_type": "code",
   "execution_count": null,
   "metadata": {},
   "outputs": [],
   "source": [
    "# Create subsets by year\n",
    "df2013 = df[df['Year'] == '2013']\n",
    "#making a loop for each year\n",
    "for i in range (2013, 2018):\n",
    "    df_year= df[df['Year'] == str(i)]\n",
    "    df_year.to_csv(\"../data/working/DNA_\" + str(i))"
   ]
  },
  {
   "cell_type": "code",
   "execution_count": 10,
   "metadata": {},
   "outputs": [
    {
     "data": {
      "text/html": [
       "<div>\n",
       "<style scoped>\n",
       "    .dataframe tbody tr th:only-of-type {\n",
       "        vertical-align: middle;\n",
       "    }\n",
       "\n",
       "    .dataframe tbody tr th {\n",
       "        vertical-align: top;\n",
       "    }\n",
       "\n",
       "    .dataframe thead th {\n",
       "        text-align: right;\n",
       "    }\n",
       "</style>\n",
       "<table border=\"1\" class=\"dataframe\">\n",
       "  <thead>\n",
       "    <tr style=\"text-align: right;\">\n",
       "      <th></th>\n",
       "      <th>code</th>\n",
       "      <th>description</th>\n",
       "    </tr>\n",
       "  </thead>\n",
       "  <tbody>\n",
       "    <tr>\n",
       "      <th>0</th>\n",
       "      <td>﻿AA</td>\n",
       "      <td>AA PLC</td>\n",
       "    </tr>\n",
       "    <tr>\n",
       "      <th>1</th>\n",
       "      <td>AA</td>\n",
       "      <td>AA PLC</td>\n",
       "    </tr>\n",
       "    <tr>\n",
       "      <th>2</th>\n",
       "      <td>AA</td>\n",
       "      <td>AA PLC</td>\n",
       "    </tr>\n",
       "    <tr>\n",
       "      <th>3</th>\n",
       "      <td>AA:AATDF</td>\n",
       "      <td>AA PLC (ADR)</td>\n",
       "    </tr>\n",
       "    <tr>\n",
       "      <th>4</th>\n",
       "      <td>AAA</td>\n",
       "      <td>AAA Industries Ltd</td>\n",
       "    </tr>\n",
       "  </tbody>\n",
       "</table>\n",
       "</div>"
      ],
      "text/plain": [
       "       code         description\n",
       "0       ﻿AA              AA PLC\n",
       "1        AA              AA PLC\n",
       "2        AA              AA PLC\n",
       "3  AA:AATDF        AA PLC (ADR)\n",
       "4       AAA  AAA Industries Ltd"
      ]
     },
     "execution_count": 10,
     "metadata": {},
     "output_type": "execute_result"
    }
   ],
   "source": [
    "dictionary=pd.read_csv(\"../data/original/companies.csv\")\n",
    "dictionary.head()"
   ]
  },
  {
   "cell_type": "code",
   "execution_count": 6,
   "metadata": {},
   "outputs": [],
   "source": [
    "# Reading in the subsets\n",
    "df_13=pd.read_csv(\"../data/working/DNA_2013.csv\")\n",
    "df_14=pd.read_csv(\"../data/working/DNA_2014.csv\")\n",
    "df_15=pd.read_csv(\"../data/working/DNA_2015.csv\")\n",
    "df_16=pd.read_csv(\"../data/working/DNA_2016.csv\")\n",
    "df_17=pd.read_csv(\"../data/working/DNA_2017.csv\")\n",
    "df_18=pd.read_csv(\"../data/working/DNA_2018.csv\")"
   ]
  },
  {
   "cell_type": "code",
   "execution_count": 7,
   "metadata": {},
   "outputs": [
    {
     "data": {
      "text/html": [
       "<div>\n",
       "<style scoped>\n",
       "    .dataframe tbody tr th:only-of-type {\n",
       "        vertical-align: middle;\n",
       "    }\n",
       "\n",
       "    .dataframe tbody tr th {\n",
       "        vertical-align: top;\n",
       "    }\n",
       "\n",
       "    .dataframe thead th {\n",
       "        text-align: right;\n",
       "    }\n",
       "</style>\n",
       "<table border=\"1\" class=\"dataframe\">\n",
       "  <thead>\n",
       "    <tr style=\"text-align: right;\">\n",
       "      <th></th>\n",
       "      <th>copyright</th>\n",
       "      <th>subject_codes</th>\n",
       "      <th>art</th>\n",
       "      <th>modification_datetime</th>\n",
       "      <th>body</th>\n",
       "      <th>company_codes_occur</th>\n",
       "      <th>company_codes_about</th>\n",
       "      <th>company_codes_lineage</th>\n",
       "      <th>snippet</th>\n",
       "      <th>publication_date</th>\n",
       "      <th>...</th>\n",
       "      <th>company_codes</th>\n",
       "      <th>industry_codes</th>\n",
       "      <th>title</th>\n",
       "      <th>publication_datetime</th>\n",
       "      <th>publisher_name</th>\n",
       "      <th>action</th>\n",
       "      <th>document_type</th>\n",
       "      <th>section</th>\n",
       "      <th>dateline</th>\n",
       "      <th>year</th>\n",
       "    </tr>\n",
       "  </thead>\n",
       "  <tbody>\n",
       "    <tr>\n",
       "      <th>0</th>\n",
       "      <td>(c) Copyright 2014 Obesity, Fitness &amp; Wellness...</td>\n",
       "      <td>,grdly,gscho,nnam,ccat,gcat,gedu,ghea,gtrea,nc...</td>\n",
       "      <td></td>\n",
       "      <td>1391132355000</td>\n",
       "      <td>\"When we decided to purchase new ultrasound eq...</td>\n",
       "      <td>,tshba,tosmsc,toamsi,</td>\n",
       "      <td>,tshba,</td>\n",
       "      <td></td>\n",
       "      <td>2014 FEB 8 (NewsRx) -- By a News Reporter-Staf...</td>\n",
       "      <td>1391817600000</td>\n",
       "      <td>...</td>\n",
       "      <td>,toamsi,toamsi,tosmsc,tosmsc,tshba,tshba,tshba,</td>\n",
       "      <td>,iphmed,i372,i951,i3302,i3454,ielec,itech,</td>\n",
       "      <td>Toshiba America Medical Systems, Inc. Arizona ...</td>\n",
       "      <td>1391817600000</td>\n",
       "      <td>NewsRx.com</td>\n",
       "      <td>add</td>\n",
       "      <td>article</td>\n",
       "      <td>NaN</td>\n",
       "      <td>NaN</td>\n",
       "      <td>2014</td>\n",
       "    </tr>\n",
       "    <tr>\n",
       "      <th>1</th>\n",
       "      <td>© 2014 The Advisory Board Company. All rights ...</td>\n",
       "      <td>,nabst,cempbn,c42,ccat,cwrkpa,ncat,nfact,nfcpin,</td>\n",
       "      <td></td>\n",
       "      <td>1390496727000</td>\n",
       "      <td>A similar ban already applies to self-insured ...</td>\n",
       "      <td>,irevs,</td>\n",
       "      <td>,irevs,</td>\n",
       "      <td></td>\n",
       "      <td>The Internal Revenue Service last week signale...</td>\n",
       "      <td>1390262400000</td>\n",
       "      <td>...</td>\n",
       "      <td>,irevs,irevs,irevs,</td>\n",
       "      <td>,i257,i951,</td>\n",
       "      <td>IRS Delaying ACA's Equal-Coverage Provision fo...</td>\n",
       "      <td>1390262400000</td>\n",
       "      <td>The Advisory Board Company/American Health Line</td>\n",
       "      <td>add</td>\n",
       "      <td>article</td>\n",
       "      <td>NaN</td>\n",
       "      <td>NaN</td>\n",
       "      <td>2014</td>\n",
       "    </tr>\n",
       "    <tr>\n",
       "      <th>2</th>\n",
       "      <td>© Copyright 2014 Clinical Trials Week via News...</td>\n",
       "      <td>,c23,ctrial,gcancr,gcrese,gsci,c22,ccat,gcat,g...</td>\n",
       "      <td></td>\n",
       "      <td>1390525806000</td>\n",
       "      <td>Dr. Curiel is the leader for TumAdoR Project 6...</td>\n",
       "      <td></td>\n",
       "      <td></td>\n",
       "      <td></td>\n",
       "      <td>2014 JAN 27 (NewsRx) -- By a News Reporter-Sta...</td>\n",
       "      <td>1390780800000</td>\n",
       "      <td>...</td>\n",
       "      <td>,euruno,</td>\n",
       "      <td>,i257,i2573,i951,idrugty,</td>\n",
       "      <td>Clinical Trials and Studies; Broad-spectrum ca...</td>\n",
       "      <td>1390780800000</td>\n",
       "      <td>NewsRx.com</td>\n",
       "      <td>add</td>\n",
       "      <td>article</td>\n",
       "      <td>NaN</td>\n",
       "      <td>NaN</td>\n",
       "      <td>2014</td>\n",
       "    </tr>\n",
       "    <tr>\n",
       "      <th>3</th>\n",
       "      <td>© Copyright 2018 Journal of Engineering via Ve...</td>\n",
       "      <td>,c151,c15,ccat,ncat,nfact,nfcpin,</td>\n",
       "      <td></td>\n",
       "      <td>1523916466000</td>\n",
       "      <td>Cost of manufactured product increased $4.7 mi...</td>\n",
       "      <td>,retrac,nyse,</td>\n",
       "      <td>,retrac,</td>\n",
       "      <td></td>\n",
       "      <td>2018 APR 16 (VerticalNews) -- By a News Report...</td>\n",
       "      <td>1523836800000</td>\n",
       "      <td>...</td>\n",
       "      <td>,retrac,nyse,nyse,retrac,retrac,seexc,</td>\n",
       "      <td>,i372,i951,</td>\n",
       "      <td>Retractable Technologies Inc. Retractable Tech...</td>\n",
       "      <td>1523836800000</td>\n",
       "      <td>NewsRX, LLC</td>\n",
       "      <td>add</td>\n",
       "      <td>article</td>\n",
       "      <td></td>\n",
       "      <td>NaN</td>\n",
       "      <td>2018</td>\n",
       "    </tr>\n",
       "    <tr>\n",
       "      <th>4</th>\n",
       "      <td>© Copyright 2017 Pharma Business Week via News...</td>\n",
       "      <td>,ctmark,cgymtr,ccat,cinprp,</td>\n",
       "      <td></td>\n",
       "      <td>1499725044000</td>\n",
       "      <td>The international trademark goods and services...</td>\n",
       "      <td>,brstmy,</td>\n",
       "      <td>,brstmy,</td>\n",
       "      <td></td>\n",
       "      <td>2017 JUL 10 (NewsRx) -- By a News Reporter-Sta...</td>\n",
       "      <td>1499644800000</td>\n",
       "      <td>...</td>\n",
       "      <td>,brstmy,brstmy,brstmy,</td>\n",
       "      <td>,i257,ibioph,i2569,i951,</td>\n",
       "      <td>Pharmaceutical Companies; An Application for t...</td>\n",
       "      <td>1499644800000</td>\n",
       "      <td>NewsRX, LLC</td>\n",
       "      <td>add</td>\n",
       "      <td>article</td>\n",
       "      <td></td>\n",
       "      <td>NaN</td>\n",
       "      <td>2017</td>\n",
       "    </tr>\n",
       "    <tr>\n",
       "      <th>...</th>\n",
       "      <td>...</td>\n",
       "      <td>...</td>\n",
       "      <td>...</td>\n",
       "      <td>...</td>\n",
       "      <td>...</td>\n",
       "      <td>...</td>\n",
       "      <td>...</td>\n",
       "      <td>...</td>\n",
       "      <td>...</td>\n",
       "      <td>...</td>\n",
       "      <td>...</td>\n",
       "      <td>...</td>\n",
       "      <td>...</td>\n",
       "      <td>...</td>\n",
       "      <td>...</td>\n",
       "      <td>...</td>\n",
       "      <td>...</td>\n",
       "      <td>...</td>\n",
       "      <td>...</td>\n",
       "      <td>...</td>\n",
       "      <td>...</td>\n",
       "    </tr>\n",
       "    <tr>\n",
       "      <th>995</th>\n",
       "      <td>© Copyright 2015 Obesity, Fitness &amp; Wellness W...</td>\n",
       "      <td></td>\n",
       "      <td></td>\n",
       "      <td>1440799781000</td>\n",
       "      <td>Our news editors obtained a quote from the res...</td>\n",
       "      <td>,nthun,</td>\n",
       "      <td>,nthun,</td>\n",
       "      <td></td>\n",
       "      <td>2015 SEP 5 (NewsRx) -- By a News Reporter-Staf...</td>\n",
       "      <td>1440720000000</td>\n",
       "      <td>...</td>\n",
       "      <td>,biomce,nthun,nthun,nthun,</td>\n",
       "      <td>,i2576,i257,i951,idrugty,</td>\n",
       "      <td>Cardiovascular Research; Study Results from No...</td>\n",
       "      <td>1440720000000</td>\n",
       "      <td>NewsRX, LLC</td>\n",
       "      <td>add</td>\n",
       "      <td>article</td>\n",
       "      <td>NaN</td>\n",
       "      <td>NaN</td>\n",
       "      <td>2015</td>\n",
       "    </tr>\n",
       "    <tr>\n",
       "      <th>996</th>\n",
       "      <td>(c) 2016. Theflyonthewall.com.  All Rights Res...</td>\n",
       "      <td>,c151,ctrial,nrmf,c15,c23,ccat,ncat,nfact,nfce...</td>\n",
       "      <td></td>\n",
       "      <td>1470946360000</td>\n",
       "      <td>We believe we are developing edasalonexent in...</td>\n",
       "      <td>,ctbiph,</td>\n",
       "      <td>,ctbiph,</td>\n",
       "      <td></td>\n",
       "      <td>16:12 EDT Catabasis Pharmaceuticals reports Q2...</td>\n",
       "      <td>1470873600000</td>\n",
       "      <td>...</td>\n",
       "      <td>,ctbiph,ctbiph,ctbiph,</td>\n",
       "      <td>,i2569,i257,i951,ibioph,</td>\n",
       "      <td>16:12 EDT Catabasis Pharmaceuticals reports Q2...</td>\n",
       "      <td>1470873600000</td>\n",
       "      <td>Theflyonthewall.com</td>\n",
       "      <td>add</td>\n",
       "      <td>article</td>\n",
       "      <td></td>\n",
       "      <td>NaN</td>\n",
       "      <td>2016</td>\n",
       "    </tr>\n",
       "    <tr>\n",
       "      <th>997</th>\n",
       "      <td>(c) 2015. Theflyonthewall.com.  All Rights Res...</td>\n",
       "      <td>,c15,ccat,ncat,nfact,nfcpin,</td>\n",
       "      <td></td>\n",
       "      <td>1446673637000</td>\n",
       "      <td>NaN</td>\n",
       "      <td>,xenp,</td>\n",
       "      <td>,xenp,</td>\n",
       "      <td></td>\n",
       "      <td>Charge recorded as part of restructuring to fo...</td>\n",
       "      <td>1446595200000</td>\n",
       "      <td>...</td>\n",
       "      <td>,xenp,xenp,xenp,</td>\n",
       "      <td>,i257,i951,</td>\n",
       "      <td>XenoPort says recorded $3M restructuring charg...</td>\n",
       "      <td>1446595200000</td>\n",
       "      <td>Theflyonthewall.com</td>\n",
       "      <td>add</td>\n",
       "      <td>article</td>\n",
       "      <td>NaN</td>\n",
       "      <td>NaN</td>\n",
       "      <td>2015</td>\n",
       "    </tr>\n",
       "    <tr>\n",
       "      <th>998</th>\n",
       "      <td>Copyright 2016. News Bites Pty Ltd.</td>\n",
       "      <td>,cdirdl,c18,c41,cactio,ccat,ncat,nfact,nfcpex,...</td>\n",
       "      <td></td>\n",
       "      <td>1470810456000</td>\n",
       "      <td>HTTP link to original article\\n\\nhttps://www.s...</td>\n",
       "      <td>,trizet,sybse,nasdaq,mtpaia,flems,cohrnt,</td>\n",
       "      <td>,cohrnt,</td>\n",
       "      <td></td>\n",
       "      <td>NEWS BITES - PEOPLE IN BUSINESS\\n\\nDirector, C...</td>\n",
       "      <td>1470787200000</td>\n",
       "      <td>...</td>\n",
       "      <td>,cohrnt,cohrnt,cohrnt,flems,flems,mtpaia,mtpai...</td>\n",
       "      <td>,i372,i951,</td>\n",
       "      <td>Coherent director L. William Krause sells 09 A...</td>\n",
       "      <td>1470787200000</td>\n",
       "      <td>News Bites Pty Ltd (Europe)</td>\n",
       "      <td>add</td>\n",
       "      <td>article</td>\n",
       "      <td></td>\n",
       "      <td>NaN</td>\n",
       "      <td>2016</td>\n",
       "    </tr>\n",
       "    <tr>\n",
       "      <th>999</th>\n",
       "      <td>© Copyright 2016 Computer Weekly News via via ...</td>\n",
       "      <td>,c133,ccat,cgymtr,cinprp,</td>\n",
       "      <td></td>\n",
       "      <td>1466719611000</td>\n",
       "      <td>The following quote was obtained by the news e...</td>\n",
       "      <td>,stry,sleiga,hmyhhz,</td>\n",
       "      <td>,stry,</td>\n",
       "      <td></td>\n",
       "      <td>2016 JUN 29 (VerticalNews) -- By a News Report...</td>\n",
       "      <td>1466640000000</td>\n",
       "      <td>...</td>\n",
       "      <td>,stry,hmyhhz,hmyhhz,sleiga,sleiga,stry,stry,</td>\n",
       "      <td>,icomp,i3302,itech,i372,i951,</td>\n",
       "      <td>Stryker Leibinger GmbH &amp; Co. KG; \"Computer-Imp...</td>\n",
       "      <td>1466640000000</td>\n",
       "      <td>NewsRX, LLC</td>\n",
       "      <td>add</td>\n",
       "      <td>article</td>\n",
       "      <td>NaN</td>\n",
       "      <td>NaN</td>\n",
       "      <td>2016</td>\n",
       "    </tr>\n",
       "  </tbody>\n",
       "</table>\n",
       "<p>1000 rows × 36 columns</p>\n",
       "</div>"
      ],
      "text/plain": [
       "                                             copyright  \\\n",
       "0    (c) Copyright 2014 Obesity, Fitness & Wellness...   \n",
       "1    © 2014 The Advisory Board Company. All rights ...   \n",
       "2    © Copyright 2014 Clinical Trials Week via News...   \n",
       "3    © Copyright 2018 Journal of Engineering via Ve...   \n",
       "4    © Copyright 2017 Pharma Business Week via News...   \n",
       "..                                                 ...   \n",
       "995  © Copyright 2015 Obesity, Fitness & Wellness W...   \n",
       "996  (c) 2016. Theflyonthewall.com.  All Rights Res...   \n",
       "997  (c) 2015. Theflyonthewall.com.  All Rights Res...   \n",
       "998               Copyright 2016. News Bites Pty Ltd.    \n",
       "999  © Copyright 2016 Computer Weekly News via via ...   \n",
       "\n",
       "                                         subject_codes art  \\\n",
       "0    ,grdly,gscho,nnam,ccat,gcat,gedu,ghea,gtrea,nc...       \n",
       "1     ,nabst,cempbn,c42,ccat,cwrkpa,ncat,nfact,nfcpin,       \n",
       "2    ,c23,ctrial,gcancr,gcrese,gsci,c22,ccat,gcat,g...       \n",
       "3                    ,c151,c15,ccat,ncat,nfact,nfcpin,       \n",
       "4                          ,ctmark,cgymtr,ccat,cinprp,       \n",
       "..                                                 ...  ..   \n",
       "995                                                          \n",
       "996  ,c151,ctrial,nrmf,c15,c23,ccat,ncat,nfact,nfce...       \n",
       "997                       ,c15,ccat,ncat,nfact,nfcpin,       \n",
       "998  ,cdirdl,c18,c41,cactio,ccat,ncat,nfact,nfcpex,...       \n",
       "999                          ,c133,ccat,cgymtr,cinprp,       \n",
       "\n",
       "     modification_datetime                                               body  \\\n",
       "0            1391132355000  \"When we decided to purchase new ultrasound eq...   \n",
       "1            1390496727000  A similar ban already applies to self-insured ...   \n",
       "2            1390525806000  Dr. Curiel is the leader for TumAdoR Project 6...   \n",
       "3            1523916466000  Cost of manufactured product increased $4.7 mi...   \n",
       "4            1499725044000  The international trademark goods and services...   \n",
       "..                     ...                                                ...   \n",
       "995          1440799781000  Our news editors obtained a quote from the res...   \n",
       "996          1470946360000   We believe we are developing edasalonexent in...   \n",
       "997          1446673637000                                                NaN   \n",
       "998          1470810456000  HTTP link to original article\\n\\nhttps://www.s...   \n",
       "999          1466719611000  The following quote was obtained by the news e...   \n",
       "\n",
       "                           company_codes_occur company_codes_about  \\\n",
       "0                        ,tshba,tosmsc,toamsi,             ,tshba,   \n",
       "1                                      ,irevs,             ,irevs,   \n",
       "2                                                                    \n",
       "3                                ,retrac,nyse,            ,retrac,   \n",
       "4                                     ,brstmy,            ,brstmy,   \n",
       "..                                         ...                 ...   \n",
       "995                                    ,nthun,             ,nthun,   \n",
       "996                                   ,ctbiph,            ,ctbiph,   \n",
       "997                                     ,xenp,              ,xenp,   \n",
       "998  ,trizet,sybse,nasdaq,mtpaia,flems,cohrnt,            ,cohrnt,   \n",
       "999                       ,stry,sleiga,hmyhhz,              ,stry,   \n",
       "\n",
       "    company_codes_lineage                                            snippet  \\\n",
       "0                          2014 FEB 8 (NewsRx) -- By a News Reporter-Staf...   \n",
       "1                          The Internal Revenue Service last week signale...   \n",
       "2                          2014 JAN 27 (NewsRx) -- By a News Reporter-Sta...   \n",
       "3                          2018 APR 16 (VerticalNews) -- By a News Report...   \n",
       "4                          2017 JUL 10 (NewsRx) -- By a News Reporter-Sta...   \n",
       "..                    ...                                                ...   \n",
       "995                        2015 SEP 5 (NewsRx) -- By a News Reporter-Staf...   \n",
       "996                        16:12 EDT Catabasis Pharmaceuticals reports Q2...   \n",
       "997                        Charge recorded as part of restructuring to fo...   \n",
       "998                        NEWS BITES - PEOPLE IN BUSINESS\\n\\nDirector, C...   \n",
       "999                        2016 JUN 29 (VerticalNews) -- By a News Report...   \n",
       "\n",
       "     publication_date  ...                                      company_codes  \\\n",
       "0       1391817600000  ...    ,toamsi,toamsi,tosmsc,tosmsc,tshba,tshba,tshba,   \n",
       "1       1390262400000  ...                                ,irevs,irevs,irevs,   \n",
       "2       1390780800000  ...                                           ,euruno,   \n",
       "3       1523836800000  ...             ,retrac,nyse,nyse,retrac,retrac,seexc,   \n",
       "4       1499644800000  ...                             ,brstmy,brstmy,brstmy,   \n",
       "..                ...  ...                                                ...   \n",
       "995     1440720000000  ...                         ,biomce,nthun,nthun,nthun,   \n",
       "996     1470873600000  ...                             ,ctbiph,ctbiph,ctbiph,   \n",
       "997     1446595200000  ...                                   ,xenp,xenp,xenp,   \n",
       "998     1470787200000  ...  ,cohrnt,cohrnt,cohrnt,flems,flems,mtpaia,mtpai...   \n",
       "999     1466640000000  ...       ,stry,hmyhhz,hmyhhz,sleiga,sleiga,stry,stry,   \n",
       "\n",
       "                                 industry_codes  \\\n",
       "0    ,iphmed,i372,i951,i3302,i3454,ielec,itech,   \n",
       "1                                   ,i257,i951,   \n",
       "2                     ,i257,i2573,i951,idrugty,   \n",
       "3                                   ,i372,i951,   \n",
       "4                      ,i257,ibioph,i2569,i951,   \n",
       "..                                          ...   \n",
       "995                   ,i2576,i257,i951,idrugty,   \n",
       "996                    ,i2569,i257,i951,ibioph,   \n",
       "997                                 ,i257,i951,   \n",
       "998                                 ,i372,i951,   \n",
       "999               ,icomp,i3302,itech,i372,i951,   \n",
       "\n",
       "                                                 title publication_datetime  \\\n",
       "0    Toshiba America Medical Systems, Inc. Arizona ...        1391817600000   \n",
       "1    IRS Delaying ACA's Equal-Coverage Provision fo...        1390262400000   \n",
       "2    Clinical Trials and Studies; Broad-spectrum ca...        1390780800000   \n",
       "3    Retractable Technologies Inc. Retractable Tech...        1523836800000   \n",
       "4    Pharmaceutical Companies; An Application for t...        1499644800000   \n",
       "..                                                 ...                  ...   \n",
       "995  Cardiovascular Research; Study Results from No...        1440720000000   \n",
       "996  16:12 EDT Catabasis Pharmaceuticals reports Q2...        1470873600000   \n",
       "997  XenoPort says recorded $3M restructuring charg...        1446595200000   \n",
       "998  Coherent director L. William Krause sells 09 A...        1470787200000   \n",
       "999  Stryker Leibinger GmbH & Co. KG; \"Computer-Imp...        1466640000000   \n",
       "\n",
       "                                      publisher_name  action document_type  \\\n",
       "0                                         NewsRx.com     add       article   \n",
       "1    The Advisory Board Company/American Health Line     add       article   \n",
       "2                                         NewsRx.com     add       article   \n",
       "3                                        NewsRX, LLC     add       article   \n",
       "4                                        NewsRX, LLC     add       article   \n",
       "..                                               ...     ...           ...   \n",
       "995                                      NewsRX, LLC     add       article   \n",
       "996                              Theflyonthewall.com     add       article   \n",
       "997                              Theflyonthewall.com     add       article   \n",
       "998                      News Bites Pty Ltd (Europe)     add       article   \n",
       "999                                      NewsRX, LLC     add       article   \n",
       "\n",
       "    section dateline  year  \n",
       "0       NaN      NaN  2014  \n",
       "1       NaN      NaN  2014  \n",
       "2       NaN      NaN  2014  \n",
       "3                NaN  2018  \n",
       "4                NaN  2017  \n",
       "..      ...      ...   ...  \n",
       "995     NaN      NaN  2015  \n",
       "996              NaN  2016  \n",
       "997     NaN      NaN  2015  \n",
       "998              NaN  2016  \n",
       "999     NaN      NaN  2016  \n",
       "\n",
       "[1000 rows x 36 columns]"
      ]
     },
     "execution_count": 7,
     "metadata": {},
     "output_type": "execute_result"
    }
   ],
   "source": [
    "df1=df[:1000]\n",
    "df1"
   ]
  },
  {
   "cell_type": "code",
   "execution_count": 8,
   "metadata": {},
   "outputs": [
    {
     "data": {
      "text/plain": [
       ",usfda,usfda,usfda,       5\n",
       ",usfda,usfda,             4\n",
       ",seexc,                   4\n",
       ",brstmy,brstmy,brstmy,    4\n",
       ",pfiz,pfiz,pfiz,          3\n",
       ",ethri,ethri,medinc,      3\n",
       ",abotlb,abotlb,abotlb,    3\n",
       ",elsv,                    3\n",
       ",sndoz,sndoz,sndoz,       3\n",
       ",btl,btl,btl,             3\n",
       "dtype: int64"
      ]
     },
     "execution_count": 8,
     "metadata": {},
     "output_type": "execute_result"
    }
   ],
   "source": [
    "#freq = pd.Series(' '.join(df1['company_codes']).split()).value_counts()[:10]\n",
    "#freq"
   ]
  },
  {
   "cell_type": "code",
   "execution_count": 17,
   "metadata": {},
   "outputs": [
    {
     "data": {
      "text/plain": [
       "<matplotlib.axes._subplots.AxesSubplot at 0x7f7e362b9c10>"
      ]
     },
     "execution_count": 17,
     "metadata": {},
     "output_type": "execute_result"
    },
    {
     "data": {
      "image/png": "[encoded data removed]",
      "text/plain": [
       "<Figure size 432x288 with 1 Axes>"
      ]
     },
     "metadata": {
      "needs_background": "light"
     },
     "output_type": "display_data"
    }
   ],
   "source": [
    "# Top 20 companies (or group of comapnies) in total and by year (remove the plot() function to get a table)\n",
    "df1['company_codes'].value_counts()[:20].plot(kind='barh')"
   ]
  },
  {
   "cell_type": "code",
   "execution_count": 22,
   "metadata": {},
   "outputs": [
    {
     "data": {
      "text/plain": [
       "<matplotlib.axes._subplots.AxesSubplot at 0x7f7e2c008610>"
      ]
     },
     "execution_count": 22,
     "metadata": {},
     "output_type": "execute_result"
    },
    {
     "data": {
      "image/png": "[encoded data removed]",
      "text/plain": [
       "<Figure size 432x288 with 1 Axes>"
      ]
     },
     "metadata": {
      "needs_background": "light"
     },
     "output_type": "display_data"
    }
   ],
   "source": [
    "df_13['company_codes'].value_counts()[:20].plot(kind='barh')"
   ]
  },
  {
   "cell_type": "code",
   "execution_count": 23,
   "metadata": {},
   "outputs": [
    {
     "data": {
      "text/plain": [
       "<matplotlib.axes._subplots.AxesSubplot at 0x7f7e2c00a390>"
      ]
     },
     "execution_count": 23,
     "metadata": {},
     "output_type": "execute_result"
    },
    {
     "data": {
      "image/png": "[encoded data removed]",
      "text/plain": [
       "<Figure size 432x288 with 1 Axes>"
      ]
     },
     "metadata": {
      "needs_background": "light"
     },
     "output_type": "display_data"
    }
   ],
   "source": [
    "df_14['company_codes'].value_counts()[:20].plot(kind='barh')"
   ]
  },
  {
   "cell_type": "code",
   "execution_count": 24,
   "metadata": {},
   "outputs": [
    {
     "data": {
      "text/plain": [
       "<matplotlib.axes._subplots.AxesSubplot at 0x7f7e2bf77510>"
      ]
     },
     "execution_count": 24,
     "metadata": {},
     "output_type": "execute_result"
    },
    {
     "data": {
      "image/png": "[encoded data removed]",
      "text/plain": [
       "<Figure size 432x288 with 1 Axes>"
      ]
     },
     "metadata": {
      "needs_background": "light"
     },
     "output_type": "display_data"
    }
   ],
   "source": [
    "df_15['company_codes'].value_counts()[:20].plot(kind='barh')"
   ]
  },
  {
   "cell_type": "code",
   "execution_count": 27,
   "metadata": {},
   "outputs": [
    {
     "data": {
      "text/plain": [
       "<matplotlib.axes._subplots.AxesSubplot at 0x7f7e18484590>"
      ]
     },
     "execution_count": 27,
     "metadata": {},
     "output_type": "execute_result"
    },
    {
     "data": {
      "image/png": "[encoded data removed]",
      "text/plain": [
       "<Figure size 432x288 with 1 Axes>"
      ]
     },
     "metadata": {
      "needs_background": "light"
     },
     "output_type": "display_data"
    }
   ],
   "source": [
    "df_16['company_codes'].value_counts()[:20].plot(kind='barh')"
   ]
  },
  {
   "cell_type": "code",
   "execution_count": 28,
   "metadata": {},
   "outputs": [
    {
     "data": {
      "text/plain": [
       "<matplotlib.axes._subplots.AxesSubplot at 0x7f7e2bf83d10>"
      ]
     },
     "execution_count": 28,
     "metadata": {},
     "output_type": "execute_result"
    },
    {
     "data": {
      "image/png": "[encoded data removed]",
      "text/plain": [
       "<Figure size 432x288 with 1 Axes>"
      ]
     },
     "metadata": {
      "needs_background": "light"
     },
     "output_type": "display_data"
    }
   ],
   "source": [
    "df_17['company_codes'].value_counts()[:20].plot(kind='barh')"
   ]
  },
  {
   "cell_type": "code",
   "execution_count": 29,
   "metadata": {},
   "outputs": [
    {
     "data": {
      "text/plain": [
       "<matplotlib.axes._subplots.AxesSubplot at 0x7f7e183ed190>"
      ]
     },
     "execution_count": 29,
     "metadata": {},
     "output_type": "execute_result"
    },
    {
     "data": {
      "image/png": "[encoded data removed]",
      "text/plain": [
       "<Figure size 432x288 with 1 Axes>"
      ]
     },
     "metadata": {
      "needs_background": "light"
     },
     "output_type": "display_data"
    }
   ],
   "source": [
    "df_18['company_codes'].value_counts()[:20].plot(kind='barh')"
   ]
  },
  {
   "cell_type": "code",
   "execution_count": 33,
   "metadata": {},
   "outputs": [
    {
     "data": {
      "text/plain": [
       ",usfda,usfda,usfda,                                      2752\n",
       ",usfda,                                                  1089\n",
       ",uscdcp,                                                  655\n",
       ",pfiz,pfiz,pfiz,                                          642\n",
       ",usfda,usfda,                                             549\n",
       ",peain,peain,peain,                                       496\n",
       ",uscdcp,uscdcp,                                           495\n",
       ",twnit,                                                   468\n",
       ",lilye,lilye,lilye,                                       466\n",
       ",jonjon,jonjon,jonjon,                                    457\n",
       ",purdp,purdp,purdp,                                       448\n",
       ",brstmy,brstmy,brstmy,                                    387\n",
       ",bosts,bosts,bosts,                                       380\n",
       ",ethri,ethri,medinc,                                      347\n",
       ",medinc,medinc,medinc,                                    342\n",
       ",sndoz,sndoz,sndoz,                                       328\n",
       ",iconre,iconre,iconre,                                    327\n",
       ",abvbba,abvbba,abvbba,                                    301\n",
       ",elsv,elsv,                                               289\n",
       ",amge,amge,amge,                                          250\n",
       ",uscdcp,uscdcp,uscdcp,                                    248\n",
       ",seexc,seexc,                                             225\n",
       ",bekdik,bekdik,bekdik,                                    224\n",
       ",gmednn,gmednn,gmednn,                                    223\n",
       ",allabs,allabs,allabs,anndvs,mhpra,mhpra,usfda,usfda,     209\n",
       ",celg,celg,celg,                                          205\n",
       ",gilsci,gilsci,gilsci,                                    197\n",
       ",edlfsc,edlfsc,edlfsc,                                    181\n",
       ",schplo,schplo,schplo,                                    180\n",
       ",zenec,zenec,zenec,                                       176\n",
       ",snphin,snphin,snphin,                                    171\n",
       ",schplo,                                                  171\n",
       ",glxo,glxo,glxo,                                          169\n",
       ",peain,                                                   156\n",
       ",wtsnph,wtsnph,wtsnph,allgop,                             155\n",
       ",hofman,                                                  145\n",
       ",verpha,verpha,verpha,                                    144\n",
       ",bosts,bosts,seexc,bosts,                                 144\n",
       ",stry,stry,stry,                                          143\n",
       ",gdxc,gdxc,gdxc,                                          139\n",
       ",ckgrp,ckgrp,ckgrp,                                       139\n",
       ",teviy,teviy,teviy,                                       138\n",
       ",zoetii,zoetii,zoetii,                                    133\n",
       ",sn,sn,sn,                                                133\n",
       ",sansyn,sansyn,sansyn,                                    129\n",
       ",usdhhs,                                                  128\n",
       ",hofman,hofman,hofman,                                    123\n",
       ",rsmdin,rsmdin,rsmdin,                                    123\n",
       ",holgin,holgin,holgin,                                    122\n",
       ",trimel,trimel,trimel,                                    121\n",
       "Name: company_codes, dtype: int64"
      ]
     },
     "execution_count": 33,
     "metadata": {},
     "output_type": "execute_result"
    }
   ],
   "source": [
    "df_18['company_codes'].value_counts()[:20]"
   ]
  },
  {
   "cell_type": "code",
   "execution_count": 49,
   "metadata": {},
   "outputs": [
    {
     "name": "stdout",
     "output_type": "stream",
     "text": [
      "<FreqDist with 35227 samples and 5180142 outcomes>\n"
     ]
    }
   ],
   "source": [
    "# Top 20 individual companies in the dataset in total and by year\n",
    "top_N = 100\n",
    "#if not necessary all lower\n",
    "a = df_14['company_codes'].str.lower().str.cat(sep=' ')\n",
    "words = nltk.tokenize.word_tokenize(a)\n",
    "word_dist = nltk.FreqDist(words)\n",
    "print (word_dist)"
   ]
  },
  {
   "cell_type": "code",
   "execution_count": 50,
   "metadata": {},
   "outputs": [
    {
     "name": "stdout",
     "output_type": "stream",
     "text": [
      "      code  Frequency\n",
      "0        ,    2756668\n",
      "1    seexc     107882\n",
      "2    usfda      55223\n",
      "3   fffaim      37510\n",
      "4     pfiz      28295\n",
      "..     ...        ...\n",
      "95  gnzyme       2478\n",
      "96     ibm       2445\n",
      "97  rsmdin       2437\n",
      "98   wlgrn       2436\n",
      "99  snphin       2428\n",
      "\n",
      "[100 rows x 2 columns]\n"
     ]
    }
   ],
   "source": [
    "rslt = pd.DataFrame(word_dist.most_common(top_N),\n",
    "                    columns=['code', 'Frequency'])\n",
    "print(rslt)"
   ]
  },
  {
   "cell_type": "code",
   "execution_count": 9,
   "metadata": {},
   "outputs": [
    {
     "data": {
      "text/plain": [
       "<matplotlib.axes._subplots.AxesSubplot at 0x7f0dafc35c50>"
      ]
     },
     "execution_count": 9,
     "metadata": {},
     "output_type": "execute_result"
    },
    {
     "data": {
      "image/png": "[encoded data removed]",
      "text/plain": [
       "<Figure size 432x288 with 1 Axes>"
      ]
     },
     "metadata": {
      "needs_background": "light"
     },
     "output_type": "display_data"
    }
   ],
   "source": [
    "# Top 20 publishers in total and by year\n",
    "#df1['publisher_name'].value_counts()[:20]\n",
    "df1['publisher_name'].value_counts()[:20].plot(kind='barh')"
   ]
  },
  {
   "cell_type": "code",
   "execution_count": 11,
   "metadata": {},
   "outputs": [
    {
     "data": {
      "text/plain": [
       "364991"
      ]
     },
     "execution_count": 11,
     "metadata": {},
     "output_type": "execute_result"
    }
   ],
   "source": [
    "# Number of articles per year\n",
    "df_13.an.count()\n",
    "#or\n",
    "#len(df_13.an)"
   ]
  },
  {
   "cell_type": "code",
   "execution_count": null,
   "metadata": {},
   "outputs": [],
   "source": [
    "# Number of publisher and compnay per year"
   ]
  },
  {
   "cell_type": "code",
   "execution_count": null,
   "metadata": {},
   "outputs": [],
   "source": [
    "# For each publisher, how many articles overall and per year? (table) "
   ]
  }
 ],
 "metadata": {
  "kernelspec": {
   "display_name": "Python 3",
   "language": "python",
   "name": "python3"
  },
  "language_info": {
   "codemirror_mode": {
    "name": "ipython",
    "version": 3
   },
   "file_extension": ".py",
   "mimetype": "text/x-python",
   "name": "python",
   "nbconvert_exporter": "python",
   "pygments_lexer": "ipython3",
   "version": "3.7.4"
  }
 },
 "nbformat": 4,
 "nbformat_minor": 4
}
