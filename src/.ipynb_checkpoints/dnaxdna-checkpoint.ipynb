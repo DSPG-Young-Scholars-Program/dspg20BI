{
 "cells": [
  {
   "cell_type": "code",
   "execution_count": 1,
   "metadata": {},
   "outputs": [
    {
     "name": "stderr",
     "output_type": "stream",
     "text": [
      "/home/itm3f/.local/lib/python3.7/site-packages/fuzzywuzzy/fuzz.py:11: UserWarning: Using slow pure-python SequenceMatcher. Install python-Levenshtein to remove this warning\n",
      "  warnings.warn('Using slow pure-python SequenceMatcher. Install python-Levenshtein to remove this warning')\n"
     ]
    }
   ],
   "source": [
    "import numpy as np\n",
    "import pandas as pd\n",
    "import nltk\n",
    "from fuzzywuzzy import fuzz"
   ]
  },
  {
   "cell_type": "code",
   "execution_count": 2,
   "metadata": {},
   "outputs": [],
   "source": [
    "##Function that takes in 3 lists, the list of strings you want to compare, the list of strings you're comparing to and a list with the original way the string from list 1 was written.  \n",
    "def matchWithFuzzyNames(l1, l2, original, row_num):\n",
    "    match = pd.DataFrame(columns = ['original company names', 'clean company name', 'company matches', 'fuzz ratio'])\n",
    "    for i in l1:\n",
    "        matches = []\n",
    "        score = []\n",
    "        score_partial = []\n",
    "        \n",
    "        for j in l2:\n",
    "            #due to time constraints, we set the fuzz.ratio to 100, however future programming should adjust this value to some other quantity to see if we get better matches\n",
    "            if (fuzz.ratio(i,j)) == 100:\n",
    "                matches.append(j)\n",
    "                score.append(fuzz.ratio(i,j))\n",
    "                #the partial ratio will return the ratio raw score of 100  if the shorter string is found an any of substrings of the larger string, used this as a safety net and potentially as an additional step to \n",
    "                score_partial.append((fuzz.partial_ratio(i,j)))\n",
    "        match = match.append({ 'clean company name': i,'company matches': matches, 'fuzz ratio': score, 'fuzz partial ratio': score_partial},ignore_index=True)\n",
    "        \n",
    "    match['original company names'] = original\n",
    "    match['original row number'] = row_num\n",
    " \n",
    "#Will output a pandas dataframe with 4 columns\n",
    "    return match"
   ]
  },
  {
   "cell_type": "code",
   "execution_count": 3,
   "metadata": {},
   "outputs": [],
   "source": [
    "#read in clean dna data\n",
    "dna = pd.read_csv(\"../data/working/dna_clean.csv\", index_col = [0])"
   ]
  },
  {
   "cell_type": "code",
   "execution_count": 4,
   "metadata": {},
   "outputs": [
    {
     "data": {
      "text/plain": [
       "Index(['Unnamed: 0.1', 'Code', 'Description', 'cleaned_companies'], dtype='object')"
      ]
     },
     "execution_count": 4,
     "metadata": {},
     "output_type": "execute_result"
    }
   ],
   "source": [
    "dna.columns"
   ]
  },
  {
   "cell_type": "code",
   "execution_count": 5,
   "metadata": {},
   "outputs": [],
   "source": [
    "dna_clean = dna.dropna()"
   ]
  },
  {
   "cell_type": "code",
   "execution_count": 6,
   "metadata": {},
   "outputs": [
    {
     "data": {
      "text/html": [
       "<div>\n",
       "<style scoped>\n",
       "    .dataframe tbody tr th:only-of-type {\n",
       "        vertical-align: middle;\n",
       "    }\n",
       "\n",
       "    .dataframe tbody tr th {\n",
       "        vertical-align: top;\n",
       "    }\n",
       "\n",
       "    .dataframe thead th {\n",
       "        text-align: right;\n",
       "    }\n",
       "</style>\n",
       "<table border=\"1\" class=\"dataframe\">\n",
       "  <thead>\n",
       "    <tr style=\"text-align: right;\">\n",
       "      <th></th>\n",
       "      <th>Unnamed: 0.1</th>\n",
       "      <th>Code</th>\n",
       "      <th>Description</th>\n",
       "      <th>cleaned_companies</th>\n",
       "    </tr>\n",
       "  </thead>\n",
       "  <tbody>\n",
       "    <tr>\n",
       "      <th>0</th>\n",
       "      <td>0</td>\n",
       "      <td>AA</td>\n",
       "      <td>AA PLC</td>\n",
       "      <td>aa</td>\n",
       "    </tr>\n",
       "    <tr>\n",
       "      <th>1</th>\n",
       "      <td>2</td>\n",
       "      <td>AAAADJ</td>\n",
       "      <td>Emperial Americas, Inc.</td>\n",
       "      <td>emperial americas</td>\n",
       "    </tr>\n",
       "    <tr>\n",
       "      <th>2</th>\n",
       "      <td>3</td>\n",
       "      <td>AAAAIY</td>\n",
       "      <td>American Academy of Allergy, Asthma and Immuno...</td>\n",
       "      <td>academy allergy asthma immunology</td>\n",
       "    </tr>\n",
       "    <tr>\n",
       "      <th>3</th>\n",
       "      <td>5</td>\n",
       "      <td>AAABBB</td>\n",
       "      <td>Bird Studies Canada</td>\n",
       "      <td>bird studies canada</td>\n",
       "    </tr>\n",
       "    <tr>\n",
       "      <th>4</th>\n",
       "      <td>6</td>\n",
       "      <td>AAACK</td>\n",
       "      <td>Aesculap AG &amp; Co. KG</td>\n",
       "      <td>aesculap&amp;co</td>\n",
       "    </tr>\n",
       "  </tbody>\n",
       "</table>\n",
       "</div>"
      ],
      "text/plain": [
       "   Unnamed: 0.1    Code                                        Description  \\\n",
       "0             0      AA                                             AA PLC   \n",
       "1             2  AAAADJ                            Emperial Americas, Inc.   \n",
       "2             3  AAAAIY  American Academy of Allergy, Asthma and Immuno...   \n",
       "3             5  AAABBB                                Bird Studies Canada   \n",
       "4             6   AAACK                               Aesculap AG & Co. KG   \n",
       "\n",
       "                   cleaned_companies  \n",
       "0                                 aa  \n",
       "1                  emperial americas  \n",
       "2  academy allergy asthma immunology  \n",
       "3                bird studies canada  \n",
       "4                        aesculap&co  "
      ]
     },
     "execution_count": 6,
     "metadata": {},
     "output_type": "execute_result"
    }
   ],
   "source": [
    "dna_clean.head()"
   ]
  },
  {
   "cell_type": "code",
   "execution_count": 7,
   "metadata": {},
   "outputs": [],
   "source": [
    "dna_org = dna_clean['Description'].reset_index()"
   ]
  },
  {
   "cell_type": "code",
   "execution_count": 8,
   "metadata": {},
   "outputs": [],
   "source": [
    "dna_row = dna_org['index']"
   ]
  },
  {
   "cell_type": "code",
   "execution_count": 9,
   "metadata": {},
   "outputs": [],
   "source": [
    "dna_comp = dna_org['Description']"
   ]
  },
  {
   "cell_type": "code",
   "execution_count": 10,
   "metadata": {},
   "outputs": [],
   "source": [
    "dna_list = dna_clean['cleaned_companies']"
   ]
  },
  {
   "cell_type": "code",
   "execution_count": null,
   "metadata": {},
   "outputs": [],
   "source": [
    "matching = matchWithFuzzyNames(dna_list, dna_list, dna_comp, dna_row)\n",
    "print(matching)"
   ]
  },
  {
   "cell_type": "code",
   "execution_count": null,
   "metadata": {},
   "outputs": [],
   "source": [
    "matching"
   ]
  },
  {
   "cell_type": "code",
   "execution_count": 12,
   "metadata": {},
   "outputs": [],
   "source": [
    "x = pd.read_csv(\"../data/working/ndc_dna_matching.csv\", index_col = [0])"
   ]
  },
  {
   "cell_type": "code",
   "execution_count": 19,
   "metadata": {},
   "outputs": [
    {
     "data": {
      "text/html": [
       "<div>\n",
       "<style scoped>\n",
       "    .dataframe tbody tr th:only-of-type {\n",
       "        vertical-align: middle;\n",
       "    }\n",
       "\n",
       "    .dataframe tbody tr th {\n",
       "        vertical-align: top;\n",
       "    }\n",
       "\n",
       "    .dataframe thead th {\n",
       "        text-align: right;\n",
       "    }\n",
       "</style>\n",
       "<table border=\"1\" class=\"dataframe\">\n",
       "  <thead>\n",
       "    <tr style=\"text-align: right;\">\n",
       "      <th></th>\n",
       "      <th>clean NDC company</th>\n",
       "      <th>original NDC company</th>\n",
       "      <th>NDC row</th>\n",
       "      <th>corporate family</th>\n",
       "      <th>clean DNA row</th>\n",
       "      <th>clean DNA company</th>\n",
       "      <th>original DNA company</th>\n",
       "      <th>fuzz ratio</th>\n",
       "    </tr>\n",
       "  </thead>\n",
       "  <tbody>\n",
       "    <tr>\n",
       "      <th>790</th>\n",
       "      <td>ww grainger</td>\n",
       "      <td>W.W. GRAINGER, INC.</td>\n",
       "      <td>6698</td>\n",
       "      <td>ww grainger</td>\n",
       "      <td>[24739]</td>\n",
       "      <td>['ww grainger']</td>\n",
       "      <td>['W.W. Grainger, Inc.']</td>\n",
       "      <td>[100]</td>\n",
       "    </tr>\n",
       "    <tr>\n",
       "      <th>791</th>\n",
       "      <td>wyeth</td>\n",
       "      <td>Wyeth Pharmaceuticals Company</td>\n",
       "      <td>6903</td>\n",
       "      <td>wyeth</td>\n",
       "      <td>[1808, 15691]</td>\n",
       "      <td>['wyeth', 'wyeth']</td>\n",
       "      <td>['Wyeth LLC', 'Wyeth Ltd.']</td>\n",
       "      <td>[100, 100]</td>\n",
       "    </tr>\n",
       "    <tr>\n",
       "      <th>792</th>\n",
       "      <td>x labs</td>\n",
       "      <td>X3 Labs Inc.</td>\n",
       "      <td>6907</td>\n",
       "      <td>x labs</td>\n",
       "      <td>[63128]</td>\n",
       "      <td>['x labs']</td>\n",
       "      <td>['X3 Labs Inc']</td>\n",
       "      <td>[100]</td>\n",
       "    </tr>\n",
       "    <tr>\n",
       "      <th>793</th>\n",
       "      <td>xiamen</td>\n",
       "      <td>Xiamen LP Pharmaceutical Co., Ltd.</td>\n",
       "      <td>6918</td>\n",
       "      <td>xiamen</td>\n",
       "      <td>[62983]</td>\n",
       "      <td>['xiamen']</td>\n",
       "      <td>['Xiamen International Bank Company Limited']</td>\n",
       "      <td>[100]</td>\n",
       "    </tr>\n",
       "    <tr>\n",
       "      <th>794</th>\n",
       "      <td>xl</td>\n",
       "      <td>2xl Corporation</td>\n",
       "      <td>14</td>\n",
       "      <td>xl</td>\n",
       "      <td>[63030]</td>\n",
       "      <td>['xl']</td>\n",
       "      <td>['XL Group Ltd']</td>\n",
       "      <td>[100]</td>\n",
       "    </tr>\n",
       "    <tr>\n",
       "      <th>795</th>\n",
       "      <td>yes to</td>\n",
       "      <td>Yes To Inc., Yes To Incorporated, Yes To, Inc.</td>\n",
       "      <td>6942, 6943, 6944</td>\n",
       "      <td>yes to</td>\n",
       "      <td>[63288]</td>\n",
       "      <td>['yes to']</td>\n",
       "      <td>['Yes To Inc.']</td>\n",
       "      <td>[100]</td>\n",
       "    </tr>\n",
       "    <tr>\n",
       "      <th>796</th>\n",
       "      <td>young living essential oils</td>\n",
       "      <td>Young Living Essential Oils, LC</td>\n",
       "      <td>6955</td>\n",
       "      <td>young living essential oils</td>\n",
       "      <td>[4496]</td>\n",
       "      <td>['young living essential oils']</td>\n",
       "      <td>['Young Living Essential Oils, LC']</td>\n",
       "      <td>[100]</td>\n",
       "    </tr>\n",
       "    <tr>\n",
       "      <th>797</th>\n",
       "      <td>zee</td>\n",
       "      <td>Zee Medical, Zee Medical Inc</td>\n",
       "      <td>6976, 6977</td>\n",
       "      <td>zee</td>\n",
       "      <td>[63599]</td>\n",
       "      <td>['zee']</td>\n",
       "      <td>['Zee Medical Inc']</td>\n",
       "      <td>[100]</td>\n",
       "    </tr>\n",
       "    <tr>\n",
       "      <th>798</th>\n",
       "      <td>zep</td>\n",
       "      <td>Zep Inc., Zep, Inc</td>\n",
       "      <td>6983, 6984</td>\n",
       "      <td>zep</td>\n",
       "      <td>[63637]</td>\n",
       "      <td>['zep']</td>\n",
       "      <td>['Zep Inc.']</td>\n",
       "      <td>[100]</td>\n",
       "    </tr>\n",
       "    <tr>\n",
       "      <th>799</th>\n",
       "      <td>zoom</td>\n",
       "      <td>ZOOM PRODUCTS LLC</td>\n",
       "      <td>7012</td>\n",
       "      <td>zoom</td>\n",
       "      <td>[63786]</td>\n",
       "      <td>['zoom']</td>\n",
       "      <td>['Zoom Technologies Inc']</td>\n",
       "      <td>[100]</td>\n",
       "    </tr>\n",
       "  </tbody>\n",
       "</table>\n",
       "</div>"
      ],
      "text/plain": [
       "               clean NDC company  \\\n",
       "790                  ww grainger   \n",
       "791                        wyeth   \n",
       "792                       x labs   \n",
       "793                       xiamen   \n",
       "794                           xl   \n",
       "795                       yes to   \n",
       "796  young living essential oils   \n",
       "797                          zee   \n",
       "798                          zep   \n",
       "799                         zoom   \n",
       "\n",
       "                               original NDC company           NDC row  \\\n",
       "790                             W.W. GRAINGER, INC.              6698   \n",
       "791                   Wyeth Pharmaceuticals Company              6903   \n",
       "792                                    X3 Labs Inc.              6907   \n",
       "793              Xiamen LP Pharmaceutical Co., Ltd.              6918   \n",
       "794                                 2xl Corporation                14   \n",
       "795  Yes To Inc., Yes To Incorporated, Yes To, Inc.  6942, 6943, 6944   \n",
       "796                 Young Living Essential Oils, LC              6955   \n",
       "797                    Zee Medical, Zee Medical Inc        6976, 6977   \n",
       "798                              Zep Inc., Zep, Inc        6983, 6984   \n",
       "799                               ZOOM PRODUCTS LLC              7012   \n",
       "\n",
       "                corporate family  clean DNA row  \\\n",
       "790                  ww grainger        [24739]   \n",
       "791                        wyeth  [1808, 15691]   \n",
       "792                       x labs        [63128]   \n",
       "793                       xiamen        [62983]   \n",
       "794                           xl        [63030]   \n",
       "795                       yes to        [63288]   \n",
       "796  young living essential oils         [4496]   \n",
       "797                          zee        [63599]   \n",
       "798                          zep        [63637]   \n",
       "799                         zoom        [63786]   \n",
       "\n",
       "                   clean DNA company  \\\n",
       "790                  ['ww grainger']   \n",
       "791               ['wyeth', 'wyeth']   \n",
       "792                       ['x labs']   \n",
       "793                       ['xiamen']   \n",
       "794                           ['xl']   \n",
       "795                       ['yes to']   \n",
       "796  ['young living essential oils']   \n",
       "797                          ['zee']   \n",
       "798                          ['zep']   \n",
       "799                         ['zoom']   \n",
       "\n",
       "                              original DNA company  fuzz ratio  \n",
       "790                        ['W.W. Grainger, Inc.']       [100]  \n",
       "791                    ['Wyeth LLC', 'Wyeth Ltd.']  [100, 100]  \n",
       "792                                ['X3 Labs Inc']       [100]  \n",
       "793  ['Xiamen International Bank Company Limited']       [100]  \n",
       "794                               ['XL Group Ltd']       [100]  \n",
       "795                                ['Yes To Inc.']       [100]  \n",
       "796            ['Young Living Essential Oils, LC']       [100]  \n",
       "797                            ['Zee Medical Inc']       [100]  \n",
       "798                                   ['Zep Inc.']       [100]  \n",
       "799                      ['Zoom Technologies Inc']       [100]  "
      ]
     },
     "execution_count": 19,
     "metadata": {},
     "output_type": "execute_result"
    }
   ],
   "source": [
    "x.tail(10)"
   ]
  },
  {
   "cell_type": "code",
   "execution_count": 14,
   "metadata": {},
   "outputs": [],
   "source": [
    "ndc = pd.read_csv(\"../data/working/ndc_clean.csv\", index_col = [0])"
   ]
  },
  {
   "cell_type": "code",
   "execution_count": 20,
   "metadata": {},
   "outputs": [
    {
     "data": {
      "text/plain": [
       "original_company    W.W. GRAINGER, INC.\n",
       "originalRow                        6723\n",
       "cleaned_name                ww grainger\n",
       "Name: 6698, dtype: object"
      ]
     },
     "execution_count": 20,
     "metadata": {},
     "output_type": "execute_result"
    }
   ],
   "source": [
    "ndc.iloc[6698]"
   ]
  },
  {
   "cell_type": "code",
   "execution_count": 18,
   "metadata": {},
   "outputs": [
    {
     "data": {
      "text/plain": [
       "original_company    Uline\n",
       "originalRow          6509\n",
       "cleaned_name        uline\n",
       "Name: 6484, dtype: object"
      ]
     },
     "execution_count": 18,
     "metadata": {},
     "output_type": "execute_result"
    }
   ],
   "source": [
    "ndc.iloc[6484]"
   ]
  },
  {
   "cell_type": "code",
   "execution_count": null,
   "metadata": {},
   "outputs": [],
   "source": []
  }
 ],
 "metadata": {
  "kernelspec": {
   "display_name": "Python 3",
   "language": "python",
   "name": "python3"
  },
  "language_info": {
   "codemirror_mode": {
    "name": "ipython",
    "version": 3
   },
   "file_extension": ".py",
   "mimetype": "text/x-python",
   "name": "python",
   "nbconvert_exporter": "python",
   "pygments_lexer": "ipython3",
   "version": "3.7.4"
  }
 },
 "nbformat": 4,
 "nbformat_minor": 4
}
