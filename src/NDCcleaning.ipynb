{
 "cells": [
  {
   "cell_type": "code",
   "execution_count": 62,
   "metadata": {},
   "outputs": [],
   "source": [
    "import numpy as np\n",
    "import pandas as pd\n",
    "import string\n",
    "import re\n",
    "from fuzzywuzzy import fuzz"
   ]
  },
  {
   "cell_type": "markdown",
   "metadata": {},
   "source": [
    "<h2>Reading in the datasets</h2>"
   ]
  },
  {
   "cell_type": "code",
   "execution_count": 2,
   "metadata": {},
   "outputs": [],
   "source": [
    "dna = pd.read_csv(\"../data/working/validcompaniesdictionary.csv\", index_col = [0])"
   ]
  },
  {
   "cell_type": "code",
   "execution_count": 3,
   "metadata": {},
   "outputs": [],
   "source": [
    "fda = pd.read_excel(\"../data/original/fda_companies.xlsx\")"
   ]
  },
  {
   "cell_type": "code",
   "execution_count": 129,
   "metadata": {},
   "outputs": [],
   "source": [
    "ndc = pd.read_excel(\"../data/original/BI DSPG Company Datasets/NDC_Company_Dataset.xls\")"
   ]
  },
  {
   "cell_type": "markdown",
   "metadata": {},
   "source": [
    "<h2>Neil's code for cleaning</h2>"
   ]
  },
  {
   "cell_type": "code",
   "execution_count": 5,
   "metadata": {},
   "outputs": [
    {
     "name": "stdout",
     "output_type": "stream",
     "text": [
      "!\"#'()*+,./:;<=>?@[\\]^`{|}~\n"
     ]
    }
   ],
   "source": [
    "removeset=string.punctuation\n",
    "removeset=removeset.replace(\"-\",\"\") #Don't remove dashes\n",
    "removeset=removeset.replace(\"&\",\"\") #Don't remove ampersand\n",
    "removeset=removeset.replace(\"_\",\"\") #Don't remove underscore\n",
    "removeset=removeset.replace(\"%\",\"\") #Don't remove percent\n",
    "removeset=removeset.replace(\"$\",\"\") #Don't remove dollar\n",
    "   \n",
    "print(removeset)"
   ]
  },
  {
   "cell_type": "code",
   "execution_count": 76,
   "metadata": {},
   "outputs": [
    {
     "name": "stdout",
     "output_type": "stream",
     "text": [
      "hello world\n",
      "hello world\n",
      "hello world\n",
      "hello world\n",
      "hello world\n",
      "hello-world\n",
      "hel&lo&world\n",
      "hel_lo wo_rld\n"
     ]
    }
   ],
   "source": [
    "# remove all single characters (This step is done first, because later there are single chars we want to retain.)\n",
    "#document = re.sub(r'\\s+[a-zA-Z]\\s+', ' ', str(X[sen]))\n",
    "string = \"hello i world\"\n",
    "string = re.sub(r'\\s+[a-zA-Z]\\s+', ' ', string)\n",
    "print(string)\n",
    "\n",
    "# remove all numbers\n",
    "#document = re.sub(r'[0-9]','', document)\n",
    "string2 = \"h3ll0\"\n",
    "string2 = re.sub(r'[0-9]','', string)\n",
    "print(string2)\n",
    "\n",
    "# Substituting multiple spaces with single space\n",
    "#document = re.sub(r'\\s+', ' ', document, flags=re.I)\n",
    "string3 = \"hello      world\"\n",
    "string3 = re.sub(r'\\s+', ' ', string3, flags=re.I)\n",
    "print(string3)\n",
    "\n",
    "#Converting to lowercase\n",
    "string4 = \"HEllo WORLD\"\n",
    "string4 = string4.lower()\n",
    "print(string4)\n",
    "\n",
    "#Removing prefixed 'b'\n",
    "#document = re.sub(r'^b\\s+', '', document)\n",
    "string5 = \"b hello world\"\n",
    "string5 = re.sub(r'^b\\s+', '', string5)\n",
    "print(string5)\n",
    "\n",
    "#Make dashes into combined words\n",
    "#document = re.sub(r'\\s-\\s+', '-', document)\n",
    "string6 = \"hello - world\"\n",
    "string6 = re.sub(r'\\s-\\s+', '-', string6)\n",
    "print(string6)\n",
    "\n",
    "#Make ampersand into combined words\n",
    "#document = re.sub(r'\\s&\\s+', '&', document)\n",
    "string7 = \"hel & lo & world\"\n",
    "string7 = re.sub(r'\\s&\\s+', '&', string7)\n",
    "print(string7)\n",
    "\n",
    "#Make underscore into combined words\n",
    "#document = re.sub(r'\\s_\\s+', '_', document)\n",
    "string8 = \"hel _ lo wo _ rld\"\n",
    "string8 = re.sub(r'\\s_\\s+', '_', string8)\n",
    "print(string8)"
   ]
  },
  {
   "cell_type": "code",
   "execution_count": 77,
   "metadata": {},
   "outputs": [
    {
     "name": "stdout",
     "output_type": "stream",
     "text": [
      "JohnsonJohnson\n"
     ]
    }
   ],
   "source": [
    "#removes all punctuation in string that is in removeset\n",
    "document = \"Johnson+;Johnson!\"\n",
    "for i in removeset:\n",
    "    document=re.sub(re.escape(i),\"\",document)\n",
    "print(document)"
   ]
  },
  {
   "cell_type": "markdown",
   "metadata": {},
   "source": [
    "<h2>Cleaning NDC</h2>"
   ]
  },
  {
   "cell_type": "markdown",
   "metadata": {},
   "source": [
    "<h4>Removing the first 25 since they are just numbers</h4>"
   ]
  },
  {
   "cell_type": "code",
   "execution_count": 130,
   "metadata": {},
   "outputs": [],
   "source": [
    "#Getting rid of the first 25 since those are just numbers\n",
    "ndc = ndc.iloc[25:]\n",
    "#renaming column\n",
    "ndc = ndc.rename(columns = {'Row Labels':'company'})"
   ]
  },
  {
   "cell_type": "markdown",
   "metadata": {},
   "source": [
    "<h4>Lowercase everything</h4>"
   ]
  },
  {
   "cell_type": "code",
   "execution_count": 131,
   "metadata": {},
   "outputs": [],
   "source": [
    "#Converting to lower first\n",
    "ndc.company = ndc.company.str.lower()"
   ]
  },
  {
   "cell_type": "markdown",
   "metadata": {},
   "source": [
    "<h4>Remove content that are in parentheses</h4>"
   ]
  },
  {
   "cell_type": "code",
   "execution_count": 132,
   "metadata": {},
   "outputs": [],
   "source": [
    "#Function for removing parentheses content\n",
    "def removeParenthesesContent(string):\n",
    "    return re.sub(r'\\([^)]*\\)', '', string)\n"
   ]
  },
  {
   "cell_type": "code",
   "execution_count": 133,
   "metadata": {},
   "outputs": [],
   "source": [
    "ndc['companiesWithoutParensContent'] = ndc['company'].apply(removeParenthesesContent)"
   ]
  },
  {
   "cell_type": "code",
   "execution_count": 134,
   "metadata": {},
   "outputs": [],
   "source": [
    "del ndc['company']"
   ]
  },
  {
   "cell_type": "code",
   "execution_count": 135,
   "metadata": {},
   "outputs": [
    {
     "data": {
      "text/html": [
       "<div>\n",
       "<style scoped>\n",
       "    .dataframe tbody tr th:only-of-type {\n",
       "        vertical-align: middle;\n",
       "    }\n",
       "\n",
       "    .dataframe tbody tr th {\n",
       "        vertical-align: top;\n",
       "    }\n",
       "\n",
       "    .dataframe thead th {\n",
       "        text-align: right;\n",
       "    }\n",
       "</style>\n",
       "<table border=\"1\" class=\"dataframe\">\n",
       "  <thead>\n",
       "    <tr style=\"text-align: right;\">\n",
       "      <th></th>\n",
       "      <th>companiesWithoutParensContent</th>\n",
       "    </tr>\n",
       "  </thead>\n",
       "  <tbody>\n",
       "    <tr>\n",
       "      <th>25</th>\n",
       "      <td>spironolactone 2%</td>\n",
       "    </tr>\n",
       "    <tr>\n",
       "      <th>26</th>\n",
       "      <td>-l'oreal usa products inc</td>\n",
       "    </tr>\n",
       "    <tr>\n",
       "      <th>27</th>\n",
       "      <td>.cardinal health</td>\n",
       "    </tr>\n",
       "    <tr>\n",
       "      <th>28</th>\n",
       "      <td>.church &amp; dwight canada corp</td>\n",
       "    </tr>\n",
       "    <tr>\n",
       "      <th>29</th>\n",
       "      <td>{preferred pharmaeutials inc.</td>\n",
       "    </tr>\n",
       "  </tbody>\n",
       "</table>\n",
       "</div>"
      ],
      "text/plain": [
       "    companiesWithoutParensContent\n",
       "25             spironolactone 2% \n",
       "26      -l'oreal usa products inc\n",
       "27               .cardinal health\n",
       "28   .church & dwight canada corp\n",
       "29  {preferred pharmaeutials inc."
      ]
     },
     "execution_count": 135,
     "metadata": {},
     "output_type": "execute_result"
    }
   ],
   "source": [
    "ndc.head()"
   ]
  },
  {
   "cell_type": "markdown",
   "metadata": {},
   "source": [
    "<h4>Remove Unwanted Punctuation</h4>"
   ]
  },
  {
   "cell_type": "code",
   "execution_count": 136,
   "metadata": {},
   "outputs": [],
   "source": [
    "\"\"\"\n",
    "Ignore \n",
    "#Function that uses regex to remove parentheses and square brackets\n",
    "def removeParenthesis(string):\n",
    "    return re.sub('[()\\{}]', '', string)\n",
    "\"\"\"\n",
    "#function that gets rid of unwanted punctuation\n",
    "#This does get rid of ' within a string (ex. l'oreal becomes l oreal) so maybe recheck?\n",
    "def removeUnwantedPunc(string):\n",
    "    return re.sub('[!\"#\\'()*+,./:;<=>?@[\\]^`{|}~]', ' ', string)"
   ]
  },
  {
   "cell_type": "code",
   "execution_count": 137,
   "metadata": {},
   "outputs": [],
   "source": [
    "ndc['companiesWithoutUnwantedPunc'] = ndc['companiesWithoutParensContent'].apply(removeUnwantedPunc)"
   ]
  },
  {
   "cell_type": "code",
   "execution_count": 138,
   "metadata": {},
   "outputs": [],
   "source": [
    "del ndc['companiesWithoutParensContent']"
   ]
  },
  {
   "cell_type": "code",
   "execution_count": 139,
   "metadata": {},
   "outputs": [],
   "source": [
    "ndc.rename(columns = {\"companiesWithoutUnwantedPunc\": \"company\"}, inplace = True)"
   ]
  },
  {
   "cell_type": "code",
   "execution_count": 140,
   "metadata": {},
   "outputs": [
    {
     "data": {
      "text/html": [
       "<div>\n",
       "<style scoped>\n",
       "    .dataframe tbody tr th:only-of-type {\n",
       "        vertical-align: middle;\n",
       "    }\n",
       "\n",
       "    .dataframe tbody tr th {\n",
       "        vertical-align: top;\n",
       "    }\n",
       "\n",
       "    .dataframe thead th {\n",
       "        text-align: right;\n",
       "    }\n",
       "</style>\n",
       "<table border=\"1\" class=\"dataframe\">\n",
       "  <thead>\n",
       "    <tr style=\"text-align: right;\">\n",
       "      <th></th>\n",
       "      <th>company</th>\n",
       "    </tr>\n",
       "  </thead>\n",
       "  <tbody>\n",
       "    <tr>\n",
       "      <th>25</th>\n",
       "      <td>spironolactone 2%</td>\n",
       "    </tr>\n",
       "    <tr>\n",
       "      <th>26</th>\n",
       "      <td>-l oreal usa products inc</td>\n",
       "    </tr>\n",
       "    <tr>\n",
       "      <th>27</th>\n",
       "      <td>cardinal health</td>\n",
       "    </tr>\n",
       "    <tr>\n",
       "      <th>28</th>\n",
       "      <td>church &amp; dwight canada corp</td>\n",
       "    </tr>\n",
       "    <tr>\n",
       "      <th>29</th>\n",
       "      <td>preferred pharmaeutials inc</td>\n",
       "    </tr>\n",
       "  </tbody>\n",
       "</table>\n",
       "</div>"
      ],
      "text/plain": [
       "                          company\n",
       "25             spironolactone 2% \n",
       "26      -l oreal usa products inc\n",
       "27                cardinal health\n",
       "28    church & dwight canada corp\n",
       "29   preferred pharmaeutials inc "
      ]
     },
     "execution_count": 140,
     "metadata": {},
     "output_type": "execute_result"
    }
   ],
   "source": [
    "#At this point all the companies are lowercased, don't have parenthetical content, and don't have unwanted punctuation\n",
    "ndc.head()"
   ]
  },
  {
   "cell_type": "markdown",
   "metadata": {},
   "source": [
    "<h4>Removing numbers</h4>"
   ]
  },
  {
   "cell_type": "code",
   "execution_count": 141,
   "metadata": {},
   "outputs": [],
   "source": [
    "#Function that will remove numbers\n",
    "def removeNumbers(string):\n",
    "    return re.sub(r'[0-9+]','', string)"
   ]
  },
  {
   "cell_type": "code",
   "execution_count": 142,
   "metadata": {},
   "outputs": [],
   "source": [
    "ndc['companiesWithNoNumbers'] = ndc.company.apply(removeNumbers)"
   ]
  },
  {
   "cell_type": "code",
   "execution_count": 143,
   "metadata": {},
   "outputs": [],
   "source": [
    "del ndc['company']"
   ]
  },
  {
   "cell_type": "code",
   "execution_count": 144,
   "metadata": {},
   "outputs": [],
   "source": [
    "ndc = ndc.rename(columns = {\"companiesWithNoNumbers\": 'company'})"
   ]
  },
  {
   "cell_type": "code",
   "execution_count": 145,
   "metadata": {},
   "outputs": [
    {
     "data": {
      "text/html": [
       "<div>\n",
       "<style scoped>\n",
       "    .dataframe tbody tr th:only-of-type {\n",
       "        vertical-align: middle;\n",
       "    }\n",
       "\n",
       "    .dataframe tbody tr th {\n",
       "        vertical-align: top;\n",
       "    }\n",
       "\n",
       "    .dataframe thead th {\n",
       "        text-align: right;\n",
       "    }\n",
       "</style>\n",
       "<table border=\"1\" class=\"dataframe\">\n",
       "  <thead>\n",
       "    <tr style=\"text-align: right;\">\n",
       "      <th></th>\n",
       "      <th>company</th>\n",
       "    </tr>\n",
       "  </thead>\n",
       "  <tbody>\n",
       "    <tr>\n",
       "      <th>25</th>\n",
       "      <td>spironolactone %</td>\n",
       "    </tr>\n",
       "    <tr>\n",
       "      <th>26</th>\n",
       "      <td>-l oreal usa products inc</td>\n",
       "    </tr>\n",
       "    <tr>\n",
       "      <th>27</th>\n",
       "      <td>cardinal health</td>\n",
       "    </tr>\n",
       "    <tr>\n",
       "      <th>28</th>\n",
       "      <td>church &amp; dwight canada corp</td>\n",
       "    </tr>\n",
       "    <tr>\n",
       "      <th>29</th>\n",
       "      <td>preferred pharmaeutials inc</td>\n",
       "    </tr>\n",
       "  </tbody>\n",
       "</table>\n",
       "</div>"
      ],
      "text/plain": [
       "                          company\n",
       "25              spironolactone % \n",
       "26      -l oreal usa products inc\n",
       "27                cardinal health\n",
       "28    church & dwight canada corp\n",
       "29   preferred pharmaeutials inc "
      ]
     },
     "execution_count": 145,
     "metadata": {},
     "output_type": "execute_result"
    }
   ],
   "source": [
    "ndc.head()"
   ]
  },
  {
   "cell_type": "markdown",
   "metadata": {},
   "source": [
    "<h4>Removing Single Chars</h4>"
   ]
  },
  {
   "cell_type": "code",
   "execution_count": 146,
   "metadata": {},
   "outputs": [],
   "source": [
    "def removeSingleChar(string):\n",
    "    return re.sub(r'\\s+[a-zA-Z]\\s+', ' ', string)"
   ]
  },
  {
   "cell_type": "code",
   "execution_count": 147,
   "metadata": {},
   "outputs": [],
   "source": [
    "ndc['companiesWithNoSingleChar'] = ndc.company.apply(removeSingleChar)"
   ]
  },
  {
   "cell_type": "code",
   "execution_count": 148,
   "metadata": {},
   "outputs": [],
   "source": [
    "del ndc['company']\n",
    "ndc = ndc.rename(columns={\"companiesWithNoSingleChar\": 'company'})"
   ]
  },
  {
   "cell_type": "markdown",
   "metadata": {},
   "source": [
    "<h4>Substituting Multiple Spaces with Single Space</h4>"
   ]
  },
  {
   "cell_type": "code",
   "execution_count": 150,
   "metadata": {},
   "outputs": [
    {
     "data": {
      "text/html": [
       "<div>\n",
       "<style scoped>\n",
       "    .dataframe tbody tr th:only-of-type {\n",
       "        vertical-align: middle;\n",
       "    }\n",
       "\n",
       "    .dataframe tbody tr th {\n",
       "        vertical-align: top;\n",
       "    }\n",
       "\n",
       "    .dataframe thead th {\n",
       "        text-align: right;\n",
       "    }\n",
       "</style>\n",
       "<table border=\"1\" class=\"dataframe\">\n",
       "  <thead>\n",
       "    <tr style=\"text-align: right;\">\n",
       "      <th></th>\n",
       "      <th>company</th>\n",
       "    </tr>\n",
       "  </thead>\n",
       "  <tbody>\n",
       "    <tr>\n",
       "      <th>325</th>\n",
       "      <td>allure labs  inc</td>\n",
       "    </tr>\n",
       "    <tr>\n",
       "      <th>326</th>\n",
       "      <td>allure labs  inc</td>\n",
       "    </tr>\n",
       "    <tr>\n",
       "      <th>327</th>\n",
       "      <td>alma laboratories  inc</td>\n",
       "    </tr>\n",
       "    <tr>\n",
       "      <th>328</th>\n",
       "      <td>almaject  inc</td>\n",
       "    </tr>\n",
       "    <tr>\n",
       "      <th>329</th>\n",
       "      <td>almatica pharma inc</td>\n",
       "    </tr>\n",
       "    <tr>\n",
       "      <th>330</th>\n",
       "      <td>almay</td>\n",
       "    </tr>\n",
       "    <tr>\n",
       "      <th>331</th>\n",
       "      <td>almay  inc</td>\n",
       "    </tr>\n",
       "    <tr>\n",
       "      <th>332</th>\n",
       "      <td>almirall  llc</td>\n",
       "    </tr>\n",
       "    <tr>\n",
       "      <th>333</th>\n",
       "      <td>almus</td>\n",
       "    </tr>\n",
       "    <tr>\n",
       "      <th>334</th>\n",
       "      <td>alnylam pharmaceuticals  inc</td>\n",
       "    </tr>\n",
       "    <tr>\n",
       "      <th>335</th>\n",
       "      <td>aloe care international  llc</td>\n",
       "    </tr>\n",
       "    <tr>\n",
       "      <th>336</th>\n",
       "      <td>aloe vera of america  inc</td>\n",
       "    </tr>\n",
       "    <tr>\n",
       "      <th>337</th>\n",
       "      <td>aloette</td>\n",
       "    </tr>\n",
       "    <tr>\n",
       "      <th>338</th>\n",
       "      <td>aloha medical supplies &amp; service  inc</td>\n",
       "    </tr>\n",
       "    <tr>\n",
       "      <th>339</th>\n",
       "      <td>alpha oxy-med</td>\n",
       "    </tr>\n",
       "    <tr>\n",
       "      <th>340</th>\n",
       "      <td>alpinaire healthcare</td>\n",
       "    </tr>\n",
       "    <tr>\n",
       "      <th>341</th>\n",
       "      <td>alpine medical  llc</td>\n",
       "    </tr>\n",
       "    <tr>\n",
       "      <th>342</th>\n",
       "      <td>alquimia najulam de rl de cv</td>\n",
       "    </tr>\n",
       "    <tr>\n",
       "      <th>343</th>\n",
       "      <td>alsco inc</td>\n",
       "    </tr>\n",
       "    <tr>\n",
       "      <th>344</th>\n",
       "      <td>altaire pharmaceuticals inc</td>\n",
       "    </tr>\n",
       "    <tr>\n",
       "      <th>345</th>\n",
       "      <td>altathera pharmaceuticals  llc</td>\n",
       "    </tr>\n",
       "    <tr>\n",
       "      <th>346</th>\n",
       "      <td>alternacare home health services</td>\n",
       "    </tr>\n",
       "    <tr>\n",
       "      <th>347</th>\n",
       "      <td>alternate pharmacy</td>\n",
       "    </tr>\n",
       "    <tr>\n",
       "      <th>348</th>\n",
       "      <td>alternative pharmacal corporation</td>\n",
       "    </tr>\n",
       "    <tr>\n",
       "      <th>349</th>\n",
       "      <td>alternative pharmacy</td>\n",
       "    </tr>\n",
       "    <tr>\n",
       "      <th>350</th>\n",
       "      <td>alteya organics ood</td>\n",
       "    </tr>\n",
       "    <tr>\n",
       "      <th>351</th>\n",
       "      <td>altitude medical</td>\n",
       "    </tr>\n",
       "    <tr>\n",
       "      <th>352</th>\n",
       "      <td>altona cosmetics technology</td>\n",
       "    </tr>\n",
       "    <tr>\n",
       "      <th>353</th>\n",
       "      <td>alumier labs</td>\n",
       "    </tr>\n",
       "    <tr>\n",
       "      <th>354</th>\n",
       "      <td>alva-amco pharmacal companies  inc</td>\n",
       "    </tr>\n",
       "    <tr>\n",
       "      <th>355</th>\n",
       "      <td>alva-amco pharmacal companies  inc</td>\n",
       "    </tr>\n",
       "    <tr>\n",
       "      <th>356</th>\n",
       "      <td>alvix laboratories  llc</td>\n",
       "    </tr>\n",
       "    <tr>\n",
       "      <th>357</th>\n",
       "      <td>alvogen</td>\n",
       "    </tr>\n",
       "    <tr>\n",
       "      <th>358</th>\n",
       "      <td>alvogen inc</td>\n",
       "    </tr>\n",
       "    <tr>\n",
       "      <th>359</th>\n",
       "      <td>alvogen  inc</td>\n",
       "    </tr>\n",
       "    <tr>\n",
       "      <th>360</th>\n",
       "      <td>always young  llc</td>\n",
       "    </tr>\n",
       "    <tr>\n",
       "      <th>361</th>\n",
       "      <td>amag pharmaceuticals  inc</td>\n",
       "    </tr>\n",
       "    <tr>\n",
       "      <th>362</th>\n",
       "      <td>amano pioneer eclipse corporation</td>\n",
       "    </tr>\n",
       "    <tr>\n",
       "      <th>363</th>\n",
       "      <td>amarin pharma inc</td>\n",
       "    </tr>\n",
       "    <tr>\n",
       "      <th>364</th>\n",
       "      <td>amaros co   ltd</td>\n",
       "    </tr>\n",
       "    <tr>\n",
       "      <th>365</th>\n",
       "      <td>amavara  inc</td>\n",
       "    </tr>\n",
       "    <tr>\n",
       "      <th>366</th>\n",
       "      <td>amazon</td>\n",
       "    </tr>\n",
       "    <tr>\n",
       "      <th>367</th>\n",
       "      <td>amazon  inc</td>\n",
       "    </tr>\n",
       "    <tr>\n",
       "      <th>368</th>\n",
       "      <td>amazon com services inc</td>\n",
       "    </tr>\n",
       "    <tr>\n",
       "      <th>369</th>\n",
       "      <td>amazon com services  inc</td>\n",
       "    </tr>\n",
       "    <tr>\n",
       "      <th>370</th>\n",
       "      <td>amazon com services   inc</td>\n",
       "    </tr>\n",
       "    <tr>\n",
       "      <th>371</th>\n",
       "      <td>amazon com   inc</td>\n",
       "    </tr>\n",
       "    <tr>\n",
       "      <th>372</th>\n",
       "      <td>ambi enterprises llc</td>\n",
       "    </tr>\n",
       "    <tr>\n",
       "      <th>373</th>\n",
       "      <td>amc promotional products</td>\n",
       "    </tr>\n",
       "    <tr>\n",
       "      <th>374</th>\n",
       "      <td>amcol health &amp; beauty solutions  inc  dba</td>\n",
       "    </tr>\n",
       "  </tbody>\n",
       "</table>\n",
       "</div>"
      ],
      "text/plain": [
       "                                       company\n",
       "325                           allure labs  inc\n",
       "326                          allure labs  inc \n",
       "327                    alma laboratories  inc \n",
       "328                             almaject  inc \n",
       "329                       almatica pharma inc \n",
       "330                                      almay\n",
       "331                                almay  inc \n",
       "332                              almirall  llc\n",
       "333                                      almus\n",
       "334              alnylam pharmaceuticals  inc \n",
       "335               aloe care international  llc\n",
       "336                 aloe vera of america  inc \n",
       "337                                    aloette\n",
       "338     aloha medical supplies & service  inc \n",
       "339                              alpha oxy-med\n",
       "340                       alpinaire healthcare\n",
       "341                        alpine medical  llc\n",
       "342               alquimia najulam de rl de cv\n",
       "343                                 alsco inc \n",
       "344               altaire pharmaceuticals inc \n",
       "345             altathera pharmaceuticals  llc\n",
       "346           alternacare home health services\n",
       "347                         alternate pharmacy\n",
       "348          alternative pharmacal corporation\n",
       "349                       alternative pharmacy\n",
       "350                        alteya organics ood\n",
       "351                           altitude medical\n",
       "352               altona cosmetics technology \n",
       "353                               alumier labs\n",
       "354         alva-amco pharmacal companies  inc\n",
       "355        alva-amco pharmacal companies  inc \n",
       "356                    alvix laboratories  llc\n",
       "357                                    alvogen\n",
       "358                               alvogen inc \n",
       "359                              alvogen  inc \n",
       "360                         always young  llc \n",
       "361                 amag pharmaceuticals  inc \n",
       "362          amano pioneer eclipse corporation\n",
       "363                         amarin pharma inc \n",
       "364                           amaros co   ltd \n",
       "365                               amavara  inc\n",
       "366                                     amazon\n",
       "367                                amazon  inc\n",
       "368                   amazon com services inc \n",
       "369                   amazon com services  inc\n",
       "370                  amazon com services   inc\n",
       "371                           amazon com   inc\n",
       "372                       ambi enterprises llc\n",
       "373                   amc promotional products\n",
       "374  amcol health & beauty solutions  inc  dba"
      ]
     },
     "execution_count": 150,
     "metadata": {},
     "output_type": "execute_result"
    }
   ],
   "source": [
    "ndc.iloc[300:350]"
   ]
  },
  {
   "cell_type": "markdown",
   "metadata": {},
   "source": [
    "<h4>Grabbing the list of legal entities from os github</h4>"
   ]
  },
  {
   "cell_type": "code",
   "execution_count": 190,
   "metadata": {},
   "outputs": [
    {
     "data": {
      "text/html": [
       "<div>\n",
       "<style scoped>\n",
       "    .dataframe tbody tr th:only-of-type {\n",
       "        vertical-align: middle;\n",
       "    }\n",
       "\n",
       "    .dataframe tbody tr th {\n",
       "        vertical-align: top;\n",
       "    }\n",
       "\n",
       "    .dataframe thead th {\n",
       "        text-align: right;\n",
       "    }\n",
       "</style>\n",
       "<table border=\"1\" class=\"dataframe\">\n",
       "  <thead>\n",
       "    <tr style=\"text-align: right;\">\n",
       "      <th></th>\n",
       "      <th>0</th>\n",
       "    </tr>\n",
       "  </thead>\n",
       "  <tbody>\n",
       "    <tr>\n",
       "      <th>0</th>\n",
       "      <td>(?i) Inc\\b</td>\n",
       "    </tr>\n",
       "    <tr>\n",
       "      <th>1</th>\n",
       "      <td>(?i) Ltd\\b</td>\n",
       "    </tr>\n",
       "    <tr>\n",
       "      <th>2</th>\n",
       "      <td>(?i) LLC\\b</td>\n",
       "    </tr>\n",
       "    <tr>\n",
       "      <th>3</th>\n",
       "      <td>(?i) GmbH\\b</td>\n",
       "    </tr>\n",
       "    <tr>\n",
       "      <th>4</th>\n",
       "      <td>(?i) Corporation\\b</td>\n",
       "    </tr>\n",
       "  </tbody>\n",
       "</table>\n",
       "</div>"
      ],
      "text/plain": [
       "                    0\n",
       "0          (?i) Inc\\b\n",
       "1          (?i) Ltd\\b\n",
       "2          (?i) LLC\\b\n",
       "3         (?i) GmbH\\b\n",
       "4  (?i) Corporation\\b"
      ]
     },
     "execution_count": 190,
     "metadata": {},
     "output_type": "execute_result"
    }
   ],
   "source": [
    "legalEntities = pd.read_csv(\"https://raw.githubusercontent.com/DSPG-Young-Scholars-Program/dspg20oss/danBranch/ossPy/keyFiles/curatedLegalEntitesRaw.csv\", quotechar = \"'\",header = None)\n",
    "legalEntities.head()"
   ]
  },
  {
   "cell_type": "markdown",
   "metadata": {},
   "source": [
    "<h4>Using Daniel's code to get remove legal entities</h4>"
   ]
  },
  {
   "cell_type": "code",
   "execution_count": 173,
   "metadata": {},
   "outputs": [],
   "source": [
    "def eraseFromColumn(inputColumn, eraseList):\n",
    "    \"iteratively delete regex query matches from input list\"\n",
    "    \n",
    "    \"\"\"\n",
    "    inputColumn -- a column from a pandas dataframe, this will be the set of\n",
    "    target words/entries that deletions will be made from\n",
    "    eraseList -- a column containing strings (regex expressions) which will be\n",
    "    deleted from the inputColumn, in an iterative fashion\n",
    "    \"\"\"\n",
    "    eraseList['changeNum'] = 0\n",
    "    eraseList['changeIndexes'] = ''\n",
    "    \n",
    "    inputColumn = inputColumn.replace(regex=True, to_replace = \"\\\\\\\\\", value='/')\n",
    "    \n",
    "    for index, row in eraseList.iterrows():\n",
    "        curReplaceVal = row[0]\n",
    "        currentRegexExpression=re.compile(curReplaceVal)\n",
    "        CurrentBoolVec=inputColumn.str.contains(currentRegexExpression, na= False)\n",
    "        eraseList['changeIndexes'].iloc[index]=[i for i, x in enumerate(CurrentBoolVec) if x]\n",
    "        eraseList['changeNum'].iloc[index] = len(eraseList['changeIndexes'].iloc[index])\n",
    "        inputColumn.replace(regex=True, to_replace=currentRegexExpression,value='', inplace = True)\n",
    "    \n",
    "    return inputColumn, eraseList"
   ]
  },
  {
   "cell_type": "code",
   "execution_count": 191,
   "metadata": {},
   "outputs": [],
   "source": [
    "output, eraseList = eraseFromColumn(ndc.company, legalEntities)"
   ]
  },
  {
   "cell_type": "code",
   "execution_count": 204,
   "metadata": {},
   "outputs": [],
   "source": [
    "#This dataframe is lowercased, doesn't have any of the unwanted punctuation, and has removed all legal entity labels\n",
    "output= pd.DataFrame(output)"
   ]
  },
  {
   "cell_type": "markdown",
   "metadata": {},
   "source": [
    "<h4>Counting Unique String Tokens using Daniel's code</h4>"
   ]
  },
  {
   "cell_type": "code",
   "execution_count": 66,
   "metadata": {},
   "outputs": [
    {
     "data": {
      "text/html": [
       "<div>\n",
       "<style scoped>\n",
       "    .dataframe tbody tr th:only-of-type {\n",
       "        vertical-align: middle;\n",
       "    }\n",
       "\n",
       "    .dataframe tbody tr th {\n",
       "        vertical-align: top;\n",
       "    }\n",
       "\n",
       "    .dataframe thead th {\n",
       "        text-align: right;\n",
       "    }\n",
       "</style>\n",
       "<table border=\"1\" class=\"dataframe\">\n",
       "  <thead>\n",
       "    <tr style=\"text-align: right;\">\n",
       "      <th></th>\n",
       "      <th>company</th>\n",
       "    </tr>\n",
       "  </thead>\n",
       "  <tbody>\n",
       "    <tr>\n",
       "      <th>25</th>\n",
       "      <td>spironolactone 2%</td>\n",
       "    </tr>\n",
       "    <tr>\n",
       "      <th>26</th>\n",
       "      <td>-l'oreal usa products inc</td>\n",
       "    </tr>\n",
       "    <tr>\n",
       "      <th>27</th>\n",
       "      <td>.cardinal health</td>\n",
       "    </tr>\n",
       "    <tr>\n",
       "      <th>28</th>\n",
       "      <td>.church &amp; dwight canada corp</td>\n",
       "    </tr>\n",
       "    <tr>\n",
       "      <th>29</th>\n",
       "      <td>{preferred pharmaeutials inc.</td>\n",
       "    </tr>\n",
       "  </tbody>\n",
       "</table>\n",
       "</div>"
      ],
      "text/plain": [
       "                          company\n",
       "25             spironolactone 2% \n",
       "26      -l'oreal usa products inc\n",
       "27               .cardinal health\n",
       "28   .church & dwight canada corp\n",
       "29  {preferred pharmaeutials inc."
      ]
     },
     "execution_count": 66,
     "metadata": {},
     "output_type": "execute_result"
    }
   ],
   "source": []
  },
  {
   "cell_type": "code",
   "execution_count": 205,
   "metadata": {},
   "outputs": [],
   "source": []
  },
  {
   "cell_type": "code",
   "execution_count": 206,
   "metadata": {},
   "outputs": [],
   "source": []
  },
  {
   "cell_type": "code",
   "execution_count": 207,
   "metadata": {},
   "outputs": [],
   "source": []
  },
  {
   "cell_type": "code",
   "execution_count": null,
   "metadata": {},
   "outputs": [],
   "source": []
  },
  {
   "cell_type": "code",
   "execution_count": null,
   "metadata": {},
   "outputs": [],
   "source": []
  },
  {
   "cell_type": "code",
   "execution_count": 48,
   "metadata": {},
   "outputs": [],
   "source": []
  },
  {
   "cell_type": "code",
   "execution_count": 49,
   "metadata": {},
   "outputs": [],
   "source": []
  },
  {
   "cell_type": "code",
   "execution_count": null,
   "metadata": {},
   "outputs": [],
   "source": []
  },
  {
   "cell_type": "code",
   "execution_count": 51,
   "metadata": {},
   "outputs": [],
   "source": []
  },
  {
   "cell_type": "code",
   "execution_count": 52,
   "metadata": {},
   "outputs": [],
   "source": []
  },
  {
   "cell_type": "code",
   "execution_count": null,
   "metadata": {},
   "outputs": [],
   "source": []
  },
  {
   "cell_type": "code",
   "execution_count": 59,
   "metadata": {},
   "outputs": [],
   "source": []
  },
  {
   "cell_type": "code",
   "execution_count": 60,
   "metadata": {},
   "outputs": [],
   "source": []
  },
  {
   "cell_type": "code",
   "execution_count": null,
   "metadata": {},
   "outputs": [],
   "source": []
  },
  {
   "cell_type": "code",
   "execution_count": null,
   "metadata": {},
   "outputs": [],
   "source": []
  }
 ],
 "metadata": {
  "kernelspec": {
   "display_name": "Python 3",
   "language": "python",
   "name": "python3"
  },
  "language_info": {
   "codemirror_mode": {
    "name": "ipython",
    "version": 3
   },
   "file_extension": ".py",
   "mimetype": "text/x-python",
   "name": "python",
   "nbconvert_exporter": "python",
   "pygments_lexer": "ipython3",
   "version": "3.7.4"
  }
 },
 "nbformat": 4,
 "nbformat_minor": 4
}
