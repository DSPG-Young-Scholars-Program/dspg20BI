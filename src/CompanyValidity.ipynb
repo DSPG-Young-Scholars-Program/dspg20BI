{
 "cells": [
  {
   "cell_type": "code",
   "execution_count": 1,
   "metadata": {},
   "outputs": [],
   "source": [
    "import numpy as np\n",
    "import pandas as pd\n",
    "import json\n",
    "import gzip\n",
    "from collections import Counter "
   ]
  },
  {
   "cell_type": "code",
   "execution_count": 2,
   "metadata": {},
   "outputs": [],
   "source": [
    "df = pd.read_json('../data/original/DNA_DATA_FULL.gz', compression='gzip')"
   ]
  },
  {
   "cell_type": "code",
   "execution_count": 4,
   "metadata": {},
   "outputs": [
    {
     "data": {
      "text/plain": [
       "Index(['copyright', 'subject_codes', 'art', 'modification_datetime', 'body',\n",
       "       'company_codes_occur', 'company_codes_about', 'company_codes_lineage',\n",
       "       'snippet', 'publication_date', 'market_index_codes', 'credit',\n",
       "       'currency_codes', 'region_of_origin', 'ingestion_datetime',\n",
       "       'modification_date', 'source_name', 'language_code', 'region_codes',\n",
       "       'company_codes_association', 'person_codes', 'byline',\n",
       "       'company_codes_relevance', 'source_code', 'an', 'word_count',\n",
       "       'company_codes', 'industry_codes', 'title', 'publication_datetime',\n",
       "       'publisher_name', 'action', 'document_type', 'section', 'dateline'],\n",
       "      dtype='object')"
      ]
     },
     "execution_count": 4,
     "metadata": {},
     "output_type": "execute_result"
    }
   ],
   "source": [
    "df.columns"
   ]
  },
  {
   "cell_type": "code",
   "execution_count": 16,
   "metadata": {},
   "outputs": [],
   "source": [
    "#Looking only at the company columns\n",
    "companies = df[['company_codes', 'company_codes_occur', 'company_codes_about', 'company_codes_lineage', 'company_codes_association', 'company_codes_relevance']]"
   ]
  },
  {
   "cell_type": "code",
   "execution_count": 17,
   "metadata": {},
   "outputs": [
    {
     "name": "stdout",
     "output_type": "stream",
     "text": [
      "    1942855\n",
      "Name: company_codes_association, dtype: int64\n"
     ]
    }
   ],
   "source": [
    "#There are no values in this column so it will not be part of the validating process\n",
    "print(companies['company_codes_association'].value_counts())\n",
    "companies = df[['company_codes', 'company_codes_occur', 'company_codes_about', 'company_codes_lineage', 'company_codes_relevance']]"
   ]
  },
  {
   "cell_type": "code",
   "execution_count": 18,
   "metadata": {},
   "outputs": [
    {
     "data": {
      "text/html": [
       "<div>\n",
       "<style scoped>\n",
       "    .dataframe tbody tr th:only-of-type {\n",
       "        vertical-align: middle;\n",
       "    }\n",
       "\n",
       "    .dataframe tbody tr th {\n",
       "        vertical-align: top;\n",
       "    }\n",
       "\n",
       "    .dataframe thead th {\n",
       "        text-align: right;\n",
       "    }\n",
       "</style>\n",
       "<table border=\"1\" class=\"dataframe\">\n",
       "  <thead>\n",
       "    <tr style=\"text-align: right;\">\n",
       "      <th></th>\n",
       "      <th>Validity</th>\n",
       "    </tr>\n",
       "  </thead>\n",
       "  <tbody>\n",
       "    <tr>\n",
       "      <th>company_codes</th>\n",
       "      <td>0.0</td>\n",
       "    </tr>\n",
       "    <tr>\n",
       "      <th>company_codes_occur</th>\n",
       "      <td>0.0</td>\n",
       "    </tr>\n",
       "    <tr>\n",
       "      <th>company_codes_about</th>\n",
       "      <td>0.0</td>\n",
       "    </tr>\n",
       "    <tr>\n",
       "      <th>company_codes_lineage</th>\n",
       "      <td>0.0</td>\n",
       "    </tr>\n",
       "    <tr>\n",
       "      <th>company_codes_relevance</th>\n",
       "      <td>0.0</td>\n",
       "    </tr>\n",
       "  </tbody>\n",
       "</table>\n",
       "</div>"
      ],
      "text/plain": [
       "                         Validity\n",
       "company_codes                 0.0\n",
       "company_codes_occur           0.0\n",
       "company_codes_about           0.0\n",
       "company_codes_lineage         0.0\n",
       "company_codes_relevance       0.0"
      ]
     },
     "execution_count": 18,
     "metadata": {},
     "output_type": "execute_result"
    }
   ],
   "source": [
    "#For validating, I will be taking each unique company code in all of the columns and checking to see if each one is in the company codes dictionary\n",
    "#The dataframe below will keep track of the % of valid company codes\n",
    "profile = pd.DataFrame({\"Validity\": np.zeros(len(companies.columns))}).set_index(companies.columns)\n",
    "profile"
   ]
  },
  {
   "cell_type": "code",
   "execution_count": 33,
   "metadata": {},
   "outputs": [],
   "source": [
    "#Here is the validity function I will be using\n",
    "#For every valid company code in the dataset, num_valid is incremented by 1. At the end that number is divided by all the length\n",
    "#of the entire unique list to get a decimal\n",
    "def checkValidity(ls, col):\n",
    "    num_valid = 0\n",
    "    for company in ls:\n",
    "        if company in col.tolist():\n",
    "            num_valid += 1\n",
    "    return num_valid / len(ls)"
   ]
  },
  {
   "cell_type": "code",
   "execution_count": 40,
   "metadata": {},
   "outputs": [
    {
     "name": "stdout",
     "output_type": "stream",
     "text": [
      "['uvbgdy', 'conun', 'nrph', 'rsmnnd', 'vrtj', 'vvvit', 'cncn', 'nstrci', 'piagci', 'fndcll']\n",
      "There are 73688 unique company codes\n"
     ]
    }
   ],
   "source": [
    "#Getting the unique company codes\n",
    "unique_company_codes = set()\n",
    "for value in companies['company_codes']:\n",
    "    unique_company_codes.update(value.split(\",\"))\n",
    "\n",
    "#Convert set back to list\n",
    "unique_company_codes = list(unique_company_codes)\n",
    "unique_company_codes = unique_company_codes[1:] #The first element was '', so I didn't include it in the final list\n",
    "print(unique_company_codes[0:10])\n",
    "print(\"There are {} unique company codes\".format(len(unique_company_codes)))"
   ]
  },
  {
   "cell_type": "code",
   "execution_count": 41,
   "metadata": {},
   "outputs": [
    {
     "name": "stdout",
     "output_type": "stream",
     "text": [
      "['uvbgdy', 'conun', 'nrph', 'rsmnnd', 'vrtj', 'vvvit', 'cncn', 'nstrci', 'piagci', 'fndcll']\n",
      "There are 62381 unique companies in unique_companies_occur\n"
     ]
    }
   ],
   "source": [
    "#Unique companies from company_codes_occur\n",
    "unique_companies_occur = set()\n",
    "\n",
    "for value in df['company_codes_occur']:\n",
    "    unique_companies_occur.update(value.split(\",\"))\n",
    "\n",
    "unique_companies_occur = list(unique_companies_occur)\n",
    "unique_companies_occur = unique_companies_occur[1:]\n",
    "\n",
    "print(unique_companies_occur[0:10])\n",
    "print(\"There are {} unique companies in unique_companies_occur\".format(len(unique_companies_occur))) "
   ]
  },
  {
   "cell_type": "code",
   "execution_count": 42,
   "metadata": {},
   "outputs": [
    {
     "name": "stdout",
     "output_type": "stream",
     "text": [
      "['uvbgdy', 'conun', 'nrph', 'vrtj', 'cncn', 'nstrci', 'amexpr', 'nsisof', 'amphma', 'wngfrt']\n",
      "There are 30780 unique companies in unique_companies_about\n"
     ]
    }
   ],
   "source": [
    "#unique companies from company_codes_about\n",
    "unique_companies_about = set()\n",
    "\n",
    "for value in df['company_codes_about']:\n",
    "    unique_companies_about.update(value.split(\",\"))\n",
    "\n",
    "unique_companies_about = list(unique_companies_about)\n",
    "unique_companies_about = unique_companies_about[1:]\n",
    "\n",
    "print(unique_companies_about[0:10])\n",
    "print(\"There are {} unique companies in unique_companies_about\".format(len(unique_companies_about)))"
   ]
  },
  {
   "cell_type": "code",
   "execution_count": 46,
   "metadata": {},
   "outputs": [
    {
     "name": "stdout",
     "output_type": "stream",
     "text": [
      "['uvbgdy', 'conun', 'nrph', 'rsmnnd', 'cncn', 'nstrci', 'piagci', 'fndcll', 'manccm', 'amexpr']\n",
      "There are 66451 unique companies in unique_companies_relevance\n"
     ]
    }
   ],
   "source": [
    "#unique companies from company_codes_relevance\n",
    "unique_companies_relevance = set()\n",
    "\n",
    "for value in df['company_codes_relevance']:\n",
    "    unique_companies_relevance.update(value.split(\",\"))\n",
    "\n",
    "unique_companies_relevance = list(unique_companies_relevance)\n",
    "unique_companies_relevance = unique_companies_relevance[1:]\n",
    "\n",
    "print(unique_companies_relevance[0:10])\n",
    "print(\"There are {} unique companies in unique_companies_relevance\".format(len(unique_companies_relevance)))\n"
   ]
  },
  {
   "cell_type": "code",
   "execution_count": 52,
   "metadata": {},
   "outputs": [
    {
     "name": "stdout",
     "output_type": "stream",
     "text": [
      "['invtgn', 'cazen', 'hypaqp', 'nxcp', 'ganinc', 'frazco', 'albers', 'rgpcf', 'hunhal', 'ccpllc']\n",
      "There are 3467 unique companies in unique_companies_lineage\n"
     ]
    }
   ],
   "source": [
    "#unique companies from company_codes_lineage\n",
    "unique_companies_lineage = set()\n",
    "\n",
    "for value in df['company_codes_lineage']:\n",
    "    unique_companies_lineage.update(value.split(\",\"))\n",
    "\n",
    "unique_companies_lineage = list(unique_companies_lineage)\n",
    "unique_companies_lineage = unique_companies_lineage[1:]\n",
    "print(unique_companies_lineage[0:10])\n",
    "print(\"There are {} unique companies in unique_companies_lineage\".format(len(unique_companies_lineage)))"
   ]
  },
  {
   "cell_type": "code",
   "execution_count": null,
   "metadata": {},
   "outputs": [],
   "source": []
  }
 ],
 "metadata": {
  "kernelspec": {
   "display_name": "Python 3",
   "language": "python",
   "name": "python3"
  },
  "language_info": {
   "codemirror_mode": {
    "name": "ipython",
    "version": 3
   },
   "file_extension": ".py",
   "mimetype": "text/x-python",
   "name": "python",
   "nbconvert_exporter": "python",
   "pygments_lexer": "ipython3",
   "version": "3.7.4"
  }
 },
 "nbformat": 4,
 "nbformat_minor": 4
}
