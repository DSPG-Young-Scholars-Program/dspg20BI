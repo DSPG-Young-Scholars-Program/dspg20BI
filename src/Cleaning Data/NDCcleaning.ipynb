{
 "cells": [
  {
   "cell_type": "code",
   "execution_count": 62,
   "metadata": {},
   "outputs": [],
   "source": [
    "import numpy as np\n",
    "import pandas as pd\n",
    "import string\n",
    "import re\n",
    "from fuzzywuzzy import fuzz"
   ]
  },
  {
   "cell_type": "markdown",
   "metadata": {},
   "source": [
    "<h2>Reading in the datasets</h2>"
   ]
  },
  {
   "cell_type": "code",
   "execution_count": 2,
   "metadata": {},
   "outputs": [],
   "source": [
    "dna = pd.read_csv(\"../data/working/validcompaniesdictionary.csv\", index_col = [0])"
   ]
  },
  {
   "cell_type": "code",
   "execution_count": 3,
   "metadata": {},
   "outputs": [],
   "source": [
    "fda = pd.read_excel(\"../data/original/fda_companies.xlsx\")"
   ]
  },
  {
   "cell_type": "code",
   "execution_count": 471,
   "metadata": {},
   "outputs": [],
   "source": [
    "ndc = pd.read_excel(\"../data/original/BI DSPG Company Datasets/NDC_Company_Dataset.xls\")"
   ]
  },
  {
   "cell_type": "markdown",
   "metadata": {},
   "source": [
    "<h2>Neil's code for cleaning</h2>"
   ]
  },
  {
   "cell_type": "code",
   "execution_count": 5,
   "metadata": {},
   "outputs": [
    {
     "name": "stdout",
     "output_type": "stream",
     "text": [
      "!\"#'()*+,./:;<=>?@[\\]^`{|}~\n"
     ]
    }
   ],
   "source": [
    "removeset=string.punctuation\n",
    "removeset=removeset.replace(\"-\",\"\") #Don't remove dashes\n",
    "removeset=removeset.replace(\"&\",\"\") #Don't remove ampersand\n",
    "removeset=removeset.replace(\"_\",\"\") #Don't remove underscore\n",
    "removeset=removeset.replace(\"%\",\"\") #Don't remove percent\n",
    "removeset=removeset.replace(\"$\",\"\") #Don't remove dollar\n",
    "   \n",
    "print(removeset)"
   ]
  },
  {
   "cell_type": "code",
   "execution_count": 183,
   "metadata": {},
   "outputs": [
    {
     "name": "stdout",
     "output_type": "stream",
     "text": [
      "hello world\n",
      "hello world\n",
      "hello world\n",
      "hello world\n",
      "hello world\n",
      "hello-world\n",
      "hel&lo&world\n",
      "hel_lo wo_rld\n"
     ]
    }
   ],
   "source": [
    "# remove all single characters (This step is done first, because later there are single chars we want to retain.)\n",
    "#document = re.sub(r'\\s+[a-zA-Z]\\s+', ' ', str(X[sen]))\n",
    "string = \"hello i world\"\n",
    "string = re.sub(r'\\s+[a-zA-Z]\\s+', ' ', string)\n",
    "print(string)\n",
    "\n",
    "# remove all numbers\n",
    "#document = re.sub(r'[0-9]','', document)\n",
    "string2 = \"h3ll0\"\n",
    "string2 = re.sub(r'[0-9]','', string)\n",
    "print(string2)\n",
    "\n",
    "# Substituting multiple spaces with single space\n",
    "#document = re.sub(r'\\s+', ' ', document, flags=re.I)\n",
    "string3 = \"hello      world\"\n",
    "string3 = re.sub(r'\\s+', ' ', string3, flags=re.I)\n",
    "print(string3)\n",
    "\n",
    "#Converting to lowercase\n",
    "string4 = \"HEllo WORLD\"\n",
    "string4 = string4.lower()\n",
    "print(string4)\n",
    "\n",
    "#Removing prefixed 'b'\n",
    "#document = re.sub(r'^b\\s+', '', document)\n",
    "string5 = \"b hello world\"\n",
    "string5 = re.sub(r'^b\\s+', '', string5)\n",
    "print(string5)\n",
    "\n",
    "#Make dashes into combined words\n",
    "#document = re.sub(r'\\s-\\s+', '-', document)\n",
    "string6 = \"hello - world\"\n",
    "string6 = re.sub(r'\\s-\\s+', '-', string6)\n",
    "print(string6)\n",
    "\n",
    "#Make ampersand into combined words\n",
    "#document = re.sub(r'\\s&\\s+', '&', document)\n",
    "string7 = \"hel & lo & world\"\n",
    "string7 = re.sub(r'\\s&\\s+', '&', string7)\n",
    "print(string7)\n",
    "\n",
    "#Make underscore into combined words\n",
    "#document = re.sub(r'\\s_\\s+', '_', document)\n",
    "string8 = \"hel _ lo wo _ rld\"\n",
    "string8 = re.sub(r'\\s_\\s+', '_', string8)\n",
    "print(string8)"
   ]
  },
  {
   "cell_type": "code",
   "execution_count": 77,
   "metadata": {},
   "outputs": [
    {
     "name": "stdout",
     "output_type": "stream",
     "text": [
      "JohnsonJohnson\n"
     ]
    }
   ],
   "source": [
    "#removes all punctuation in string that is in removeset\n",
    "document = \"Johnson+;Johnson!\"\n",
    "for i in removeset:\n",
    "    document=re.sub(re.escape(i),\"\",document)\n",
    "print(document)"
   ]
  },
  {
   "cell_type": "markdown",
   "metadata": {},
   "source": [
    "<h2>Cleaning NDC</h2>"
   ]
  },
  {
   "cell_type": "markdown",
   "metadata": {},
   "source": [
    "<h4>Removing the first 25 since they are just numbers</h4>"
   ]
  },
  {
   "cell_type": "code",
   "execution_count": 472,
   "metadata": {},
   "outputs": [],
   "source": [
    "#Getting rid of the first 25 since those are just numbers\n",
    "ndc = ndc.iloc[25:]\n",
    "#renaming column\n",
    "ndc = ndc.rename(columns = {'Row Labels':'company'})"
   ]
  },
  {
   "cell_type": "markdown",
   "metadata": {},
   "source": [
    "<h4>Lowercase everything</h4>"
   ]
  },
  {
   "cell_type": "code",
   "execution_count": 473,
   "metadata": {},
   "outputs": [],
   "source": [
    "#Converting to lower first\n",
    "ndc.company = ndc.company.str.lower()"
   ]
  },
  {
   "cell_type": "markdown",
   "metadata": {},
   "source": [
    "<h4>Remove content that are in parentheses</h4>"
   ]
  },
  {
   "cell_type": "code",
   "execution_count": 474,
   "metadata": {},
   "outputs": [],
   "source": [
    "#Function for removing parentheses content\n",
    "def removeParenthesesContent(string):\n",
    "    return re.sub(r'\\([^)]*\\)', '', string)\n"
   ]
  },
  {
   "cell_type": "code",
   "execution_count": 475,
   "metadata": {},
   "outputs": [],
   "source": [
    "ndc['companiesWithoutParensContent'] = ndc['company'].apply(removeParenthesesContent)"
   ]
  },
  {
   "cell_type": "code",
   "execution_count": 476,
   "metadata": {},
   "outputs": [],
   "source": [
    "del ndc['company']"
   ]
  },
  {
   "cell_type": "code",
   "execution_count": 477,
   "metadata": {},
   "outputs": [
    {
     "data": {
      "text/html": [
       "<div>\n",
       "<style scoped>\n",
       "    .dataframe tbody tr th:only-of-type {\n",
       "        vertical-align: middle;\n",
       "    }\n",
       "\n",
       "    .dataframe tbody tr th {\n",
       "        vertical-align: top;\n",
       "    }\n",
       "\n",
       "    .dataframe thead th {\n",
       "        text-align: right;\n",
       "    }\n",
       "</style>\n",
       "<table border=\"1\" class=\"dataframe\">\n",
       "  <thead>\n",
       "    <tr style=\"text-align: right;\">\n",
       "      <th></th>\n",
       "      <th>companiesWithoutParensContent</th>\n",
       "    </tr>\n",
       "  </thead>\n",
       "  <tbody>\n",
       "    <tr>\n",
       "      <th>25</th>\n",
       "      <td>spironolactone 2%</td>\n",
       "    </tr>\n",
       "    <tr>\n",
       "      <th>26</th>\n",
       "      <td>-l'oreal usa products inc</td>\n",
       "    </tr>\n",
       "    <tr>\n",
       "      <th>27</th>\n",
       "      <td>.cardinal health</td>\n",
       "    </tr>\n",
       "    <tr>\n",
       "      <th>28</th>\n",
       "      <td>.church &amp; dwight canada corp</td>\n",
       "    </tr>\n",
       "    <tr>\n",
       "      <th>29</th>\n",
       "      <td>{preferred pharmaeutials inc.</td>\n",
       "    </tr>\n",
       "  </tbody>\n",
       "</table>\n",
       "</div>"
      ],
      "text/plain": [
       "    companiesWithoutParensContent\n",
       "25             spironolactone 2% \n",
       "26      -l'oreal usa products inc\n",
       "27               .cardinal health\n",
       "28   .church & dwight canada corp\n",
       "29  {preferred pharmaeutials inc."
      ]
     },
     "execution_count": 477,
     "metadata": {},
     "output_type": "execute_result"
    }
   ],
   "source": [
    "ndc.head()"
   ]
  },
  {
   "cell_type": "markdown",
   "metadata": {},
   "source": [
    "<h4>Remove Unwanted Punctuation</h4>"
   ]
  },
  {
   "cell_type": "code",
   "execution_count": 478,
   "metadata": {},
   "outputs": [],
   "source": [
    "\"\"\"\n",
    "Ignore \n",
    "#Function that uses regex to remove parentheses and square brackets\n",
    "def removeParenthesis(string):\n",
    "    return re.sub('[()\\{}]', '', string)\n",
    "\"\"\"\n",
    "#function that gets rid of unwanted punctuation\n",
    "#This does get rid of ' within a string (ex. l'oreal becomes l oreal) so maybe recheck?\n",
    "def removeUnwantedPunc(string):\n",
    "    return re.sub('[!\"#\\'()*+,./:;<=>?@[\\]^`{|}~]', '', string)"
   ]
  },
  {
   "cell_type": "code",
   "execution_count": 479,
   "metadata": {},
   "outputs": [],
   "source": [
    "ndc['companiesWithoutUnwantedPunc'] = ndc['companiesWithoutParensContent'].apply(removeUnwantedPunc)"
   ]
  },
  {
   "cell_type": "code",
   "execution_count": 480,
   "metadata": {},
   "outputs": [],
   "source": [
    "del ndc['companiesWithoutParensContent']"
   ]
  },
  {
   "cell_type": "code",
   "execution_count": 481,
   "metadata": {},
   "outputs": [],
   "source": [
    "ndc.rename(columns = {\"companiesWithoutUnwantedPunc\": \"company\"}, inplace = True)"
   ]
  },
  {
   "cell_type": "code",
   "execution_count": 482,
   "metadata": {},
   "outputs": [
    {
     "data": {
      "text/html": [
       "<div>\n",
       "<style scoped>\n",
       "    .dataframe tbody tr th:only-of-type {\n",
       "        vertical-align: middle;\n",
       "    }\n",
       "\n",
       "    .dataframe tbody tr th {\n",
       "        vertical-align: top;\n",
       "    }\n",
       "\n",
       "    .dataframe thead th {\n",
       "        text-align: right;\n",
       "    }\n",
       "</style>\n",
       "<table border=\"1\" class=\"dataframe\">\n",
       "  <thead>\n",
       "    <tr style=\"text-align: right;\">\n",
       "      <th></th>\n",
       "      <th>company</th>\n",
       "    </tr>\n",
       "  </thead>\n",
       "  <tbody>\n",
       "    <tr>\n",
       "      <th>25</th>\n",
       "      <td>spironolactone 2%</td>\n",
       "    </tr>\n",
       "    <tr>\n",
       "      <th>26</th>\n",
       "      <td>-loreal usa products inc</td>\n",
       "    </tr>\n",
       "    <tr>\n",
       "      <th>27</th>\n",
       "      <td>cardinal health</td>\n",
       "    </tr>\n",
       "    <tr>\n",
       "      <th>28</th>\n",
       "      <td>church &amp; dwight canada corp</td>\n",
       "    </tr>\n",
       "    <tr>\n",
       "      <th>29</th>\n",
       "      <td>preferred pharmaeutials inc</td>\n",
       "    </tr>\n",
       "  </tbody>\n",
       "</table>\n",
       "</div>"
      ],
      "text/plain": [
       "                        company\n",
       "25           spironolactone 2% \n",
       "26     -loreal usa products inc\n",
       "27              cardinal health\n",
       "28  church & dwight canada corp\n",
       "29  preferred pharmaeutials inc"
      ]
     },
     "execution_count": 482,
     "metadata": {},
     "output_type": "execute_result"
    }
   ],
   "source": [
    "#At this point all the companies are lowercased, don't have parenthetical content, and don't have unwanted punctuation\n",
    "ndc.head()"
   ]
  },
  {
   "cell_type": "markdown",
   "metadata": {},
   "source": [
    "<h4>Removing numbers</h4>"
   ]
  },
  {
   "cell_type": "code",
   "execution_count": 483,
   "metadata": {},
   "outputs": [],
   "source": [
    "#Function that will remove numbers\n",
    "def removeNumbers(string):\n",
    "    return re.sub(r'[0-9+]','', string)"
   ]
  },
  {
   "cell_type": "code",
   "execution_count": 484,
   "metadata": {},
   "outputs": [],
   "source": [
    "ndc['companiesWithNoNumbers'] = ndc.company.apply(removeNumbers)"
   ]
  },
  {
   "cell_type": "code",
   "execution_count": 485,
   "metadata": {},
   "outputs": [],
   "source": [
    "del ndc['company']"
   ]
  },
  {
   "cell_type": "code",
   "execution_count": 486,
   "metadata": {},
   "outputs": [],
   "source": [
    "ndc = ndc.rename(columns = {\"companiesWithNoNumbers\": 'company'})"
   ]
  },
  {
   "cell_type": "code",
   "execution_count": 487,
   "metadata": {},
   "outputs": [
    {
     "data": {
      "text/html": [
       "<div>\n",
       "<style scoped>\n",
       "    .dataframe tbody tr th:only-of-type {\n",
       "        vertical-align: middle;\n",
       "    }\n",
       "\n",
       "    .dataframe tbody tr th {\n",
       "        vertical-align: top;\n",
       "    }\n",
       "\n",
       "    .dataframe thead th {\n",
       "        text-align: right;\n",
       "    }\n",
       "</style>\n",
       "<table border=\"1\" class=\"dataframe\">\n",
       "  <thead>\n",
       "    <tr style=\"text-align: right;\">\n",
       "      <th></th>\n",
       "      <th>company</th>\n",
       "    </tr>\n",
       "  </thead>\n",
       "  <tbody>\n",
       "    <tr>\n",
       "      <th>25</th>\n",
       "      <td>spironolactone %</td>\n",
       "    </tr>\n",
       "    <tr>\n",
       "      <th>26</th>\n",
       "      <td>-loreal usa products inc</td>\n",
       "    </tr>\n",
       "    <tr>\n",
       "      <th>27</th>\n",
       "      <td>cardinal health</td>\n",
       "    </tr>\n",
       "    <tr>\n",
       "      <th>28</th>\n",
       "      <td>church &amp; dwight canada corp</td>\n",
       "    </tr>\n",
       "    <tr>\n",
       "      <th>29</th>\n",
       "      <td>preferred pharmaeutials inc</td>\n",
       "    </tr>\n",
       "  </tbody>\n",
       "</table>\n",
       "</div>"
      ],
      "text/plain": [
       "                        company\n",
       "25            spironolactone % \n",
       "26     -loreal usa products inc\n",
       "27              cardinal health\n",
       "28  church & dwight canada corp\n",
       "29  preferred pharmaeutials inc"
      ]
     },
     "execution_count": 487,
     "metadata": {},
     "output_type": "execute_result"
    }
   ],
   "source": [
    "ndc.head()"
   ]
  },
  {
   "cell_type": "markdown",
   "metadata": {},
   "source": [
    "<h4>Removing Single Chars</h4>"
   ]
  },
  {
   "cell_type": "code",
   "execution_count": 488,
   "metadata": {},
   "outputs": [],
   "source": [
    "def removeSingleChar(string):\n",
    "    return re.sub(r'\\s+[a-zA-Z]\\s+', ' ', string)"
   ]
  },
  {
   "cell_type": "code",
   "execution_count": 489,
   "metadata": {},
   "outputs": [],
   "source": [
    "ndc['companiesWithNoSingleChar'] = ndc.company.apply(removeSingleChar)"
   ]
  },
  {
   "cell_type": "code",
   "execution_count": 490,
   "metadata": {},
   "outputs": [],
   "source": [
    "del ndc['company']\n",
    "ndc = ndc.rename(columns={\"companiesWithNoSingleChar\": 'company'})"
   ]
  },
  {
   "cell_type": "markdown",
   "metadata": {},
   "source": [
    "<h4>Substituting Multiple Spaces with Single Space</h4>"
   ]
  },
  {
   "cell_type": "code",
   "execution_count": 491,
   "metadata": {},
   "outputs": [],
   "source": [
    "def subMultipleSpacesForOne(string):\n",
    "    return re.sub(r'\\s+', ' ', string, flags=re.I)"
   ]
  },
  {
   "cell_type": "code",
   "execution_count": 492,
   "metadata": {},
   "outputs": [],
   "source": [
    "ndc['noMultipleSpaces'] = ndc.company.apply(subMultipleSpacesForOne)"
   ]
  },
  {
   "cell_type": "code",
   "execution_count": 493,
   "metadata": {},
   "outputs": [],
   "source": [
    "del ndc['company']\n",
    "ndc = ndc.rename(columns = {\"noMultipleSpaces\": 'company'})"
   ]
  },
  {
   "cell_type": "markdown",
   "metadata": {},
   "source": [
    "<h4>Removing Prefix b</h4>"
   ]
  },
  {
   "cell_type": "code",
   "execution_count": 494,
   "metadata": {},
   "outputs": [],
   "source": [
    "def removePrefix(string):\n",
    "    return re.sub(r'^b\\s+', '', string)"
   ]
  },
  {
   "cell_type": "code",
   "execution_count": 495,
   "metadata": {},
   "outputs": [],
   "source": [
    "ndc['removedPrefix'] = ndc.company.apply(removePrefix)"
   ]
  },
  {
   "cell_type": "code",
   "execution_count": 496,
   "metadata": {},
   "outputs": [
    {
     "data": {
      "text/plain": [
       "Index(['company', 'removedPrefix'], dtype='object')"
      ]
     },
     "execution_count": 496,
     "metadata": {},
     "output_type": "execute_result"
    }
   ],
   "source": [
    "ndc.columns"
   ]
  },
  {
   "cell_type": "code",
   "execution_count": 497,
   "metadata": {},
   "outputs": [],
   "source": [
    "del ndc['company']\n",
    "ndc = ndc.rename(columns = {\"removedPrefix\":\"company\"})"
   ]
  },
  {
   "cell_type": "markdown",
   "metadata": {},
   "source": [
    "<h4>Make dashes into combined words</h4>"
   ]
  },
  {
   "cell_type": "code",
   "execution_count": 498,
   "metadata": {},
   "outputs": [],
   "source": [
    "#start here\n",
    "def makeDashCombined(string):\n",
    "    return re.sub(r'\\s-\\s+', '-', string)"
   ]
  },
  {
   "cell_type": "code",
   "execution_count": 499,
   "metadata": {},
   "outputs": [],
   "source": [
    "ndc['combinedDash'] = ndc.company.apply(makeDashCombined)"
   ]
  },
  {
   "cell_type": "code",
   "execution_count": 500,
   "metadata": {},
   "outputs": [],
   "source": [
    "del ndc['company']\n",
    "ndc = ndc.rename(columns = {\"combinedDash\": 'company'})"
   ]
  },
  {
   "cell_type": "markdown",
   "metadata": {},
   "source": [
    "<h4>Combine Ampersand</h4>"
   ]
  },
  {
   "cell_type": "code",
   "execution_count": 501,
   "metadata": {},
   "outputs": [],
   "source": [
    "def combineAmpersand(string):\n",
    "    return re.sub(r'\\s&\\s+', '&', string)"
   ]
  },
  {
   "cell_type": "code",
   "execution_count": 502,
   "metadata": {},
   "outputs": [],
   "source": [
    "ndc['combineAmp'] = ndc.company.apply(combineAmpersand)"
   ]
  },
  {
   "cell_type": "code",
   "execution_count": 503,
   "metadata": {},
   "outputs": [
    {
     "data": {
      "text/plain": [
       "Index(['company', 'combineAmp'], dtype='object')"
      ]
     },
     "execution_count": 503,
     "metadata": {},
     "output_type": "execute_result"
    }
   ],
   "source": [
    "ndc.columns"
   ]
  },
  {
   "cell_type": "code",
   "execution_count": 504,
   "metadata": {},
   "outputs": [],
   "source": [
    "del ndc['company']\n",
    "ndc = ndc.rename(columns = {\"combineAmp\": 'company'})"
   ]
  },
  {
   "cell_type": "code",
   "execution_count": 505,
   "metadata": {},
   "outputs": [
    {
     "data": {
      "text/plain": [
       "Index(['company'], dtype='object')"
      ]
     },
     "execution_count": 505,
     "metadata": {},
     "output_type": "execute_result"
    }
   ],
   "source": [
    "ndc.columns"
   ]
  },
  {
   "cell_type": "markdown",
   "metadata": {},
   "source": [
    "<h4>Combine '_'</h4>"
   ]
  },
  {
   "cell_type": "code",
   "execution_count": 506,
   "metadata": {},
   "outputs": [],
   "source": [
    "def combinedUnderScore(string):\n",
    "    return re.sub(r'\\s_\\s+', '_', string)"
   ]
  },
  {
   "cell_type": "code",
   "execution_count": 507,
   "metadata": {},
   "outputs": [
    {
     "data": {
      "text/plain": [
       "Index(['company'], dtype='object')"
      ]
     },
     "execution_count": 507,
     "metadata": {},
     "output_type": "execute_result"
    }
   ],
   "source": [
    "ndc.columns"
   ]
  },
  {
   "cell_type": "code",
   "execution_count": 508,
   "metadata": {},
   "outputs": [],
   "source": [
    "ndc['combinedUnder'] = ndc.company.apply(combinedUnderScore)"
   ]
  },
  {
   "cell_type": "code",
   "execution_count": 509,
   "metadata": {},
   "outputs": [],
   "source": [
    "del ndc['company']\n",
    "ndc = ndc.rename(columns = {\"combinedUnder\": 'company'})"
   ]
  },
  {
   "cell_type": "markdown",
   "metadata": {},
   "source": [
    "<h2>End Initial Cleaning</h2>"
   ]
  },
  {
   "cell_type": "markdown",
   "metadata": {},
   "source": [
    "<h4>Grabbing the list of legal entities from os github</h4>"
   ]
  },
  {
   "cell_type": "code",
   "execution_count": 510,
   "metadata": {},
   "outputs": [
    {
     "data": {
      "text/html": [
       "<div>\n",
       "<style scoped>\n",
       "    .dataframe tbody tr th:only-of-type {\n",
       "        vertical-align: middle;\n",
       "    }\n",
       "\n",
       "    .dataframe tbody tr th {\n",
       "        vertical-align: top;\n",
       "    }\n",
       "\n",
       "    .dataframe thead th {\n",
       "        text-align: right;\n",
       "    }\n",
       "</style>\n",
       "<table border=\"1\" class=\"dataframe\">\n",
       "  <thead>\n",
       "    <tr style=\"text-align: right;\">\n",
       "      <th></th>\n",
       "      <th>0</th>\n",
       "    </tr>\n",
       "  </thead>\n",
       "  <tbody>\n",
       "    <tr>\n",
       "      <th>0</th>\n",
       "      <td>(?i) Inc\\b</td>\n",
       "    </tr>\n",
       "    <tr>\n",
       "      <th>1</th>\n",
       "      <td>(?i) Ltd\\b</td>\n",
       "    </tr>\n",
       "    <tr>\n",
       "      <th>2</th>\n",
       "      <td>(?i) LLC\\b</td>\n",
       "    </tr>\n",
       "    <tr>\n",
       "      <th>3</th>\n",
       "      <td>(?i) GmbH\\b</td>\n",
       "    </tr>\n",
       "    <tr>\n",
       "      <th>4</th>\n",
       "      <td>(?i) Corporation\\b</td>\n",
       "    </tr>\n",
       "  </tbody>\n",
       "</table>\n",
       "</div>"
      ],
      "text/plain": [
       "                    0\n",
       "0          (?i) Inc\\b\n",
       "1          (?i) Ltd\\b\n",
       "2          (?i) LLC\\b\n",
       "3         (?i) GmbH\\b\n",
       "4  (?i) Corporation\\b"
      ]
     },
     "execution_count": 510,
     "metadata": {},
     "output_type": "execute_result"
    }
   ],
   "source": [
    "legalEntities = pd.read_csv(\"https://raw.githubusercontent.com/DSPG-Young-Scholars-Program/dspg20oss/danBranch/ossPy/keyFiles/curatedLegalEntitesRaw.csv\", quotechar = \"'\",header = None)\n",
    "legalEntities.head()"
   ]
  },
  {
   "cell_type": "markdown",
   "metadata": {},
   "source": [
    "<h4>Using Daniel's code to get remove legal entities</h4>"
   ]
  },
  {
   "cell_type": "code",
   "execution_count": 511,
   "metadata": {},
   "outputs": [],
   "source": [
    "def eraseFromColumn(inputColumn, eraseList):\n",
    "    \"iteratively delete regex query matches from input list\"\n",
    "    \n",
    "    \"\"\"\n",
    "    inputColumn -- a column from a pandas dataframe, this will be the set of\n",
    "    target words/entries that deletions will be made from\n",
    "    eraseList -- a column containing strings (regex expressions) which will be\n",
    "    deleted from the inputColumn, in an iterative fashion\n",
    "    \"\"\"\n",
    "    eraseList['changeNum'] = 0\n",
    "    eraseList['changeIndexes'] = ''\n",
    "    \n",
    "    inputColumn = inputColumn.replace(regex=True, to_replace = \"\\\\\\\\\", value='/')\n",
    "    \n",
    "    for index, row in eraseList.iterrows():\n",
    "        curReplaceVal = row[0]\n",
    "        currentRegexExpression=re.compile(curReplaceVal)\n",
    "        CurrentBoolVec=inputColumn.str.contains(currentRegexExpression, na= False)\n",
    "        eraseList['changeIndexes'].iloc[index]=[i for i, x in enumerate(CurrentBoolVec) if x]\n",
    "        eraseList['changeNum'].iloc[index] = len(eraseList['changeIndexes'].iloc[index])\n",
    "        inputColumn.replace(regex=True, to_replace=currentRegexExpression,value='', inplace = True)\n",
    "    \n",
    "    return inputColumn, eraseList"
   ]
  },
  {
   "cell_type": "code",
   "execution_count": 512,
   "metadata": {},
   "outputs": [],
   "source": [
    "output, eraseList = eraseFromColumn(ndc.company, legalEntities)"
   ]
  },
  {
   "cell_type": "code",
   "execution_count": 513,
   "metadata": {},
   "outputs": [],
   "source": [
    "#This dataframe is lowercased, doesn't have any of the unwanted punctuation, and has removed all legal entity labels\n",
    "output= pd.DataFrame(output)"
   ]
  },
  {
   "cell_type": "markdown",
   "metadata": {},
   "source": [
    "<h4>Counting Unique String Tokens using Daniel's code, then adding more to the list from Isabel and Susweta's lists</h4>"
   ]
  },
  {
   "cell_type": "code",
   "execution_count": 514,
   "metadata": {},
   "outputs": [],
   "source": [
    "ndc_cleaned = output"
   ]
  },
  {
   "cell_type": "code",
   "execution_count": 515,
   "metadata": {},
   "outputs": [],
   "source": [
    "longString = ndc_cleaned['company'].str.cat(sep = \" \")"
   ]
  },
  {
   "cell_type": "code",
   "execution_count": 516,
   "metadata": {},
   "outputs": [],
   "source": [
    "longStringSeperated = longString.split(' ')"
   ]
  },
  {
   "cell_type": "code",
   "execution_count": 517,
   "metadata": {},
   "outputs": [],
   "source": [
    "uniqueSubTokenFrame = pd.DataFrame(longStringSeperated)"
   ]
  },
  {
   "cell_type": "code",
   "execution_count": 518,
   "metadata": {},
   "outputs": [],
   "source": [
    "columnUniqueCounts = uniqueSubTokenFrame.iloc[:,0].value_counts()"
   ]
  },
  {
   "cell_type": "code",
   "execution_count": 519,
   "metadata": {},
   "outputs": [],
   "source": [
    "tableUniqueCounts = columnUniqueCounts.reset_index()"
   ]
  },
  {
   "cell_type": "code",
   "execution_count": 520,
   "metadata": {},
   "outputs": [],
   "source": [
    "tableUniqueCounts.rename(columns = {0: \"count\", \"index\":\"token\"}, inplace = True)"
   ]
  },
  {
   "cell_type": "code",
   "execution_count": 521,
   "metadata": {},
   "outputs": [],
   "source": [
    "top20 = tableUniqueCounts.head(20).token.tolist()"
   ]
  },
  {
   "cell_type": "code",
   "execution_count": 522,
   "metadata": {},
   "outputs": [
    {
     "data": {
      "text/plain": [
       "['pharmaceuticals',\n",
       " 'medical',\n",
       " 'products',\n",
       " 'laboratories',\n",
       " 'pharma',\n",
       " 'anda',\n",
       " 'supply',\n",
       " 'health',\n",
       " 'pharmaceutical',\n",
       " 'usa',\n",
       " 'international',\n",
       " 'care',\n",
       " 'and',\n",
       " 'nda',\n",
       " 'coltd',\n",
       " 'the',\n",
       " 'home',\n",
       " 'healthcare',\n",
       " '',\n",
       " 'of']"
      ]
     },
     "execution_count": 522,
     "metadata": {},
     "output_type": "execute_result"
    }
   ],
   "source": [
    "top20"
   ]
  },
  {
   "cell_type": "code",
   "execution_count": 523,
   "metadata": {},
   "outputs": [],
   "source": [
    "top20.append(\"group\")\n",
    "top20.append(\"holdings\")\n",
    "top20.append(\"capital\")\n",
    "top20.append(\"technologies\")\n",
    "top20.append(\"association\")\n",
    "top20.append('us')\n",
    "top20.append('services')\n",
    "top20.append(\"university\")\n",
    "top20.append(\"bank\")\n",
    "top20.append(\"partners\")\n",
    "top20.append(\"energy\")\n",
    "top20.append(\"systems\")\n",
    "top20.append(\"intl\")\n",
    "top20.append(\"pharms\")\n",
    "top20.append(\"american\")\n",
    "top20.append(\"national\")"
   ]
  },
  {
   "cell_type": "code",
   "execution_count": 524,
   "metadata": {},
   "outputs": [
    {
     "data": {
      "text/plain": [
       "['pharmaceuticals',\n",
       " 'medical',\n",
       " 'products',\n",
       " 'laboratories',\n",
       " 'pharma',\n",
       " 'anda',\n",
       " 'supply',\n",
       " 'health',\n",
       " 'pharmaceutical',\n",
       " 'usa',\n",
       " 'international',\n",
       " 'care',\n",
       " 'and',\n",
       " 'nda',\n",
       " 'coltd',\n",
       " 'the',\n",
       " 'home',\n",
       " 'healthcare',\n",
       " '',\n",
       " 'of',\n",
       " 'group',\n",
       " 'holdings',\n",
       " 'capital',\n",
       " 'technologies',\n",
       " 'association',\n",
       " 'us',\n",
       " 'services',\n",
       " 'university',\n",
       " 'bank',\n",
       " 'partners',\n",
       " 'energy',\n",
       " 'systems',\n",
       " 'intl',\n",
       " 'pharms',\n",
       " 'american',\n",
       " 'national']"
      ]
     },
     "execution_count": 524,
     "metadata": {},
     "output_type": "execute_result"
    }
   ],
   "source": [
    "top20"
   ]
  },
  {
   "cell_type": "markdown",
   "metadata": {},
   "source": [
    "<h4>Getting rid of top occuring tokens</h4>"
   ]
  },
  {
   "cell_type": "code",
   "execution_count": 525,
   "metadata": {},
   "outputs": [],
   "source": [
    "ndc_cleaned = ndc_cleaned['company'].apply(lambda x: ' '.join([word for word in x.split() if word not in (top20)])) #Isabel's code"
   ]
  },
  {
   "cell_type": "code",
   "execution_count": 526,
   "metadata": {},
   "outputs": [],
   "source": [
    "ndc_cleaned = pd.DataFrame(ndc_cleaned)"
   ]
  },
  {
   "cell_type": "code",
   "execution_count": 527,
   "metadata": {},
   "outputs": [
    {
     "data": {
      "text/html": [
       "<div>\n",
       "<style scoped>\n",
       "    .dataframe tbody tr th:only-of-type {\n",
       "        vertical-align: middle;\n",
       "    }\n",
       "\n",
       "    .dataframe tbody tr th {\n",
       "        vertical-align: top;\n",
       "    }\n",
       "\n",
       "    .dataframe thead th {\n",
       "        text-align: right;\n",
       "    }\n",
       "</style>\n",
       "<table border=\"1\" class=\"dataframe\">\n",
       "  <thead>\n",
       "    <tr style=\"text-align: right;\">\n",
       "      <th></th>\n",
       "      <th>company</th>\n",
       "    </tr>\n",
       "  </thead>\n",
       "  <tbody>\n",
       "    <tr>\n",
       "      <th>25</th>\n",
       "      <td>spironolactone %</td>\n",
       "    </tr>\n",
       "    <tr>\n",
       "      <th>26</th>\n",
       "      <td>-loreal</td>\n",
       "    </tr>\n",
       "    <tr>\n",
       "      <th>27</th>\n",
       "      <td>cardinal</td>\n",
       "    </tr>\n",
       "    <tr>\n",
       "      <th>28</th>\n",
       "      <td>church&amp;dwight canada</td>\n",
       "    </tr>\n",
       "    <tr>\n",
       "      <th>29</th>\n",
       "      <td>preferred pharmaeutials</td>\n",
       "    </tr>\n",
       "    <tr>\n",
       "      <th>...</th>\n",
       "      <td>...</td>\n",
       "    </tr>\n",
       "    <tr>\n",
       "      <th>7046</th>\n",
       "      <td>zygone</td>\n",
       "    </tr>\n",
       "    <tr>\n",
       "      <th>7047</th>\n",
       "      <td>zyla life sciences</td>\n",
       "    </tr>\n",
       "    <tr>\n",
       "      <th>7048</th>\n",
       "      <td>name</td>\n",
       "    </tr>\n",
       "    <tr>\n",
       "      <th>7049</th>\n",
       "      <td></td>\n",
       "    </tr>\n",
       "    <tr>\n",
       "      <th>7050</th>\n",
       "      <td>grand total</td>\n",
       "    </tr>\n",
       "  </tbody>\n",
       "</table>\n",
       "<p>7026 rows × 1 columns</p>\n",
       "</div>"
      ],
      "text/plain": [
       "                      company\n",
       "25           spironolactone %\n",
       "26                    -loreal\n",
       "27                   cardinal\n",
       "28       church&dwight canada\n",
       "29    preferred pharmaeutials\n",
       "...                       ...\n",
       "7046                   zygone\n",
       "7047       zyla life sciences\n",
       "7048                     name\n",
       "7049                         \n",
       "7050              grand total\n",
       "\n",
       "[7026 rows x 1 columns]"
      ]
     },
     "execution_count": 527,
     "metadata": {},
     "output_type": "execute_result"
    }
   ],
   "source": [
    "ndc_cleaned"
   ]
  },
  {
   "cell_type": "markdown",
   "metadata": {},
   "source": [
    "<h4>Adding csv to working data</h4>"
   ]
  },
  {
   "cell_type": "code",
   "execution_count": 528,
   "metadata": {},
   "outputs": [],
   "source": [
    "ndc_cleand.to_csv(\"../data/working/ndc_clean.csv\")"
   ]
  }
 ],
 "metadata": {
  "kernelspec": {
   "display_name": "Python 3",
   "language": "python",
   "name": "python3"
  },
  "language_info": {
   "codemirror_mode": {
    "name": "ipython",
    "version": 3
   },
   "file_extension": ".py",
   "mimetype": "text/x-python",
   "name": "python",
   "nbconvert_exporter": "python",
   "pygments_lexer": "ipython3",
   "version": "3.7.4"
  }
 },
 "nbformat": 4,
 "nbformat_minor": 4
}
